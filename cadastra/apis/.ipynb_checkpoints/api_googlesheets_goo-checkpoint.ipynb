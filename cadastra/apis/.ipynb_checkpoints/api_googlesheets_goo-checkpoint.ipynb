{
 "cells": [
  {
   "cell_type": "code",
   "execution_count": null,
   "id": "dbeb5b6c-3430-4981-af54-40675c78ec84",
   "metadata": {},
   "outputs": [],
   "source": []
  },
  {
   "cell_type": "code",
   "execution_count": 1,
   "id": "df19b9c2-4b56-4a58-861e-6e7988ac425b",
   "metadata": {},
   "outputs": [],
   "source": [
    "# importing the required libraries\n",
    "import gspread\n",
    "import pandas as pd\n",
    "from oauth2client.service_account import ServiceAccountCredentials\n",
    "from datetime import date, datetime, timedelta\n",
    "import re"
   ]
  },
  {
   "cell_type": "code",
   "execution_count": 2,
   "id": "671da6a7-f5e7-45c6-b02f-41f2bea9d8f0",
   "metadata": {},
   "outputs": [],
   "source": [
    "# define the scope\n",
    "scope = ['https://spreadsheets.google.com/feeds','https://www.googleapis.com/auth/drive']\n",
    "\n",
    "# add credentials to the account\n",
    "creds = ServiceAccountCredentials.from_json_keyfile_name('./json/pass.json', scope)\n",
    "\n",
    "# authorize the clientsheet\n",
    "client = gspread.authorize(creds)"
   ]
  },
  {
   "cell_type": "code",
   "execution_count": 3,
   "id": "5e0a7c22-1cd8-49d2-ba82-3ddc99b27da5",
   "metadata": {},
   "outputs": [],
   "source": [
    "# get the instance of the Spreadsheet\n",
    "sheet = client.open('Samsung - Geral Dia')\n",
    "\n",
    "# get the first sheet of the Spreadsheet\n",
    "sheet_instance = sheet.worksheet(\"baseSuper_criteo\")"
   ]
  },
  {
   "cell_type": "code",
   "execution_count": 4,
   "id": "28c31d07-2b37-4f6f-9481-db271013ae74",
   "metadata": {},
   "outputs": [],
   "source": [
    "today_minus = f'{date.today()-timedelta(days=1)}|{date.today()-timedelta(days=2)}|{date.today()-timedelta(days=3)}' \n",
    "current_date_1 =  f'{date.today()-timedelta(days=1)}'"
   ]
  },
  {
   "cell_type": "code",
   "execution_count": null,
   "id": "4e0798a7-e036-464c-bc47-5b1797be5fa0",
   "metadata": {},
   "outputs": [],
   "source": []
  },
  {
   "cell_type": "code",
   "execution_count": 5,
   "id": "759b5fc6-4733-48d6-9548-683526b67323",
   "metadata": {},
   "outputs": [],
   "source": [
    "pattern = re.compile(r'(%s)'%today_minus)\n",
    "cell_list = sheet_instance.findall(pattern)"
   ]
  },
  {
   "cell_type": "code",
   "execution_count": 6,
   "id": "b0eb1975-9941-4e51-b43d-b288fc4cc944",
   "metadata": {},
   "outputs": [],
   "source": [
    "mask = f'R{cell_list[0].row}C{cell_list[0].col}:R{cell_list[-1].row}C4'"
   ]
  },
  {
   "cell_type": "code",
   "execution_count": 7,
   "id": "402a98c9-c92a-4ce5-92ef-6c4abb1e51e4",
   "metadata": {},
   "outputs": [],
   "source": [
    "google_ads = sheet_instance.get(mask)"
   ]
  },
  {
   "cell_type": "code",
   "execution_count": 8,
   "id": "9f23ceba-d5ae-41d5-a79c-7be5409370cc",
   "metadata": {},
   "outputs": [],
   "source": [
    "\n",
    "df = pd.DataFrame(google_ads)"
   ]
  },
  {
   "cell_type": "code",
   "execution_count": 9,
   "id": "fb55eb97-a7da-466b-b474-b2ffbccabfea",
   "metadata": {},
   "outputs": [],
   "source": [
    "dictr = {0: 'date',\n",
    "         1: 'campaign',\n",
    "         2: 'cost',\n",
    "         3: 'impressions'}\n",
    " \n",
    "# call rename () method\n",
    "df.rename(columns=dictr,\n",
    "          inplace=True)"
   ]
  },
  {
   "cell_type": "code",
   "execution_count": 10,
   "id": "3810871e-d9ae-4fdd-a7b0-f0741ddc87d8",
   "metadata": {},
   "outputs": [
    {
     "name": "stderr",
     "output_type": "stream",
     "text": [
      "/tmp/ipykernel_815/868525391.py:7: FutureWarning: The frame.append method is deprecated and will be removed from pandas in a future version. Use pandas.concat instead.\n",
      "  final = final.append(group.groupby(['date','midia'])[[f'cost_{i}',f'impressions_{i}']].apply(lambda x : x.astype(float).sum()).reset_index())\n",
      "/tmp/ipykernel_815/868525391.py:7: FutureWarning: The frame.append method is deprecated and will be removed from pandas in a future version. Use pandas.concat instead.\n",
      "  final = final.append(group.groupby(['date','midia'])[[f'cost_{i}',f'impressions_{i}']].apply(lambda x : x.astype(float).sum()).reset_index())\n",
      "/tmp/ipykernel_815/868525391.py:7: FutureWarning: The frame.append method is deprecated and will be removed from pandas in a future version. Use pandas.concat instead.\n",
      "  final = final.append(group.groupby(['date','midia'])[[f'cost_{i}',f'impressions_{i}']].apply(lambda x : x.astype(float).sum()).reset_index())\n",
      "/tmp/ipykernel_815/868525391.py:7: FutureWarning: The frame.append method is deprecated and will be removed from pandas in a future version. Use pandas.concat instead.\n",
      "  final = final.append(group.groupby(['date','midia'])[[f'cost_{i}',f'impressions_{i}']].apply(lambda x : x.astype(float).sum()).reset_index())\n",
      "/tmp/ipykernel_815/868525391.py:7: FutureWarning: The frame.append method is deprecated and will be removed from pandas in a future version. Use pandas.concat instead.\n",
      "  final = final.append(group.groupby(['date','midia'])[[f'cost_{i}',f'impressions_{i}']].apply(lambda x : x.astype(float).sum()).reset_index())\n"
     ]
    }
   ],
   "source": [
    "filters = ['cad1-','cad3-','cad12-','cad26-','cad42-']\n",
    "final = pd.DataFrame()\n",
    "for i in filters:\n",
    "    df3 = df.where(df['campaign'].str.contains(i)).dropna()\n",
    "    df3['midia'] = 'criteo'\n",
    "    group = df3.rename(columns = {'cost':f'cost_{i}', 'impressions':f'impressions_{i}'})\n",
    "    final = final.append(group.groupby(['date','midia'])[[f'cost_{i}',f'impressions_{i}']].apply(lambda x : x.astype(float).sum()).reset_index())"
   ]
  },
  {
   "cell_type": "code",
   "execution_count": 11,
   "id": "9d11457f-bded-4c1d-97d8-f33c990697e6",
   "metadata": {},
   "outputs": [
    {
     "data": {
      "text/html": [
       "<div>\n",
       "<style scoped>\n",
       "    .dataframe tbody tr th:only-of-type {\n",
       "        vertical-align: middle;\n",
       "    }\n",
       "\n",
       "    .dataframe tbody tr th {\n",
       "        vertical-align: top;\n",
       "    }\n",
       "\n",
       "    .dataframe thead th {\n",
       "        text-align: right;\n",
       "    }\n",
       "</style>\n",
       "<table border=\"1\" class=\"dataframe\">\n",
       "  <thead>\n",
       "    <tr style=\"text-align: right;\">\n",
       "      <th></th>\n",
       "      <th>date</th>\n",
       "      <th>midia</th>\n",
       "      <th>cost_cad1-</th>\n",
       "      <th>impressions_cad1-</th>\n",
       "      <th>cost_cad3-</th>\n",
       "      <th>impressions_cad3-</th>\n",
       "      <th>cost_cad12-</th>\n",
       "      <th>impressions_cad12-</th>\n",
       "      <th>cost_cad26-</th>\n",
       "      <th>impressions_cad26-</th>\n",
       "      <th>cost_cad42-</th>\n",
       "      <th>impressions_cad42-</th>\n",
       "    </tr>\n",
       "  </thead>\n",
       "  <tbody>\n",
       "    <tr>\n",
       "      <th>0</th>\n",
       "      <td>2022-05-09</td>\n",
       "      <td>criteo</td>\n",
       "      <td>1820.23</td>\n",
       "      <td>397656.0</td>\n",
       "      <td>NaN</td>\n",
       "      <td>NaN</td>\n",
       "      <td>NaN</td>\n",
       "      <td>NaN</td>\n",
       "      <td>NaN</td>\n",
       "      <td>NaN</td>\n",
       "      <td>NaN</td>\n",
       "      <td>NaN</td>\n",
       "    </tr>\n",
       "  </tbody>\n",
       "</table>\n",
       "</div>"
      ],
      "text/plain": [
       "         date   midia  cost_cad1-  impressions_cad1- cost_cad3-  \\\n",
       "0  2022-05-09  criteo     1820.23           397656.0        NaN   \n",
       "\n",
       "  impressions_cad3- cost_cad12- impressions_cad12- cost_cad26-  \\\n",
       "0               NaN         NaN                NaN         NaN   \n",
       "\n",
       "  impressions_cad26- cost_cad42- impressions_cad42-  \n",
       "0                NaN         NaN                NaN  "
      ]
     },
     "execution_count": 11,
     "metadata": {},
     "output_type": "execute_result"
    }
   ],
   "source": [
    "final"
   ]
  },
  {
   "cell_type": "code",
   "execution_count": null,
   "id": "ca466cd3-e189-4c80-a5f6-ea67d2f3abea",
   "metadata": {},
   "outputs": [],
   "source": []
  },
  {
   "cell_type": "code",
   "execution_count": null,
   "id": "9a68323f-c401-42fe-b74f-fca432027625",
   "metadata": {},
   "outputs": [],
   "source": []
  },
  {
   "cell_type": "code",
   "execution_count": null,
   "id": "ae92874e-b820-4d43-9159-ba5bb61b147e",
   "metadata": {},
   "outputs": [],
   "source": []
  },
  {
   "cell_type": "code",
   "execution_count": null,
   "id": "d78e458f-7149-4ef8-8bcf-7c4320bcda1d",
   "metadata": {},
   "outputs": [],
   "source": []
  },
  {
   "cell_type": "code",
   "execution_count": null,
   "id": "932f6b8e-6964-4bd6-8dbd-027c0971b37d",
   "metadata": {},
   "outputs": [],
   "source": []
  },
  {
   "cell_type": "code",
   "execution_count": null,
   "id": "04e5c360-b17b-4ce9-ba6c-d0517444e8a8",
   "metadata": {},
   "outputs": [],
   "source": []
  },
  {
   "cell_type": "code",
   "execution_count": null,
   "id": "79445eeb-c30e-403f-9ddc-30bf9d961f61",
   "metadata": {},
   "outputs": [],
   "source": []
  }
 ],
 "metadata": {
  "kernelspec": {
   "display_name": "Python 3 (ipykernel)",
   "language": "python",
   "name": "python3"
  },
  "language_info": {
   "codemirror_mode": {
    "name": "ipython",
    "version": 3
   },
   "file_extension": ".py",
   "mimetype": "text/x-python",
   "name": "python",
   "nbconvert_exporter": "python",
   "pygments_lexer": "ipython3",
   "version": "3.9.10"
  }
 },
 "nbformat": 4,
 "nbformat_minor": 5
}
