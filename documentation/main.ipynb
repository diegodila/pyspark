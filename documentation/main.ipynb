{
 "cells": [
  {
   "cell_type": "code",
   "execution_count": 1,
   "metadata": {
    "ExecuteTime": {
     "end_time": "2023-06-20T21:08:11.718952331Z",
     "start_time": "2023-06-20T21:08:08.056548674Z"
    }
   },
   "outputs": [],
   "source": [
    "from pyspark.sql import SparkSession\n",
    "spark = SparkSession.builder.appName('Notebook de testes').getOrCreate()\n",
    "spark.conf.set('spark.sql.repl.eagerEval.enabled',True)\n",
    "spark.conf.set('spark.sql.repl.eagerEval.maxNumRows',25)\n",
    "spark.conf.set('spark.sql.repl.eagerEval.truncate',30)\n",
    "from IPython.core.interactiveshell import InteractiveShell\n",
    "InteractiveShell.ast_node_interactivity = 'all'"
   ]
  },
  {
   "cell_type": "code",
   "execution_count": 59,
   "metadata": {},
   "outputs": [
    {
     "data": {
      "text/html": [
       "<table border='1'>\n",
       "<tr><th>SalesOrderID</th><th>SalesOrderDetailID</th><th>CarrierTrackingNumber</th><th>OrderQty</th><th>ProductID</th><th>SpecialOfferID</th><th>UnitPrice</th><th>UnitPriceDiscount</th><th>LineTotal</th><th>rowguid</th><th>ModifiedDate</th></tr>\n",
       "<tr><td>43659</td><td>1</td><td>4911-403C-98</td><td>1</td><td>776</td><td>1</td><td>2024.9940</td><td>0.0000</td><td>2024.994000</td><td>B207C96D-D9E6-402B-8470-2CC...</td><td>2011-05-31 00:00:00.000</td></tr>\n",
       "<tr><td>43659</td><td>2</td><td>4911-403C-98</td><td>3</td><td>777</td><td>1</td><td>2024.9940</td><td>0.0000</td><td>6074.982000</td><td>7ABB600D-1E77-41BE-9FE5-B91...</td><td>2011-05-31 00:00:00.000</td></tr>\n",
       "<tr><td>43659</td><td>3</td><td>4911-403C-98</td><td>1</td><td>778</td><td>1</td><td>2024.9940</td><td>0.0000</td><td>2024.994000</td><td>475CF8C6-49F6-486E-B0AD-AFC...</td><td>2011-05-31 00:00:00.000</td></tr>\n",
       "<tr><td>43659</td><td>4</td><td>4911-403C-98</td><td>1</td><td>771</td><td>1</td><td>2039.9940</td><td>0.0000</td><td>2039.994000</td><td>04C4DE91-5815-45D6-8670-F46...</td><td>2011-05-31 00:00:00.000</td></tr>\n",
       "<tr><td>43659</td><td>5</td><td>4911-403C-98</td><td>1</td><td>772</td><td>1</td><td>2039.9940</td><td>0.0000</td><td>2039.994000</td><td>5A74C7D2-E641-438E-A7AC-37B...</td><td>2011-05-31 00:00:00.000</td></tr>\n",
       "<tr><td>43659</td><td>6</td><td>4911-403C-98</td><td>2</td><td>773</td><td>1</td><td>2039.9940</td><td>0.0000</td><td>4079.988000</td><td>CE472532-A4C0-45BA-816E-EEF...</td><td>2011-05-31 00:00:00.000</td></tr>\n",
       "<tr><td>43659</td><td>7</td><td>4911-403C-98</td><td>1</td><td>774</td><td>1</td><td>2039.9940</td><td>0.0000</td><td>2039.994000</td><td>80667840-F962-4EE3-96E0-AEC...</td><td>2011-05-31 00:00:00.000</td></tr>\n",
       "<tr><td>43659</td><td>8</td><td>4911-403C-98</td><td>3</td><td>714</td><td>1</td><td>28.8404</td><td>0.0000</td><td>86.521200</td><td>E9D54907-E7B7-4969-80D9-76B...</td><td>2011-05-31 00:00:00.000</td></tr>\n",
       "<tr><td>43659</td><td>9</td><td>4911-403C-98</td><td>1</td><td>716</td><td>1</td><td>28.8404</td><td>0.0000</td><td>28.840400</td><td>AA542630-BDCD-4CE5-89A0-C1B...</td><td>2011-05-31 00:00:00.000</td></tr>\n",
       "<tr><td>43659</td><td>10</td><td>4911-403C-98</td><td>6</td><td>709</td><td>1</td><td>5.7000</td><td>0.0000</td><td>34.200000</td><td>AC769034-3C2F-495C-A5A7-3B7...</td><td>2011-05-31 00:00:00.000</td></tr>\n",
       "<tr><td>43659</td><td>11</td><td>4911-403C-98</td><td>2</td><td>712</td><td>1</td><td>5.1865</td><td>0.0000</td><td>10.373000</td><td>06A66921-6B9F-4199-A912-DDA...</td><td>2011-05-31 00:00:00.000</td></tr>\n",
       "<tr><td>43659</td><td>12</td><td>4911-403C-98</td><td>4</td><td>711</td><td>1</td><td>20.1865</td><td>0.0000</td><td>80.746000</td><td>0E371EE3-253E-4BB0-B813-83C...</td><td>2011-05-31 00:00:00.000</td></tr>\n",
       "<tr><td>43660</td><td>13</td><td>6431-4D57-83</td><td>1</td><td>762</td><td>1</td><td>419.4589</td><td>0.0000</td><td>419.458900</td><td>419A1302-AC7A-4044-97B2-66D...</td><td>2011-05-31 00:00:00.000</td></tr>\n",
       "<tr><td>43660</td><td>14</td><td>6431-4D57-83</td><td>1</td><td>758</td><td>1</td><td>874.7940</td><td>0.0000</td><td>874.794000</td><td>5D0B2B03-1D4C-4C34-9696-C14...</td><td>2011-05-31 00:00:00.000</td></tr>\n",
       "<tr><td>43661</td><td>15</td><td>4E0A-4F89-AE</td><td>1</td><td>745</td><td>1</td><td>809.7600</td><td>0.0000</td><td>809.760000</td><td>EDE1759E-6733-4C7B-A43F-DC6...</td><td>2011-05-31 00:00:00.000</td></tr>\n",
       "<tr><td>43661</td><td>16</td><td>4E0A-4F89-AE</td><td>1</td><td>743</td><td>1</td><td>714.7043</td><td>0.0000</td><td>714.704300</td><td>FE10BF09-D477-485B-9541-27A...</td><td>2011-05-31 00:00:00.000</td></tr>\n",
       "<tr><td>43661</td><td>17</td><td>4E0A-4F89-AE</td><td>2</td><td>747</td><td>1</td><td>714.7043</td><td>0.0000</td><td>1429.408600</td><td>B136852E-24C9-4006-8048-B14...</td><td>2011-05-31 00:00:00.000</td></tr>\n",
       "<tr><td>43661</td><td>18</td><td>4E0A-4F89-AE</td><td>4</td><td>712</td><td>1</td><td>5.1865</td><td>0.0000</td><td>20.746000</td><td>F0F410B6-BC93-4D77-B70D-E4E...</td><td>2011-05-31 00:00:00.000</td></tr>\n",
       "<tr><td>43661</td><td>19</td><td>4E0A-4F89-AE</td><td>4</td><td>715</td><td>1</td><td>28.8404</td><td>0.0000</td><td>115.361600</td><td>AE4CDA7D-9B6E-4ABB-A391-E9E...</td><td>2011-05-31 00:00:00.000</td></tr>\n",
       "<tr><td>43661</td><td>20</td><td>4E0A-4F89-AE</td><td>2</td><td>742</td><td>1</td><td>722.5949</td><td>0.0000</td><td>1445.189800</td><td>054A9D3B-A178-4656-B2B0-9B9...</td><td>2011-05-31 00:00:00.000</td></tr>\n",
       "<tr><td>43661</td><td>21</td><td>4E0A-4F89-AE</td><td>3</td><td>775</td><td>1</td><td>2024.9940</td><td>0.0000</td><td>6074.982000</td><td>8C342A15-8576-4581-AAC9-7BA...</td><td>2011-05-31 00:00:00.000</td></tr>\n",
       "<tr><td>43661</td><td>22</td><td>4E0A-4F89-AE</td><td>2</td><td>778</td><td>1</td><td>2024.9940</td><td>0.0000</td><td>4049.988000</td><td>B2760B75-3F1A-4DC4-A377-105...</td><td>2011-05-31 00:00:00.000</td></tr>\n",
       "<tr><td>43661</td><td>23</td><td>4E0A-4F89-AE</td><td>2</td><td>711</td><td>1</td><td>20.1865</td><td>0.0000</td><td>40.373000</td><td>935A70B5-33AD-473D-921C-8D2...</td><td>2011-05-31 00:00:00.000</td></tr>\n",
       "<tr><td>43661</td><td>24</td><td>4E0A-4F89-AE</td><td>2</td><td>741</td><td>1</td><td>818.7000</td><td>0.0000</td><td>1637.400000</td><td>2F911593-E3B8-4ADF-B757-724...</td><td>2011-05-31 00:00:00.000</td></tr>\n",
       "<tr><td>43661</td><td>25</td><td>4E0A-4F89-AE</td><td>4</td><td>776</td><td>1</td><td>2024.9940</td><td>0.0000</td><td>8099.976000</td><td>E8E15B60-3A73-4507-9368-A4F...</td><td>2011-05-31 00:00:00.000</td></tr>\n",
       "</table>\n",
       "only showing top 25 rows\n"
      ],
      "text/plain": [
       "+------------+------------------+---------------------+--------+---------+--------------+---------+-----------------+-----------+------------------------------+-----------------------+\n",
       "|SalesOrderID|SalesOrderDetailID|CarrierTrackingNumber|OrderQty|ProductID|SpecialOfferID|UnitPrice|UnitPriceDiscount|  LineTotal|                       rowguid|           ModifiedDate|\n",
       "+------------+------------------+---------------------+--------+---------+--------------+---------+-----------------+-----------+------------------------------+-----------------------+\n",
       "|       43659|                 1|         4911-403C-98|       1|      776|             1|2024.9940|           0.0000|2024.994000|B207C96D-D9E6-402B-8470-2CC...|2011-05-31 00:00:00.000|\n",
       "|       43659|                 2|         4911-403C-98|       3|      777|             1|2024.9940|           0.0000|6074.982000|7ABB600D-1E77-41BE-9FE5-B91...|2011-05-31 00:00:00.000|\n",
       "|       43659|                 3|         4911-403C-98|       1|      778|             1|2024.9940|           0.0000|2024.994000|475CF8C6-49F6-486E-B0AD-AFC...|2011-05-31 00:00:00.000|\n",
       "|       43659|                 4|         4911-403C-98|       1|      771|             1|2039.9940|           0.0000|2039.994000|04C4DE91-5815-45D6-8670-F46...|2011-05-31 00:00:00.000|\n",
       "|       43659|                 5|         4911-403C-98|       1|      772|             1|2039.9940|           0.0000|2039.994000|5A74C7D2-E641-438E-A7AC-37B...|2011-05-31 00:00:00.000|\n",
       "|       43659|                 6|         4911-403C-98|       2|      773|             1|2039.9940|           0.0000|4079.988000|CE472532-A4C0-45BA-816E-EEF...|2011-05-31 00:00:00.000|\n",
       "|       43659|                 7|         4911-403C-98|       1|      774|             1|2039.9940|           0.0000|2039.994000|80667840-F962-4EE3-96E0-AEC...|2011-05-31 00:00:00.000|\n",
       "|       43659|                 8|         4911-403C-98|       3|      714|             1|  28.8404|           0.0000|  86.521200|E9D54907-E7B7-4969-80D9-76B...|2011-05-31 00:00:00.000|\n",
       "|       43659|                 9|         4911-403C-98|       1|      716|             1|  28.8404|           0.0000|  28.840400|AA542630-BDCD-4CE5-89A0-C1B...|2011-05-31 00:00:00.000|\n",
       "|       43659|                10|         4911-403C-98|       6|      709|             1|   5.7000|           0.0000|  34.200000|AC769034-3C2F-495C-A5A7-3B7...|2011-05-31 00:00:00.000|\n",
       "|       43659|                11|         4911-403C-98|       2|      712|             1|   5.1865|           0.0000|  10.373000|06A66921-6B9F-4199-A912-DDA...|2011-05-31 00:00:00.000|\n",
       "|       43659|                12|         4911-403C-98|       4|      711|             1|  20.1865|           0.0000|  80.746000|0E371EE3-253E-4BB0-B813-83C...|2011-05-31 00:00:00.000|\n",
       "|       43660|                13|         6431-4D57-83|       1|      762|             1| 419.4589|           0.0000| 419.458900|419A1302-AC7A-4044-97B2-66D...|2011-05-31 00:00:00.000|\n",
       "|       43660|                14|         6431-4D57-83|       1|      758|             1| 874.7940|           0.0000| 874.794000|5D0B2B03-1D4C-4C34-9696-C14...|2011-05-31 00:00:00.000|\n",
       "|       43661|                15|         4E0A-4F89-AE|       1|      745|             1| 809.7600|           0.0000| 809.760000|EDE1759E-6733-4C7B-A43F-DC6...|2011-05-31 00:00:00.000|\n",
       "|       43661|                16|         4E0A-4F89-AE|       1|      743|             1| 714.7043|           0.0000| 714.704300|FE10BF09-D477-485B-9541-27A...|2011-05-31 00:00:00.000|\n",
       "|       43661|                17|         4E0A-4F89-AE|       2|      747|             1| 714.7043|           0.0000|1429.408600|B136852E-24C9-4006-8048-B14...|2011-05-31 00:00:00.000|\n",
       "|       43661|                18|         4E0A-4F89-AE|       4|      712|             1|   5.1865|           0.0000|  20.746000|F0F410B6-BC93-4D77-B70D-E4E...|2011-05-31 00:00:00.000|\n",
       "|       43661|                19|         4E0A-4F89-AE|       4|      715|             1|  28.8404|           0.0000| 115.361600|AE4CDA7D-9B6E-4ABB-A391-E9E...|2011-05-31 00:00:00.000|\n",
       "|       43661|                20|         4E0A-4F89-AE|       2|      742|             1| 722.5949|           0.0000|1445.189800|054A9D3B-A178-4656-B2B0-9B9...|2011-05-31 00:00:00.000|\n",
       "|       43661|                21|         4E0A-4F89-AE|       3|      775|             1|2024.9940|           0.0000|6074.982000|8C342A15-8576-4581-AAC9-7BA...|2011-05-31 00:00:00.000|\n",
       "|       43661|                22|         4E0A-4F89-AE|       2|      778|             1|2024.9940|           0.0000|4049.988000|B2760B75-3F1A-4DC4-A377-105...|2011-05-31 00:00:00.000|\n",
       "|       43661|                23|         4E0A-4F89-AE|       2|      711|             1|  20.1865|           0.0000|  40.373000|935A70B5-33AD-473D-921C-8D2...|2011-05-31 00:00:00.000|\n",
       "|       43661|                24|         4E0A-4F89-AE|       2|      741|             1| 818.7000|           0.0000|1637.400000|2F911593-E3B8-4ADF-B757-724...|2011-05-31 00:00:00.000|\n",
       "|       43661|                25|         4E0A-4F89-AE|       4|      776|             1|2024.9940|           0.0000|8099.976000|E8E15B60-3A73-4507-9368-A4F...|2011-05-31 00:00:00.000|\n",
       "+------------+------------------+---------------------+--------+---------+--------------+---------+-----------------+-----------+------------------------------+-----------------------+\n",
       "only showing top 25 rows"
      ]
     },
     "execution_count": 59,
     "metadata": {},
     "output_type": "execute_result"
    }
   ],
   "source": [
    "##  19. Quais sobrenomes tem uma ocorrencia maior que 2 vezes, na tabela Person\n",
    "from pyspark.sql.functions import count\n",
    "spark.read.option('header',True).csv('work/pyspark/documentation/data/AdventureWorks/Sales/SalesOrderDetail.csv') \\\n",
    "    .groupBy('ProductId').agg(sum(col('UnitPrice')))"
   ]
  },
  {
   "cell_type": "code",
   "execution_count": null,
   "metadata": {},
   "outputs": [],
   "source": [
    "\n",
    "##  21. Quais produtos que no total de vendas estão entre 162k a 500k (salesorderdetail)\n",
    "\n",
    "##  22. Quais nomes tem uma ocorrencia maior que 10 vezes, porem somente onde o titulo é 'Mr.'\n",
    "\n",
    "##  23. Identificar as provincias(stateProvinceID) com o maior numero de cadastros no nosso sistema, é preciso encontrar provincias que estão registradas no banco de dados mais que 1000 vezes (trazer os nomes das provincias tambem)\n",
    "\n",
    "##  24. Selecione o TerritoryName, BusinessEntityID, SalesYTD, desloque o salesYTD 1 linha, na janela do territoryName (vSalesPerson)\n",
    "\n",
    "##  25. Contar os nomes de registros duplicados da tabela Person"
   ]
  },
  {
   "cell_type": "code",
   "execution_count": null,
   "metadata": {},
   "outputs": [],
   "source": []
  }
 ],
 "metadata": {
  "kernelspec": {
   "display_name": "Python 3 (ipykernel)",
   "language": "python",
   "name": "python3"
  },
  "language_info": {
   "codemirror_mode": {
    "name": "ipython",
    "version": 3
   },
   "file_extension": ".py",
   "mimetype": "text/x-python",
   "name": "python",
   "nbconvert_exporter": "python",
   "pygments_lexer": "ipython3",
   "version": "3.10.8"
  }
 },
 "nbformat": 4,
 "nbformat_minor": 4
}
