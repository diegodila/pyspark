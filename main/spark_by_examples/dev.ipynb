{
 "cells": [
  {
   "cell_type": "code",
   "execution_count": 3,
   "metadata": {},
   "outputs": [],
   "source": [
    "from pyspark.sql import SparkSession"
   ]
  },
  {
   "cell_type": "code",
   "execution_count": 4,
   "metadata": {},
   "outputs": [],
   "source": [
    "spark = SparkSession.builder.appName('sparkssss').getOrCreate() "
   ]
  },
  {
   "cell_type": "code",
   "execution_count": 5,
   "metadata": {},
   "outputs": [],
   "source": [
    "spark.conf.set('spark.sql.repl.eagerEval.enabled', True)\n",
    "spark.conf.set('spark.sql.repl.eagerEval.maxNumRows',20)    \n",
    "spark.conf.set('sparl.sql.repl.eagerEval.truncate',100)"
   ]
  },
  {
   "cell_type": "code",
   "execution_count": 6,
   "metadata": {},
   "outputs": [
    {
     "data": {
      "text/plain": [
       "datetime.datetime(2021, 12, 11, 0, 0)"
      ]
     },
     "execution_count": 6,
     "metadata": {},
     "output_type": "execute_result"
    }
   ],
   "source": [
    "from datetime import datetime\n",
    "from dateutil.relativedelta import relativedelta   \n",
    "\n",
    "\n",
    "datetime(2022, 5,11) - relativedelta(months=5) "
   ]
  },
  {
   "cell_type": "code",
   "execution_count": 7,
   "metadata": {},
   "outputs": [],
   "source": [
    "a = datetime(2022, 5,11)\n",
    "b = datetime(2021, 3, 11)"
   ]
  },
  {
   "cell_type": "code",
   "execution_count": 3,
   "metadata": {},
   "outputs": [],
   "source": [
    "c = (a.year - b.year) * 12 + a.month - b.month"
   ]
  },
  {
   "cell_type": "code",
   "execution_count": 13,
   "metadata": {},
   "outputs": [
    {
     "name": "stdout",
     "output_type": "stream",
     "text": [
      "2021-03-11 00:00:00\n",
      "2021-04-11 00:00:00\n",
      "2021-05-11 00:00:00\n",
      "2021-06-11 00:00:00\n",
      "2021-07-11 00:00:00\n",
      "2021-08-11 00:00:00\n",
      "2021-09-11 00:00:00\n",
      "2021-10-11 00:00:00\n",
      "2021-11-11 00:00:00\n",
      "2021-12-11 00:00:00\n",
      "2022-01-11 00:00:00\n",
      "2022-02-11 00:00:00\n",
      "2022-03-11 00:00:00\n",
      "2022-04-11 00:00:00\n",
      "2022-05-11 00:00:00\n"
     ]
    }
   ],
   "source": [
    "for i in range(c+1):\n",
    "    print(datetime(2021, 3, 11) + relativedelta(months=i))    "
   ]
  },
  {
   "cell_type": "code",
   "execution_count": 29,
   "metadata": {},
   "outputs": [],
   "source": [
    "from datetime import date, timedelta\n",
    "end = datetime(2022, 5,11)\n",
    "sta = datetime(2021, 3, 11)\n",
    "delt = relativedelta(months=1)"
   ]
  },
  {
   "cell_type": "code",
   "execution_count": 42,
   "metadata": {},
   "outputs": [],
   "source": [
    "dict1 = {'date4':'2022-01-01','b':1}\n",
    "dict2 = {'date4':'2021-01-01','b':2}\n",
    "df1 = spark.createDataFrame([dict1])\n",
    "df2 = spark.createDataFrame([dict2])"
   ]
  },
  {
   "cell_type": "code",
   "execution_count": 30,
   "metadata": {},
   "outputs": [
    {
     "name": "stdout",
     "output_type": "stream",
     "text": [
      "2021-03-11\n",
      "2021-04-11\n",
      "2021-05-11\n",
      "2021-06-11\n",
      "2021-07-11\n",
      "2021-08-11\n",
      "2021-09-11\n",
      "2021-10-11\n",
      "2021-11-11\n",
      "2021-12-11\n",
      "2022-01-11\n",
      "2022-02-11\n",
      "2022-03-11\n",
      "2022-04-11\n",
      "2022-05-11\n"
     ]
    }
   ],
   "source": [
    "while sta <= end:\n",
    "    print(sta.strftime(\"%Y-%m-%d\"))\n",
    "    sta += delt"
   ]
  },
  {
   "cell_type": "code",
   "execution_count": null,
   "metadata": {},
   "outputs": [],
   "source": [
    "def asjd(df,st, en):\n",
    "    df(st)\n",
    "    st = relativedelta(months=1)\n",
    "    while st <= en:\n",
    "        dt = st\n",
    "        df = df.unionAll(df())"
   ]
  },
  {
   "cell_type": "code",
   "execution_count": 44,
   "metadata": {},
   "outputs": [
    {
     "name": "stdout",
     "output_type": "stream",
     "text": [
      "+---+----------+\n",
      "|  b|     date4|\n",
      "+---+----------+\n",
      "|  1|2022-01-01|\n",
      "+---+----------+\n",
      "\n"
     ]
    }
   ],
   "source": [
    "df1.show()"
   ]
  },
  {
   "cell_type": "code",
   "execution_count": 21,
   "metadata": {},
   "outputs": [
    {
     "data": {
      "text/html": [
       "<table border='1'>\n",
       "<tr><th>SalesOrderID</th><th>SalesOrderDetailID</th><th>CarrierTrackingNumber</th><th>OrderQty</th><th>ProductID</th><th>SpecialOfferID</th><th>UnitPrice</th><th>UnitPriceDiscount</th><th>LineTotal</th><th>rowguid</th><th>ModifiedDate</th></tr>\n",
       "<tr><td>43659</td><td>1</td><td>4911-403C-98</td><td>1</td><td>776</td><td>1</td><td>2024.9940</td><td>0.0000</td><td>2024.994000</td><td>B207C96D-D9E6-402...</td><td>2011-05-31 00:00:...</td></tr>\n",
       "<tr><td>43659</td><td>2</td><td>4911-403C-98</td><td>3</td><td>777</td><td>1</td><td>2024.9940</td><td>0.0000</td><td>6074.982000</td><td>7ABB600D-1E77-41B...</td><td>2011-05-31 00:00:...</td></tr>\n",
       "<tr><td>43659</td><td>3</td><td>4911-403C-98</td><td>1</td><td>778</td><td>1</td><td>2024.9940</td><td>0.0000</td><td>2024.994000</td><td>475CF8C6-49F6-486...</td><td>2011-05-31 00:00:...</td></tr>\n",
       "<tr><td>43659</td><td>4</td><td>4911-403C-98</td><td>1</td><td>771</td><td>1</td><td>2039.9940</td><td>0.0000</td><td>2039.994000</td><td>04C4DE91-5815-45D...</td><td>2011-05-31 00:00:...</td></tr>\n",
       "<tr><td>43659</td><td>5</td><td>4911-403C-98</td><td>1</td><td>772</td><td>1</td><td>2039.9940</td><td>0.0000</td><td>2039.994000</td><td>5A74C7D2-E641-438...</td><td>2011-05-31 00:00:...</td></tr>\n",
       "<tr><td>43659</td><td>6</td><td>4911-403C-98</td><td>2</td><td>773</td><td>1</td><td>2039.9940</td><td>0.0000</td><td>4079.988000</td><td>CE472532-A4C0-45B...</td><td>2011-05-31 00:00:...</td></tr>\n",
       "<tr><td>43659</td><td>7</td><td>4911-403C-98</td><td>1</td><td>774</td><td>1</td><td>2039.9940</td><td>0.0000</td><td>2039.994000</td><td>80667840-F962-4EE...</td><td>2011-05-31 00:00:...</td></tr>\n",
       "<tr><td>43659</td><td>8</td><td>4911-403C-98</td><td>3</td><td>714</td><td>1</td><td>28.8404</td><td>0.0000</td><td>86.521200</td><td>E9D54907-E7B7-496...</td><td>2011-05-31 00:00:...</td></tr>\n",
       "<tr><td>43659</td><td>9</td><td>4911-403C-98</td><td>1</td><td>716</td><td>1</td><td>28.8404</td><td>0.0000</td><td>28.840400</td><td>AA542630-BDCD-4CE...</td><td>2011-05-31 00:00:...</td></tr>\n",
       "<tr><td>43659</td><td>10</td><td>4911-403C-98</td><td>6</td><td>709</td><td>1</td><td>5.7000</td><td>0.0000</td><td>34.200000</td><td>AC769034-3C2F-495...</td><td>2011-05-31 00:00:...</td></tr>\n",
       "<tr><td>43659</td><td>11</td><td>4911-403C-98</td><td>2</td><td>712</td><td>1</td><td>5.1865</td><td>0.0000</td><td>10.373000</td><td>06A66921-6B9F-419...</td><td>2011-05-31 00:00:...</td></tr>\n",
       "<tr><td>43659</td><td>12</td><td>4911-403C-98</td><td>4</td><td>711</td><td>1</td><td>20.1865</td><td>0.0000</td><td>80.746000</td><td>0E371EE3-253E-4BB...</td><td>2011-05-31 00:00:...</td></tr>\n",
       "<tr><td>43660</td><td>13</td><td>6431-4D57-83</td><td>1</td><td>762</td><td>1</td><td>419.4589</td><td>0.0000</td><td>419.458900</td><td>419A1302-AC7A-404...</td><td>2011-05-31 00:00:...</td></tr>\n",
       "<tr><td>43660</td><td>14</td><td>6431-4D57-83</td><td>1</td><td>758</td><td>1</td><td>874.7940</td><td>0.0000</td><td>874.794000</td><td>5D0B2B03-1D4C-4C3...</td><td>2011-05-31 00:00:...</td></tr>\n",
       "<tr><td>43661</td><td>15</td><td>4E0A-4F89-AE</td><td>1</td><td>745</td><td>1</td><td>809.7600</td><td>0.0000</td><td>809.760000</td><td>EDE1759E-6733-4C7...</td><td>2011-05-31 00:00:...</td></tr>\n",
       "<tr><td>43661</td><td>16</td><td>4E0A-4F89-AE</td><td>1</td><td>743</td><td>1</td><td>714.7043</td><td>0.0000</td><td>714.704300</td><td>FE10BF09-D477-485...</td><td>2011-05-31 00:00:...</td></tr>\n",
       "<tr><td>43661</td><td>17</td><td>4E0A-4F89-AE</td><td>2</td><td>747</td><td>1</td><td>714.7043</td><td>0.0000</td><td>1429.408600</td><td>B136852E-24C9-400...</td><td>2011-05-31 00:00:...</td></tr>\n",
       "<tr><td>43661</td><td>18</td><td>4E0A-4F89-AE</td><td>4</td><td>712</td><td>1</td><td>5.1865</td><td>0.0000</td><td>20.746000</td><td>F0F410B6-BC93-4D7...</td><td>2011-05-31 00:00:...</td></tr>\n",
       "<tr><td>43661</td><td>19</td><td>4E0A-4F89-AE</td><td>4</td><td>715</td><td>1</td><td>28.8404</td><td>0.0000</td><td>115.361600</td><td>AE4CDA7D-9B6E-4AB...</td><td>2011-05-31 00:00:...</td></tr>\n",
       "<tr><td>43661</td><td>20</td><td>4E0A-4F89-AE</td><td>2</td><td>742</td><td>1</td><td>722.5949</td><td>0.0000</td><td>1445.189800</td><td>054A9D3B-A178-465...</td><td>2011-05-31 00:00:...</td></tr>\n",
       "</table>\n",
       "only showing top 20 rows\n"
      ],
      "text/plain": [
       "+------------+------------------+---------------------+--------+---------+--------------+---------+-----------------+-----------+--------------------+--------------------+\n",
       "|SalesOrderID|SalesOrderDetailID|CarrierTrackingNumber|OrderQty|ProductID|SpecialOfferID|UnitPrice|UnitPriceDiscount|  LineTotal|             rowguid|        ModifiedDate|\n",
       "+------------+------------------+---------------------+--------+---------+--------------+---------+-----------------+-----------+--------------------+--------------------+\n",
       "|       43659|                 1|         4911-403C-98|       1|      776|             1|2024.9940|           0.0000|2024.994000|B207C96D-D9E6-402...|2011-05-31 00:00:...|\n",
       "|       43659|                 2|         4911-403C-98|       3|      777|             1|2024.9940|           0.0000|6074.982000|7ABB600D-1E77-41B...|2011-05-31 00:00:...|\n",
       "|       43659|                 3|         4911-403C-98|       1|      778|             1|2024.9940|           0.0000|2024.994000|475CF8C6-49F6-486...|2011-05-31 00:00:...|\n",
       "|       43659|                 4|         4911-403C-98|       1|      771|             1|2039.9940|           0.0000|2039.994000|04C4DE91-5815-45D...|2011-05-31 00:00:...|\n",
       "|       43659|                 5|         4911-403C-98|       1|      772|             1|2039.9940|           0.0000|2039.994000|5A74C7D2-E641-438...|2011-05-31 00:00:...|\n",
       "|       43659|                 6|         4911-403C-98|       2|      773|             1|2039.9940|           0.0000|4079.988000|CE472532-A4C0-45B...|2011-05-31 00:00:...|\n",
       "|       43659|                 7|         4911-403C-98|       1|      774|             1|2039.9940|           0.0000|2039.994000|80667840-F962-4EE...|2011-05-31 00:00:...|\n",
       "|       43659|                 8|         4911-403C-98|       3|      714|             1|  28.8404|           0.0000|  86.521200|E9D54907-E7B7-496...|2011-05-31 00:00:...|\n",
       "|       43659|                 9|         4911-403C-98|       1|      716|             1|  28.8404|           0.0000|  28.840400|AA542630-BDCD-4CE...|2011-05-31 00:00:...|\n",
       "|       43659|                10|         4911-403C-98|       6|      709|             1|   5.7000|           0.0000|  34.200000|AC769034-3C2F-495...|2011-05-31 00:00:...|\n",
       "|       43659|                11|         4911-403C-98|       2|      712|             1|   5.1865|           0.0000|  10.373000|06A66921-6B9F-419...|2011-05-31 00:00:...|\n",
       "|       43659|                12|         4911-403C-98|       4|      711|             1|  20.1865|           0.0000|  80.746000|0E371EE3-253E-4BB...|2011-05-31 00:00:...|\n",
       "|       43660|                13|         6431-4D57-83|       1|      762|             1| 419.4589|           0.0000| 419.458900|419A1302-AC7A-404...|2011-05-31 00:00:...|\n",
       "|       43660|                14|         6431-4D57-83|       1|      758|             1| 874.7940|           0.0000| 874.794000|5D0B2B03-1D4C-4C3...|2011-05-31 00:00:...|\n",
       "|       43661|                15|         4E0A-4F89-AE|       1|      745|             1| 809.7600|           0.0000| 809.760000|EDE1759E-6733-4C7...|2011-05-31 00:00:...|\n",
       "|       43661|                16|         4E0A-4F89-AE|       1|      743|             1| 714.7043|           0.0000| 714.704300|FE10BF09-D477-485...|2011-05-31 00:00:...|\n",
       "|       43661|                17|         4E0A-4F89-AE|       2|      747|             1| 714.7043|           0.0000|1429.408600|B136852E-24C9-400...|2011-05-31 00:00:...|\n",
       "|       43661|                18|         4E0A-4F89-AE|       4|      712|             1|   5.1865|           0.0000|  20.746000|F0F410B6-BC93-4D7...|2011-05-31 00:00:...|\n",
       "|       43661|                19|         4E0A-4F89-AE|       4|      715|             1|  28.8404|           0.0000| 115.361600|AE4CDA7D-9B6E-4AB...|2011-05-31 00:00:...|\n",
       "|       43661|                20|         4E0A-4F89-AE|       2|      742|             1| 722.5949|           0.0000|1445.189800|054A9D3B-A178-465...|2011-05-31 00:00:...|\n",
       "+------------+------------------+---------------------+--------+---------+--------------+---------+-----------------+-----------+--------------------+--------------------+\n",
       "only showing top 20 rows"
      ]
     },
     "execution_count": 21,
     "metadata": {},
     "output_type": "execute_result"
    }
   ],
   "source": [
    "spark.read.format('csv').option('header',True).load('./work/pyspark/data/AdventureWorks/Sales/SalesOrderDetail.csv')"
   ]
  },
  {
   "cell_type": "code",
   "execution_count": 55,
   "metadata": {},
   "outputs": [
    {
     "name": "stdout",
     "output_type": "stream",
     "text": [
      "/home/jovyan\n",
      "data  exploring  main  README.md  start_jupyter_docker\n"
     ]
    }
   ],
   "source": [
    "!pwd\n",
    "!ls work/pyspark/"
   ]
  },
  {
   "cell_type": "code",
   "execution_count": 22,
   "metadata": {},
   "outputs": [
    {
     "data": {
      "text/html": [
       "<table border='1'>\n",
       "<tr><th>SalesOrderID</th><th>SalesOrderDetailID</th><th>CarrierTrackingNumber</th><th>OrderQty</th><th>ProductID</th><th>SpecialOfferID</th><th>UnitPrice</th><th>UnitPriceDiscount</th><th>LineTotal</th><th>rowguid</th><th>ModifiedDate</th></tr>\n",
       "<tr><td>43659</td><td>1</td><td>4911-403C-98</td><td>1</td><td>776</td><td>1</td><td>2024.9940</td><td>0.0000</td><td>2024.994000</td><td>B207C96D-D9E6-402...</td><td>2011-05-31 00:00:...</td></tr>\n",
       "<tr><td>43659</td><td>2</td><td>4911-403C-98</td><td>3</td><td>777</td><td>1</td><td>2024.9940</td><td>0.0000</td><td>6074.982000</td><td>7ABB600D-1E77-41B...</td><td>2011-05-31 00:00:...</td></tr>\n",
       "<tr><td>43659</td><td>3</td><td>4911-403C-98</td><td>1</td><td>778</td><td>1</td><td>2024.9940</td><td>0.0000</td><td>2024.994000</td><td>475CF8C6-49F6-486...</td><td>2011-05-31 00:00:...</td></tr>\n",
       "<tr><td>43659</td><td>4</td><td>4911-403C-98</td><td>1</td><td>771</td><td>1</td><td>2039.9940</td><td>0.0000</td><td>2039.994000</td><td>04C4DE91-5815-45D...</td><td>2011-05-31 00:00:...</td></tr>\n",
       "<tr><td>43659</td><td>5</td><td>4911-403C-98</td><td>1</td><td>772</td><td>1</td><td>2039.9940</td><td>0.0000</td><td>2039.994000</td><td>5A74C7D2-E641-438...</td><td>2011-05-31 00:00:...</td></tr>\n",
       "<tr><td>43659</td><td>6</td><td>4911-403C-98</td><td>2</td><td>773</td><td>1</td><td>2039.9940</td><td>0.0000</td><td>4079.988000</td><td>CE472532-A4C0-45B...</td><td>2011-05-31 00:00:...</td></tr>\n",
       "<tr><td>43659</td><td>7</td><td>4911-403C-98</td><td>1</td><td>774</td><td>1</td><td>2039.9940</td><td>0.0000</td><td>2039.994000</td><td>80667840-F962-4EE...</td><td>2011-05-31 00:00:...</td></tr>\n",
       "<tr><td>43659</td><td>8</td><td>4911-403C-98</td><td>3</td><td>714</td><td>1</td><td>28.8404</td><td>0.0000</td><td>86.521200</td><td>E9D54907-E7B7-496...</td><td>2011-05-31 00:00:...</td></tr>\n",
       "<tr><td>43659</td><td>9</td><td>4911-403C-98</td><td>1</td><td>716</td><td>1</td><td>28.8404</td><td>0.0000</td><td>28.840400</td><td>AA542630-BDCD-4CE...</td><td>2011-05-31 00:00:...</td></tr>\n",
       "<tr><td>43659</td><td>10</td><td>4911-403C-98</td><td>6</td><td>709</td><td>1</td><td>5.7000</td><td>0.0000</td><td>34.200000</td><td>AC769034-3C2F-495...</td><td>2011-05-31 00:00:...</td></tr>\n",
       "<tr><td>43659</td><td>11</td><td>4911-403C-98</td><td>2</td><td>712</td><td>1</td><td>5.1865</td><td>0.0000</td><td>10.373000</td><td>06A66921-6B9F-419...</td><td>2011-05-31 00:00:...</td></tr>\n",
       "<tr><td>43659</td><td>12</td><td>4911-403C-98</td><td>4</td><td>711</td><td>1</td><td>20.1865</td><td>0.0000</td><td>80.746000</td><td>0E371EE3-253E-4BB...</td><td>2011-05-31 00:00:...</td></tr>\n",
       "<tr><td>43660</td><td>13</td><td>6431-4D57-83</td><td>1</td><td>762</td><td>1</td><td>419.4589</td><td>0.0000</td><td>419.458900</td><td>419A1302-AC7A-404...</td><td>2011-05-31 00:00:...</td></tr>\n",
       "<tr><td>43660</td><td>14</td><td>6431-4D57-83</td><td>1</td><td>758</td><td>1</td><td>874.7940</td><td>0.0000</td><td>874.794000</td><td>5D0B2B03-1D4C-4C3...</td><td>2011-05-31 00:00:...</td></tr>\n",
       "<tr><td>43661</td><td>15</td><td>4E0A-4F89-AE</td><td>1</td><td>745</td><td>1</td><td>809.7600</td><td>0.0000</td><td>809.760000</td><td>EDE1759E-6733-4C7...</td><td>2011-05-31 00:00:...</td></tr>\n",
       "<tr><td>43661</td><td>16</td><td>4E0A-4F89-AE</td><td>1</td><td>743</td><td>1</td><td>714.7043</td><td>0.0000</td><td>714.704300</td><td>FE10BF09-D477-485...</td><td>2011-05-31 00:00:...</td></tr>\n",
       "<tr><td>43661</td><td>17</td><td>4E0A-4F89-AE</td><td>2</td><td>747</td><td>1</td><td>714.7043</td><td>0.0000</td><td>1429.408600</td><td>B136852E-24C9-400...</td><td>2011-05-31 00:00:...</td></tr>\n",
       "<tr><td>43661</td><td>18</td><td>4E0A-4F89-AE</td><td>4</td><td>712</td><td>1</td><td>5.1865</td><td>0.0000</td><td>20.746000</td><td>F0F410B6-BC93-4D7...</td><td>2011-05-31 00:00:...</td></tr>\n",
       "<tr><td>43661</td><td>19</td><td>4E0A-4F89-AE</td><td>4</td><td>715</td><td>1</td><td>28.8404</td><td>0.0000</td><td>115.361600</td><td>AE4CDA7D-9B6E-4AB...</td><td>2011-05-31 00:00:...</td></tr>\n",
       "<tr><td>43661</td><td>20</td><td>4E0A-4F89-AE</td><td>2</td><td>742</td><td>1</td><td>722.5949</td><td>0.0000</td><td>1445.189800</td><td>054A9D3B-A178-465...</td><td>2011-05-31 00:00:...</td></tr>\n",
       "</table>\n",
       "only showing top 20 rows\n"
      ],
      "text/plain": [
       "+------------+------------------+---------------------+--------+---------+--------------+---------+-----------------+-----------+--------------------+--------------------+\n",
       "|SalesOrderID|SalesOrderDetailID|CarrierTrackingNumber|OrderQty|ProductID|SpecialOfferID|UnitPrice|UnitPriceDiscount|  LineTotal|             rowguid|        ModifiedDate|\n",
       "+------------+------------------+---------------------+--------+---------+--------------+---------+-----------------+-----------+--------------------+--------------------+\n",
       "|       43659|                 1|         4911-403C-98|       1|      776|             1|2024.9940|           0.0000|2024.994000|B207C96D-D9E6-402...|2011-05-31 00:00:...|\n",
       "|       43659|                 2|         4911-403C-98|       3|      777|             1|2024.9940|           0.0000|6074.982000|7ABB600D-1E77-41B...|2011-05-31 00:00:...|\n",
       "|       43659|                 3|         4911-403C-98|       1|      778|             1|2024.9940|           0.0000|2024.994000|475CF8C6-49F6-486...|2011-05-31 00:00:...|\n",
       "|       43659|                 4|         4911-403C-98|       1|      771|             1|2039.9940|           0.0000|2039.994000|04C4DE91-5815-45D...|2011-05-31 00:00:...|\n",
       "|       43659|                 5|         4911-403C-98|       1|      772|             1|2039.9940|           0.0000|2039.994000|5A74C7D2-E641-438...|2011-05-31 00:00:...|\n",
       "|       43659|                 6|         4911-403C-98|       2|      773|             1|2039.9940|           0.0000|4079.988000|CE472532-A4C0-45B...|2011-05-31 00:00:...|\n",
       "|       43659|                 7|         4911-403C-98|       1|      774|             1|2039.9940|           0.0000|2039.994000|80667840-F962-4EE...|2011-05-31 00:00:...|\n",
       "|       43659|                 8|         4911-403C-98|       3|      714|             1|  28.8404|           0.0000|  86.521200|E9D54907-E7B7-496...|2011-05-31 00:00:...|\n",
       "|       43659|                 9|         4911-403C-98|       1|      716|             1|  28.8404|           0.0000|  28.840400|AA542630-BDCD-4CE...|2011-05-31 00:00:...|\n",
       "|       43659|                10|         4911-403C-98|       6|      709|             1|   5.7000|           0.0000|  34.200000|AC769034-3C2F-495...|2011-05-31 00:00:...|\n",
       "|       43659|                11|         4911-403C-98|       2|      712|             1|   5.1865|           0.0000|  10.373000|06A66921-6B9F-419...|2011-05-31 00:00:...|\n",
       "|       43659|                12|         4911-403C-98|       4|      711|             1|  20.1865|           0.0000|  80.746000|0E371EE3-253E-4BB...|2011-05-31 00:00:...|\n",
       "|       43660|                13|         6431-4D57-83|       1|      762|             1| 419.4589|           0.0000| 419.458900|419A1302-AC7A-404...|2011-05-31 00:00:...|\n",
       "|       43660|                14|         6431-4D57-83|       1|      758|             1| 874.7940|           0.0000| 874.794000|5D0B2B03-1D4C-4C3...|2011-05-31 00:00:...|\n",
       "|       43661|                15|         4E0A-4F89-AE|       1|      745|             1| 809.7600|           0.0000| 809.760000|EDE1759E-6733-4C7...|2011-05-31 00:00:...|\n",
       "|       43661|                16|         4E0A-4F89-AE|       1|      743|             1| 714.7043|           0.0000| 714.704300|FE10BF09-D477-485...|2011-05-31 00:00:...|\n",
       "|       43661|                17|         4E0A-4F89-AE|       2|      747|             1| 714.7043|           0.0000|1429.408600|B136852E-24C9-400...|2011-05-31 00:00:...|\n",
       "|       43661|                18|         4E0A-4F89-AE|       4|      712|             1|   5.1865|           0.0000|  20.746000|F0F410B6-BC93-4D7...|2011-05-31 00:00:...|\n",
       "|       43661|                19|         4E0A-4F89-AE|       4|      715|             1|  28.8404|           0.0000| 115.361600|AE4CDA7D-9B6E-4AB...|2011-05-31 00:00:...|\n",
       "|       43661|                20|         4E0A-4F89-AE|       2|      742|             1| 722.5949|           0.0000|1445.189800|054A9D3B-A178-465...|2011-05-31 00:00:...|\n",
       "+------------+------------------+---------------------+--------+---------+--------------+---------+-----------------+-----------+--------------------+--------------------+\n",
       "only showing top 20 rows"
      ]
     },
     "execution_count": 22,
     "metadata": {},
     "output_type": "execute_result"
    }
   ],
   "source": [
    "spark.read.option('header',True).csv('work/pyspark/data/AdventureWorks/Sales/SalesOrderDetail.csv')"
   ]
  },
  {
   "cell_type": "code",
   "execution_count": null,
   "metadata": {},
   "outputs": [],
   "source": [
    "                        "
   ]
  }
 ],
 "metadata": {
  "kernelspec": {
   "display_name": "Python 3 (ipykernel)",
   "language": "python",
   "name": "python3"
  },
  "language_info": {
   "codemirror_mode": {
    "name": "ipython",
    "version": 3
   },
   "file_extension": ".py",
   "mimetype": "text/x-python",
   "name": "python",
   "nbconvert_exporter": "python",
   "pygments_lexer": "ipython3",
   "version": "3.11.6"
  }
 },
 "nbformat": 4,
 "nbformat_minor": 2
}
