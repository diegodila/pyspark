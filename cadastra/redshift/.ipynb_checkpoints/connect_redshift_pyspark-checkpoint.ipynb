{
 "cells": [
  {
   "cell_type": "code",
   "execution_count": 3,
   "id": "dd76f9bc-0922-4f65-ab78-9c66b23e811b",
   "metadata": {},
   "outputs": [],
   "source": [
    "from pyspark.sql import SparkSession"
   ]
  },
  {
   "cell_type": "code",
   "execution_count": 11,
   "id": "79a1a5c9-9159-4805-9367-a99a39ee2857",
   "metadata": {},
   "outputs": [],
   "source": [
    "spark = SparkSession.builder.getOrCreate()\n",
    "spark.conf.set('spark.sql.repl.eagerEval.enabled', True)\n",
    "spark.conf.set('spark.sql.repl.eagerEval.maxNumRows',20)\n",
    "spark.conf.set('spark.sql.execution.arrow.pyspark.enabled',True)"
   ]
  },
  {
   "cell_type": "code",
   "execution_count": 12,
   "id": "03dea573-c013-473a-9859-aef463b64b76",
   "metadata": {},
   "outputs": [],
   "source": [
    "from datetime import datetime, date\n",
    "import pandas as pd\n",
    "from pyspark.sql import Row\n",
    "import numpy as np\n",
    "import pyspark.sql.functions as func\n",
    "from pyspark.sql.functions import col\n",
    "from pyspark.sql.types import FloatType\n",
    "from pyspark.sql.types import DecimalType"
   ]
  },
  {
   "cell_type": "code",
   "execution_count": 13,
   "id": "e186f0c7-b9a2-4cdc-9e0e-31baa1fcb5ed",
   "metadata": {},
   "outputs": [],
   "source": [
    "import psycopg2\n",
    "con=psycopg2.connect(dbname= 'ssg', host='samsung-dl.chi3jsb4kpjs.us-east-1.redshift.amazonaws.com',\n",
    "port= '5439', user= 'dferreira', password= 'Y7*K.8jyNgdb')"
   ]
  },
  {
   "cell_type": "code",
   "execution_count": 14,
   "id": "ac4f35de-0331-4299-ada3-f4de43508d0c",
   "metadata": {},
   "outputs": [],
   "source": [
    "cursor = con.cursor()"
   ]
  },
  {
   "cell_type": "code",
   "execution_count": 15,
   "id": "a065dc1b-4e88-4ca7-944e-2fa367d65c10",
   "metadata": {},
   "outputs": [],
   "source": [
    "sql = '''select cad1.midia, cad26.midia,cad12.midia,\n",
    "cad1.investiment as cad1inv, cad1.impressions as cad1imp,\n",
    "cad3.investiment as cad3inv, cad3.impressions as cad3imp,\n",
    "cad12.investiment as cad12inv, cad12.impressions as cad12imp,\n",
    "cad26.investiment as cad26inv, cad26.impressions as cad26imp, \n",
    "cad42.investiment as cad42inv, cad42.impressions as cad42imp\n",
    "from (select midia,\n",
    "\t\tround(sum(cost),0) as investiment,\n",
    "\t\tround(sum(impressions),0) as impressions,\n",
    "\t\tdate\n",
    "\t\tfrom datamarts.tb_consolidada_geral_dia tcgd\n",
    "\t\twhere (date >= current_date-1)\n",
    "\t\tand (campaignname like '%cad1-%')\n",
    "\t\tand (midia in ('google','criteo','bing', 'facebook'))\n",
    "\t\tgroup by 1,date) cad1\n",
    "full join\n",
    "  (select midia,\n",
    "\t\tround(sum(cost),0) as investiment,\n",
    "\t\tround(sum(impressions),0) as impressions,\n",
    "\t\tdate\n",
    "\t\tfrom datamarts.tb_consolidada_geral_dia tcgd\n",
    "\t\twhere (date >= current_date-1)\n",
    "\t\tand (campaignname like '%cad3-%')\n",
    "\t\tand (midia in ('google','criteo','bing', 'facebook'))\n",
    "\t\tgroup by 1,date) cad3\n",
    "on cad1.midia = cad3.midia\n",
    "full join\n",
    "  (select midia,\n",
    "\t\tround(sum(cost),0) as investiment,\n",
    "\t\tround(sum(impressions),0) as impressions,\n",
    "\t\tdate\n",
    "\t\tfrom datamarts.tb_consolidada_geral_dia tcgd\n",
    "\t\twhere (date >= current_date-1)\n",
    "\t\tand (campaignname like '%cad12-%')\n",
    "\t\tand (midia in ('google','criteo','bing', 'facebook'))\n",
    "\t\tgroup by 1,date) cad12\n",
    "on cad12.midia = cad1.midia\n",
    "full join\n",
    "  (select midia,\n",
    "\t\tround(sum(cost),0) as investiment,\n",
    "\t\tround(sum(impressions),0) as impressions,\n",
    "\t\tdate\n",
    "\t\tfrom datamarts.tb_consolidada_geral_dia tcgd\n",
    "\t\twhere (date >= current_date-1)\n",
    "\t\tand (campaignname like '%cad26-%')\n",
    "\t\tand (midia in ('google','criteo','bing', 'facebook'))\n",
    "\t\tgroup by 1,date) cad26\n",
    "on cad26.midia = cad1.midia\n",
    "full join\n",
    "  (select midia,\n",
    "\t\tround(sum(cost),0) as investiment,\n",
    "\t\tround(sum(impressions),0) as impressions,\n",
    "\t\tdate\n",
    "\t\tfrom datamarts.tb_consolidada_geral_dia tcgd\n",
    "\t\twhere (date >= current_date-1)\n",
    "\t\tand (campaignname like '%cad42-%')\n",
    "\t\tand (midia in ('google','criteo','bing', 'facebook'))\n",
    "\t\tgroup by 1,date) cad42\n",
    "on cad42.midia = cad1.midia;'''"
   ]
  },
  {
   "cell_type": "code",
   "execution_count": 19,
   "id": "30f689d3-55ba-4967-95cd-3f408dd7cb9a",
   "metadata": {},
   "outputs": [],
   "source": [
    "cursor.execute(sql)\n",
    "colnames = [desc[0] for desc in cursor.description] \n",
    "df_cad42 = cursor.fetchall()"
   ]
  },
  {
   "cell_type": "code",
   "execution_count": 20,
   "id": "97742eb4-ff6b-45d1-ac30-588cb0fdbc4d",
   "metadata": {},
   "outputs": [
    {
     "name": "stdout",
     "output_type": "stream",
     "text": [
      "[('bing', None, None, Decimal('1878'), Decimal('56765'), None, None, None, None, None, None, None, None), ('criteo', None, None, Decimal('2239'), Decimal('552097'), None, None, None, None, None, None, None, None), ('facebook', 'facebook', 'facebook', Decimal('5558'), Decimal('408493'), None, None, Decimal('788'), Decimal('72734'), Decimal('1820'), Decimal('173898'), None, None), ('google', 'google', 'google', Decimal('17369'), Decimal('2059404'), Decimal('63884'), Decimal('2304087'), Decimal('1207'), Decimal('13099'), Decimal('2002'), Decimal('1512216'), Decimal('3533'), Decimal('84799'))]\n"
     ]
    }
   ],
   "source": [
    "print(df)"
   ]
  },
  {
   "cell_type": "code",
   "execution_count": 49,
   "id": "29114613-58b9-4882-a560-853daf4c5def",
   "metadata": {},
   "outputs": [
    {
     "data": {
      "text/plain": [
       "[]"
      ]
     },
     "execution_count": 49,
     "metadata": {},
     "output_type": "execute_result"
    }
   ],
   "source": []
  },
  {
   "cell_type": "code",
   "execution_count": 21,
   "id": "a735d9a3-30ea-41be-a71e-47be4fb654eb",
   "metadata": {},
   "outputs": [],
   "source": [
    "df = spark.createDataFrame(df_cad42,colnames)"
   ]
  },
  {
   "cell_type": "code",
   "execution_count": 23,
   "id": "318b560a-8ed5-4450-9f3b-bafdfe9261d2",
   "metadata": {},
   "outputs": [],
   "source": [
    "# cad42 = df.withColumn(\"investiment\",df[\"investiment\"].cast(DecimalType()))\\\n",
    "#             .withColumn(\"impressions\",df[\"impressions\"].cast(DecimalType()))"
   ]
  },
  {
   "cell_type": "code",
   "execution_count": 24,
   "id": "5ec7692b-4b8c-4a04-9773-8043abb9f88d",
   "metadata": {},
   "outputs": [
    {
     "data": {
      "text/html": [
       "<table border='1'>\n",
       "<tr><th>midia</th><th>midia</th><th>midia</th><th>cad1inv</th><th>cad1imp</th><th>cad3inv</th><th>cad3imp</th><th>cad12inv</th><th>cad12imp</th><th>cad26inv</th><th>cad26imp</th><th>cad42inv</th><th>cad42imp</th></tr>\n",
       "<tr><td>facebook</td><td>facebook</td><td>facebook</td><td>5558.000000000000...</td><td>408493.0000000000...</td><td>null</td><td>null</td><td>788.0000000000000...</td><td>72734.00000000000...</td><td>1820.000000000000...</td><td>173898.0000000000...</td><td>null</td><td>null</td></tr>\n",
       "<tr><td>google</td><td>google</td><td>google</td><td>17369.00000000000...</td><td>2059404.000000000...</td><td>63884.00000000000...</td><td>2304087.000000000...</td><td>1207.000000000000...</td><td>13099.00000000000...</td><td>2002.000000000000...</td><td>1512216.000000000...</td><td>3533.000000000000...</td><td>84799.00000000000...</td></tr>\n",
       "<tr><td>bing</td><td>null</td><td>null</td><td>1878.000000000000...</td><td>56765.00000000000...</td><td>null</td><td>null</td><td>null</td><td>null</td><td>null</td><td>null</td><td>null</td><td>null</td></tr>\n",
       "<tr><td>criteo</td><td>null</td><td>null</td><td>2239.000000000000...</td><td>552097.0000000000...</td><td>null</td><td>null</td><td>null</td><td>null</td><td>null</td><td>null</td><td>null</td><td>null</td></tr>\n",
       "</table>\n"
      ],
      "text/plain": [
       "+--------+--------+--------+--------------------+--------------------+--------------------+--------------------+--------------------+--------------------+--------------------+--------------------+--------------------+--------------------+\n",
       "|   midia|   midia|   midia|             cad1inv|             cad1imp|             cad3inv|             cad3imp|            cad12inv|            cad12imp|            cad26inv|            cad26imp|            cad42inv|            cad42imp|\n",
       "+--------+--------+--------+--------------------+--------------------+--------------------+--------------------+--------------------+--------------------+--------------------+--------------------+--------------------+--------------------+\n",
       "|facebook|facebook|facebook|5558.000000000000...|408493.0000000000...|                null|                null|788.0000000000000...|72734.00000000000...|1820.000000000000...|173898.0000000000...|                null|                null|\n",
       "|  google|  google|  google|17369.00000000000...|2059404.000000000...|63884.00000000000...|2304087.000000000...|1207.000000000000...|13099.00000000000...|2002.000000000000...|1512216.000000000...|3533.000000000000...|84799.00000000000...|\n",
       "|    bing|    null|    null|1878.000000000000...|56765.00000000000...|                null|                null|                null|                null|                null|                null|                null|                null|\n",
       "|  criteo|    null|    null|2239.000000000000...|552097.0000000000...|                null|                null|                null|                null|                null|                null|                null|                null|\n",
       "+--------+--------+--------+--------------------+--------------------+--------------------+--------------------+--------------------+--------------------+--------------------+--------------------+--------------------+--------------------+"
      ]
     },
     "execution_count": 24,
     "metadata": {},
     "output_type": "execute_result"
    }
   ],
   "source": [
    "df"
   ]
  },
  {
   "cell_type": "code",
   "execution_count": 25,
   "id": "e028cc95-2b04-497d-b24b-ad83308fc117",
   "metadata": {},
   "outputs": [],
   "source": [
    "con.commit()"
   ]
  },
  {
   "cell_type": "code",
   "execution_count": 26,
   "id": "f079209c-7855-4bae-8f3a-ddb2da181f9d",
   "metadata": {},
   "outputs": [],
   "source": [
    "con.close()"
   ]
  },
  {
   "cell_type": "code",
   "execution_count": null,
   "id": "eff45e98-0d7a-4889-8488-b08c0828f51f",
   "metadata": {},
   "outputs": [],
   "source": []
  },
  {
   "cell_type": "code",
   "execution_count": null,
   "id": "18381b67-4f7e-463f-b8ac-f43ba9cdcd5b",
   "metadata": {},
   "outputs": [],
   "source": []
  },
  {
   "cell_type": "code",
   "execution_count": null,
   "id": "36c0c2f3-9416-4deb-9714-01907edd736f",
   "metadata": {},
   "outputs": [],
   "source": []
  },
  {
   "cell_type": "code",
   "execution_count": null,
   "id": "fd110054-ebaa-4b64-be0a-a25a891cb48a",
   "metadata": {},
   "outputs": [],
   "source": []
  },
  {
   "cell_type": "code",
   "execution_count": null,
   "id": "773f6b97-c2f5-4296-90c6-0c4ff6fb77ba",
   "metadata": {},
   "outputs": [],
   "source": []
  },
  {
   "cell_type": "code",
   "execution_count": null,
   "id": "e5fa1a95-6504-4c60-9d55-065c8281625a",
   "metadata": {},
   "outputs": [],
   "source": []
  }
 ],
 "metadata": {
  "kernelspec": {
   "display_name": "Python 3 (ipykernel)",
   "language": "python",
   "name": "python3"
  },
  "language_info": {
   "codemirror_mode": {
    "name": "ipython",
    "version": 3
   },
   "file_extension": ".py",
   "mimetype": "text/x-python",
   "name": "python",
   "nbconvert_exporter": "python",
   "pygments_lexer": "ipython3",
   "version": "3.9.10"
  }
 },
 "nbformat": 4,
 "nbformat_minor": 5
}
