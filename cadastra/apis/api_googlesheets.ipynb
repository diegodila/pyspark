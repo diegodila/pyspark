{
 "cells": [
  {
   "cell_type": "code",
   "execution_count": 1,
   "id": "0be111ab-27b8-419c-b733-27e61eb199ec",
   "metadata": {},
   "outputs": [],
   "source": [
    "import psycopg2"
   ]
  },
  {
   "cell_type": "code",
   "execution_count": null,
   "id": "c813577c-0e52-47a4-9940-88e42307f18b",
   "metadata": {},
   "outputs": [],
   "source": []
  },
  {
   "cell_type": "code",
   "execution_count": null,
   "id": "5ffdef15-7812-431a-a694-cffaec6f58f1",
   "metadata": {},
   "outputs": [],
   "source": []
  },
  {
   "cell_type": "code",
   "execution_count": 15,
   "id": "64e2eb3e-31d2-415e-8b09-b0884108dd65",
   "metadata": {},
   "outputs": [],
   "source": [
    "# pip install --upgrade google-api-python-client google-auth-httplib2 google-auth-oauthlib"
   ]
  },
  {
   "cell_type": "code",
   "execution_count": 3,
   "id": "e0a32e8d-1d1b-42a9-b5e9-eb200a608fa4",
   "metadata": {},
   "outputs": [],
   "source": [
    "import gspread"
   ]
  },
  {
   "cell_type": "code",
   "execution_count": 4,
   "id": "2bb39a18-924f-4e8b-915c-80bb3fb6e6ce",
   "metadata": {},
   "outputs": [],
   "source": [
    "# importing the required libraries\n",
    "import gspread\n",
    "import pandas as pd\n",
    "from oauth2client.service_account import ServiceAccountCredentials"
   ]
  },
  {
   "cell_type": "code",
   "execution_count": 5,
   "id": "e4b67053-76a1-4f9b-beb0-c5a74063629a",
   "metadata": {},
   "outputs": [],
   "source": [
    "# define the scope\n",
    "scope = ['https://spreadsheets.google.com/feeds','https://www.googleapis.com/auth/drive']\n",
    "\n",
    "# add credentials to the account\n",
    "creds = ServiceAccountCredentials.from_json_keyfile_name('./json/samsung-automation-46eb8c6da77a.json', scope)\n",
    "\n",
    "# authorize the clientsheet\n",
    "client = gspread.authorize(creds)"
   ]
  },
  {
   "cell_type": "code",
   "execution_count": 6,
   "id": "edb11ba2-6634-4834-9807-043ccb55fb55",
   "metadata": {},
   "outputs": [],
   "source": [
    "# get the instance of the Spreadsheet\n",
    "sheet = client.open('Samsung - Geral Dia')\n",
    "\n",
    "# get the first sheet of the Spreadsheet\n",
    "sheet_instance = sheet.get_worksheet(4)"
   ]
  },
  {
   "cell_type": "code",
   "execution_count": 7,
   "id": "b1367a4d-b0c9-4be5-935c-20a2235f394c",
   "metadata": {},
   "outputs": [],
   "source": [
    "#retorna os valores da coluna\n",
    "# sheet_instance.col_values(3)"
   ]
  },
  {
   "cell_type": "code",
   "execution_count": 8,
   "id": "ff0825d0-02f8-4ca1-a6d2-86f5907768a9",
   "metadata": {},
   "outputs": [
    {
     "data": {
      "text/plain": [
       "36"
      ]
     },
     "execution_count": 8,
     "metadata": {},
     "output_type": "execute_result"
    }
   ],
   "source": [
    "# get the total number of columns\n",
    "sheet_instance.col_count\n",
    "## >> 26"
   ]
  },
  {
   "cell_type": "code",
   "execution_count": 9,
   "id": "fc77eb2f-c00b-453a-9218-1f64151bf33f",
   "metadata": {},
   "outputs": [
    {
     "data": {
      "text/plain": [
       "<Cell R2C3 'SSG | SEDA | HHP | Brand Shop'>"
      ]
     },
     "execution_count": 9,
     "metadata": {},
     "output_type": "execute_result"
    }
   ],
   "source": [
    "# get the value at the specific cell\n",
    "sheet_instance.cell(col=3,row=2)\n",
    "## >> <Cell R2C3 '63881'>"
   ]
  },
  {
   "cell_type": "code",
   "execution_count": 10,
   "id": "fe832d04-6f3c-47b0-a1f4-29d81af1d8a1",
   "metadata": {},
   "outputs": [
    {
     "data": {
      "text/plain": [
       "''"
      ]
     },
     "execution_count": 10,
     "metadata": {},
     "output_type": "execute_result"
    }
   ],
   "source": [
    "sheet_instance.get_note('D81')"
   ]
  },
  {
   "cell_type": "code",
   "execution_count": 11,
   "id": "6dd1a00d-7b9d-446a-9107-333f2a399a91",
   "metadata": {},
   "outputs": [],
   "source": [
    "#Returns a list of all Cell of the current sheet\n",
    "# sheet_instance.get_all_cells()"
   ]
  },
  {
   "cell_type": "code",
   "execution_count": 12,
   "id": "75385b02-aa43-463b-9b1a-257e48e75485",
   "metadata": {},
   "outputs": [],
   "source": [
    "# sheet_instance.get_values()"
   ]
  },
  {
   "cell_type": "code",
   "execution_count": 13,
   "id": "f90a3a69-33ab-419a-bbf4-0ede7e84d225",
   "metadata": {},
   "outputs": [
    {
     "data": {
      "text/plain": [
       "'Cost'"
      ]
     },
     "execution_count": 13,
     "metadata": {},
     "output_type": "execute_result"
    }
   ],
   "source": [
    "sheet_instance.cell(1, 5).value"
   ]
  },
  {
   "cell_type": "code",
   "execution_count": 14,
   "id": "9a8a03ac-0d39-4561-ba76-b80fce8d9679",
   "metadata": {},
   "outputs": [],
   "source": [
    "# sheet_instance.findall(\"ca\")"
   ]
  },
  {
   "cell_type": "code",
   "execution_count": 15,
   "id": "9f206611-7db8-41d6-9731-a627f8532428",
   "metadata": {},
   "outputs": [],
   "source": [
    "# sheet_instance.col_values(4)"
   ]
  },
  {
   "cell_type": "code",
   "execution_count": 16,
   "id": "2fc1ebe0-916b-4802-bcf4-03c1aec5066f",
   "metadata": {},
   "outputs": [],
   "source": [
    "#pega com as colunas, necessario colunas diferentes\n",
    "# records_data = sheet_instance.get_all_records()"
   ]
  },
  {
   "cell_type": "code",
   "execution_count": 17,
   "id": "093eecb9-3132-4093-8c80-edaa6b0a097d",
   "metadata": {},
   "outputs": [],
   "source": [
    "# get all the records of the data\n",
    "# get_values() with no range specified, it will return all the values of the current sheet\n",
    "# get_all_values() this is a legacy method that calls get_values\n",
    "# get_all_cells() that will return a single list of Cell object for every cell in that sheet."
   ]
  },
  {
   "cell_type": "code",
   "execution_count": null,
   "id": "f3825842-db81-417d-ae32-2cf7b5afc058",
   "metadata": {},
   "outputs": [],
   "source": []
  },
  {
   "cell_type": "code",
   "execution_count": 18,
   "id": "97380832-4216-4fd6-8e5f-b639b513d53f",
   "metadata": {},
   "outputs": [],
   "source": [
    "from datetime import date, datetime, timedelta"
   ]
  },
  {
   "cell_type": "code",
   "execution_count": null,
   "id": "43d4301e-5b6b-468b-9e1d-50fc8c30013a",
   "metadata": {},
   "outputs": [],
   "source": []
  },
  {
   "cell_type": "code",
   "execution_count": 20,
   "id": "c27d7791-0acf-40c0-bd59-32a9a9737eef",
   "metadata": {},
   "outputs": [],
   "source": [
    "from datetime import datetime, timedelta\n",
    "futuredate = datetime.now() + timedelta(days=10)"
   ]
  },
  {
   "cell_type": "code",
   "execution_count": 23,
   "id": "48efe6ad-2d9b-45d1-b34c-e7bf6c0453a9",
   "metadata": {},
   "outputs": [],
   "source": [
    "today_minus = f'{date.today()}|{date.today()-timedelta(days=3)}' \n",
    "current_date_1 =  f'{date.today()-timedelta(days=1)}'"
   ]
  },
  {
   "cell_type": "code",
   "execution_count": 24,
   "id": "01c641d0-58e7-419b-824e-26a4a220be18",
   "metadata": {},
   "outputs": [
    {
     "data": {
      "text/plain": [
       "'2022-04-19'"
      ]
     },
     "execution_count": 24,
     "metadata": {},
     "output_type": "execute_result"
    }
   ],
   "source": [
    "current_date_1"
   ]
  },
  {
   "cell_type": "code",
   "execution_count": 25,
   "id": "76daa815-8936-40f5-b2f5-e6af40638569",
   "metadata": {},
   "outputs": [],
   "source": [
    "import re"
   ]
  },
  {
   "cell_type": "code",
   "execution_count": 112,
   "id": "2b5c6d62-4020-4f28-8b1b-47374e1df42c",
   "metadata": {},
   "outputs": [],
   "source": [
    "def validation(current_date_1_param):\n",
    "    from datetime import datetime, timedelta\n",
    "    futuredate = datetime.now() + timedelta(days=10)\n",
    "    today_minus = f'{date.today()}|{date.today()-timedelta(days=3)}'\n",
    "    current_date_1 =  f'{date.today()-timedelta(days=current_date_1_param)}'\n",
    "    pattern = re.compile(r'(%s)'%current_date_1)\n",
    "    cell_list = sheet_instance.findall(pattern)\n",
    "    mask = f'R{cell_list[0].row}C{cell_list[0].col}:R{cell_list[-1].row}C9'\n",
    "    google_ads = sheet_instance.get(mask)\n",
    "    df = pd.DataFrame(google_ads)\n",
    "    dictr = {0: 'date',\n",
    "         3: 'campaign',\n",
    "         4: 'cost',\n",
    "         5: 'impressions'}\n",
    "    df.rename(columns=dictr,inplace=True)"
   ]
  },
  {
   "cell_type": "code",
   "execution_count": 26,
   "id": "78deb469-5d33-45f8-9241-52b6f43a5dd9",
   "metadata": {},
   "outputs": [],
   "source": [
    "pattern = re.compile(r'(%s)'%current_date_1)\n",
    "cell_list = sheet_instance.findall(pattern)"
   ]
  },
  {
   "cell_type": "code",
   "execution_count": 27,
   "id": "87db1a6d-c57e-4f90-b002-011a2bd9dd46",
   "metadata": {},
   "outputs": [],
   "source": [
    "# cell_list"
   ]
  },
  {
   "cell_type": "code",
   "execution_count": 28,
   "id": "1093d8cc-a088-4b65-a383-e06664fd8f43",
   "metadata": {},
   "outputs": [],
   "source": [
    "mask = f'R{cell_list[0].row}C{cell_list[0].col}:R{cell_list[-1].row}C9'"
   ]
  },
  {
   "cell_type": "code",
   "execution_count": 29,
   "id": "025505ab-4879-4b47-8b68-3a66e7e0b6cd",
   "metadata": {},
   "outputs": [],
   "source": [
    "google_ads = sheet_instance.get(mask)"
   ]
  },
  {
   "cell_type": "code",
   "execution_count": 30,
   "id": "bb9d124b-70ab-4b1f-9174-03bed6d9bab8",
   "metadata": {},
   "outputs": [],
   "source": [
    "# google_ads"
   ]
  },
  {
   "cell_type": "code",
   "execution_count": 117,
   "id": "ddd95c7a-41ba-4815-9e5f-0d7f91b54ccf",
   "metadata": {},
   "outputs": [],
   "source": [
    "df = pd.DataFrame(google_ads)\n",
    "# 2065236490"
   ]
  },
  {
   "cell_type": "code",
   "execution_count": 118,
   "id": "6e295db5-a23b-4e45-8d26-6639096d4387",
   "metadata": {},
   "outputs": [],
   "source": [
    "dictr = {0: 'date',\n",
    "         3: 'campaign',\n",
    "         4: 'cost',\n",
    "         5: 'impressions'}\n",
    " \n",
    "# call rename () method\n",
    "df.rename(columns=dictr,\n",
    "          inplace=True)\n",
    " \n",
    "# print Data frame after rename columns"
   ]
  },
  {
   "cell_type": "code",
   "execution_count": 127,
   "id": "a1040108-016b-48be-882e-513737821986",
   "metadata": {},
   "outputs": [
    {
     "data": {
      "text/html": [
       "<div>\n",
       "<style scoped>\n",
       "    .dataframe tbody tr th:only-of-type {\n",
       "        vertical-align: middle;\n",
       "    }\n",
       "\n",
       "    .dataframe tbody tr th {\n",
       "        vertical-align: top;\n",
       "    }\n",
       "\n",
       "    .dataframe thead th {\n",
       "        text-align: right;\n",
       "    }\n",
       "</style>\n",
       "<table border=\"1\" class=\"dataframe\">\n",
       "  <thead>\n",
       "    <tr style=\"text-align: right;\">\n",
       "      <th></th>\n",
       "      <th>date</th>\n",
       "      <th>1</th>\n",
       "      <th>2</th>\n",
       "      <th>campaign</th>\n",
       "      <th>cost</th>\n",
       "      <th>impressions</th>\n",
       "      <th>6</th>\n",
       "      <th>7</th>\n",
       "      <th>8</th>\n",
       "    </tr>\n",
       "  </thead>\n",
       "  <tbody>\n",
       "    <tr>\n",
       "      <th>0</th>\n",
       "      <td>2022-04-19</td>\n",
       "      <td>2065236490</td>\n",
       "      <td>SSG | SEDA | HHP | Brand Shop</td>\n",
       "      <td>ca_cad26-a0004_seda_brandshop_google_local-cam...</td>\n",
       "      <td>597.85</td>\n",
       "      <td>642608</td>\n",
       "      <td>0</td>\n",
       "      <td>4247</td>\n",
       "      <td>80177</td>\n",
       "    </tr>\n",
       "    <tr>\n",
       "      <th>1</th>\n",
       "      <td>2022-04-19</td>\n",
       "      <td>2065236490</td>\n",
       "      <td>SSG | SEDA | HHP | Brand Shop</td>\n",
       "      <td>ca_cad26-a0009_seda_brandshop_google_text_inst...</td>\n",
       "      <td>141.69</td>\n",
       "      <td>1859</td>\n",
       "      <td>4206</td>\n",
       "      <td>404</td>\n",
       "      <td>0</td>\n",
       "    </tr>\n",
       "    <tr>\n",
       "      <th>2</th>\n",
       "      <td>2022-04-19</td>\n",
       "      <td>2065236490</td>\n",
       "      <td>SSG | SEDA | HHP | Brand Shop</td>\n",
       "      <td>ca_cad26-a0013_seda_brandshop_google_text_smar...</td>\n",
       "      <td>500.03</td>\n",
       "      <td>4696</td>\n",
       "      <td>5029</td>\n",
       "      <td>252</td>\n",
       "      <td>0</td>\n",
       "    </tr>\n",
       "    <tr>\n",
       "      <th>3</th>\n",
       "      <td>2022-04-19</td>\n",
       "      <td>2065236490</td>\n",
       "      <td>SSG | SEDA | HHP | Brand Shop</td>\n",
       "      <td>ca_cad26-a0017_seda_brandshop_google_local-cam...</td>\n",
       "      <td>177.33</td>\n",
       "      <td>230889</td>\n",
       "      <td>0</td>\n",
       "      <td>684</td>\n",
       "      <td>10864</td>\n",
       "    </tr>\n",
       "    <tr>\n",
       "      <th>4</th>\n",
       "      <td>2022-04-19</td>\n",
       "      <td>2065236490</td>\n",
       "      <td>SSG | SEDA | HHP | Brand Shop</td>\n",
       "      <td>ca_cad26-a0027_seda_brandshop_google_text_smar...</td>\n",
       "      <td>447.78</td>\n",
       "      <td>1728</td>\n",
       "      <td>1739</td>\n",
       "      <td>165</td>\n",
       "      <td>0</td>\n",
       "    </tr>\n",
       "    <tr>\n",
       "      <th>5</th>\n",
       "      <td>2022-04-19</td>\n",
       "      <td>2065236490</td>\n",
       "      <td>SSG | SEDA | HHP | Brand Shop</td>\n",
       "      <td>ca_cad26-a0027_seda_brandshop_google_text_smar...</td>\n",
       "      <td>193.2</td>\n",
       "      <td>1797</td>\n",
       "      <td>7983</td>\n",
       "      <td>133</td>\n",
       "      <td>0</td>\n",
       "    </tr>\n",
       "    <tr>\n",
       "      <th>6</th>\n",
       "      <td>2022-04-19</td>\n",
       "      <td>2065236490</td>\n",
       "      <td>SSG | SEDA | HHP | Brand Shop</td>\n",
       "      <td>ca_cad26-a0028_seda_brandshop_google_text_smar...</td>\n",
       "      <td>9.17</td>\n",
       "      <td>65</td>\n",
       "      <td>207</td>\n",
       "      <td>8</td>\n",
       "      <td>0</td>\n",
       "    </tr>\n",
       "    <tr>\n",
       "      <th>7</th>\n",
       "      <td>2022-04-19</td>\n",
       "      <td>2065236490</td>\n",
       "      <td>SSG | SEDA | HHP | Brand Shop</td>\n",
       "      <td>ca_cad26-a0029_seda_brandshop_google_local_sma...</td>\n",
       "      <td>293.94</td>\n",
       "      <td>195880</td>\n",
       "      <td>0</td>\n",
       "      <td>1223</td>\n",
       "      <td>36465</td>\n",
       "    </tr>\n",
       "    <tr>\n",
       "      <th>8</th>\n",
       "      <td>2022-04-19</td>\n",
       "      <td>2065236490</td>\n",
       "      <td>SSG | SEDA | HHP | Brand Shop</td>\n",
       "      <td>ca_cad26-a0030_seda_brandshop_google_local_sma...</td>\n",
       "      <td>35.42</td>\n",
       "      <td>48305</td>\n",
       "      <td>0</td>\n",
       "      <td>142</td>\n",
       "      <td>13184</td>\n",
       "    </tr>\n",
       "    <tr>\n",
       "      <th>9</th>\n",
       "      <td>2022-04-19</td>\n",
       "      <td>2065236490</td>\n",
       "      <td>SSG | SEDA | HHP | Brand Shop</td>\n",
       "      <td>ca_cad26-a9010_seda_brandshop_google_local-cam...</td>\n",
       "      <td>219.55</td>\n",
       "      <td>110775</td>\n",
       "      <td>0</td>\n",
       "      <td>1547</td>\n",
       "      <td>4049</td>\n",
       "    </tr>\n",
       "  </tbody>\n",
       "</table>\n",
       "</div>"
      ],
      "text/plain": [
       "         date           1                              2  \\\n",
       "0  2022-04-19  2065236490  SSG | SEDA | HHP | Brand Shop   \n",
       "1  2022-04-19  2065236490  SSG | SEDA | HHP | Brand Shop   \n",
       "2  2022-04-19  2065236490  SSG | SEDA | HHP | Brand Shop   \n",
       "3  2022-04-19  2065236490  SSG | SEDA | HHP | Brand Shop   \n",
       "4  2022-04-19  2065236490  SSG | SEDA | HHP | Brand Shop   \n",
       "5  2022-04-19  2065236490  SSG | SEDA | HHP | Brand Shop   \n",
       "6  2022-04-19  2065236490  SSG | SEDA | HHP | Brand Shop   \n",
       "7  2022-04-19  2065236490  SSG | SEDA | HHP | Brand Shop   \n",
       "8  2022-04-19  2065236490  SSG | SEDA | HHP | Brand Shop   \n",
       "9  2022-04-19  2065236490  SSG | SEDA | HHP | Brand Shop   \n",
       "\n",
       "                                            campaign    cost impressions  \\\n",
       "0  ca_cad26-a0004_seda_brandshop_google_local-cam...  597.85      642608   \n",
       "1  ca_cad26-a0009_seda_brandshop_google_text_inst...  141.69        1859   \n",
       "2  ca_cad26-a0013_seda_brandshop_google_text_smar...  500.03        4696   \n",
       "3  ca_cad26-a0017_seda_brandshop_google_local-cam...  177.33      230889   \n",
       "4  ca_cad26-a0027_seda_brandshop_google_text_smar...  447.78        1728   \n",
       "5  ca_cad26-a0027_seda_brandshop_google_text_smar...   193.2        1797   \n",
       "6  ca_cad26-a0028_seda_brandshop_google_text_smar...    9.17          65   \n",
       "7  ca_cad26-a0029_seda_brandshop_google_local_sma...  293.94      195880   \n",
       "8  ca_cad26-a0030_seda_brandshop_google_local_sma...   35.42       48305   \n",
       "9  ca_cad26-a9010_seda_brandshop_google_local-cam...  219.55      110775   \n",
       "\n",
       "      6     7      8  \n",
       "0     0  4247  80177  \n",
       "1  4206   404      0  \n",
       "2  5029   252      0  \n",
       "3     0   684  10864  \n",
       "4  1739   165      0  \n",
       "5  7983   133      0  \n",
       "6   207     8      0  \n",
       "7     0  1223  36465  \n",
       "8     0   142  13184  \n",
       "9     0  1547   4049  "
      ]
     },
     "execution_count": 127,
     "metadata": {},
     "output_type": "execute_result"
    }
   ],
   "source": [
    "df.where(df['campaign'].str.contains('cad26-')).dropna()"
   ]
  },
  {
   "cell_type": "code",
   "execution_count": 128,
   "id": "f70210bb-ba02-4d83-89ef-765c22e08225",
   "metadata": {},
   "outputs": [
    {
     "data": {
      "text/html": [
       "<div>\n",
       "<style scoped>\n",
       "    .dataframe tbody tr th:only-of-type {\n",
       "        vertical-align: middle;\n",
       "    }\n",
       "\n",
       "    .dataframe tbody tr th {\n",
       "        vertical-align: top;\n",
       "    }\n",
       "\n",
       "    .dataframe thead th {\n",
       "        text-align: right;\n",
       "    }\n",
       "</style>\n",
       "<table border=\"1\" class=\"dataframe\">\n",
       "  <thead>\n",
       "    <tr style=\"text-align: right;\">\n",
       "      <th></th>\n",
       "      <th>date</th>\n",
       "      <th>1</th>\n",
       "      <th>2</th>\n",
       "      <th>campaign</th>\n",
       "      <th>cost</th>\n",
       "      <th>impressions</th>\n",
       "      <th>6</th>\n",
       "      <th>7</th>\n",
       "      <th>8</th>\n",
       "    </tr>\n",
       "  </thead>\n",
       "  <tbody>\n",
       "    <tr>\n",
       "      <th>0</th>\n",
       "      <td>2022-04-19</td>\n",
       "      <td>2065236490</td>\n",
       "      <td>SSG | SEDA | HHP | Brand Shop</td>\n",
       "      <td>ca_cad26-a0004_seda_brandshop_google_local-cam...</td>\n",
       "      <td>597.85</td>\n",
       "      <td>642608</td>\n",
       "      <td>0</td>\n",
       "      <td>4247</td>\n",
       "      <td>80177</td>\n",
       "    </tr>\n",
       "    <tr>\n",
       "      <th>1</th>\n",
       "      <td>2022-04-19</td>\n",
       "      <td>2065236490</td>\n",
       "      <td>SSG | SEDA | HHP | Brand Shop</td>\n",
       "      <td>ca_cad26-a0009_seda_brandshop_google_text_inst...</td>\n",
       "      <td>141.69</td>\n",
       "      <td>1859</td>\n",
       "      <td>4206</td>\n",
       "      <td>404</td>\n",
       "      <td>0</td>\n",
       "    </tr>\n",
       "    <tr>\n",
       "      <th>2</th>\n",
       "      <td>2022-04-19</td>\n",
       "      <td>2065236490</td>\n",
       "      <td>SSG | SEDA | HHP | Brand Shop</td>\n",
       "      <td>ca_cad26-a0013_seda_brandshop_google_text_smar...</td>\n",
       "      <td>500.03</td>\n",
       "      <td>4696</td>\n",
       "      <td>5029</td>\n",
       "      <td>252</td>\n",
       "      <td>0</td>\n",
       "    </tr>\n",
       "    <tr>\n",
       "      <th>3</th>\n",
       "      <td>2022-04-19</td>\n",
       "      <td>2065236490</td>\n",
       "      <td>SSG | SEDA | HHP | Brand Shop</td>\n",
       "      <td>ca_cad26-a0017_seda_brandshop_google_local-cam...</td>\n",
       "      <td>177.33</td>\n",
       "      <td>230889</td>\n",
       "      <td>0</td>\n",
       "      <td>684</td>\n",
       "      <td>10864</td>\n",
       "    </tr>\n",
       "    <tr>\n",
       "      <th>4</th>\n",
       "      <td>2022-04-19</td>\n",
       "      <td>2065236490</td>\n",
       "      <td>SSG | SEDA | HHP | Brand Shop</td>\n",
       "      <td>ca_cad26-a0027_seda_brandshop_google_text_smar...</td>\n",
       "      <td>447.78</td>\n",
       "      <td>1728</td>\n",
       "      <td>1739</td>\n",
       "      <td>165</td>\n",
       "      <td>0</td>\n",
       "    </tr>\n",
       "    <tr>\n",
       "      <th>...</th>\n",
       "      <td>...</td>\n",
       "      <td>...</td>\n",
       "      <td>...</td>\n",
       "      <td>...</td>\n",
       "      <td>...</td>\n",
       "      <td>...</td>\n",
       "      <td>...</td>\n",
       "      <td>...</td>\n",
       "      <td>...</td>\n",
       "    </tr>\n",
       "    <tr>\n",
       "      <th>110</th>\n",
       "      <td>2022-04-19</td>\n",
       "      <td>9981173384</td>\n",
       "      <td>SSG | SEDA | CORPORATE | Care</td>\n",
       "      <td>ca_cad20-a0002_seda_care-plus_google_text_inst...</td>\n",
       "      <td>35</td>\n",
       "      <td>24</td>\n",
       "      <td>0</td>\n",
       "      <td>13</td>\n",
       "      <td>0</td>\n",
       "    </tr>\n",
       "    <tr>\n",
       "      <th>111</th>\n",
       "      <td>2022-04-19</td>\n",
       "      <td>9981173384</td>\n",
       "      <td>SSG | SEDA | CORPORATE | Care</td>\n",
       "      <td>ca_cad20-a1000_seda_care-plus_google_text_smar...</td>\n",
       "      <td>1228.73</td>\n",
       "      <td>4627</td>\n",
       "      <td>5265</td>\n",
       "      <td>500</td>\n",
       "      <td>0</td>\n",
       "    </tr>\n",
       "    <tr>\n",
       "      <th>112</th>\n",
       "      <td>2022-04-19</td>\n",
       "      <td>9981173384</td>\n",
       "      <td>SSG | SEDA | CORPORATE | Care</td>\n",
       "      <td>ca_cad20-a1010_seda_care-plus_google_text_smar...</td>\n",
       "      <td>1641.13</td>\n",
       "      <td>391</td>\n",
       "      <td>396</td>\n",
       "      <td>70</td>\n",
       "      <td>0</td>\n",
       "    </tr>\n",
       "    <tr>\n",
       "      <th>113</th>\n",
       "      <td>2022-04-19</td>\n",
       "      <td>9981173384</td>\n",
       "      <td>SSG | SEDA | CORPORATE | Care</td>\n",
       "      <td>ca_cad20-a3001_seda_care-plus_google_text_wata...</td>\n",
       "      <td>0</td>\n",
       "      <td>36</td>\n",
       "      <td>36</td>\n",
       "      <td>0</td>\n",
       "      <td>0</td>\n",
       "    </tr>\n",
       "    <tr>\n",
       "      <th>114</th>\n",
       "      <td>2022-04-19</td>\n",
       "      <td>9981173384</td>\n",
       "      <td>SSG | SEDA | CORPORATE | Care</td>\n",
       "      <td>ca_cad20-a8000_seda_care-plus_gdn_discovery_sm...</td>\n",
       "      <td>1968.11</td>\n",
       "      <td>367757</td>\n",
       "      <td>0</td>\n",
       "      <td>4912</td>\n",
       "      <td>0</td>\n",
       "    </tr>\n",
       "  </tbody>\n",
       "</table>\n",
       "<p>115 rows × 9 columns</p>\n",
       "</div>"
      ],
      "text/plain": [
       "           date           1                              2  \\\n",
       "0    2022-04-19  2065236490  SSG | SEDA | HHP | Brand Shop   \n",
       "1    2022-04-19  2065236490  SSG | SEDA | HHP | Brand Shop   \n",
       "2    2022-04-19  2065236490  SSG | SEDA | HHP | Brand Shop   \n",
       "3    2022-04-19  2065236490  SSG | SEDA | HHP | Brand Shop   \n",
       "4    2022-04-19  2065236490  SSG | SEDA | HHP | Brand Shop   \n",
       "..          ...         ...                            ...   \n",
       "110  2022-04-19  9981173384  SSG | SEDA | CORPORATE | Care   \n",
       "111  2022-04-19  9981173384  SSG | SEDA | CORPORATE | Care   \n",
       "112  2022-04-19  9981173384  SSG | SEDA | CORPORATE | Care   \n",
       "113  2022-04-19  9981173384  SSG | SEDA | CORPORATE | Care   \n",
       "114  2022-04-19  9981173384  SSG | SEDA | CORPORATE | Care   \n",
       "\n",
       "                                              campaign     cost impressions  \\\n",
       "0    ca_cad26-a0004_seda_brandshop_google_local-cam...   597.85      642608   \n",
       "1    ca_cad26-a0009_seda_brandshop_google_text_inst...   141.69        1859   \n",
       "2    ca_cad26-a0013_seda_brandshop_google_text_smar...   500.03        4696   \n",
       "3    ca_cad26-a0017_seda_brandshop_google_local-cam...   177.33      230889   \n",
       "4    ca_cad26-a0027_seda_brandshop_google_text_smar...   447.78        1728   \n",
       "..                                                 ...      ...         ...   \n",
       "110  ca_cad20-a0002_seda_care-plus_google_text_inst...       35          24   \n",
       "111  ca_cad20-a1000_seda_care-plus_google_text_smar...  1228.73        4627   \n",
       "112  ca_cad20-a1010_seda_care-plus_google_text_smar...  1641.13         391   \n",
       "113  ca_cad20-a3001_seda_care-plus_google_text_wata...        0          36   \n",
       "114  ca_cad20-a8000_seda_care-plus_gdn_discovery_sm...  1968.11      367757   \n",
       "\n",
       "        6     7      8  \n",
       "0       0  4247  80177  \n",
       "1    4206   404      0  \n",
       "2    5029   252      0  \n",
       "3       0   684  10864  \n",
       "4    1739   165      0  \n",
       "..    ...   ...    ...  \n",
       "110     0    13      0  \n",
       "111  5265   500      0  \n",
       "112   396    70      0  \n",
       "113    36     0      0  \n",
       "114     0  4912      0  \n",
       "\n",
       "[115 rows x 9 columns]"
      ]
     },
     "execution_count": 128,
     "metadata": {},
     "output_type": "execute_result"
    }
   ],
   "source": [
    "df"
   ]
  },
  {
   "cell_type": "code",
   "execution_count": 129,
   "id": "bdc078c9-882c-4782-b64a-4317afc4a468",
   "metadata": {},
   "outputs": [
    {
     "ename": "TypeError",
     "evalue": "first argument must be an iterable of pandas objects, you passed an object of type \"DataFrame\"",
     "output_type": "error",
     "traceback": [
      "\u001b[0;31m---------------------------------------------------------------------------\u001b[0m",
      "\u001b[0;31mTypeError\u001b[0m                                 Traceback (most recent call last)",
      "Input \u001b[0;32mIn [129]\u001b[0m, in \u001b[0;36m<cell line: 3>\u001b[0;34m()\u001b[0m\n\u001b[1;32m      3\u001b[0m \u001b[38;5;28;01mfor\u001b[39;00m i \u001b[38;5;129;01min\u001b[39;00m filters:\n\u001b[1;32m      4\u001b[0m     result \u001b[38;5;241m=\u001b[39m (df\u001b[38;5;241m.\u001b[39mwhere(df[\u001b[38;5;124m'\u001b[39m\u001b[38;5;124mcampaign\u001b[39m\u001b[38;5;124m'\u001b[39m]\u001b[38;5;241m.\u001b[39mstr\u001b[38;5;241m.\u001b[39mcontains(i))\u001b[38;5;241m.\u001b[39mdropna())\n\u001b[0;32m----> 5\u001b[0m     result \u001b[38;5;241m=\u001b[39m \u001b[43mpd\u001b[49m\u001b[38;5;241;43m.\u001b[39;49m\u001b[43mconcat\u001b[49m\u001b[43m(\u001b[49m\u001b[43mresult\u001b[49m\u001b[43m)\u001b[49m\n",
      "File \u001b[0;32m/opt/conda/lib/python3.9/site-packages/pandas/util/_decorators.py:311\u001b[0m, in \u001b[0;36mdeprecate_nonkeyword_arguments.<locals>.decorate.<locals>.wrapper\u001b[0;34m(*args, **kwargs)\u001b[0m\n\u001b[1;32m    305\u001b[0m \u001b[38;5;28;01mif\u001b[39;00m \u001b[38;5;28mlen\u001b[39m(args) \u001b[38;5;241m>\u001b[39m num_allow_args:\n\u001b[1;32m    306\u001b[0m     warnings\u001b[38;5;241m.\u001b[39mwarn(\n\u001b[1;32m    307\u001b[0m         msg\u001b[38;5;241m.\u001b[39mformat(arguments\u001b[38;5;241m=\u001b[39marguments),\n\u001b[1;32m    308\u001b[0m         \u001b[38;5;167;01mFutureWarning\u001b[39;00m,\n\u001b[1;32m    309\u001b[0m         stacklevel\u001b[38;5;241m=\u001b[39mstacklevel,\n\u001b[1;32m    310\u001b[0m     )\n\u001b[0;32m--> 311\u001b[0m \u001b[38;5;28;01mreturn\u001b[39;00m \u001b[43mfunc\u001b[49m\u001b[43m(\u001b[49m\u001b[38;5;241;43m*\u001b[39;49m\u001b[43margs\u001b[49m\u001b[43m,\u001b[49m\u001b[43m \u001b[49m\u001b[38;5;241;43m*\u001b[39;49m\u001b[38;5;241;43m*\u001b[39;49m\u001b[43mkwargs\u001b[49m\u001b[43m)\u001b[49m\n",
      "File \u001b[0;32m/opt/conda/lib/python3.9/site-packages/pandas/core/reshape/concat.py:347\u001b[0m, in \u001b[0;36mconcat\u001b[0;34m(objs, axis, join, ignore_index, keys, levels, names, verify_integrity, sort, copy)\u001b[0m\n\u001b[1;32m    143\u001b[0m \u001b[38;5;129m@deprecate_nonkeyword_arguments\u001b[39m(version\u001b[38;5;241m=\u001b[39m\u001b[38;5;28;01mNone\u001b[39;00m, allowed_args\u001b[38;5;241m=\u001b[39m[\u001b[38;5;124m\"\u001b[39m\u001b[38;5;124mobjs\u001b[39m\u001b[38;5;124m\"\u001b[39m])\n\u001b[1;32m    144\u001b[0m \u001b[38;5;28;01mdef\u001b[39;00m \u001b[38;5;21mconcat\u001b[39m(\n\u001b[1;32m    145\u001b[0m     objs: Iterable[NDFrame] \u001b[38;5;241m|\u001b[39m Mapping[Hashable, NDFrame],\n\u001b[0;32m   (...)\u001b[0m\n\u001b[1;32m    154\u001b[0m     copy: \u001b[38;5;28mbool\u001b[39m \u001b[38;5;241m=\u001b[39m \u001b[38;5;28;01mTrue\u001b[39;00m,\n\u001b[1;32m    155\u001b[0m ) \u001b[38;5;241m-\u001b[39m\u001b[38;5;241m>\u001b[39m DataFrame \u001b[38;5;241m|\u001b[39m Series:\n\u001b[1;32m    156\u001b[0m     \u001b[38;5;124;03m\"\"\"\u001b[39;00m\n\u001b[1;32m    157\u001b[0m \u001b[38;5;124;03m    Concatenate pandas objects along a particular axis with optional set logic\u001b[39;00m\n\u001b[1;32m    158\u001b[0m \u001b[38;5;124;03m    along the other axes.\u001b[39;00m\n\u001b[0;32m   (...)\u001b[0m\n\u001b[1;32m    345\u001b[0m \u001b[38;5;124;03m    ValueError: Indexes have overlapping values: ['a']\u001b[39;00m\n\u001b[1;32m    346\u001b[0m \u001b[38;5;124;03m    \"\"\"\u001b[39;00m\n\u001b[0;32m--> 347\u001b[0m     op \u001b[38;5;241m=\u001b[39m \u001b[43m_Concatenator\u001b[49m\u001b[43m(\u001b[49m\n\u001b[1;32m    348\u001b[0m \u001b[43m        \u001b[49m\u001b[43mobjs\u001b[49m\u001b[43m,\u001b[49m\n\u001b[1;32m    349\u001b[0m \u001b[43m        \u001b[49m\u001b[43maxis\u001b[49m\u001b[38;5;241;43m=\u001b[39;49m\u001b[43maxis\u001b[49m\u001b[43m,\u001b[49m\n\u001b[1;32m    350\u001b[0m \u001b[43m        \u001b[49m\u001b[43mignore_index\u001b[49m\u001b[38;5;241;43m=\u001b[39;49m\u001b[43mignore_index\u001b[49m\u001b[43m,\u001b[49m\n\u001b[1;32m    351\u001b[0m \u001b[43m        \u001b[49m\u001b[43mjoin\u001b[49m\u001b[38;5;241;43m=\u001b[39;49m\u001b[43mjoin\u001b[49m\u001b[43m,\u001b[49m\n\u001b[1;32m    352\u001b[0m \u001b[43m        \u001b[49m\u001b[43mkeys\u001b[49m\u001b[38;5;241;43m=\u001b[39;49m\u001b[43mkeys\u001b[49m\u001b[43m,\u001b[49m\n\u001b[1;32m    353\u001b[0m \u001b[43m        \u001b[49m\u001b[43mlevels\u001b[49m\u001b[38;5;241;43m=\u001b[39;49m\u001b[43mlevels\u001b[49m\u001b[43m,\u001b[49m\n\u001b[1;32m    354\u001b[0m \u001b[43m        \u001b[49m\u001b[43mnames\u001b[49m\u001b[38;5;241;43m=\u001b[39;49m\u001b[43mnames\u001b[49m\u001b[43m,\u001b[49m\n\u001b[1;32m    355\u001b[0m \u001b[43m        \u001b[49m\u001b[43mverify_integrity\u001b[49m\u001b[38;5;241;43m=\u001b[39;49m\u001b[43mverify_integrity\u001b[49m\u001b[43m,\u001b[49m\n\u001b[1;32m    356\u001b[0m \u001b[43m        \u001b[49m\u001b[43mcopy\u001b[49m\u001b[38;5;241;43m=\u001b[39;49m\u001b[43mcopy\u001b[49m\u001b[43m,\u001b[49m\n\u001b[1;32m    357\u001b[0m \u001b[43m        \u001b[49m\u001b[43msort\u001b[49m\u001b[38;5;241;43m=\u001b[39;49m\u001b[43msort\u001b[49m\u001b[43m,\u001b[49m\n\u001b[1;32m    358\u001b[0m \u001b[43m    \u001b[49m\u001b[43m)\u001b[49m\n\u001b[1;32m    360\u001b[0m     \u001b[38;5;28;01mreturn\u001b[39;00m op\u001b[38;5;241m.\u001b[39mget_result()\n",
      "File \u001b[0;32m/opt/conda/lib/python3.9/site-packages/pandas/core/reshape/concat.py:382\u001b[0m, in \u001b[0;36m_Concatenator.__init__\u001b[0;34m(self, objs, axis, join, keys, levels, names, ignore_index, verify_integrity, copy, sort)\u001b[0m\n\u001b[1;32m    368\u001b[0m \u001b[38;5;28;01mdef\u001b[39;00m \u001b[38;5;21m__init__\u001b[39m(\n\u001b[1;32m    369\u001b[0m     \u001b[38;5;28mself\u001b[39m,\n\u001b[1;32m    370\u001b[0m     objs: Iterable[NDFrame] \u001b[38;5;241m|\u001b[39m Mapping[Hashable, NDFrame],\n\u001b[0;32m   (...)\u001b[0m\n\u001b[1;32m    379\u001b[0m     sort\u001b[38;5;241m=\u001b[39m\u001b[38;5;28;01mFalse\u001b[39;00m,\n\u001b[1;32m    380\u001b[0m ):\n\u001b[1;32m    381\u001b[0m     \u001b[38;5;28;01mif\u001b[39;00m \u001b[38;5;28misinstance\u001b[39m(objs, (ABCSeries, ABCDataFrame, \u001b[38;5;28mstr\u001b[39m)):\n\u001b[0;32m--> 382\u001b[0m         \u001b[38;5;28;01mraise\u001b[39;00m \u001b[38;5;167;01mTypeError\u001b[39;00m(\n\u001b[1;32m    383\u001b[0m             \u001b[38;5;124m\"\u001b[39m\u001b[38;5;124mfirst argument must be an iterable of pandas \u001b[39m\u001b[38;5;124m\"\u001b[39m\n\u001b[1;32m    384\u001b[0m             \u001b[38;5;124mf\u001b[39m\u001b[38;5;124m'\u001b[39m\u001b[38;5;124mobjects, you passed an object of type \u001b[39m\u001b[38;5;124m\"\u001b[39m\u001b[38;5;132;01m{\u001b[39;00m\u001b[38;5;28mtype\u001b[39m(objs)\u001b[38;5;241m.\u001b[39m\u001b[38;5;18m__name__\u001b[39m\u001b[38;5;132;01m}\u001b[39;00m\u001b[38;5;124m\"\u001b[39m\u001b[38;5;124m'\u001b[39m\n\u001b[1;32m    385\u001b[0m         )\n\u001b[1;32m    387\u001b[0m     \u001b[38;5;28;01mif\u001b[39;00m join \u001b[38;5;241m==\u001b[39m \u001b[38;5;124m\"\u001b[39m\u001b[38;5;124mouter\u001b[39m\u001b[38;5;124m\"\u001b[39m:\n\u001b[1;32m    388\u001b[0m         \u001b[38;5;28mself\u001b[39m\u001b[38;5;241m.\u001b[39mintersect \u001b[38;5;241m=\u001b[39m \u001b[38;5;28;01mFalse\u001b[39;00m\n",
      "\u001b[0;31mTypeError\u001b[0m: first argument must be an iterable of pandas objects, you passed an object of type \"DataFrame\""
     ]
    }
   ],
   "source": [
    "filters = ['cad1-','cad3-','cad12-','cad26-','cad42-']\n",
    "result = pd.DataFrame()\n",
    "for i in filters:\n",
    "    result = (df.where(df['campaign'].str.contains(i)).dropna())\n",
    "    result = pd.concat(result)"
   ]
  },
  {
   "cell_type": "code",
   "execution_count": 120,
   "id": "3ae2ff27-f8e7-4576-baec-7686ede1ed41",
   "metadata": {},
   "outputs": [
    {
     "data": {
      "text/html": [
       "<div>\n",
       "<style scoped>\n",
       "    .dataframe tbody tr th:only-of-type {\n",
       "        vertical-align: middle;\n",
       "    }\n",
       "\n",
       "    .dataframe tbody tr th {\n",
       "        vertical-align: top;\n",
       "    }\n",
       "\n",
       "    .dataframe thead th {\n",
       "        text-align: right;\n",
       "    }\n",
       "</style>\n",
       "<table border=\"1\" class=\"dataframe\">\n",
       "  <thead>\n",
       "    <tr style=\"text-align: right;\">\n",
       "      <th></th>\n",
       "    </tr>\n",
       "  </thead>\n",
       "  <tbody>\n",
       "  </tbody>\n",
       "</table>\n",
       "</div>"
      ],
      "text/plain": [
       "Empty DataFrame\n",
       "Columns: []\n",
       "Index: []"
      ]
     },
     "execution_count": 120,
     "metadata": {},
     "output_type": "execute_result"
    }
   ],
   "source": [
    "result"
   ]
  },
  {
   "cell_type": "code",
   "execution_count": 98,
   "id": "978cf151-0e49-428d-ba84-e35ef373894a",
   "metadata": {},
   "outputs": [],
   "source": [
    "filter1 = df['campaign'].str.contains('cad1-')\n",
    "filter2 = df['campaign'].str.contains('cad3-')\n",
    "filter3 = df['campaign'].str.contains(\"cad12-\")\n",
    "filter4 = df['campaign'].str.contains(\"cad26-\")\n",
    "filter5 = df['campaign'].str.contains(\"cad42-\")"
   ]
  },
  {
   "cell_type": "code",
   "execution_count": 99,
   "id": "a40598bd-2832-4a99-a13b-c38a875a8435",
   "metadata": {},
   "outputs": [],
   "source": [
    "# df.groupby(0)[3].apply(lambda ser: ser.str.contains(\"cad26-\"))"
   ]
  },
  {
   "cell_type": "code",
   "execution_count": 109,
   "id": "885ed1f7-0bbb-40f6-ae96-d74f93b0bea0",
   "metadata": {},
   "outputs": [],
   "source": [
    "result = df.where(filter1)"
   ]
  },
  {
   "cell_type": "code",
   "execution_count": 110,
   "id": "41b42c81-d225-421f-b748-132a3a6369d3",
   "metadata": {},
   "outputs": [
    {
     "data": {
      "text/html": [
       "<div>\n",
       "<style scoped>\n",
       "    .dataframe tbody tr th:only-of-type {\n",
       "        vertical-align: middle;\n",
       "    }\n",
       "\n",
       "    .dataframe tbody tr th {\n",
       "        vertical-align: top;\n",
       "    }\n",
       "\n",
       "    .dataframe thead th {\n",
       "        text-align: right;\n",
       "    }\n",
       "</style>\n",
       "<table border=\"1\" class=\"dataframe\">\n",
       "  <thead>\n",
       "    <tr style=\"text-align: right;\">\n",
       "      <th></th>\n",
       "      <th>date</th>\n",
       "      <th>1</th>\n",
       "      <th>2</th>\n",
       "      <th>campaign</th>\n",
       "      <th>cost</th>\n",
       "      <th>impressions</th>\n",
       "      <th>6</th>\n",
       "      <th>7</th>\n",
       "      <th>8</th>\n",
       "    </tr>\n",
       "  </thead>\n",
       "  <tbody>\n",
       "  </tbody>\n",
       "</table>\n",
       "</div>"
      ],
      "text/plain": [
       "Empty DataFrame\n",
       "Columns: [date, 1, 2, campaign, cost, impressions, 6, 7, 8]\n",
       "Index: []"
      ]
     },
     "execution_count": 110,
     "metadata": {},
     "output_type": "execute_result"
    }
   ],
   "source": [
    "result.dropna()"
   ]
  },
  {
   "cell_type": "code",
   "execution_count": 108,
   "id": "66e8345d-752a-4282-99c4-179eff795436",
   "metadata": {},
   "outputs": [
    {
     "data": {
      "text/html": [
       "<div>\n",
       "<style scoped>\n",
       "    .dataframe tbody tr th:only-of-type {\n",
       "        vertical-align: middle;\n",
       "    }\n",
       "\n",
       "    .dataframe tbody tr th {\n",
       "        vertical-align: top;\n",
       "    }\n",
       "\n",
       "    .dataframe thead th {\n",
       "        text-align: right;\n",
       "    }\n",
       "</style>\n",
       "<table border=\"1\" class=\"dataframe\">\n",
       "  <thead>\n",
       "    <tr style=\"text-align: right;\">\n",
       "      <th></th>\n",
       "      <th>date</th>\n",
       "      <th>cost</th>\n",
       "      <th>impressions</th>\n",
       "    </tr>\n",
       "  </thead>\n",
       "  <tbody>\n",
       "    <tr>\n",
       "      <th>0</th>\n",
       "      <td>2022-04-19</td>\n",
       "      <td>66061.82</td>\n",
       "      <td>2910958.0</td>\n",
       "    </tr>\n",
       "  </tbody>\n",
       "</table>\n",
       "</div>"
      ],
      "text/plain": [
       "         date      cost  impressions\n",
       "0  2022-04-19  66061.82    2910958.0"
      ]
     },
     "execution_count": 108,
     "metadata": {},
     "output_type": "execute_result"
    }
   ],
   "source": [
    "result.groupby('date')[['cost','impressions']].apply(lambda x : x.astype(float).sum()).reset_index()"
   ]
  },
  {
   "cell_type": "code",
   "execution_count": 206,
   "id": "e91c30d7-27b1-48a1-a3bc-7c2b328fc643",
   "metadata": {},
   "outputs": [],
   "source": [
    "# df.dropna().groupby(0)[[4,5]].sum(4).reset_index()"
   ]
  },
  {
   "cell_type": "code",
   "execution_count": 184,
   "id": "240ae87e-86e3-424c-a299-e07a2b5277ec",
   "metadata": {},
   "outputs": [
    {
     "data": {
      "text/html": [
       "<div>\n",
       "<style scoped>\n",
       "    .dataframe tbody tr th:only-of-type {\n",
       "        vertical-align: middle;\n",
       "    }\n",
       "\n",
       "    .dataframe tbody tr th {\n",
       "        vertical-align: top;\n",
       "    }\n",
       "\n",
       "    .dataframe thead th {\n",
       "        text-align: right;\n",
       "    }\n",
       "</style>\n",
       "<table border=\"1\" class=\"dataframe\">\n",
       "  <thead>\n",
       "    <tr style=\"text-align: right;\">\n",
       "      <th></th>\n",
       "      <th>0</th>\n",
       "      <th>4</th>\n",
       "      <th>5</th>\n",
       "    </tr>\n",
       "  </thead>\n",
       "  <tbody>\n",
       "    <tr>\n",
       "      <th>0</th>\n",
       "      <td>2022-04-18</td>\n",
       "      <td>47206.76</td>\n",
       "      <td>2561709.0</td>\n",
       "    </tr>\n",
       "  </tbody>\n",
       "</table>\n",
       "</div>"
      ],
      "text/plain": [
       "            0         4          5\n",
       "0  2022-04-18  47206.76  2561709.0"
      ]
     },
     "execution_count": 184,
     "metadata": {},
     "output_type": "execute_result"
    }
   ],
   "source": []
  },
  {
   "cell_type": "code",
   "execution_count": 139,
   "id": "272025b3-36f3-4779-85c4-34cc901a257d",
   "metadata": {},
   "outputs": [],
   "source": [
    "df['midia'] = 'google'"
   ]
  },
  {
   "cell_type": "code",
   "execution_count": 140,
   "id": "a31ca558-45c4-43d5-a269-acdc633afd00",
   "metadata": {},
   "outputs": [
    {
     "data": {
      "text/html": [
       "<div>\n",
       "<style scoped>\n",
       "    .dataframe tbody tr th:only-of-type {\n",
       "        vertical-align: middle;\n",
       "    }\n",
       "\n",
       "    .dataframe tbody tr th {\n",
       "        vertical-align: top;\n",
       "    }\n",
       "\n",
       "    .dataframe thead th {\n",
       "        text-align: right;\n",
       "    }\n",
       "</style>\n",
       "<table border=\"1\" class=\"dataframe\">\n",
       "  <thead>\n",
       "    <tr style=\"text-align: right;\">\n",
       "      <th></th>\n",
       "      <th>0</th>\n",
       "      <th>1</th>\n",
       "      <th>2</th>\n",
       "      <th>3</th>\n",
       "      <th>4</th>\n",
       "      <th>5</th>\n",
       "      <th>6</th>\n",
       "      <th>7</th>\n",
       "      <th>8</th>\n",
       "      <th>midia</th>\n",
       "    </tr>\n",
       "  </thead>\n",
       "  <tbody>\n",
       "    <tr>\n",
       "      <th>47</th>\n",
       "      <td>2022-04-16</td>\n",
       "      <td>4355872554</td>\n",
       "      <td>SSG | HQ | HHP | ESES | Loja Online</td>\n",
       "      <td>ca_cad3-a0009_hq_ecommerce_google_text_institu...</td>\n",
       "      <td>1018.10</td>\n",
       "      <td>19103</td>\n",
       "      <td>20337</td>\n",
       "      <td>3721</td>\n",
       "      <td>0</td>\n",
       "      <td>google</td>\n",
       "    </tr>\n",
       "    <tr>\n",
       "      <th>48</th>\n",
       "      <td>2022-04-16</td>\n",
       "      <td>4355872554</td>\n",
       "      <td>SSG | HQ | HHP | ESES | Loja Online</td>\n",
       "      <td>ca_cad3-a0010_hq_ecommerce_google_text_institu...</td>\n",
       "      <td>2239.63</td>\n",
       "      <td>9200</td>\n",
       "      <td>9650</td>\n",
       "      <td>2091</td>\n",
       "      <td>0</td>\n",
       "      <td>google</td>\n",
       "    </tr>\n",
       "    <tr>\n",
       "      <th>49</th>\n",
       "      <td>2022-04-16</td>\n",
       "      <td>4355872554</td>\n",
       "      <td>SSG | HQ | HHP | ESES | Loja Online</td>\n",
       "      <td>ca_cad3-a4075_hq_ecommerce_google_text_smartph...</td>\n",
       "      <td>2509.24</td>\n",
       "      <td>18648</td>\n",
       "      <td>38821</td>\n",
       "      <td>971</td>\n",
       "      <td>0</td>\n",
       "      <td>google</td>\n",
       "    </tr>\n",
       "    <tr>\n",
       "      <th>50</th>\n",
       "      <td>2022-04-16</td>\n",
       "      <td>4355872554</td>\n",
       "      <td>SSG | HQ | HHP | ESES | Loja Online</td>\n",
       "      <td>ca_cad3-a4081_hq_ecommerce_google_text_smartph...</td>\n",
       "      <td>123.95</td>\n",
       "      <td>986</td>\n",
       "      <td>1055</td>\n",
       "      <td>66</td>\n",
       "      <td>0</td>\n",
       "      <td>google</td>\n",
       "    </tr>\n",
       "    <tr>\n",
       "      <th>51</th>\n",
       "      <td>2022-04-16</td>\n",
       "      <td>4355872554</td>\n",
       "      <td>SSG | HQ | HHP | ESES | Loja Online</td>\n",
       "      <td>ca_cad3-a4082_hq_ecommerce_google_text_smartph...</td>\n",
       "      <td>598.90</td>\n",
       "      <td>5315</td>\n",
       "      <td>5837</td>\n",
       "      <td>275</td>\n",
       "      <td>0</td>\n",
       "      <td>google</td>\n",
       "    </tr>\n",
       "    <tr>\n",
       "      <th>...</th>\n",
       "      <td>...</td>\n",
       "      <td>...</td>\n",
       "      <td>...</td>\n",
       "      <td>...</td>\n",
       "      <td>...</td>\n",
       "      <td>...</td>\n",
       "      <td>...</td>\n",
       "      <td>...</td>\n",
       "      <td>...</td>\n",
       "      <td>...</td>\n",
       "    </tr>\n",
       "    <tr>\n",
       "      <th>260</th>\n",
       "      <td>2022-04-18</td>\n",
       "      <td>4355872554</td>\n",
       "      <td>SSG | HQ | HHP | ESES | Loja Online</td>\n",
       "      <td>ca_cad3-a5512_hq_ecommerce_google_pla_accessor...</td>\n",
       "      <td>1852.05</td>\n",
       "      <td>128118</td>\n",
       "      <td>0</td>\n",
       "      <td>2465</td>\n",
       "      <td>0</td>\n",
       "      <td>google</td>\n",
       "    </tr>\n",
       "    <tr>\n",
       "      <th>261</th>\n",
       "      <td>2022-04-18</td>\n",
       "      <td>4355872554</td>\n",
       "      <td>SSG | HQ | HHP | ESES | Loja Online</td>\n",
       "      <td>ca_cad3-a5934_hq_ecommerce_google_pla_wearable...</td>\n",
       "      <td>5287.66</td>\n",
       "      <td>234912</td>\n",
       "      <td>0</td>\n",
       "      <td>2180</td>\n",
       "      <td>0</td>\n",
       "      <td>google</td>\n",
       "    </tr>\n",
       "    <tr>\n",
       "      <th>262</th>\n",
       "      <td>2022-04-18</td>\n",
       "      <td>4355872554</td>\n",
       "      <td>SSG | HQ | HHP | ESES | Loja Online</td>\n",
       "      <td>ca_cad3-a5940_hq_ecommerce_google_pla_tablets_...</td>\n",
       "      <td>5777.19</td>\n",
       "      <td>344951</td>\n",
       "      <td>0</td>\n",
       "      <td>4081</td>\n",
       "      <td>0</td>\n",
       "      <td>google</td>\n",
       "    </tr>\n",
       "    <tr>\n",
       "      <th>263</th>\n",
       "      <td>2022-04-18</td>\n",
       "      <td>4355872554</td>\n",
       "      <td>SSG | HQ | HHP | ESES | Loja Online</td>\n",
       "      <td>ca_cad3-a5942_hq_ecommerce_google_pla_hearable...</td>\n",
       "      <td>817.00</td>\n",
       "      <td>78111</td>\n",
       "      <td>0</td>\n",
       "      <td>740</td>\n",
       "      <td>0</td>\n",
       "      <td>google</td>\n",
       "    </tr>\n",
       "    <tr>\n",
       "      <th>264</th>\n",
       "      <td>2022-04-18</td>\n",
       "      <td>4355872554</td>\n",
       "      <td>SSG | HQ | HHP | ESES | Loja Online</td>\n",
       "      <td>ca_cad3-a5946_hq_ecommerce_google_pla_smartpho...</td>\n",
       "      <td>14681.43</td>\n",
       "      <td>1318764</td>\n",
       "      <td>0</td>\n",
       "      <td>16098</td>\n",
       "      <td>0</td>\n",
       "      <td>google</td>\n",
       "    </tr>\n",
       "  </tbody>\n",
       "</table>\n",
       "<p>72 rows × 10 columns</p>\n",
       "</div>"
      ],
      "text/plain": [
       "              0           1                                    2  \\\n",
       "47   2022-04-16  4355872554  SSG | HQ | HHP | ESES | Loja Online   \n",
       "48   2022-04-16  4355872554  SSG | HQ | HHP | ESES | Loja Online   \n",
       "49   2022-04-16  4355872554  SSG | HQ | HHP | ESES | Loja Online   \n",
       "50   2022-04-16  4355872554  SSG | HQ | HHP | ESES | Loja Online   \n",
       "51   2022-04-16  4355872554  SSG | HQ | HHP | ESES | Loja Online   \n",
       "..          ...         ...                                  ...   \n",
       "260  2022-04-18  4355872554  SSG | HQ | HHP | ESES | Loja Online   \n",
       "261  2022-04-18  4355872554  SSG | HQ | HHP | ESES | Loja Online   \n",
       "262  2022-04-18  4355872554  SSG | HQ | HHP | ESES | Loja Online   \n",
       "263  2022-04-18  4355872554  SSG | HQ | HHP | ESES | Loja Online   \n",
       "264  2022-04-18  4355872554  SSG | HQ | HHP | ESES | Loja Online   \n",
       "\n",
       "                                                     3         4        5  \\\n",
       "47   ca_cad3-a0009_hq_ecommerce_google_text_institu...   1018.10    19103   \n",
       "48   ca_cad3-a0010_hq_ecommerce_google_text_institu...   2239.63     9200   \n",
       "49   ca_cad3-a4075_hq_ecommerce_google_text_smartph...   2509.24    18648   \n",
       "50   ca_cad3-a4081_hq_ecommerce_google_text_smartph...    123.95      986   \n",
       "51   ca_cad3-a4082_hq_ecommerce_google_text_smartph...    598.90     5315   \n",
       "..                                                 ...       ...      ...   \n",
       "260  ca_cad3-a5512_hq_ecommerce_google_pla_accessor...   1852.05   128118   \n",
       "261  ca_cad3-a5934_hq_ecommerce_google_pla_wearable...   5287.66   234912   \n",
       "262  ca_cad3-a5940_hq_ecommerce_google_pla_tablets_...   5777.19   344951   \n",
       "263  ca_cad3-a5942_hq_ecommerce_google_pla_hearable...    817.00    78111   \n",
       "264  ca_cad3-a5946_hq_ecommerce_google_pla_smartpho...  14681.43  1318764   \n",
       "\n",
       "         6      7  8   midia  \n",
       "47   20337   3721  0  google  \n",
       "48    9650   2091  0  google  \n",
       "49   38821    971  0  google  \n",
       "50    1055     66  0  google  \n",
       "51    5837    275  0  google  \n",
       "..     ...    ... ..     ...  \n",
       "260      0   2465  0  google  \n",
       "261      0   2180  0  google  \n",
       "262      0   4081  0  google  \n",
       "263      0    740  0  google  \n",
       "264      0  16098  0  google  \n",
       "\n",
       "[72 rows x 10 columns]"
      ]
     },
     "execution_count": 140,
     "metadata": {},
     "output_type": "execute_result"
    }
   ],
   "source": [
    "df.dropna()"
   ]
  },
  {
   "cell_type": "code",
   "execution_count": 678,
   "id": "0d86e225-d108-4339-9f92-5209b391580c",
   "metadata": {},
   "outputs": [],
   "source": [
    "valid = pd.DataFrame(columns=['midia', 'cost','imp'])"
   ]
  },
  {
   "cell_type": "code",
   "execution_count": 679,
   "id": "75502260-a8cb-4465-b538-24323470de04",
   "metadata": {},
   "outputs": [],
   "source": [
    "filters = ['cad1-','cad3-','cad12-','cad26-','cad42-']"
   ]
  },
  {
   "cell_type": "code",
   "execution_count": 680,
   "id": "6b879c68-b524-42ca-8cd2-fa3429105513",
   "metadata": {},
   "outputs": [],
   "source": [
    "for i in filters:\n",
    "    cad_filter = df[df[3].str.contains(i)]\n",
    "    valid.loc[i] =  [i+'cad1inv',cad_filter[4].astype(float).sum(),cad_filter[5].astype(float).sum()]"
   ]
  },
  {
   "cell_type": "code",
   "execution_count": 681,
   "id": "298e2717-332a-4e28-ac97-eeb7938777f7",
   "metadata": {},
   "outputs": [
    {
     "data": {
      "text/html": [
       "<div>\n",
       "<style scoped>\n",
       "    .dataframe tbody tr th:only-of-type {\n",
       "        vertical-align: middle;\n",
       "    }\n",
       "\n",
       "    .dataframe tbody tr th {\n",
       "        vertical-align: top;\n",
       "    }\n",
       "\n",
       "    .dataframe thead th {\n",
       "        text-align: right;\n",
       "    }\n",
       "</style>\n",
       "<table border=\"1\" class=\"dataframe\">\n",
       "  <thead>\n",
       "    <tr style=\"text-align: right;\">\n",
       "      <th></th>\n",
       "      <th>midia</th>\n",
       "      <th>cost</th>\n",
       "      <th>imp</th>\n",
       "    </tr>\n",
       "  </thead>\n",
       "  <tbody>\n",
       "    <tr>\n",
       "      <th>cad3-</th>\n",
       "      <td>cad3-google</td>\n",
       "      <td>47206.76</td>\n",
       "      <td>2561709.0</td>\n",
       "    </tr>\n",
       "    <tr>\n",
       "      <th>cad26-</th>\n",
       "      <td>cad26-google</td>\n",
       "      <td>2581.64</td>\n",
       "      <td>1683406.0</td>\n",
       "    </tr>\n",
       "    <tr>\n",
       "      <th>cad42-</th>\n",
       "      <td>cad42-google</td>\n",
       "      <td>516.60</td>\n",
       "      <td>29540.0</td>\n",
       "    </tr>\n",
       "  </tbody>\n",
       "</table>\n",
       "</div>"
      ],
      "text/plain": [
       "               midia      cost        imp\n",
       "cad3-    cad3-google  47206.76  2561709.0\n",
       "cad26-  cad26-google   2581.64  1683406.0\n",
       "cad42-  cad42-google    516.60    29540.0"
      ]
     },
     "execution_count": 681,
     "metadata": {},
     "output_type": "execute_result"
    }
   ],
   "source": [
    "valid"
   ]
  },
  {
   "cell_type": "code",
   "execution_count": null,
   "id": "8bac823e-217c-4a78-b42a-2e0c28ed499f",
   "metadata": {},
   "outputs": [],
   "source": []
  },
  {
   "cell_type": "code",
   "execution_count": 663,
   "id": "55e817dd-6633-40a4-b7eb-ac9933e6350f",
   "metadata": {},
   "outputs": [],
   "source": [
    "valid.loc[0] =  ['cad3-google',cad_filter[5].astype(float).sum(),cad_filter[4].astype(float).sum()]"
   ]
  },
  {
   "cell_type": "code",
   "execution_count": 664,
   "id": "db8b3fc2-ce4d-4802-a5b8-03df24ec0d62",
   "metadata": {},
   "outputs": [
    {
     "data": {
      "text/html": [
       "<div>\n",
       "<style scoped>\n",
       "    .dataframe tbody tr th:only-of-type {\n",
       "        vertical-align: middle;\n",
       "    }\n",
       "\n",
       "    .dataframe tbody tr th {\n",
       "        vertical-align: top;\n",
       "    }\n",
       "\n",
       "    .dataframe thead th {\n",
       "        text-align: right;\n",
       "    }\n",
       "</style>\n",
       "<table border=\"1\" class=\"dataframe\">\n",
       "  <thead>\n",
       "    <tr style=\"text-align: right;\">\n",
       "      <th></th>\n",
       "      <th>midia</th>\n",
       "      <th>cost</th>\n",
       "      <th>imp</th>\n",
       "    </tr>\n",
       "  </thead>\n",
       "  <tbody>\n",
       "    <tr>\n",
       "      <th>1</th>\n",
       "      <td>cad26-google</td>\n",
       "      <td>1683406.0</td>\n",
       "      <td>2581.64</td>\n",
       "    </tr>\n",
       "  </tbody>\n",
       "</table>\n",
       "</div>"
      ],
      "text/plain": [
       "          midia       cost      imp\n",
       "1  cad26-google  1683406.0  2581.64"
      ]
     },
     "execution_count": 664,
     "metadata": {},
     "output_type": "execute_result"
    }
   ],
   "source": [
    "valid"
   ]
  },
  {
   "cell_type": "code",
   "execution_count": 630,
   "id": "35d59476-8efa-4774-8e5b-0531787f527b",
   "metadata": {},
   "outputs": [],
   "source": []
  },
  {
   "cell_type": "code",
   "execution_count": 631,
   "id": "05f61843-afd5-4416-9e89-51829d27b96c",
   "metadata": {},
   "outputs": [],
   "source": []
  },
  {
   "cell_type": "code",
   "execution_count": 632,
   "id": "c005d490-605e-489b-8090-4f6fa465a561",
   "metadata": {},
   "outputs": [],
   "source": []
  },
  {
   "cell_type": "code",
   "execution_count": 647,
   "id": "eb1fe924-6df1-4f4c-b6fa-446571248342",
   "metadata": {},
   "outputs": [],
   "source": []
  },
  {
   "cell_type": "code",
   "execution_count": 648,
   "id": "ecbc541a-76cb-4dc5-b087-13a3696c7492",
   "metadata": {},
   "outputs": [
    {
     "data": {
      "text/html": [
       "<div>\n",
       "<style scoped>\n",
       "    .dataframe tbody tr th:only-of-type {\n",
       "        vertical-align: middle;\n",
       "    }\n",
       "\n",
       "    .dataframe tbody tr th {\n",
       "        vertical-align: top;\n",
       "    }\n",
       "\n",
       "    .dataframe thead th {\n",
       "        text-align: right;\n",
       "    }\n",
       "</style>\n",
       "<table border=\"1\" class=\"dataframe\">\n",
       "  <thead>\n",
       "    <tr style=\"text-align: right;\">\n",
       "      <th></th>\n",
       "      <th>midia</th>\n",
       "      <th>cost</th>\n",
       "      <th>imp</th>\n",
       "    </tr>\n",
       "  </thead>\n",
       "  <tbody>\n",
       "    <tr>\n",
       "      <th>0</th>\n",
       "      <td>cad26-google</td>\n",
       "      <td>1683406.0</td>\n",
       "      <td>2581.64</td>\n",
       "    </tr>\n",
       "  </tbody>\n",
       "</table>\n",
       "</div>"
      ],
      "text/plain": [
       "          midia       cost      imp\n",
       "0  cad26-google  1683406.0  2581.64"
      ]
     },
     "execution_count": 648,
     "metadata": {},
     "output_type": "execute_result"
    }
   ],
   "source": [
    "valid"
   ]
  },
  {
   "cell_type": "code",
   "execution_count": 526,
   "id": "c161cbf2-ce6c-48ac-966a-681762114744",
   "metadata": {},
   "outputs": [
    {
     "data": {
      "text/plain": [
       "209"
      ]
     },
     "execution_count": 526,
     "metadata": {},
     "output_type": "execute_result"
    }
   ],
   "source": [
    "df[5].astype(float).count()"
   ]
  },
  {
   "cell_type": "code",
   "execution_count": 150,
   "id": "ddf27a61-c270-4b54-b15f-3b70d507b9b3",
   "metadata": {},
   "outputs": [
    {
     "data": {
      "text/plain": [
       "['Account',\n",
       " 'SSG | SEDA | HHP | Brand Shop',\n",
       " 'SSG | SEDA | HHP | Brand Shop',\n",
       " 'SSG | SEDA | HHP | Brand Shop',\n",
       " 'SSG | SEDA | HHP | Brand Shop',\n",
       " 'SSG | SEDA | HHP | Brand Shop',\n",
       " 'SSG | SEDA | HHP | Brand Shop',\n",
       " 'SSG | SEDA | HHP | Brand Shop',\n",
       " 'SSG | SEDA | HHP | Brand Shop',\n",
       " 'SSG | SEDA | HHP | Brand Shop',\n",
       " 'SSG | SEDA | HHP | Brand Shop',\n",
       " 'SSG | SEDA | HHP | MARCOM',\n",
       " 'SSG | SEDA | HHP | MARCOM',\n",
       " 'SSG | SEDA | HHP | MARCOM',\n",
       " 'SSG | SEDA | HHP | MARCOM',\n",
       " 'SSG | SEDA | HHP | MARCOM',\n",
       " 'SSG | SEDA | HHP | MARCOM',\n",
       " 'SSG | SEDA | HHP | MARCOM',\n",
       " 'SSG | SEDA | HHP | MARCOM',\n",
       " 'SSG | SEDA | HHP | MARCOM',\n",
       " 'SSG | SEDA | HHP | MARCOM',\n",
       " 'SSG | SEDA | HHP | MARCOM',\n",
       " 'SSG | SEDA | HHP | MARCOM',\n",
       " 'SSG | SEDA | HHP | MARCOM',\n",
       " 'SSG | SEDA | HHP | MARCOM',\n",
       " 'SSG | SEDA | HHP | MARCOM',\n",
       " 'SSG | SEDA | HHP | MARCOM',\n",
       " 'SSG | SEDA | HHP | MARCOM',\n",
       " 'SSG | SEDA | HHP | MARCOM',\n",
       " 'SSG | SEDA | HHP | MARCOM',\n",
       " 'SSG | SEDA | HHP | MARCOM',\n",
       " 'SSG | SEDA | HHP | MARCOM',\n",
       " 'SSG | SEDA | HHP | MARCOM',\n",
       " 'SSG | SEDA | HHP | MARCOM',\n",
       " 'SSG | SEDA | HHP | MARCOM',\n",
       " 'SSG | SEDA | HHP | MARCOM',\n",
       " 'SSG | SEDA | HHP | MARCOM',\n",
       " 'SSG | SEDA | HHP | MARCOM',\n",
       " 'SSG | SEDA | HHP | MARCOM',\n",
       " 'SSG | SEDA | HHP | MARCOM',\n",
       " 'SSG | SEDA | HHP | MARCOM',\n",
       " 'SSG | SEDA | HHP | MARCOM',\n",
       " 'SSG | SEDA | HHP | MARCOM',\n",
       " 'SSG | SEDA | HHP | MARCOM',\n",
       " 'SSG | SEDA | HHP | MARCOM',\n",
       " 'SSG | SEDA | HHP | MARCOM',\n",
       " 'SSG | SEDA | HHP | MARCOM',\n",
       " 'SSG | SEDA | HHP | MARCOM',\n",
       " 'SSG | HQ | HHP | ESES | Loja Online',\n",
       " 'SSG | HQ | HHP | ESES | Loja Online',\n",
       " 'SSG | HQ | HHP | ESES | Loja Online',\n",
       " 'SSG | HQ | HHP | ESES | Loja Online',\n",
       " 'SSG | HQ | HHP | ESES | Loja Online',\n",
       " 'SSG | HQ | HHP | ESES | Loja Online',\n",
       " 'SSG | HQ | HHP | ESES | Loja Online',\n",
       " 'SSG | HQ | HHP | ESES | Loja Online',\n",
       " 'SSG | HQ | HHP | ESES | Loja Online',\n",
       " 'SSG | HQ | HHP | ESES | Loja Online',\n",
       " 'SSG | HQ | HHP | ESES | Loja Online',\n",
       " 'SSG | HQ | HHP | ESES | Loja Online',\n",
       " 'SSG | HQ | HHP | ESES | Loja Online',\n",
       " 'SSG | HQ | HHP | ESES | Loja Online',\n",
       " 'SSG | HQ | HHP | ESES | Loja Online',\n",
       " 'SSG | HQ | HHP | ESES | Loja Online',\n",
       " 'SSG | HQ | HHP | ESES | Loja Online',\n",
       " 'SSG | HQ | HHP | ESES | Loja Online',\n",
       " 'SSG | HQ | HHP | ESES | Loja Online',\n",
       " 'SSG | HQ | HHP | ESES | Loja Online',\n",
       " 'SSG | HQ | HHP | ESES | Loja Online',\n",
       " 'SSG | HQ | HHP | ESES | Loja Online',\n",
       " 'SSG | HQ | HHP | ESES | Loja Online',\n",
       " 'SSG | HQ | HHP | ESES | Loja Online',\n",
       " 'SSG | HQ | HHP | ESES | Loja Online',\n",
       " 'SSG | HQ | HHP | ESES | Loja Online',\n",
       " 'SSG | HQ | HHP | ESES | Loja Online',\n",
       " 'SSG | HQ | HHP | ESES | Loja Online',\n",
       " 'SSG | SEDA | HHP | B2B',\n",
       " 'SSG | SEDA | HHP | B2B',\n",
       " 'SSG | SEDA | HHP | B2B',\n",
       " 'SSG | SEDA | HHP | B2B',\n",
       " 'SSG | SEDA | HHP | B2B',\n",
       " 'SSG | SEDA | HHP | B2B',\n",
       " 'SSG | SEDA | HHP | B2B',\n",
       " 'SSG | SEDA | HHP | B2B',\n",
       " 'SSG | SEDA | HHP | B2B',\n",
       " 'SSG | SEDA | HHP | B2B',\n",
       " 'SSG | HQ | NPC | ESES | Loja Online',\n",
       " 'SSG | SEDA | NPC | MARCOM',\n",
       " 'SSG | SEDA | NPC | MARCOM',\n",
       " 'SSG | SEDA | NPC | MARCOM',\n",
       " 'SSG | SEDA | NPC | ESES | Loja Online',\n",
       " 'SSG | SEDA | NPC | ESES | Loja Online',\n",
       " 'SSG | SEDA | Content & Services | Orion',\n",
       " 'SSG | SEDA | Content & Services | Orion',\n",
       " 'SSG | SEDA | CORPORATE | Care',\n",
       " 'SSG | SEDA | CORPORATE | Care',\n",
       " 'SSG | SEDA | CORPORATE | Care',\n",
       " 'SSG | SEDA | CORPORATE | Care',\n",
       " 'SSG | SEDA | CORPORATE | Care',\n",
       " 'SSG | SEDA | CORPORATE | Care',\n",
       " 'SSG | SEDA | HHP | Brand Shop',\n",
       " 'SSG | SEDA | HHP | Brand Shop',\n",
       " 'SSG | SEDA | HHP | Brand Shop',\n",
       " 'SSG | SEDA | HHP | Brand Shop',\n",
       " 'SSG | SEDA | HHP | Brand Shop',\n",
       " 'SSG | SEDA | HHP | Brand Shop',\n",
       " 'SSG | SEDA | HHP | Brand Shop',\n",
       " 'SSG | SEDA | HHP | Brand Shop',\n",
       " 'SSG | SEDA | HHP | Brand Shop',\n",
       " 'SSG | SEDA | HHP | Brand Shop',\n",
       " 'SSG | SEDA | HHP | MARCOM',\n",
       " 'SSG | SEDA | HHP | MARCOM',\n",
       " 'SSG | SEDA | HHP | MARCOM',\n",
       " 'SSG | SEDA | HHP | MARCOM',\n",
       " 'SSG | SEDA | HHP | MARCOM',\n",
       " 'SSG | SEDA | HHP | MARCOM',\n",
       " 'SSG | SEDA | HHP | MARCOM',\n",
       " 'SSG | SEDA | HHP | MARCOM',\n",
       " 'SSG | SEDA | HHP | MARCOM',\n",
       " 'SSG | SEDA | HHP | MARCOM',\n",
       " 'SSG | SEDA | HHP | MARCOM',\n",
       " 'SSG | SEDA | HHP | MARCOM',\n",
       " 'SSG | SEDA | HHP | MARCOM',\n",
       " 'SSG | SEDA | HHP | MARCOM',\n",
       " 'SSG | SEDA | HHP | MARCOM',\n",
       " 'SSG | SEDA | HHP | MARCOM',\n",
       " 'SSG | SEDA | HHP | MARCOM',\n",
       " 'SSG | SEDA | HHP | MARCOM',\n",
       " 'SSG | SEDA | HHP | MARCOM',\n",
       " 'SSG | SEDA | HHP | MARCOM',\n",
       " 'SSG | SEDA | HHP | MARCOM',\n",
       " 'SSG | SEDA | HHP | MARCOM',\n",
       " 'SSG | SEDA | HHP | MARCOM',\n",
       " 'SSG | SEDA | HHP | MARCOM',\n",
       " 'SSG | SEDA | HHP | MARCOM',\n",
       " 'SSG | SEDA | HHP | MARCOM',\n",
       " 'SSG | SEDA | HHP | MARCOM',\n",
       " 'SSG | SEDA | HHP | MARCOM',\n",
       " 'SSG | SEDA | HHP | MARCOM',\n",
       " 'SSG | SEDA | HHP | MARCOM',\n",
       " 'SSG | SEDA | HHP | MARCOM',\n",
       " 'SSG | SEDA | HHP | MARCOM',\n",
       " 'SSG | SEDA | HHP | MARCOM',\n",
       " 'SSG | SEDA | HHP | MARCOM',\n",
       " 'SSG | SEDA | HHP | MARCOM',\n",
       " 'SSG | SEDA | HHP | MARCOM',\n",
       " 'SSG | SEDA | HHP | MARCOM',\n",
       " 'SSG | SEDA | HHP | MARCOM',\n",
       " 'SSG | HQ | HHP | ESES | Loja Online',\n",
       " 'SSG | HQ | HHP | ESES | Loja Online',\n",
       " 'SSG | HQ | HHP | ESES | Loja Online',\n",
       " 'SSG | HQ | HHP | ESES | Loja Online',\n",
       " 'SSG | HQ | HHP | ESES | Loja Online',\n",
       " 'SSG | HQ | HHP | ESES | Loja Online',\n",
       " 'SSG | HQ | HHP | ESES | Loja Online',\n",
       " 'SSG | HQ | HHP | ESES | Loja Online',\n",
       " 'SSG | HQ | HHP | ESES | Loja Online',\n",
       " 'SSG | HQ | HHP | ESES | Loja Online',\n",
       " 'SSG | HQ | HHP | ESES | Loja Online',\n",
       " 'SSG | HQ | HHP | ESES | Loja Online',\n",
       " 'SSG | HQ | HHP | ESES | Loja Online',\n",
       " 'SSG | HQ | HHP | ESES | Loja Online',\n",
       " 'SSG | HQ | HHP | ESES | Loja Online',\n",
       " 'SSG | HQ | HHP | ESES | Loja Online',\n",
       " 'SSG | HQ | HHP | ESES | Loja Online',\n",
       " 'SSG | HQ | HHP | ESES | Loja Online',\n",
       " 'SSG | HQ | HHP | ESES | Loja Online',\n",
       " 'SSG | HQ | HHP | ESES | Loja Online',\n",
       " 'SSG | HQ | HHP | ESES | Loja Online',\n",
       " 'SSG | HQ | HHP | ESES | Loja Online',\n",
       " 'SSG | HQ | HHP | ESES | Loja Online',\n",
       " 'SSG | HQ | HHP | ESES | Loja Online',\n",
       " 'SSG | HQ | HHP | ESES | Loja Online',\n",
       " 'SSG | HQ | HHP | ESES | Loja Online',\n",
       " 'SSG | HQ | HHP | ESES | Loja Online',\n",
       " 'SSG | HQ | HHP | ESES | Loja Online',\n",
       " 'SSG | SEDA | HHP | B2B',\n",
       " 'SSG | SEDA | HHP | B2B',\n",
       " 'SSG | SEDA | HHP | B2B',\n",
       " 'SSG | SEDA | HHP | B2B',\n",
       " 'SSG | SEDA | HHP | B2B',\n",
       " 'SSG | SEDA | HHP | B2B',\n",
       " 'SSG | SEDA | HHP | B2B',\n",
       " 'SSG | SEDA | HHP | B2B',\n",
       " 'SSG | SEDA | HHP | B2B',\n",
       " 'SSG | SEDA | HHP | B2B',\n",
       " 'SSG | HQ | NPC | ESES | Loja Online',\n",
       " 'SSG | SEDA | NPC | MARCOM',\n",
       " 'SSG | SEDA | NPC | MARCOM',\n",
       " 'SSG | SEDA | NPC | MARCOM',\n",
       " 'SSG | SEDA | NPC | ESES | Loja Online',\n",
       " 'SSG | SEDA | NPC | ESES | Loja Online',\n",
       " 'SSG | SEDA | Content & Services | Orion',\n",
       " 'SSG | SEDA | Content & Services | Orion',\n",
       " 'SSG | SEDA | CORPORATE | Care',\n",
       " 'SSG | SEDA | CORPORATE | Care',\n",
       " 'SSG | SEDA | CORPORATE | Care',\n",
       " 'SSG | SEDA | CORPORATE | Care',\n",
       " 'SSG | SEDA | CORPORATE | Care',\n",
       " 'SSG | SEDA | CORPORATE | Care',\n",
       " 'SSG | SEDA | HHP | Brand Shop',\n",
       " 'SSG | SEDA | HHP | Brand Shop',\n",
       " 'SSG | SEDA | HHP | Brand Shop',\n",
       " 'SSG | SEDA | HHP | Brand Shop',\n",
       " 'SSG | SEDA | HHP | Brand Shop',\n",
       " 'SSG | SEDA | HHP | Brand Shop',\n",
       " 'SSG | SEDA | HHP | Brand Shop',\n",
       " 'SSG | SEDA | HHP | Brand Shop',\n",
       " 'SSG | SEDA | HHP | Brand Shop',\n",
       " 'SSG | SEDA | HHP | Brand Shop',\n",
       " 'SSG | SEDA | HHP | MARCOM',\n",
       " 'SSG | SEDA | HHP | MARCOM',\n",
       " 'SSG | SEDA | HHP | MARCOM',\n",
       " 'SSG | SEDA | HHP | MARCOM',\n",
       " 'SSG | SEDA | HHP | MARCOM',\n",
       " 'SSG | SEDA | HHP | MARCOM',\n",
       " 'SSG | SEDA | HHP | MARCOM',\n",
       " 'SSG | SEDA | HHP | MARCOM',\n",
       " 'SSG | SEDA | HHP | MARCOM',\n",
       " 'SSG | SEDA | HHP | MARCOM',\n",
       " 'SSG | SEDA | HHP | MARCOM',\n",
       " 'SSG | SEDA | HHP | MARCOM',\n",
       " 'SSG | SEDA | HHP | MARCOM',\n",
       " 'SSG | SEDA | HHP | MARCOM',\n",
       " 'SSG | SEDA | HHP | MARCOM',\n",
       " 'SSG | SEDA | HHP | MARCOM',\n",
       " 'SSG | SEDA | HHP | MARCOM',\n",
       " 'SSG | SEDA | HHP | MARCOM',\n",
       " 'SSG | SEDA | HHP | MARCOM',\n",
       " 'SSG | SEDA | HHP | MARCOM',\n",
       " 'SSG | SEDA | HHP | MARCOM',\n",
       " 'SSG | SEDA | HHP | MARCOM',\n",
       " 'SSG | SEDA | HHP | MARCOM',\n",
       " 'SSG | SEDA | HHP | MARCOM',\n",
       " 'SSG | SEDA | HHP | MARCOM',\n",
       " 'SSG | SEDA | HHP | MARCOM',\n",
       " 'SSG | SEDA | HHP | MARCOM',\n",
       " 'SSG | SEDA | HHP | MARCOM',\n",
       " 'SSG | SEDA | HHP | MARCOM',\n",
       " 'SSG | SEDA | HHP | MARCOM',\n",
       " 'SSG | SEDA | HHP | MARCOM',\n",
       " 'SSG | SEDA | HHP | MARCOM',\n",
       " 'SSG | SEDA | HHP | MARCOM',\n",
       " 'SSG | SEDA | HHP | MARCOM',\n",
       " 'SSG | SEDA | HHP | MARCOM',\n",
       " 'SSG | SEDA | HHP | MARCOM',\n",
       " 'SSG | SEDA | HHP | MARCOM',\n",
       " 'SSG | SEDA | HHP | MARCOM',\n",
       " 'SSG | SEDA | HHP | MARCOM',\n",
       " 'SSG | SEDA | HHP | MARCOM',\n",
       " 'SSG | HQ | HHP | ESES | Loja Online',\n",
       " 'SSG | HQ | HHP | ESES | Loja Online',\n",
       " 'SSG | HQ | HHP | ESES | Loja Online',\n",
       " 'SSG | HQ | HHP | ESES | Loja Online',\n",
       " 'SSG | HQ | HHP | ESES | Loja Online',\n",
       " 'SSG | HQ | HHP | ESES | Loja Online',\n",
       " 'SSG | HQ | HHP | ESES | Loja Online',\n",
       " 'SSG | HQ | HHP | ESES | Loja Online',\n",
       " 'SSG | HQ | HHP | ESES | Loja Online',\n",
       " 'SSG | HQ | HHP | ESES | Loja Online',\n",
       " 'SSG | HQ | HHP | ESES | Loja Online',\n",
       " 'SSG | HQ | HHP | ESES | Loja Online',\n",
       " 'SSG | HQ | HHP | ESES | Loja Online',\n",
       " 'SSG | HQ | HHP | ESES | Loja Online',\n",
       " 'SSG | HQ | HHP | ESES | Loja Online',\n",
       " 'SSG | HQ | HHP | ESES | Loja Online',\n",
       " 'SSG | SEDA | HHP | B2B',\n",
       " 'SSG | SEDA | HHP | B2B',\n",
       " 'SSG | SEDA | HHP | B2B',\n",
       " 'SSG | SEDA | HHP | B2B',\n",
       " 'SSG | SEDA | HHP | B2B',\n",
       " 'SSG | SEDA | HHP | B2B',\n",
       " 'SSG | SEDA | HHP | B2B',\n",
       " 'SSG | SEDA | HHP | B2B',\n",
       " 'SSG | SEDA | HHP | B2B',\n",
       " 'SSG | SEDA | HHP | B2B',\n",
       " 'SSG | HQ | NPC | ESES | Loja Online',\n",
       " 'SSG | SEDA | NPC | MARCOM',\n",
       " 'SSG | SEDA | NPC | MARCOM',\n",
       " 'SSG | SEDA | NPC | MARCOM',\n",
       " 'SSG | SEDA | NPC | MARCOM',\n",
       " 'SSG | SEDA | Content & Services | Orion',\n",
       " 'SSG | SEDA | Content & Services | Orion',\n",
       " 'SSG | SEDA | CORPORATE | Care',\n",
       " 'SSG | SEDA | CORPORATE | Care',\n",
       " 'SSG | SEDA | CORPORATE | Care',\n",
       " 'SSG | SEDA | CORPORATE | Care',\n",
       " 'SSG | SEDA | CORPORATE | Care',\n",
       " 'SSG | SEDA | CORPORATE | Care']"
      ]
     },
     "execution_count": 150,
     "metadata": {},
     "output_type": "execute_result"
    }
   ],
   "source": [
    "records_data = sheet_instance.col_values(3)\n",
    "\n",
    "# view the data\n",
    "records_data"
   ]
  },
  {
   "cell_type": "code",
   "execution_count": 39,
   "id": "91499205-d614-4ce8-b98e-6cf544670d23",
   "metadata": {},
   "outputs": [
    {
     "data": {
      "text/html": [
       "<div>\n",
       "<style scoped>\n",
       "    .dataframe tbody tr th:only-of-type {\n",
       "        vertical-align: middle;\n",
       "    }\n",
       "\n",
       "    .dataframe tbody tr th {\n",
       "        vertical-align: top;\n",
       "    }\n",
       "\n",
       "    .dataframe thead th {\n",
       "        text-align: right;\n",
       "    }\n",
       "</style>\n",
       "<table border=\"1\" class=\"dataframe\">\n",
       "  <thead>\n",
       "    <tr style=\"text-align: right;\">\n",
       "      <th></th>\n",
       "      <th>carros</th>\n",
       "      <th>pais</th>\n",
       "      <th>quantidade</th>\n",
       "    </tr>\n",
       "  </thead>\n",
       "  <tbody>\n",
       "    <tr>\n",
       "      <th>0</th>\n",
       "      <td>toyota</td>\n",
       "      <td>japao</td>\n",
       "      <td>2</td>\n",
       "    </tr>\n",
       "    <tr>\n",
       "      <th>1</th>\n",
       "      <td>volkswage</td>\n",
       "      <td>alemanha</td>\n",
       "      <td>3</td>\n",
       "    </tr>\n",
       "    <tr>\n",
       "      <th>2</th>\n",
       "      <td>volkswage</td>\n",
       "      <td>alemanha</td>\n",
       "      <td>4</td>\n",
       "    </tr>\n",
       "    <tr>\n",
       "      <th>3</th>\n",
       "      <td>volkswage</td>\n",
       "      <td>alemanha</td>\n",
       "      <td>4</td>\n",
       "    </tr>\n",
       "    <tr>\n",
       "      <th>4</th>\n",
       "      <td>volkswage</td>\n",
       "      <td>alemanha</td>\n",
       "      <td>2</td>\n",
       "    </tr>\n",
       "  </tbody>\n",
       "</table>\n",
       "</div>"
      ],
      "text/plain": [
       "      carros      pais  quantidade\n",
       "0     toyota     japao           2\n",
       "1  volkswage  alemanha           3\n",
       "2  volkswage  alemanha           4\n",
       "3  volkswage  alemanha           4\n",
       "4  volkswage  alemanha           2"
      ]
     },
     "execution_count": 39,
     "metadata": {},
     "output_type": "execute_result"
    }
   ],
   "source": [
    "# convert the json to dataframe\n",
    "records_df = pd.DataFrame.from_dict(records_data)\n",
    "\n",
    "# view the top records\n",
    "records_df.head()"
   ]
  },
  {
   "cell_type": "code",
   "execution_count": 43,
   "id": "2c731b2f-7661-4774-90c4-b4e8e7bdc045",
   "metadata": {},
   "outputs": [],
   "source": [
    "# add a sheet with 20 rows and 2 columns\n",
    "# sheet.add_worksheet(rows=20,cols=2,title='runs')\n",
    "\n",
    "# get the instance of the second sheet\n",
    "sheet_runs = sheet.get_worksheet(1)"
   ]
  },
  {
   "cell_type": "code",
   "execution_count": 42,
   "id": "cc8e08ee-a333-405e-baaa-2fc76e83eb98",
   "metadata": {},
   "outputs": [
    {
     "data": {
      "text/plain": [
       "{'spreadsheetId': '1I-T8eg390sxC7JVMR61YmqBXgCqwXKH0FtwHX5KUdfM',\n",
       " 'updates': {'spreadsheetId': '1I-T8eg390sxC7JVMR61YmqBXgCqwXKH0FtwHX5KUdfM',\n",
       "  'updatedRange': 'runs!A1:B3',\n",
       "  'updatedRows': 3,\n",
       "  'updatedColumns': 2,\n",
       "  'updatedCells': 6}}"
      ]
     },
     "execution_count": 42,
     "metadata": {},
     "output_type": "execute_result"
    }
   ],
   "source": [
    "sheet_runs.insert_rows(runs.values.tolist())"
   ]
  },
  {
   "cell_type": "code",
   "execution_count": 41,
   "id": "67f26a2a-fd60-41ba-b085-cb6a2a88374c",
   "metadata": {},
   "outputs": [
    {
     "data": {
      "text/html": [
       "<div>\n",
       "<style scoped>\n",
       "    .dataframe tbody tr th:only-of-type {\n",
       "        vertical-align: middle;\n",
       "    }\n",
       "\n",
       "    .dataframe tbody tr th {\n",
       "        vertical-align: top;\n",
       "    }\n",
       "\n",
       "    .dataframe thead th {\n",
       "        text-align: right;\n",
       "    }\n",
       "</style>\n",
       "<table border=\"1\" class=\"dataframe\">\n",
       "  <thead>\n",
       "    <tr style=\"text-align: right;\">\n",
       "      <th></th>\n",
       "      <th>pais</th>\n",
       "      <th>quantidade</th>\n",
       "    </tr>\n",
       "  </thead>\n",
       "  <tbody>\n",
       "    <tr>\n",
       "      <th>0</th>\n",
       "      <td>alemanha</td>\n",
       "      <td>10</td>\n",
       "    </tr>\n",
       "    <tr>\n",
       "      <th>1</th>\n",
       "      <td>brasil</td>\n",
       "      <td>4</td>\n",
       "    </tr>\n",
       "    <tr>\n",
       "      <th>2</th>\n",
       "      <td>japao</td>\n",
       "      <td>6</td>\n",
       "    </tr>\n",
       "  </tbody>\n",
       "</table>\n",
       "</div>"
      ],
      "text/plain": [
       "       pais  quantidade\n",
       "0  alemanha          10\n",
       "1    brasil           4\n",
       "2     japao           6"
      ]
     },
     "execution_count": 41,
     "metadata": {},
     "output_type": "execute_result"
    }
   ],
   "source": [
    "\n",
    "# number of runs by each batsman\n",
    "runs = records_df.groupby(['pais'])['quantidade'].count().reset_index()\n",
    "runs"
   ]
  },
  {
   "cell_type": "code",
   "execution_count": 51,
   "id": "7ede74b2-d350-4212-b17b-60efea31ec97",
   "metadata": {},
   "outputs": [],
   "source": [
    "# def main():\n",
    "#     \"\"\"Shows basic usage of the Sheets API.\n",
    "#     Prints values from a sample spreadsheet.\n",
    "#     \"\"\"\n",
    "#     creds = None\n",
    "#     # The file token.json stores the user's access and refresh tokens, and is\n",
    "#     # created automatically when the authorization flow completes for the first\n",
    "#     # time.\n",
    "#     if os.path.exists('token.json'):\n",
    "#         creds = Credentials.from_authorized_user_file('token.json', SCOPES)\n",
    "#     # If there are no (valid) credentials available, let the user log in.\n",
    "#     if not creds or not creds.valid:\n",
    "#         if creds and creds.expired and creds.refresh_token:\n",
    "#             creds.refresh(Request())\n",
    "#         else:\n",
    "#             flow = InstalledAppFlow.from_client_secrets_file(\n",
    "#                 'fiap3sis-3b74d339060b.json', SCOPES)\n",
    "#             creds = flow.run_local_server(port=0)\n",
    "#         # Save the credentials for the next run\n",
    "#         with open('token.json', 'w') as token:\n",
    "#             token.write(creds.to_json())\n",
    "\n",
    "#     try:\n",
    "#         service = build('sheets', 'v4', credentials=creds)\n",
    "\n",
    "#         # Call the Sheets API\n",
    "#         sheet = service.spreadsheets()\n",
    "#         result = sheet.values().get(spreadsheetId=SAMPLE_SPREADSHEET_ID,\n",
    "#                                     range=SAMPLE_RANGE_NAME).execute()\n",
    "#         values = result.get('values', [])\n",
    "\n",
    "#         if not values:\n",
    "#             print('No data found.')\n",
    "#             return\n",
    "\n",
    "#         print('Name, Major:')\n",
    "#         for row in values:\n",
    "#             # Print columns A and E, which correspond to indices 0 and 4.\n",
    "#             print('%s, %s' % (row[0], row[4]))\n",
    "#     except HttpError as err:\n",
    "#         print(err)"
   ]
  },
  {
   "cell_type": "code",
   "execution_count": 55,
   "id": "7c94d8c2-255f-427b-9eca-b8b601443f6a",
   "metadata": {},
   "outputs": [
    {
     "ename": "ValueError",
     "evalue": "Client secrets must be for a web or installed app.",
     "output_type": "error",
     "traceback": [
      "\u001b[0;31m---------------------------------------------------------------------------\u001b[0m",
      "\u001b[0;31mValueError\u001b[0m                                Traceback (most recent call last)",
      "Input \u001b[0;32mIn [55]\u001b[0m, in \u001b[0;36m<cell line: 41>\u001b[0;34m()\u001b[0m\n\u001b[1;32m     38\u001b[0m     \u001b[38;5;28;01mif\u001b[39;00m \u001b[38;5;129;01mnot\u001b[39;00m values_input \u001b[38;5;129;01mand\u001b[39;00m \u001b[38;5;129;01mnot\u001b[39;00m values_expansion:\n\u001b[1;32m     39\u001b[0m         \u001b[38;5;28mprint\u001b[39m(\u001b[38;5;124m'\u001b[39m\u001b[38;5;124mNo data found.\u001b[39m\u001b[38;5;124m'\u001b[39m)\n\u001b[0;32m---> 41\u001b[0m \u001b[43mmain\u001b[49m\u001b[43m(\u001b[49m\u001b[43m)\u001b[49m\n\u001b[1;32m     43\u001b[0m df\u001b[38;5;241m=\u001b[39mpd\u001b[38;5;241m.\u001b[39mDataFrame(values_input[\u001b[38;5;241m1\u001b[39m:], columns\u001b[38;5;241m=\u001b[39mvalues_input[\u001b[38;5;241m0\u001b[39m])\n",
      "Input \u001b[0;32mIn [55]\u001b[0m, in \u001b[0;36mmain\u001b[0;34m()\u001b[0m\n\u001b[1;32m     22\u001b[0m     creds\u001b[38;5;241m.\u001b[39mrefresh(Request())\n\u001b[1;32m     23\u001b[0m \u001b[38;5;28;01melse\u001b[39;00m:\n\u001b[0;32m---> 24\u001b[0m     flow \u001b[38;5;241m=\u001b[39m \u001b[43mInstalledAppFlow\u001b[49m\u001b[38;5;241;43m.\u001b[39;49m\u001b[43mfrom_client_secrets_file\u001b[49m\u001b[43m(\u001b[49m\n\u001b[1;32m     25\u001b[0m \u001b[43m        \u001b[49m\u001b[38;5;124;43m'\u001b[39;49m\u001b[38;5;124;43mfiap3sis-3b74d339060b.json\u001b[39;49m\u001b[38;5;124;43m'\u001b[39;49m\u001b[43m,\u001b[49m\u001b[43m \u001b[49m\u001b[43mSCOPES\u001b[49m\u001b[43m)\u001b[49m \u001b[38;5;66;03m# here enter the name of your downloaded JSON file\u001b[39;00m\n\u001b[1;32m     26\u001b[0m     creds \u001b[38;5;241m=\u001b[39m flow\u001b[38;5;241m.\u001b[39mrun_local_server(port\u001b[38;5;241m=\u001b[39m\u001b[38;5;241m0\u001b[39m)\n\u001b[1;32m     27\u001b[0m \u001b[38;5;28;01mwith\u001b[39;00m \u001b[38;5;28mopen\u001b[39m(\u001b[38;5;124m'\u001b[39m\u001b[38;5;124mtoken.pickle\u001b[39m\u001b[38;5;124m'\u001b[39m, \u001b[38;5;124m'\u001b[39m\u001b[38;5;124mwb\u001b[39m\u001b[38;5;124m'\u001b[39m) \u001b[38;5;28;01mas\u001b[39;00m token:\n",
      "File \u001b[0;32m/opt/conda/lib/python3.9/site-packages/google_auth_oauthlib/flow.py:207\u001b[0m, in \u001b[0;36mFlow.from_client_secrets_file\u001b[0;34m(cls, client_secrets_file, scopes, **kwargs)\u001b[0m\n\u001b[1;32m    204\u001b[0m \u001b[38;5;28;01mwith\u001b[39;00m \u001b[38;5;28mopen\u001b[39m(client_secrets_file, \u001b[38;5;124m\"\u001b[39m\u001b[38;5;124mr\u001b[39m\u001b[38;5;124m\"\u001b[39m) \u001b[38;5;28;01mas\u001b[39;00m json_file:\n\u001b[1;32m    205\u001b[0m     client_config \u001b[38;5;241m=\u001b[39m json\u001b[38;5;241m.\u001b[39mload(json_file)\n\u001b[0;32m--> 207\u001b[0m \u001b[38;5;28;01mreturn\u001b[39;00m \u001b[38;5;28;43mcls\u001b[39;49m\u001b[38;5;241;43m.\u001b[39;49m\u001b[43mfrom_client_config\u001b[49m\u001b[43m(\u001b[49m\u001b[43mclient_config\u001b[49m\u001b[43m,\u001b[49m\u001b[43m \u001b[49m\u001b[43mscopes\u001b[49m\u001b[38;5;241;43m=\u001b[39;49m\u001b[43mscopes\u001b[49m\u001b[43m,\u001b[49m\u001b[43m \u001b[49m\u001b[38;5;241;43m*\u001b[39;49m\u001b[38;5;241;43m*\u001b[39;49m\u001b[43mkwargs\u001b[49m\u001b[43m)\u001b[49m\n",
      "File \u001b[0;32m/opt/conda/lib/python3.9/site-packages/google_auth_oauthlib/flow.py:165\u001b[0m, in \u001b[0;36mFlow.from_client_config\u001b[0;34m(cls, client_config, scopes, **kwargs)\u001b[0m\n\u001b[1;32m    163\u001b[0m     client_type \u001b[38;5;241m=\u001b[39m \u001b[38;5;124m\"\u001b[39m\u001b[38;5;124minstalled\u001b[39m\u001b[38;5;124m\"\u001b[39m\n\u001b[1;32m    164\u001b[0m \u001b[38;5;28;01melse\u001b[39;00m:\n\u001b[0;32m--> 165\u001b[0m     \u001b[38;5;28;01mraise\u001b[39;00m \u001b[38;5;167;01mValueError\u001b[39;00m(\u001b[38;5;124m\"\u001b[39m\u001b[38;5;124mClient secrets must be for a web or installed app.\u001b[39m\u001b[38;5;124m\"\u001b[39m)\n\u001b[1;32m    167\u001b[0m \u001b[38;5;66;03m# these args cannot be passed to requests_oauthlib.OAuth2Session\u001b[39;00m\n\u001b[1;32m    168\u001b[0m code_verifier \u001b[38;5;241m=\u001b[39m kwargs\u001b[38;5;241m.\u001b[39mpop(\u001b[38;5;124m\"\u001b[39m\u001b[38;5;124mcode_verifier\u001b[39m\u001b[38;5;124m\"\u001b[39m, \u001b[38;5;28;01mNone\u001b[39;00m)\n",
      "\u001b[0;31mValueError\u001b[0m: Client secrets must be for a web or installed app."
     ]
    }
   ],
   "source": [
    "import pandas as pd\n",
    "from googleapiclient.discovery import build\n",
    "from google_auth_oauthlib.flow import InstalledAppFlow,Flow\n",
    "from google.auth.transport.requests import Request\n",
    "import os\n",
    "import pickle\n",
    "\n",
    "SCOPES = ['https://www.googleapis.com/auth/drive']\n",
    "\n",
    "# here enter the id of your google sheet\n",
    "SAMPLE_SPREADSHEET_ID_input = '1I-T8eg390sxC7JVMR61YmqBXgCqwXKH0FtwHX5KUdfM'\n",
    "SAMPLE_RANGE_NAME = 'A1:AA1000'\n",
    "\n",
    "def main():\n",
    "    global values_input, service\n",
    "    creds = None\n",
    "    if os.path.exists('token.pickle'):\n",
    "        with open('token.pickle', 'rb') as token:\n",
    "            creds = pickle.load(token)\n",
    "    if not creds or not creds.valid:\n",
    "        if creds and creds.expired and creds.refresh_token:\n",
    "            creds.refresh(Request())\n",
    "        else:\n",
    "            flow = InstalledAppFlow.from_client_secrets_file(\n",
    "                'fiap3sis-3b74d339060b.json', SCOPES) # here enter the name of your downloaded JSON file\n",
    "            creds = flow.run_local_server(port=0)\n",
    "        with open('token.pickle', 'wb') as token:\n",
    "            pickle.dump(creds, token)\n",
    "\n",
    "    service = build('sheets', 'v4', credentials=creds)\n",
    "\n",
    "    # Call the Sheets API\n",
    "    sheet = service.spreadsheets()\n",
    "    result_input = sheet.values().get(spreadsheetId=SAMPLE_SPREADSHEET_ID_input,\n",
    "                                range=SAMPLE_RANGE_NAME).execute()\n",
    "    values_input = result_input.get('values', [])\n",
    "\n",
    "    if not values_input and not values_expansion:\n",
    "        print('No data found.')\n",
    "\n",
    "main()\n",
    "\n",
    "df=pd.DataFrame(values_input[1:], columns=values_input[0])"
   ]
  },
  {
   "cell_type": "code",
   "execution_count": 1,
   "id": "c9b85e71-12f5-4514-80cc-2db49fef7f5f",
   "metadata": {},
   "outputs": [
    {
     "ename": "SyntaxError",
     "evalue": "invalid syntax (1210039442.py, line 1)",
     "output_type": "error",
     "traceback": [
      "\u001b[0;36m  Input \u001b[0;32mIn [1]\u001b[0;36m\u001b[0m\n\u001b[0;31m    H(x) -> h\u001b[0m\n\u001b[0m         ^\u001b[0m\n\u001b[0;31mSyntaxError\u001b[0m\u001b[0;31m:\u001b[0m invalid syntax\n"
     ]
    }
   ],
   "source": [
    "H(x) -> h"
   ]
  },
  {
   "cell_type": "code",
   "execution_count": 2,
   "id": "e1d75a40-10aa-422d-b9de-d2c2952a953d",
   "metadata": {},
   "outputs": [],
   "source": [
    "import hashlib"
   ]
  },
  {
   "cell_type": "code",
   "execution_count": 6,
   "id": "23f64508-6383-4868-a948-3c66d4fc1512",
   "metadata": {},
   "outputs": [
    {
     "name": "stdout",
     "output_type": "stream",
     "text": [
      "{'sha512_224', 'blake2s', 'shake_128', 'sha3_224', 'sha384', 'sha3_256', 'ripemd160', 'sha512_256', 'whirlpool', 'sm3', 'mdc2', 'sha256', 'sha224', 'blake2b', 'sha3_512', 'md4', 'sha3_384', 'md5', 'md5-sha1', 'sha1', 'sha512', 'shake_256'}\n"
     ]
    }
   ],
   "source": [
    "print(hashlib.algorithms_available)"
   ]
  },
  {
   "cell_type": "code",
   "execution_count": 5,
   "id": "8c867e2f-7b05-4c69-af94-0d719905e1be",
   "metadata": {},
   "outputs": [
    {
     "ename": "TypeError",
     "evalue": "Strings must be encoded before hashing",
     "output_type": "error",
     "traceback": [
      "\u001b[0;31m---------------------------------------------------------------------------\u001b[0m",
      "\u001b[0;31mTypeError\u001b[0m                                 Traceback (most recent call last)",
      "Input \u001b[0;32mIn [5]\u001b[0m, in \u001b[0;36m<cell line: 1>\u001b[0;34m()\u001b[0m\n\u001b[0;32m----> 1\u001b[0m \u001b[43mhashlib\u001b[49m\u001b[38;5;241;43m.\u001b[39;49m\u001b[43mmd5\u001b[49m\u001b[43m(\u001b[49m\u001b[38;5;124;43m'\u001b[39;49m\u001b[38;5;124;43m123\u001b[39;49m\u001b[38;5;124;43m'\u001b[39;49m\u001b[43m)\u001b[49m\u001b[38;5;241m.\u001b[39mhexdigest()\n",
      "\u001b[0;31mTypeError\u001b[0m: Strings must be encoded before hashing"
     ]
    }
   ],
   "source": [
    "hashlib.md5('123').hexdigest()"
   ]
  },
  {
   "cell_type": "code",
   "execution_count": 7,
   "id": "38ab4fc0-8179-41ef-b79a-4c42035915a1",
   "metadata": {},
   "outputs": [
    {
     "name": "stdout",
     "output_type": "stream",
     "text": [
      "b'\\xb1\\n\\x8d\\xb1d\\xe0uA\\x05\\xb7\\xa9\\x9b\\xe7.?\\xe5'\n"
     ]
    }
   ],
   "source": [
    "print(hashlib.md5(b'Hello World').digest())"
   ]
  },
  {
   "cell_type": "code",
   "execution_count": null,
   "id": "6808b55b-2dca-42fe-8407-e119fb53361d",
   "metadata": {},
   "outputs": [],
   "source": []
  }
 ],
 "metadata": {
  "kernelspec": {
   "display_name": "Python 3 (ipykernel)",
   "language": "python",
   "name": "python3"
  },
  "language_info": {
   "codemirror_mode": {
    "name": "ipython",
    "version": 3
   },
   "file_extension": ".py",
   "mimetype": "text/x-python",
   "name": "python",
   "nbconvert_exporter": "python",
   "pygments_lexer": "ipython3",
   "version": "3.9.10"
  }
 },
 "nbformat": 4,
 "nbformat_minor": 5
}
