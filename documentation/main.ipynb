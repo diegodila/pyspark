{
 "cells": [
  {
   "cell_type": "code",
   "execution_count": 34,
   "metadata": {},
   "outputs": [],
   "source": [
    "from pyspark.sql import SparkSession\n",
    "spark = SparkSession.builder.appName('Notebook de testes').getOrCreate()\n",
    "spark.conf.set('spark.sql.repl.eagerEval.enabled',True)\n",
    "spark.conf.set('spark.sql.repl.eagerEval.maxNumRows',30)\n",
    "spark.conf.set('spark.sql.repl.eagerEval.truncate',30)"
   ]
  },
  {
   "cell_type": "code",
   "execution_count": null,
   "metadata": {},
   "outputs": [],
   "source": [
    "##  11. Selecione o productNumber e o name transforme o productLine em category 'R' = 'Road', 'M' = 'Mountain','T' = 'Touring', 'S' = 'Other sale items' se não 'Not for sale'  (Production.Product)\n",
    "\n",
    "##  12. Selecione o productNumber e o name e depois pesquise o listPrice e transforme em pricerange quando: listprice = 0 sera 'Mfg item - not for resale' , < 50 'Under 50', >= 50 and < 250 = 'under 250', >= 250 and < 1000 = 'under 1000', senao 'over 1000'\n"
   ]
  },
  {
   "cell_type": "code",
   "execution_count": 74,
   "metadata": {},
   "outputs": [
    {
     "data": {
      "text/html": [
       "<table border='1'>\n",
       "<tr><th>ProductNumber</th><th>Name</th><th>ProductLine</th><th>Category</th></tr>\n",
       "<tr><td>AR-5381</td><td>Adjustable Race</td><td>null</td><td>Not for Sale</td></tr>\n",
       "<tr><td>BA-8327</td><td>Bearing Ball</td><td>null</td><td>Not for Sale</td></tr>\n",
       "<tr><td>BB-7421</td><td>LL Bottom Bracket</td><td>null</td><td>Not for Sale</td></tr>\n",
       "<tr><td>BB-8107</td><td>ML Bottom Bracket</td><td>null</td><td>Not for Sale</td></tr>\n",
       "<tr><td>BB-9108</td><td>HL Bottom Bracket</td><td>null</td><td>Not for Sale</td></tr>\n",
       "<tr><td>BC-M005</td><td>Mountain Bottle Cage</td><td>M </td><td>Not for Sale</td></tr>\n",
       "<tr><td>BC-R205</td><td>Road Bottle Cage</td><td>R </td><td>Not for Sale</td></tr>\n",
       "<tr><td>BE-2349</td><td>BB Ball Bearing</td><td>null</td><td>Not for Sale</td></tr>\n",
       "<tr><td>BE-2908</td><td>Headset Ball Bearings</td><td>null</td><td>Not for Sale</td></tr>\n",
       "<tr><td>BK-M18B-40</td><td>Mountain-500 Black, 40</td><td>M </td><td>Not for Sale</td></tr>\n",
       "<tr><td>BK-M18B-42</td><td>Mountain-500 Black, 42</td><td>M </td><td>Not for Sale</td></tr>\n",
       "<tr><td>BK-M18B-44</td><td>Mountain-500 Black, 44</td><td>M </td><td>Not for Sale</td></tr>\n",
       "<tr><td>BK-M18B-48</td><td>Mountain-500 Black, 48</td><td>M </td><td>Not for Sale</td></tr>\n",
       "<tr><td>BK-M18B-52</td><td>Mountain-500 Black, 52</td><td>M </td><td>Not for Sale</td></tr>\n",
       "<tr><td>BK-M18S-40</td><td>Mountain-500 Silver, 40</td><td>M </td><td>Not for Sale</td></tr>\n",
       "<tr><td>BK-M18S-42</td><td>Mountain-500 Silver, 42</td><td>M </td><td>Not for Sale</td></tr>\n",
       "<tr><td>BK-M18S-44</td><td>Mountain-500 Silver, 44</td><td>M </td><td>Not for Sale</td></tr>\n",
       "<tr><td>BK-M18S-48</td><td>Mountain-500 Silver, 48</td><td>M </td><td>Not for Sale</td></tr>\n",
       "<tr><td>BK-M18S-52</td><td>Mountain-500 Silver, 52</td><td>M </td><td>Not for Sale</td></tr>\n",
       "<tr><td>BK-M38S-38</td><td>Mountain-400-W Silver, 38</td><td>M </td><td>Not for Sale</td></tr>\n",
       "<tr><td>BK-M38S-40</td><td>Mountain-400-W Silver, 40</td><td>M </td><td>Not for Sale</td></tr>\n",
       "<tr><td>BK-M38S-42</td><td>Mountain-400-W Silver, 42</td><td>M </td><td>Not for Sale</td></tr>\n",
       "<tr><td>BK-M38S-46</td><td>Mountain-400-W Silver, 46</td><td>M </td><td>Not for Sale</td></tr>\n",
       "<tr><td>BK-M47B-38</td><td>Mountain-300 Black, 38</td><td>M </td><td>Not for Sale</td></tr>\n",
       "<tr><td>BK-M47B-40</td><td>Mountain-300 Black, 40</td><td>M </td><td>Not for Sale</td></tr>\n",
       "<tr><td>BK-M47B-44</td><td>Mountain-300 Black, 44</td><td>M </td><td>Not for Sale</td></tr>\n",
       "<tr><td>BK-M47B-48</td><td>Mountain-300 Black, 48</td><td>M </td><td>Not for Sale</td></tr>\n",
       "<tr><td>BK-M68B-38</td><td>Mountain-200 Black, 38</td><td>M </td><td>Not for Sale</td></tr>\n",
       "<tr><td>BK-M68B-42</td><td>Mountain-200 Black, 42</td><td>M </td><td>Not for Sale</td></tr>\n",
       "<tr><td>BK-M68B-46</td><td>Mountain-200 Black, 46</td><td>M </td><td>Not for Sale</td></tr>\n",
       "</table>\n",
       "only showing top 30 rows\n"
      ],
      "text/plain": [
       "+-------------+-------------------------+-----------+------------+\n",
       "|ProductNumber|                     Name|ProductLine|    Category|\n",
       "+-------------+-------------------------+-----------+------------+\n",
       "|      AR-5381|          Adjustable Race|       null|Not for Sale|\n",
       "|      BA-8327|             Bearing Ball|       null|Not for Sale|\n",
       "|      BB-7421|        LL Bottom Bracket|       null|Not for Sale|\n",
       "|      BB-8107|        ML Bottom Bracket|       null|Not for Sale|\n",
       "|      BB-9108|        HL Bottom Bracket|       null|Not for Sale|\n",
       "|      BC-M005|     Mountain Bottle Cage|         M |Not for Sale|\n",
       "|      BC-R205|         Road Bottle Cage|         R |Not for Sale|\n",
       "|      BE-2349|          BB Ball Bearing|       null|Not for Sale|\n",
       "|      BE-2908|    Headset Ball Bearings|       null|Not for Sale|\n",
       "|   BK-M18B-40|   Mountain-500 Black, 40|         M |Not for Sale|\n",
       "|   BK-M18B-42|   Mountain-500 Black, 42|         M |Not for Sale|\n",
       "|   BK-M18B-44|   Mountain-500 Black, 44|         M |Not for Sale|\n",
       "|   BK-M18B-48|   Mountain-500 Black, 48|         M |Not for Sale|\n",
       "|   BK-M18B-52|   Mountain-500 Black, 52|         M |Not for Sale|\n",
       "|   BK-M18S-40|  Mountain-500 Silver, 40|         M |Not for Sale|\n",
       "|   BK-M18S-42|  Mountain-500 Silver, 42|         M |Not for Sale|\n",
       "|   BK-M18S-44|  Mountain-500 Silver, 44|         M |Not for Sale|\n",
       "|   BK-M18S-48|  Mountain-500 Silver, 48|         M |Not for Sale|\n",
       "|   BK-M18S-52|  Mountain-500 Silver, 52|         M |Not for Sale|\n",
       "|   BK-M38S-38|Mountain-400-W Silver, 38|         M |Not for Sale|\n",
       "|   BK-M38S-40|Mountain-400-W Silver, 40|         M |Not for Sale|\n",
       "|   BK-M38S-42|Mountain-400-W Silver, 42|         M |Not for Sale|\n",
       "|   BK-M38S-46|Mountain-400-W Silver, 46|         M |Not for Sale|\n",
       "|   BK-M47B-38|   Mountain-300 Black, 38|         M |Not for Sale|\n",
       "|   BK-M47B-40|   Mountain-300 Black, 40|         M |Not for Sale|\n",
       "|   BK-M47B-44|   Mountain-300 Black, 44|         M |Not for Sale|\n",
       "|   BK-M47B-48|   Mountain-300 Black, 48|         M |Not for Sale|\n",
       "|   BK-M68B-38|   Mountain-200 Black, 38|         M |Not for Sale|\n",
       "|   BK-M68B-42|   Mountain-200 Black, 42|         M |Not for Sale|\n",
       "|   BK-M68B-46|   Mountain-200 Black, 46|         M |Not for Sale|\n",
       "+-------------+-------------------------+-----------+------------+\n",
       "only showing top 30 rows"
      ]
     },
     "execution_count": 74,
     "metadata": {},
     "output_type": "execute_result"
    }
   ],
   "source": [
    "from pyspark.sql.functions import when, trim\n",
    "spark.read.option('header',True).csv('work/pyspark/documentation/data/AdventureWorks/Production/Product.csv') \\\n",
    "    .select(\"ProductNumber\", 'Name','ProductLine',when(col(\"ProductLine\") == 'R','Road') \\\n",
    "        .when(col(\"ProductLine\") == 'M','Montain') \\\n",
    "            .when(col(\"ProductLine\") == 'T','Touring') \\\n",
    "                .when(col(\"ProductLine\") == 'S', 'Other sale items') \\\n",
    "                    .otherwise('Not for Sale').alias(\"Category\")).orderBy(\"ProductNumber\")"
   ]
  },
  {
   "cell_type": "code",
   "execution_count": 78,
   "metadata": {},
   "outputs": [
    {
     "data": {
      "text/html": [
       "<table border='1'>\n",
       "<tr><th>ProductID</th><th>Name</th><th>ProductNumber</th><th>MakeFlag</th><th>FinishedGoodsFlag</th><th>Color</th><th>SafetyStockLevel</th><th>ReorderPoint</th><th>StandardCost</th><th>ListPrice</th><th>Size</th><th>SizeUnitMeasureCode</th><th>WeightUnitMeasureCode</th><th>Weight</th><th>DaysToManufacture</th><th>ProductLine</th><th>Class</th><th>Style</th><th>ProductSubcategoryID</th><th>ProductModelID</th><th>SellStartDate</th><th>SellEndDate</th><th>DiscontinuedDate</th><th>rowguid</th><th>ModifiedDate</th></tr>\n",
       "<tr><td>709</td><td>Mountain Bike Socks, M</td><td>SO-B909-M</td><td>false</td><td>true</td><td>White</td><td>4</td><td>3</td><td>3.3963</td><td>9.5000</td><td>M</td><td>null</td><td>null</td><td>null</td><td>0</td><td>M </td><td>null</td><td>U </td><td>23</td><td>18</td><td>2011-05-31 00:00:00.000</td><td>2012-05-29 00:00:00.000</td><td>null</td><td>18F95F47-1540-4E02-8F1F-CC1...</td><td>2014-02-08 10:01:36.827</td></tr>\n",
       "<tr><td>710</td><td>Mountain Bike Socks, L</td><td>SO-B909-L</td><td>false</td><td>true</td><td>White</td><td>4</td><td>3</td><td>3.3963</td><td>9.5000</td><td>L</td><td>null</td><td>null</td><td>null</td><td>0</td><td>M </td><td>null</td><td>U </td><td>23</td><td>18</td><td>2011-05-31 00:00:00.000</td><td>2012-05-29 00:00:00.000</td><td>null</td><td>161C035E-21B3-4E14-8E44-AF5...</td><td>2014-02-08 10:01:36.827</td></tr>\n",
       "<tr><td>739</td><td>HL Mountain Frame - Silver, 42</td><td>FR-M94S-42</td><td>true</td><td>true</td><td>Silver</td><td>500</td><td>375</td><td>747.2002</td><td>1364.5000</td><td>42</td><td>CM </td><td>LB </td><td>2.72</td><td>1</td><td>M </td><td>H </td><td>U </td><td>12</td><td>5</td><td>2011-05-31 00:00:00.000</td><td>null</td><td>null</td><td>8AE32663-8D6F-457D-8343-5B1...</td><td>2014-02-08 10:01:36.827</td></tr>\n",
       "<tr><td>740</td><td>HL Mountain Frame - Silver, 44</td><td>FR-M94S-44</td><td>true</td><td>true</td><td>Silver</td><td>500</td><td>375</td><td>706.8110</td><td>1364.5000</td><td>44</td><td>CM </td><td>LB </td><td>2.76</td><td>1</td><td>M </td><td>H </td><td>U </td><td>12</td><td>5</td><td>2011-05-31 00:00:00.000</td><td>2012-05-29 00:00:00.000</td><td>null</td><td>1909C60C-C490-411D-B3E6-12D...</td><td>2014-02-08 10:01:36.827</td></tr>\n",
       "<tr><td>741</td><td>HL Mountain Frame - Silver, 48</td><td>FR-M94S-52</td><td>true</td><td>true</td><td>Silver</td><td>500</td><td>375</td><td>706.8110</td><td>1364.5000</td><td>48</td><td>CM </td><td>LB </td><td>2.80</td><td>1</td><td>M </td><td>H </td><td>U </td><td>12</td><td>5</td><td>2011-05-31 00:00:00.000</td><td>2012-05-29 00:00:00.000</td><td>null</td><td>B181EC1F-CA20-4724-B2EB-15F...</td><td>2014-02-08 10:01:36.827</td></tr>\n",
       "<tr><td>742</td><td>HL Mountain Frame - Silver, 46</td><td>FR-M94S-46</td><td>true</td><td>true</td><td>Silver</td><td>500</td><td>375</td><td>747.2002</td><td>1364.5000</td><td>46</td><td>CM </td><td>LB </td><td>2.84</td><td>1</td><td>M </td><td>H </td><td>U </td><td>12</td><td>5</td><td>2011-05-31 00:00:00.000</td><td>null</td><td>null</td><td>A189D86E-D923-4336-B13D-A5D...</td><td>2014-02-08 10:01:36.827</td></tr>\n",
       "<tr><td>743</td><td>HL Mountain Frame - Black, 42</td><td>FR-M94B-42</td><td>true</td><td>true</td><td>Black</td><td>500</td><td>375</td><td>739.0410</td><td>1349.6000</td><td>42</td><td>CM </td><td>LB </td><td>2.72</td><td>1</td><td>M </td><td>H </td><td>U </td><td>12</td><td>5</td><td>2011-05-31 00:00:00.000</td><td>null</td><td>null</td><td>27DB28F8-5AB8-4091-B94E-6F1...</td><td>2014-02-08 10:01:36.827</td></tr>\n",
       "<tr><td>744</td><td>HL Mountain Frame - Black, 44</td><td>FR-M94B-44</td><td>true</td><td>true</td><td>Black</td><td>500</td><td>375</td><td>699.0928</td><td>1349.6000</td><td>44</td><td>CM </td><td>LB </td><td>2.76</td><td>1</td><td>M </td><td>H </td><td>U </td><td>12</td><td>5</td><td>2011-05-31 00:00:00.000</td><td>2012-05-29 00:00:00.000</td><td>null</td><td>CB443286-6B25-409F-A10B-1AD...</td><td>2014-02-08 10:01:36.827</td></tr>\n",
       "<tr><td>745</td><td>HL Mountain Frame - Black, 48</td><td>FR-M94B-48</td><td>true</td><td>true</td><td>Black</td><td>500</td><td>375</td><td>699.0928</td><td>1349.6000</td><td>48</td><td>CM </td><td>LB </td><td>2.80</td><td>1</td><td>M </td><td>H </td><td>U </td><td>12</td><td>5</td><td>2011-05-31 00:00:00.000</td><td>2012-05-29 00:00:00.000</td><td>null</td><td>1FEE0573-6676-432D-8D6D-41B...</td><td>2014-02-08 10:01:36.827</td></tr>\n",
       "<tr><td>746</td><td>HL Mountain Frame - Black, 46</td><td>FR-M94B-46</td><td>true</td><td>true</td><td>Black</td><td>500</td><td>375</td><td>739.0410</td><td>1349.6000</td><td>46</td><td>CM </td><td>LB </td><td>2.84</td><td>1</td><td>M </td><td>H </td><td>U </td><td>12</td><td>5</td><td>2011-05-31 00:00:00.000</td><td>null</td><td>null</td><td>50ABEBCB-451E-42B9-8DBB-E5C...</td><td>2014-02-08 10:01:36.827</td></tr>\n",
       "<tr><td>747</td><td>HL Mountain Frame - Black, 38</td><td>FR-M94B-38</td><td>true</td><td>true</td><td>Black</td><td>500</td><td>375</td><td>739.0410</td><td>1349.6000</td><td>38</td><td>CM </td><td>LB </td><td>2.68</td><td>2</td><td>M </td><td>H </td><td>U </td><td>12</td><td>5</td><td>2011-05-31 00:00:00.000</td><td>null</td><td>null</td><td>0C548577-3171-4CE2-B9A0-1ED...</td><td>2014-02-08 10:01:36.827</td></tr>\n",
       "<tr><td>748</td><td>HL Mountain Frame - Silver, 38</td><td>FR-M94S-38</td><td>true</td><td>true</td><td>Silver</td><td>500</td><td>375</td><td>747.2002</td><td>1364.5000</td><td>38</td><td>CM </td><td>LB </td><td>2.68</td><td>2</td><td>M </td><td>H </td><td>U </td><td>12</td><td>5</td><td>2011-05-31 00:00:00.000</td><td>null</td><td>null</td><td>F246ACAA-A80B-40EC-9208-02E...</td><td>2014-02-08 10:01:36.827</td></tr>\n",
       "<tr><td>771</td><td>Mountain-100 Silver, 38</td><td>BK-M82S-38</td><td>true</td><td>true</td><td>Silver</td><td>100</td><td>75</td><td>1912.1544</td><td>3399.9900</td><td>38</td><td>CM </td><td>LB </td><td>20.35</td><td>4</td><td>M </td><td>H </td><td>U </td><td>1</td><td>19</td><td>2011-05-31 00:00:00.000</td><td>2012-05-29 00:00:00.000</td><td>null</td><td>CA74B54E-FC30-4464-8B83-019...</td><td>2014-02-08 10:01:36.827</td></tr>\n",
       "<tr><td>772</td><td>Mountain-100 Silver, 42</td><td>BK-M82S-42</td><td>true</td><td>true</td><td>Silver</td><td>100</td><td>75</td><td>1912.1544</td><td>3399.9900</td><td>42</td><td>CM </td><td>LB </td><td>20.77</td><td>4</td><td>M </td><td>H </td><td>U </td><td>1</td><td>19</td><td>2011-05-31 00:00:00.000</td><td>2012-05-29 00:00:00.000</td><td>null</td><td>BBFFF5A5-4BDC-49A9-A5AD-758...</td><td>2014-02-08 10:01:36.827</td></tr>\n",
       "<tr><td>773</td><td>Mountain-100 Silver, 44</td><td>BK-M82S-44</td><td>true</td><td>true</td><td>Silver</td><td>100</td><td>75</td><td>1912.1544</td><td>3399.9900</td><td>44</td><td>CM </td><td>LB </td><td>21.13</td><td>4</td><td>M </td><td>H </td><td>U </td><td>1</td><td>19</td><td>2011-05-31 00:00:00.000</td><td>2012-05-29 00:00:00.000</td><td>null</td><td>155FD77E-D6D6-43F0-8A5B-4A8...</td><td>2014-02-08 10:01:36.827</td></tr>\n",
       "<tr><td>774</td><td>Mountain-100 Silver, 48</td><td>BK-M82S-48</td><td>true</td><td>true</td><td>Silver</td><td>100</td><td>75</td><td>1912.1544</td><td>3399.9900</td><td>48</td><td>CM </td><td>LB </td><td>21.42</td><td>4</td><td>M </td><td>H </td><td>U </td><td>1</td><td>19</td><td>2011-05-31 00:00:00.000</td><td>2012-05-29 00:00:00.000</td><td>null</td><td>BA5551DF-C9EE-4B43-B3CA-8C1...</td><td>2014-02-08 10:01:36.827</td></tr>\n",
       "<tr><td>775</td><td>Mountain-100 Black, 38</td><td>BK-M82B-38</td><td>true</td><td>true</td><td>Black</td><td>100</td><td>75</td><td>1898.0944</td><td>3374.9900</td><td>38</td><td>CM </td><td>LB </td><td>20.35</td><td>4</td><td>M </td><td>H </td><td>U </td><td>1</td><td>19</td><td>2011-05-31 00:00:00.000</td><td>2012-05-29 00:00:00.000</td><td>null</td><td>DEA33347-FCD3-4346-AA0F-068...</td><td>2014-02-08 10:01:36.827</td></tr>\n",
       "<tr><td>776</td><td>Mountain-100 Black, 42</td><td>BK-M82B-42</td><td>true</td><td>true</td><td>Black</td><td>100</td><td>75</td><td>1898.0944</td><td>3374.9900</td><td>42</td><td>CM </td><td>LB </td><td>20.77</td><td>4</td><td>M </td><td>H </td><td>U </td><td>1</td><td>19</td><td>2011-05-31 00:00:00.000</td><td>2012-05-29 00:00:00.000</td><td>null</td><td>02935111-A546-4C6D-941F-BE1...</td><td>2014-02-08 10:01:36.827</td></tr>\n",
       "<tr><td>777</td><td>Mountain-100 Black, 44</td><td>BK-M82B-44</td><td>true</td><td>true</td><td>Black</td><td>100</td><td>75</td><td>1898.0944</td><td>3374.9900</td><td>44</td><td>CM </td><td>LB </td><td>21.13</td><td>4</td><td>M </td><td>H </td><td>U </td><td>1</td><td>19</td><td>2011-05-31 00:00:00.000</td><td>2012-05-29 00:00:00.000</td><td>null</td><td>7920BC3B-8FD4-4610-93D2-E69...</td><td>2014-02-08 10:01:36.827</td></tr>\n",
       "<tr><td>778</td><td>Mountain-100 Black, 48</td><td>BK-M82B-48</td><td>true</td><td>true</td><td>Black</td><td>100</td><td>75</td><td>1898.0944</td><td>3374.9900</td><td>48</td><td>CM </td><td>LB </td><td>21.42</td><td>4</td><td>M </td><td>H </td><td>U </td><td>1</td><td>19</td><td>2011-05-31 00:00:00.000</td><td>2012-05-29 00:00:00.000</td><td>null</td><td>1B486300-7E64-4C5D-A9BA-A83...</td><td>2014-02-08 10:01:36.827</td></tr>\n",
       "<tr><td>779</td><td>Mountain-200 Silver, 38</td><td>BK-M68S-38</td><td>true</td><td>true</td><td>Silver</td><td>100</td><td>75</td><td>1265.6195</td><td>2319.9900</td><td>38</td><td>CM </td><td>LB </td><td>23.35</td><td>4</td><td>M </td><td>H </td><td>U </td><td>1</td><td>20</td><td>2012-05-30 00:00:00.000</td><td>null</td><td>null</td><td>3A45D835-ABAE-4806-AC03-C53...</td><td>2014-02-08 10:01:36.827</td></tr>\n",
       "<tr><td>780</td><td>Mountain-200 Silver, 42</td><td>BK-M68S-42</td><td>true</td><td>true</td><td>Silver</td><td>100</td><td>75</td><td>1265.6195</td><td>2319.9900</td><td>42</td><td>CM </td><td>LB </td><td>23.77</td><td>4</td><td>M </td><td>H </td><td>U </td><td>1</td><td>20</td><td>2012-05-30 00:00:00.000</td><td>null</td><td>null</td><td>CE4849B4-56E6-4B50-808B-9BD...</td><td>2014-02-08 10:01:36.827</td></tr>\n",
       "<tr><td>781</td><td>Mountain-200 Silver, 46</td><td>BK-M68S-46</td><td>true</td><td>true</td><td>Silver</td><td>100</td><td>75</td><td>1265.6195</td><td>2319.9900</td><td>46</td><td>CM </td><td>LB </td><td>24.13</td><td>4</td><td>M </td><td>H </td><td>U </td><td>1</td><td>20</td><td>2012-05-30 00:00:00.000</td><td>null</td><td>null</td><td>20799030-420C-496A-9922-091...</td><td>2014-02-08 10:01:36.827</td></tr>\n",
       "<tr><td>782</td><td>Mountain-200 Black, 38</td><td>BK-M68B-38</td><td>true</td><td>true</td><td>Black</td><td>100</td><td>75</td><td>1251.9813</td><td>2294.9900</td><td>38</td><td>CM </td><td>LB </td><td>23.35</td><td>4</td><td>M </td><td>H </td><td>U </td><td>1</td><td>20</td><td>2012-05-30 00:00:00.000</td><td>null</td><td>null</td><td>82CB8F9B-B8BB-4841-98D3-BCD...</td><td>2014-02-08 10:01:36.827</td></tr>\n",
       "<tr><td>783</td><td>Mountain-200 Black, 42</td><td>BK-M68B-42</td><td>true</td><td>true</td><td>Black</td><td>100</td><td>75</td><td>1251.9813</td><td>2294.9900</td><td>42</td><td>CM </td><td>LB </td><td>23.77</td><td>4</td><td>M </td><td>H </td><td>U </td><td>1</td><td>20</td><td>2012-05-30 00:00:00.000</td><td>null</td><td>null</td><td>2B0AF5B9-7571-4621-B760-47D...</td><td>2014-02-08 10:01:36.827</td></tr>\n",
       "<tr><td>784</td><td>Mountain-200 Black, 46</td><td>BK-M68B-46</td><td>true</td><td>true</td><td>Black</td><td>100</td><td>75</td><td>1251.9813</td><td>2294.9900</td><td>46</td><td>CM </td><td>LB </td><td>24.13</td><td>4</td><td>M </td><td>H </td><td>U </td><td>1</td><td>20</td><td>2012-05-30 00:00:00.000</td><td>null</td><td>null</td><td>33F42284-E216-4B98-BA48-B4E...</td><td>2014-02-08 10:01:36.827</td></tr>\n",
       "<tr><td>785</td><td>Mountain-300 Black, 38</td><td>BK-M47B-38</td><td>true</td><td>true</td><td>Black</td><td>100</td><td>75</td><td>598.4354</td><td>1079.9900</td><td>38</td><td>CM </td><td>LB </td><td>25.35</td><td>4</td><td>M </td><td>M </td><td>U </td><td>1</td><td>21</td><td>2012-05-30 00:00:00.000</td><td>2013-05-29 00:00:00.000</td><td>null</td><td>F06C2CBF-0901-4C08-80ED-FB4...</td><td>2014-02-08 10:01:36.827</td></tr>\n",
       "<tr><td>786</td><td>Mountain-300 Black, 40</td><td>BK-M47B-40</td><td>true</td><td>true</td><td>Black</td><td>100</td><td>75</td><td>598.4354</td><td>1079.9900</td><td>40</td><td>CM </td><td>LB </td><td>25.77</td><td>4</td><td>M </td><td>M </td><td>U </td><td>1</td><td>21</td><td>2012-05-30 00:00:00.000</td><td>2013-05-29 00:00:00.000</td><td>null</td><td>580D4322-BE03-4C91-83D2-EE3...</td><td>2014-02-08 10:01:36.827</td></tr>\n",
       "<tr><td>787</td><td>Mountain-300 Black, 44</td><td>BK-M47B-44</td><td>true</td><td>true</td><td>Black</td><td>100</td><td>75</td><td>598.4354</td><td>1079.9900</td><td>44</td><td>CM </td><td>LB </td><td>26.13</td><td>4</td><td>M </td><td>M </td><td>U </td><td>1</td><td>21</td><td>2012-05-30 00:00:00.000</td><td>2013-05-29 00:00:00.000</td><td>null</td><td>07C2A548-0452-47B4-9DCE-6ED...</td><td>2014-02-08 10:01:36.827</td></tr>\n",
       "<tr><td>788</td><td>Mountain-300 Black, 48</td><td>BK-M47B-48</td><td>true</td><td>true</td><td>Black</td><td>100</td><td>75</td><td>598.4354</td><td>1079.9900</td><td>48</td><td>CM </td><td>LB </td><td>26.42</td><td>4</td><td>M </td><td>M </td><td>U </td><td>1</td><td>21</td><td>2012-05-30 00:00:00.000</td><td>2013-05-29 00:00:00.000</td><td>null</td><td>16078DBE-388D-4C18-AA8F-0C8...</td><td>2014-02-08 10:01:36.827</td></tr>\n",
       "</table>\n",
       "only showing top 30 rows\n"
      ],
      "text/plain": [
       "+---------+------------------------------+-------------+--------+-----------------+------+----------------+------------+------------+---------+----+-------------------+---------------------+------+-----------------+-----------+-----+-----+--------------------+--------------+-----------------------+-----------------------+----------------+------------------------------+-----------------------+\n",
       "|ProductID|                          Name|ProductNumber|MakeFlag|FinishedGoodsFlag| Color|SafetyStockLevel|ReorderPoint|StandardCost|ListPrice|Size|SizeUnitMeasureCode|WeightUnitMeasureCode|Weight|DaysToManufacture|ProductLine|Class|Style|ProductSubcategoryID|ProductModelID|          SellStartDate|            SellEndDate|DiscontinuedDate|                       rowguid|           ModifiedDate|\n",
       "+---------+------------------------------+-------------+--------+-----------------+------+----------------+------------+------------+---------+----+-------------------+---------------------+------+-----------------+-----------+-----+-----+--------------------+--------------+-----------------------+-----------------------+----------------+------------------------------+-----------------------+\n",
       "|      709|        Mountain Bike Socks, M|    SO-B909-M|   false|             true| White|               4|           3|      3.3963|   9.5000|   M|               null|                 null|  null|                0|         M | null|   U |                  23|            18|2011-05-31 00:00:00.000|2012-05-29 00:00:00.000|            null|18F95F47-1540-4E02-8F1F-CC1...|2014-02-08 10:01:36.827|\n",
       "|      710|        Mountain Bike Socks, L|    SO-B909-L|   false|             true| White|               4|           3|      3.3963|   9.5000|   L|               null|                 null|  null|                0|         M | null|   U |                  23|            18|2011-05-31 00:00:00.000|2012-05-29 00:00:00.000|            null|161C035E-21B3-4E14-8E44-AF5...|2014-02-08 10:01:36.827|\n",
       "|      739|HL Mountain Frame - Silver, 42|   FR-M94S-42|    true|             true|Silver|             500|         375|    747.2002|1364.5000|  42|                CM |                  LB |  2.72|                1|         M |   H |   U |                  12|             5|2011-05-31 00:00:00.000|                   null|            null|8AE32663-8D6F-457D-8343-5B1...|2014-02-08 10:01:36.827|\n",
       "|      740|HL Mountain Frame - Silver, 44|   FR-M94S-44|    true|             true|Silver|             500|         375|    706.8110|1364.5000|  44|                CM |                  LB |  2.76|                1|         M |   H |   U |                  12|             5|2011-05-31 00:00:00.000|2012-05-29 00:00:00.000|            null|1909C60C-C490-411D-B3E6-12D...|2014-02-08 10:01:36.827|\n",
       "|      741|HL Mountain Frame - Silver, 48|   FR-M94S-52|    true|             true|Silver|             500|         375|    706.8110|1364.5000|  48|                CM |                  LB |  2.80|                1|         M |   H |   U |                  12|             5|2011-05-31 00:00:00.000|2012-05-29 00:00:00.000|            null|B181EC1F-CA20-4724-B2EB-15F...|2014-02-08 10:01:36.827|\n",
       "|      742|HL Mountain Frame - Silver, 46|   FR-M94S-46|    true|             true|Silver|             500|         375|    747.2002|1364.5000|  46|                CM |                  LB |  2.84|                1|         M |   H |   U |                  12|             5|2011-05-31 00:00:00.000|                   null|            null|A189D86E-D923-4336-B13D-A5D...|2014-02-08 10:01:36.827|\n",
       "|      743| HL Mountain Frame - Black, 42|   FR-M94B-42|    true|             true| Black|             500|         375|    739.0410|1349.6000|  42|                CM |                  LB |  2.72|                1|         M |   H |   U |                  12|             5|2011-05-31 00:00:00.000|                   null|            null|27DB28F8-5AB8-4091-B94E-6F1...|2014-02-08 10:01:36.827|\n",
       "|      744| HL Mountain Frame - Black, 44|   FR-M94B-44|    true|             true| Black|             500|         375|    699.0928|1349.6000|  44|                CM |                  LB |  2.76|                1|         M |   H |   U |                  12|             5|2011-05-31 00:00:00.000|2012-05-29 00:00:00.000|            null|CB443286-6B25-409F-A10B-1AD...|2014-02-08 10:01:36.827|\n",
       "|      745| HL Mountain Frame - Black, 48|   FR-M94B-48|    true|             true| Black|             500|         375|    699.0928|1349.6000|  48|                CM |                  LB |  2.80|                1|         M |   H |   U |                  12|             5|2011-05-31 00:00:00.000|2012-05-29 00:00:00.000|            null|1FEE0573-6676-432D-8D6D-41B...|2014-02-08 10:01:36.827|\n",
       "|      746| HL Mountain Frame - Black, 46|   FR-M94B-46|    true|             true| Black|             500|         375|    739.0410|1349.6000|  46|                CM |                  LB |  2.84|                1|         M |   H |   U |                  12|             5|2011-05-31 00:00:00.000|                   null|            null|50ABEBCB-451E-42B9-8DBB-E5C...|2014-02-08 10:01:36.827|\n",
       "|      747| HL Mountain Frame - Black, 38|   FR-M94B-38|    true|             true| Black|             500|         375|    739.0410|1349.6000|  38|                CM |                  LB |  2.68|                2|         M |   H |   U |                  12|             5|2011-05-31 00:00:00.000|                   null|            null|0C548577-3171-4CE2-B9A0-1ED...|2014-02-08 10:01:36.827|\n",
       "|      748|HL Mountain Frame - Silver, 38|   FR-M94S-38|    true|             true|Silver|             500|         375|    747.2002|1364.5000|  38|                CM |                  LB |  2.68|                2|         M |   H |   U |                  12|             5|2011-05-31 00:00:00.000|                   null|            null|F246ACAA-A80B-40EC-9208-02E...|2014-02-08 10:01:36.827|\n",
       "|      771|       Mountain-100 Silver, 38|   BK-M82S-38|    true|             true|Silver|             100|          75|   1912.1544|3399.9900|  38|                CM |                  LB | 20.35|                4|         M |   H |   U |                   1|            19|2011-05-31 00:00:00.000|2012-05-29 00:00:00.000|            null|CA74B54E-FC30-4464-8B83-019...|2014-02-08 10:01:36.827|\n",
       "|      772|       Mountain-100 Silver, 42|   BK-M82S-42|    true|             true|Silver|             100|          75|   1912.1544|3399.9900|  42|                CM |                  LB | 20.77|                4|         M |   H |   U |                   1|            19|2011-05-31 00:00:00.000|2012-05-29 00:00:00.000|            null|BBFFF5A5-4BDC-49A9-A5AD-758...|2014-02-08 10:01:36.827|\n",
       "|      773|       Mountain-100 Silver, 44|   BK-M82S-44|    true|             true|Silver|             100|          75|   1912.1544|3399.9900|  44|                CM |                  LB | 21.13|                4|         M |   H |   U |                   1|            19|2011-05-31 00:00:00.000|2012-05-29 00:00:00.000|            null|155FD77E-D6D6-43F0-8A5B-4A8...|2014-02-08 10:01:36.827|\n",
       "|      774|       Mountain-100 Silver, 48|   BK-M82S-48|    true|             true|Silver|             100|          75|   1912.1544|3399.9900|  48|                CM |                  LB | 21.42|                4|         M |   H |   U |                   1|            19|2011-05-31 00:00:00.000|2012-05-29 00:00:00.000|            null|BA5551DF-C9EE-4B43-B3CA-8C1...|2014-02-08 10:01:36.827|\n",
       "|      775|        Mountain-100 Black, 38|   BK-M82B-38|    true|             true| Black|             100|          75|   1898.0944|3374.9900|  38|                CM |                  LB | 20.35|                4|         M |   H |   U |                   1|            19|2011-05-31 00:00:00.000|2012-05-29 00:00:00.000|            null|DEA33347-FCD3-4346-AA0F-068...|2014-02-08 10:01:36.827|\n",
       "|      776|        Mountain-100 Black, 42|   BK-M82B-42|    true|             true| Black|             100|          75|   1898.0944|3374.9900|  42|                CM |                  LB | 20.77|                4|         M |   H |   U |                   1|            19|2011-05-31 00:00:00.000|2012-05-29 00:00:00.000|            null|02935111-A546-4C6D-941F-BE1...|2014-02-08 10:01:36.827|\n",
       "|      777|        Mountain-100 Black, 44|   BK-M82B-44|    true|             true| Black|             100|          75|   1898.0944|3374.9900|  44|                CM |                  LB | 21.13|                4|         M |   H |   U |                   1|            19|2011-05-31 00:00:00.000|2012-05-29 00:00:00.000|            null|7920BC3B-8FD4-4610-93D2-E69...|2014-02-08 10:01:36.827|\n",
       "|      778|        Mountain-100 Black, 48|   BK-M82B-48|    true|             true| Black|             100|          75|   1898.0944|3374.9900|  48|                CM |                  LB | 21.42|                4|         M |   H |   U |                   1|            19|2011-05-31 00:00:00.000|2012-05-29 00:00:00.000|            null|1B486300-7E64-4C5D-A9BA-A83...|2014-02-08 10:01:36.827|\n",
       "|      779|       Mountain-200 Silver, 38|   BK-M68S-38|    true|             true|Silver|             100|          75|   1265.6195|2319.9900|  38|                CM |                  LB | 23.35|                4|         M |   H |   U |                   1|            20|2012-05-30 00:00:00.000|                   null|            null|3A45D835-ABAE-4806-AC03-C53...|2014-02-08 10:01:36.827|\n",
       "|      780|       Mountain-200 Silver, 42|   BK-M68S-42|    true|             true|Silver|             100|          75|   1265.6195|2319.9900|  42|                CM |                  LB | 23.77|                4|         M |   H |   U |                   1|            20|2012-05-30 00:00:00.000|                   null|            null|CE4849B4-56E6-4B50-808B-9BD...|2014-02-08 10:01:36.827|\n",
       "|      781|       Mountain-200 Silver, 46|   BK-M68S-46|    true|             true|Silver|             100|          75|   1265.6195|2319.9900|  46|                CM |                  LB | 24.13|                4|         M |   H |   U |                   1|            20|2012-05-30 00:00:00.000|                   null|            null|20799030-420C-496A-9922-091...|2014-02-08 10:01:36.827|\n",
       "|      782|        Mountain-200 Black, 38|   BK-M68B-38|    true|             true| Black|             100|          75|   1251.9813|2294.9900|  38|                CM |                  LB | 23.35|                4|         M |   H |   U |                   1|            20|2012-05-30 00:00:00.000|                   null|            null|82CB8F9B-B8BB-4841-98D3-BCD...|2014-02-08 10:01:36.827|\n",
       "|      783|        Mountain-200 Black, 42|   BK-M68B-42|    true|             true| Black|             100|          75|   1251.9813|2294.9900|  42|                CM |                  LB | 23.77|                4|         M |   H |   U |                   1|            20|2012-05-30 00:00:00.000|                   null|            null|2B0AF5B9-7571-4621-B760-47D...|2014-02-08 10:01:36.827|\n",
       "|      784|        Mountain-200 Black, 46|   BK-M68B-46|    true|             true| Black|             100|          75|   1251.9813|2294.9900|  46|                CM |                  LB | 24.13|                4|         M |   H |   U |                   1|            20|2012-05-30 00:00:00.000|                   null|            null|33F42284-E216-4B98-BA48-B4E...|2014-02-08 10:01:36.827|\n",
       "|      785|        Mountain-300 Black, 38|   BK-M47B-38|    true|             true| Black|             100|          75|    598.4354|1079.9900|  38|                CM |                  LB | 25.35|                4|         M |   M |   U |                   1|            21|2012-05-30 00:00:00.000|2013-05-29 00:00:00.000|            null|F06C2CBF-0901-4C08-80ED-FB4...|2014-02-08 10:01:36.827|\n",
       "|      786|        Mountain-300 Black, 40|   BK-M47B-40|    true|             true| Black|             100|          75|    598.4354|1079.9900|  40|                CM |                  LB | 25.77|                4|         M |   M |   U |                   1|            21|2012-05-30 00:00:00.000|2013-05-29 00:00:00.000|            null|580D4322-BE03-4C91-83D2-EE3...|2014-02-08 10:01:36.827|\n",
       "|      787|        Mountain-300 Black, 44|   BK-M47B-44|    true|             true| Black|             100|          75|    598.4354|1079.9900|  44|                CM |                  LB | 26.13|                4|         M |   M |   U |                   1|            21|2012-05-30 00:00:00.000|2013-05-29 00:00:00.000|            null|07C2A548-0452-47B4-9DCE-6ED...|2014-02-08 10:01:36.827|\n",
       "|      788|        Mountain-300 Black, 48|   BK-M47B-48|    true|             true| Black|             100|          75|    598.4354|1079.9900|  48|                CM |                  LB | 26.42|                4|         M |   M |   U |                   1|            21|2012-05-30 00:00:00.000|2013-05-29 00:00:00.000|            null|16078DBE-388D-4C18-AA8F-0C8...|2014-02-08 10:01:36.827|\n",
       "+---------+------------------------------+-------------+--------+-----------------+------+----------------+------------+------------+---------+----+-------------------+---------------------+------+-----------------+-----------+-----+-----+--------------------+--------------+-----------------------+-----------------------+----------------+------------------------------+-----------------------+\n",
       "only showing top 30 rows"
      ]
     },
     "execution_count": 78,
     "metadata": {},
     "output_type": "execute_result"
    }
   ],
   "source": [
    "spark.read.option('header',True).csv('work/pyspark/documentation/data/AdventureWorks/Production/Product.csv') \\\n",
    "    .where(col(\"ProductLine\") == 'M ')\n"
   ]
  },
  {
   "cell_type": "code",
   "execution_count": null,
   "metadata": {},
   "outputs": [],
   "source": []
  }
 ],
 "metadata": {
  "kernelspec": {
   "display_name": "Python 3 (ipykernel)",
   "language": "python",
   "name": "python3"
  },
  "language_info": {
   "codemirror_mode": {
    "name": "ipython",
    "version": 3
   },
   "file_extension": ".py",
   "mimetype": "text/x-python",
   "name": "python",
   "nbconvert_exporter": "python",
   "pygments_lexer": "ipython3",
   "version": "3.10.8"
  },
  "orig_nbformat": 4
 },
 "nbformat": 4,
 "nbformat_minor": 2
}
