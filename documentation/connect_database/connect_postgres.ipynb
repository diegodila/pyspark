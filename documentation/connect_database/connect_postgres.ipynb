{
 "cells": [
  {
   "attachments": {},
   "cell_type": "markdown",
   "metadata": {},
   "source": [
    "## connections two containers \n",
    "\n",
    "        docker network create todo-app\n",
    "\n",
    "        docker run -p 5435:5432 \\\n",
    "        --name paw \\\n",
    "        -e 'POSTGRES_PASSWORD=my_password' \\\n",
    "        --network todo-app --network-alias postgres_network \\\n",
    "        -d chriseaton/adventureworks:postgres\n",
    "\n",
    "        ------------------------------------------------\n",
    "        docker run -d -p 8888:8888 --name note \\\n",
    "        --network todo-app \\\n",
    "        -e 'POSTGRES_PASSWORD=my_password' \\\n",
    "        -e JUPYTER_TOKEN=\"easy\" \\\n",
    "        -v $HOME/Projects/AIEngineering:/home/jovyan/work/AIEngineering \\\n",
    "        -v $HOME/Projects/pyspark:/home/jovyan/work/pyspark \\\n",
    "        -v $HOME/Projects/datastructure:/home/jovyan/work/datastructure \\\n",
    "        -v $HOME/Projects/pythonclub:/home/jovyan/work/pythonclub \\\n",
    "        -v $HOME/Projects/greatexpectations:/home/jovyan/work/greatexpectations \\\n",
    "        jupyter/all-spark-notebook\n",
    "\n",
    "        docker logs --tail 3 note\n",
    "\n",
    "        #ver rede do container\n",
    "        docker inspect paw | grep IPAddress\n",
    "\n",
    "### Connect Spark to PostgreSql\n",
    "        #run into container\n",
    "        wget https://jdbc.postgresql.org/download/postgresql-42.2.6.jar"
   ]
  },
  {
   "cell_type": "code",
   "execution_count": 25,
   "metadata": {},
   "outputs": [],
   "source": [
    "\n",
    "# Connect to an existing database\n",
    "connection = psycopg2.connect(user=\"postgres\",\n",
    "                                  password=\"my_password\",\n",
    "                                  host=\"172.18.0.2\",\n",
    "                                  port=\"5432\",\n",
    "                                  database=\"postgres\")"
   ]
  },
  {
   "cell_type": "code",
   "execution_count": 24,
   "metadata": {},
   "outputs": [
    {
     "name": "stdout",
     "output_type": "stream",
     "text": [
      "PostgreSQL server information\n",
      "{'user': 'postgres', 'channel_binding': 'prefer', 'dbname': 'postgres', 'host': '172.18.0.2', 'port': '5432', 'options': '', 'sslmode': 'prefer', 'sslcompression': '0', 'sslsni': '1', 'ssl_min_protocol_version': 'TLSv1.2', 'gssencmode': 'prefer', 'krbsrvname': 'postgres', 'target_session_attrs': 'any'} \n",
      "\n",
      "You are connected to -  ('PostgreSQL 13.7 (Debian 13.7-1.pgdg110+1) on x86_64-pc-linux-gnu, compiled by gcc (Debian 10.2.1-6) 10.2.1 20210110, 64-bit',) \n",
      "\n",
      "PostgreSQL connection is closed\n"
     ]
    }
   ],
   "source": [
    "from psycopg2 import Error\n",
    "import psycopg2\n",
    "\n",
    "try:\n",
    "    # Connect to an existing database\n",
    "    connection = psycopg2.connect(user=\"postgres\",\n",
    "                                  password=\"my_password\",\n",
    "                                  host=\"172.18.0.2\",\n",
    "                                  port=\"5432\",\n",
    "                                  database=\"postgres\")\n",
    "\n",
    "    # Create a cursor to perform database operations\n",
    "    cursor = connection.cursor()\n",
    "    # Print PostgreSQL details\n",
    "    print(\"PostgreSQL server information\")\n",
    "    print(connection.get_dsn_parameters(), \"\\n\")\n",
    "    # Executing a SQL query\n",
    "    cursor.execute(\"SELECT version();\")\n",
    "    # Fetch result\n",
    "    record = cursor.fetchone()\n",
    "    print(\"You are connected to - \", record, \"\\n\")\n",
    "\n",
    "except (Exception, Error) as error:\n",
    "    print(\"Error while connecting to PostgreSQL\", error)\n",
    "finally:\n",
    "    if (connection):\n",
    "        cursor.close()\n",
    "        connection.close()\n",
    "        print(\"PostgreSQL connection is closed\")"
   ]
  },
  {
   "cell_type": "code",
   "execution_count": null,
   "metadata": {},
   "outputs": [],
   "source": [
    "from pyspark.sql import SparkSession\n",
    "\n",
    "spark = SparkSession \\\n",
    "    .builder \\\n",
    "    .appName(\"Python Spark SQL basic example\") \\\n",
    "    .config(\"spark.jars\", \"./driver_postgres/postgresql-42.5.1.jar\") \\\n",
    "    .getOrCreate()"
   ]
  },
  {
   "cell_type": "code",
   "execution_count": null,
   "metadata": {},
   "outputs": [],
   "source": [
    "df = spark.read \\\n",
    "    .format(\"jdbc\") \\\n",
    "    .option(\"url\", \"jdbc:postgresql://172.18.0.2:5432/postgres\") \\\n",
    "    .option(\"dbtable\", \"Person\") \\\n",
    "    .option(\"user\", \"postgres\") \\\n",
    "    .option(\"password\", \"my_password\") \\\n",
    "    .option(\"driver\", \"org.postgresql.Driver\") \\\n",
    "    .load()"
   ]
  },
  {
   "cell_type": "code",
   "execution_count": null,
   "metadata": {},
   "outputs": [],
   "source": [
    "\n",
    "df.printSchema()"
   ]
  },
  {
   "cell_type": "code",
   "execution_count": null,
   "metadata": {},
   "outputs": [],
   "source": [
    "spark = SparkSession.builder.getOrCreate()"
   ]
  },
  {
   "cell_type": "code",
   "execution_count": null,
   "metadata": {},
   "outputs": [],
   "source": [
    "from pyspark.sql import DataFrameReader\n",
    "\n",
    "url = 'postgresql://172.18.0.2:5432/postgres'\n",
    "properties = {'user': 'postgres', 'password': 'my_password'}\n",
    "df = DataFrameReader(sqlContext).jdbc(\n",
    "    url='jdbc:%s' % url, table='tablename', properties=properties\n",
    ")\n"
   ]
  },
  {
   "cell_type": "code",
   "execution_count": null,
   "metadata": {},
   "outputs": [],
   "source": [
    "df = sqlContext.read.format('jdbc').\\\n",
    "    options(url='jdbc:%s' % url, dbtable='tablename').\\\n",
    "    load()\n"
   ]
  },
  {
   "cell_type": "code",
   "execution_count": null,
   "metadata": {},
   "outputs": [],
   "source": []
  }
 ],
 "metadata": {
  "kernelspec": {
   "display_name": "Python 3 (ipykernel)",
   "language": "python",
   "name": "python3"
  },
  "language_info": {
   "codemirror_mode": {
    "name": "ipython",
    "version": 3
   },
   "file_extension": ".py",
   "mimetype": "text/x-python",
   "name": "python",
   "nbconvert_exporter": "python",
   "pygments_lexer": "ipython3",
   "version": "3.10.8"
  },
  "orig_nbformat": 4
 },
 "nbformat": 4,
 "nbformat_minor": 2
}
