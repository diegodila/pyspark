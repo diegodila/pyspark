{
 "cells": [
  {
   "cell_type": "code",
   "execution_count": 1,
   "id": "0be111ab-27b8-419c-b733-27e61eb199ec",
   "metadata": {},
   "outputs": [],
   "source": [
    "import psycopg2"
   ]
  },
  {
   "cell_type": "code",
   "execution_count": null,
   "id": "c813577c-0e52-47a4-9940-88e42307f18b",
   "metadata": {},
   "outputs": [],
   "source": []
  },
  {
   "cell_type": "code",
   "execution_count": null,
   "id": "5ffdef15-7812-431a-a694-cffaec6f58f1",
   "metadata": {},
   "outputs": [],
   "source": []
  },
  {
   "cell_type": "code",
   "execution_count": 15,
   "id": "64e2eb3e-31d2-415e-8b09-b0884108dd65",
   "metadata": {},
   "outputs": [],
   "source": [
    "# pip install --upgrade google-api-python-client google-auth-httplib2 google-auth-oauthlib"
   ]
  },
  {
   "cell_type": "code",
   "execution_count": 6,
   "id": "e0a32e8d-1d1b-42a9-b5e9-eb200a608fa4",
   "metadata": {},
   "outputs": [],
   "source": [
    "import gspread"
   ]
  },
  {
   "cell_type": "code",
   "execution_count": 7,
   "id": "2bb39a18-924f-4e8b-915c-80bb3fb6e6ce",
   "metadata": {},
   "outputs": [],
   "source": [
    "# importing the required libraries\n",
    "import gspread\n",
    "import pandas as pd\n",
    "from oauth2client.service_account import ServiceAccountCredentials"
   ]
  },
  {
   "cell_type": "code",
   "execution_count": 21,
   "id": "e4b67053-76a1-4f9b-beb0-c5a74063629a",
   "metadata": {},
   "outputs": [],
   "source": [
    "# define the scope\n",
    "scope = ['https://spreadsheets.google.com/feeds','https://www.googleapis.com/auth/drive']\n",
    "\n",
    "# add credentials to the account\n",
    "creds = ServiceAccountCredentials.from_json_keyfile_name('./json/samsung-automation-46eb8c6da77a.json', scope)\n",
    "\n",
    "# authorize the clientsheet\n",
    "client = gspread.authorize(creds)"
   ]
  },
  {
   "cell_type": "code",
   "execution_count": 26,
   "id": "edb11ba2-6634-4834-9807-043ccb55fb55",
   "metadata": {},
   "outputs": [],
   "source": [
    "# get the instance of the Spreadsheet\n",
    "sheet = client.open('Samsung - Geral Dia')\n",
    "\n",
    "# get the first sheet of the Spreadsheet\n",
    "sheet_instance = sheet.get_worksheet(4)"
   ]
  },
  {
   "cell_type": "code",
   "execution_count": 184,
   "id": "b1367a4d-b0c9-4be5-935c-20a2235f394c",
   "metadata": {},
   "outputs": [],
   "source": [
    "#retorna os valores da coluna\n",
    "sheet_instance.col_values(3)"
   ]
  },
  {
   "cell_type": "code",
   "execution_count": 152,
   "id": "ff0825d0-02f8-4ca1-a6d2-86f5907768a9",
   "metadata": {},
   "outputs": [
    {
     "data": {
      "text/plain": [
       "36"
      ]
     },
     "execution_count": 155,
     "metadata": {},
     "output_type": "execute_result"
    }
   ],
   "source": [
    "# get the total number of columns\n",
    "sheet_instance.col_count\n",
    "## >> 26"
   ]
  },
  {
   "cell_type": "code",
   "execution_count": 166,
   "id": "fc77eb2f-c00b-453a-9218-1f64151bf33f",
   "metadata": {},
   "outputs": [
    {
     "data": {
      "text/plain": [
       "<Cell R2C3 'SSG | SEDA | HHP | Brand Shop'>"
      ]
     },
     "execution_count": 166,
     "metadata": {},
     "output_type": "execute_result"
    }
   ],
   "source": [
    "# get the value at the specific cell\n",
    "sheet_instance.cell(col=3,row=2)\n",
    "## >> <Cell R2C3 '63881'>"
   ]
  },
  {
   "cell_type": "code",
   "execution_count": 163,
   "id": "fe832d04-6f3c-47b0-a1f4-29d81af1d8a1",
   "metadata": {},
   "outputs": [
    {
     "data": {
      "text/plain": [
       "''"
      ]
     },
     "execution_count": 163,
     "metadata": {},
     "output_type": "execute_result"
    }
   ],
   "source": [
    "sheet_instance.get_note('D81')"
   ]
  },
  {
   "cell_type": "code",
   "execution_count": 165,
   "id": "6dd1a00d-7b9d-446a-9107-333f2a399a91",
   "metadata": {},
   "outputs": [],
   "source": [
    "#Returns a list of all Cell of the current sheet\n",
    "sheet_instance.get_all_cells()"
   ]
  },
  {
   "cell_type": "code",
   "execution_count": 168,
   "id": "75385b02-aa43-463b-9b1a-257e48e75485",
   "metadata": {},
   "outputs": [],
   "source": [
    "# sheet_instance.get_values()"
   ]
  },
  {
   "cell_type": "code",
   "execution_count": 181,
   "id": "f90a3a69-33ab-419a-bbf4-0ede7e84d225",
   "metadata": {},
   "outputs": [
    {
     "data": {
      "text/plain": [
       "'Cost'"
      ]
     },
     "execution_count": 181,
     "metadata": {},
     "output_type": "execute_result"
    }
   ],
   "source": [
    "sheet_instance.cell(1, 5).value"
   ]
  },
  {
   "cell_type": "code",
   "execution_count": 188,
   "id": "9a8a03ac-0d39-4561-ba76-b80fce8d9679",
   "metadata": {},
   "outputs": [],
   "source": [
    "# sheet_instance.findall(\"ca\")"
   ]
  },
  {
   "cell_type": "code",
   "execution_count": 189,
   "id": "9f206611-7db8-41d6-9731-a627f8532428",
   "metadata": {},
   "outputs": [],
   "source": [
    "# sheet_instance.col_values(4)"
   ]
  },
  {
   "cell_type": "code",
   "execution_count": null,
   "id": "2fc1ebe0-916b-4802-bcf4-03c1aec5066f",
   "metadata": {},
   "outputs": [],
   "source": [
    "#pega com as colunas, necessario colunas diferentes\n",
    "# records_data = sheet_instance.get_all_records()"
   ]
  },
  {
   "cell_type": "code",
   "execution_count": 190,
   "id": "093eecb9-3132-4093-8c80-edaa6b0a097d",
   "metadata": {},
   "outputs": [],
   "source": [
    "# get all the records of the data\n",
    "# get_values() with no range specified, it will return all the values of the current sheet\n",
    "# get_all_values() this is a legacy method that calls get_values\n",
    "# get_all_cells() that will return a single list of Cell object for every cell in that sheet."
   ]
  },
  {
   "cell_type": "code",
   "execution_count": null,
   "id": "f3825842-db81-417d-ae32-2cf7b5afc058",
   "metadata": {},
   "outputs": [],
   "source": []
  },
  {
   "cell_type": "code",
   "execution_count": null,
   "id": "5666de28-b0ab-4423-a5fd-30bbca5dd1ba",
   "metadata": {},
   "outputs": [],
   "source": []
  },
  {
   "cell_type": "code",
   "execution_count": 98,
   "id": "76daa815-8936-40f5-b2f5-e6af40638569",
   "metadata": {},
   "outputs": [],
   "source": [
    "import re"
   ]
  },
  {
   "cell_type": "code",
   "execution_count": 536,
   "id": "78deb469-5d33-45f8-9241-52b6f43a5dd9",
   "metadata": {},
   "outputs": [],
   "source": [
    "pattern = re.compile(r'2022-04-18')\n",
    "cell_list = sheet_instance.findall(pattern)"
   ]
  },
  {
   "cell_type": "code",
   "execution_count": 537,
   "id": "87db1a6d-c57e-4f90-b002-011a2bd9dd46",
   "metadata": {},
   "outputs": [
    {
     "data": {
      "text/plain": [
       "[<Cell R201C1 '2022-04-18'>,\n",
       " <Cell R202C1 '2022-04-18'>,\n",
       " <Cell R203C1 '2022-04-18'>,\n",
       " <Cell R204C1 '2022-04-18'>,\n",
       " <Cell R205C1 '2022-04-18'>,\n",
       " <Cell R206C1 '2022-04-18'>,\n",
       " <Cell R207C1 '2022-04-18'>,\n",
       " <Cell R208C1 '2022-04-18'>,\n",
       " <Cell R209C1 '2022-04-18'>,\n",
       " <Cell R210C1 '2022-04-18'>,\n",
       " <Cell R211C1 '2022-04-18'>,\n",
       " <Cell R212C1 '2022-04-18'>,\n",
       " <Cell R213C1 '2022-04-18'>,\n",
       " <Cell R214C1 '2022-04-18'>,\n",
       " <Cell R215C1 '2022-04-18'>,\n",
       " <Cell R216C1 '2022-04-18'>,\n",
       " <Cell R217C1 '2022-04-18'>,\n",
       " <Cell R218C1 '2022-04-18'>,\n",
       " <Cell R219C1 '2022-04-18'>,\n",
       " <Cell R220C1 '2022-04-18'>,\n",
       " <Cell R221C1 '2022-04-18'>,\n",
       " <Cell R222C1 '2022-04-18'>,\n",
       " <Cell R223C1 '2022-04-18'>,\n",
       " <Cell R224C1 '2022-04-18'>,\n",
       " <Cell R225C1 '2022-04-18'>,\n",
       " <Cell R226C1 '2022-04-18'>,\n",
       " <Cell R227C1 '2022-04-18'>,\n",
       " <Cell R228C1 '2022-04-18'>,\n",
       " <Cell R229C1 '2022-04-18'>,\n",
       " <Cell R230C1 '2022-04-18'>,\n",
       " <Cell R231C1 '2022-04-18'>,\n",
       " <Cell R232C1 '2022-04-18'>,\n",
       " <Cell R233C1 '2022-04-18'>,\n",
       " <Cell R234C1 '2022-04-18'>,\n",
       " <Cell R235C1 '2022-04-18'>,\n",
       " <Cell R236C1 '2022-04-18'>,\n",
       " <Cell R237C1 '2022-04-18'>,\n",
       " <Cell R238C1 '2022-04-18'>,\n",
       " <Cell R239C1 '2022-04-18'>,\n",
       " <Cell R240C1 '2022-04-18'>,\n",
       " <Cell R241C1 '2022-04-18'>,\n",
       " <Cell R242C1 '2022-04-18'>,\n",
       " <Cell R243C1 '2022-04-18'>,\n",
       " <Cell R244C1 '2022-04-18'>,\n",
       " <Cell R245C1 '2022-04-18'>,\n",
       " <Cell R246C1 '2022-04-18'>,\n",
       " <Cell R247C1 '2022-04-18'>,\n",
       " <Cell R248C1 '2022-04-18'>,\n",
       " <Cell R249C1 '2022-04-18'>,\n",
       " <Cell R250C1 '2022-04-18'>,\n",
       " <Cell R251C1 '2022-04-18'>,\n",
       " <Cell R252C1 '2022-04-18'>,\n",
       " <Cell R253C1 '2022-04-18'>,\n",
       " <Cell R254C1 '2022-04-18'>,\n",
       " <Cell R255C1 '2022-04-18'>,\n",
       " <Cell R256C1 '2022-04-18'>,\n",
       " <Cell R257C1 '2022-04-18'>,\n",
       " <Cell R258C1 '2022-04-18'>,\n",
       " <Cell R259C1 '2022-04-18'>,\n",
       " <Cell R260C1 '2022-04-18'>,\n",
       " <Cell R261C1 '2022-04-18'>,\n",
       " <Cell R262C1 '2022-04-18'>,\n",
       " <Cell R263C1 '2022-04-18'>,\n",
       " <Cell R264C1 '2022-04-18'>,\n",
       " <Cell R265C1 '2022-04-18'>,\n",
       " <Cell R266C1 '2022-04-18'>,\n",
       " <Cell R267C1 '2022-04-18'>,\n",
       " <Cell R268C1 '2022-04-18'>,\n",
       " <Cell R269C1 '2022-04-18'>,\n",
       " <Cell R270C1 '2022-04-18'>,\n",
       " <Cell R271C1 '2022-04-18'>,\n",
       " <Cell R272C1 '2022-04-18'>,\n",
       " <Cell R273C1 '2022-04-18'>,\n",
       " <Cell R274C1 '2022-04-18'>,\n",
       " <Cell R275C1 '2022-04-18'>,\n",
       " <Cell R276C1 '2022-04-18'>,\n",
       " <Cell R277C1 '2022-04-18'>,\n",
       " <Cell R278C1 '2022-04-18'>,\n",
       " <Cell R279C1 '2022-04-18'>,\n",
       " <Cell R280C1 '2022-04-18'>,\n",
       " <Cell R281C1 '2022-04-18'>,\n",
       " <Cell R282C1 '2022-04-18'>,\n",
       " <Cell R283C1 '2022-04-18'>,\n",
       " <Cell R284C1 '2022-04-18'>,\n",
       " <Cell R285C1 '2022-04-18'>,\n",
       " <Cell R286C1 '2022-04-18'>,\n",
       " <Cell R287C1 '2022-04-18'>,\n",
       " <Cell R288C1 '2022-04-18'>,\n",
       " <Cell R289C1 '2022-04-18'>]"
      ]
     },
     "execution_count": 537,
     "metadata": {},
     "output_type": "execute_result"
    }
   ],
   "source": [
    "cell_list"
   ]
  },
  {
   "cell_type": "code",
   "execution_count": 405,
   "id": "1093d8cc-a088-4b65-a383-e06664fd8f43",
   "metadata": {},
   "outputs": [],
   "source": [
    "mask = cell_list[0].address +\":\"+ cell_list[-1].address"
   ]
  },
  {
   "cell_type": "code",
   "execution_count": 542,
   "id": "025505ab-4879-4b47-8b68-3a66e7e0b6cd",
   "metadata": {},
   "outputs": [],
   "source": [
    "google_ads = sheet_instance.get('R201C1:R289C7')"
   ]
  },
  {
   "cell_type": "code",
   "execution_count": 543,
   "id": "bb9d124b-70ab-4b1f-9174-03bed6d9bab8",
   "metadata": {},
   "outputs": [],
   "source": [
    "# google_ads"
   ]
  },
  {
   "cell_type": "code",
   "execution_count": 544,
   "id": "ddd95c7a-41ba-4815-9e5f-0d7f91b54ccf",
   "metadata": {},
   "outputs": [],
   "source": [
    "df = pd.DataFrame(google_ads)\n",
    "# 2065236490"
   ]
  },
  {
   "cell_type": "code",
   "execution_count": 706,
   "id": "6e295db5-a23b-4e45-8d26-6639096d4387",
   "metadata": {},
   "outputs": [
    {
     "data": {
      "text/html": [
       "<div>\n",
       "<style scoped>\n",
       "    .dataframe tbody tr th:only-of-type {\n",
       "        vertical-align: middle;\n",
       "    }\n",
       "\n",
       "    .dataframe tbody tr th {\n",
       "        vertical-align: top;\n",
       "    }\n",
       "\n",
       "    .dataframe thead th {\n",
       "        text-align: right;\n",
       "    }\n",
       "</style>\n",
       "<table border=\"1\" class=\"dataframe\">\n",
       "  <thead>\n",
       "    <tr style=\"text-align: right;\">\n",
       "      <th></th>\n",
       "      <th>0</th>\n",
       "      <th>1</th>\n",
       "      <th>2</th>\n",
       "      <th>3</th>\n",
       "      <th>4</th>\n",
       "      <th>5</th>\n",
       "      <th>6</th>\n",
       "    </tr>\n",
       "  </thead>\n",
       "  <tbody>\n",
       "    <tr>\n",
       "      <th>0</th>\n",
       "      <td>2022-04-18</td>\n",
       "      <td>2065236490</td>\n",
       "      <td>SSG | SEDA | HHP | Brand Shop</td>\n",
       "      <td>ca_cad26-a0004_seda_brandshop_google_local-cam...</td>\n",
       "      <td>660.90</td>\n",
       "      <td>617483</td>\n",
       "      <td>0</td>\n",
       "    </tr>\n",
       "    <tr>\n",
       "      <th>1</th>\n",
       "      <td>2022-04-18</td>\n",
       "      <td>2065236490</td>\n",
       "      <td>SSG | SEDA | HHP | Brand Shop</td>\n",
       "      <td>ca_cad26-a0009_seda_brandshop_google_text_inst...</td>\n",
       "      <td>140.52</td>\n",
       "      <td>2024</td>\n",
       "      <td>4541</td>\n",
       "    </tr>\n",
       "    <tr>\n",
       "      <th>2</th>\n",
       "      <td>2022-04-18</td>\n",
       "      <td>2065236490</td>\n",
       "      <td>SSG | SEDA | HHP | Brand Shop</td>\n",
       "      <td>ca_cad26-a0013_seda_brandshop_google_text_smar...</td>\n",
       "      <td>136.25</td>\n",
       "      <td>772</td>\n",
       "      <td>924</td>\n",
       "    </tr>\n",
       "    <tr>\n",
       "      <th>3</th>\n",
       "      <td>2022-04-18</td>\n",
       "      <td>2065236490</td>\n",
       "      <td>SSG | SEDA | HHP | Brand Shop</td>\n",
       "      <td>ca_cad26-a0017_seda_brandshop_google_local-cam...</td>\n",
       "      <td>404.59</td>\n",
       "      <td>294209</td>\n",
       "      <td>0</td>\n",
       "    </tr>\n",
       "    <tr>\n",
       "      <th>4</th>\n",
       "      <td>2022-04-18</td>\n",
       "      <td>2065236490</td>\n",
       "      <td>SSG | SEDA | HHP | Brand Shop</td>\n",
       "      <td>ca_cad26-a0027_seda_brandshop_google_text_smar...</td>\n",
       "      <td>442.38</td>\n",
       "      <td>1844</td>\n",
       "      <td>2001</td>\n",
       "    </tr>\n",
       "    <tr>\n",
       "      <th>...</th>\n",
       "      <td>...</td>\n",
       "      <td>...</td>\n",
       "      <td>...</td>\n",
       "      <td>...</td>\n",
       "      <td>...</td>\n",
       "      <td>...</td>\n",
       "      <td>...</td>\n",
       "    </tr>\n",
       "    <tr>\n",
       "      <th>84</th>\n",
       "      <td>2022-04-18</td>\n",
       "      <td>9981173384</td>\n",
       "      <td>SSG | SEDA | CORPORATE | Care</td>\n",
       "      <td>ca_cad20-a0002_seda_care-plus_google_text_inst...</td>\n",
       "      <td>96.13</td>\n",
       "      <td>26</td>\n",
       "      <td>27</td>\n",
       "    </tr>\n",
       "    <tr>\n",
       "      <th>85</th>\n",
       "      <td>2022-04-18</td>\n",
       "      <td>9981173384</td>\n",
       "      <td>SSG | SEDA | CORPORATE | Care</td>\n",
       "      <td>ca_cad20-a1000_seda_care-plus_google_text_smar...</td>\n",
       "      <td>1316.51</td>\n",
       "      <td>6290</td>\n",
       "      <td>7860</td>\n",
       "    </tr>\n",
       "    <tr>\n",
       "      <th>86</th>\n",
       "      <td>2022-04-18</td>\n",
       "      <td>9981173384</td>\n",
       "      <td>SSG | SEDA | CORPORATE | Care</td>\n",
       "      <td>ca_cad20-a1010_seda_care-plus_google_text_smar...</td>\n",
       "      <td>1552.90</td>\n",
       "      <td>365</td>\n",
       "      <td>375</td>\n",
       "    </tr>\n",
       "    <tr>\n",
       "      <th>87</th>\n",
       "      <td>2022-04-18</td>\n",
       "      <td>9981173384</td>\n",
       "      <td>SSG | SEDA | CORPORATE | Care</td>\n",
       "      <td>ca_cad20-a3001_seda_care-plus_google_text_wata...</td>\n",
       "      <td>18.37</td>\n",
       "      <td>77</td>\n",
       "      <td>83</td>\n",
       "    </tr>\n",
       "    <tr>\n",
       "      <th>88</th>\n",
       "      <td>2022-04-18</td>\n",
       "      <td>9981173384</td>\n",
       "      <td>SSG | SEDA | CORPORATE | Care</td>\n",
       "      <td>ca_cad20-a8000_seda_care-plus_gdn_discovery_sm...</td>\n",
       "      <td>1964.77</td>\n",
       "      <td>347759</td>\n",
       "      <td>0</td>\n",
       "    </tr>\n",
       "  </tbody>\n",
       "</table>\n",
       "<p>89 rows × 7 columns</p>\n",
       "</div>"
      ],
      "text/plain": [
       "             0           1                              2  \\\n",
       "0   2022-04-18  2065236490  SSG | SEDA | HHP | Brand Shop   \n",
       "1   2022-04-18  2065236490  SSG | SEDA | HHP | Brand Shop   \n",
       "2   2022-04-18  2065236490  SSG | SEDA | HHP | Brand Shop   \n",
       "3   2022-04-18  2065236490  SSG | SEDA | HHP | Brand Shop   \n",
       "4   2022-04-18  2065236490  SSG | SEDA | HHP | Brand Shop   \n",
       "..         ...         ...                            ...   \n",
       "84  2022-04-18  9981173384  SSG | SEDA | CORPORATE | Care   \n",
       "85  2022-04-18  9981173384  SSG | SEDA | CORPORATE | Care   \n",
       "86  2022-04-18  9981173384  SSG | SEDA | CORPORATE | Care   \n",
       "87  2022-04-18  9981173384  SSG | SEDA | CORPORATE | Care   \n",
       "88  2022-04-18  9981173384  SSG | SEDA | CORPORATE | Care   \n",
       "\n",
       "                                                    3        4       5     6  \n",
       "0   ca_cad26-a0004_seda_brandshop_google_local-cam...   660.90  617483     0  \n",
       "1   ca_cad26-a0009_seda_brandshop_google_text_inst...   140.52    2024  4541  \n",
       "2   ca_cad26-a0013_seda_brandshop_google_text_smar...   136.25     772   924  \n",
       "3   ca_cad26-a0017_seda_brandshop_google_local-cam...   404.59  294209     0  \n",
       "4   ca_cad26-a0027_seda_brandshop_google_text_smar...   442.38    1844  2001  \n",
       "..                                                ...      ...     ...   ...  \n",
       "84  ca_cad20-a0002_seda_care-plus_google_text_inst...    96.13      26    27  \n",
       "85  ca_cad20-a1000_seda_care-plus_google_text_smar...  1316.51    6290  7860  \n",
       "86  ca_cad20-a1010_seda_care-plus_google_text_smar...  1552.90     365   375  \n",
       "87  ca_cad20-a3001_seda_care-plus_google_text_wata...    18.37      77    83  \n",
       "88  ca_cad20-a8000_seda_care-plus_gdn_discovery_sm...  1964.77  347759     0  \n",
       "\n",
       "[89 rows x 7 columns]"
      ]
     },
     "execution_count": 706,
     "metadata": {},
     "output_type": "execute_result"
    }
   ],
   "source": [
    "df"
   ]
  },
  {
   "cell_type": "code",
   "execution_count": 707,
   "id": "978cf151-0e49-428d-ba84-e35ef373894a",
   "metadata": {},
   "outputs": [],
   "source": [
    "filter1 = df[3].str.contains('cad3-')"
   ]
  },
  {
   "cell_type": "code",
   "execution_count": 720,
   "id": "7464ed17-6e79-4f43-89ec-c031352be6b8",
   "metadata": {},
   "outputs": [],
   "source": [
    "df[4] = df[4].astype(float)"
   ]
  },
  {
   "cell_type": "code",
   "execution_count": 723,
   "id": "a40598bd-2832-4a99-a13b-c38a875a8435",
   "metadata": {},
   "outputs": [
    {
     "data": {
      "text/plain": [
       "0     False\n",
       "1     False\n",
       "2     False\n",
       "3     False\n",
       "4     False\n",
       "      ...  \n",
       "84    False\n",
       "85    False\n",
       "86    False\n",
       "87    False\n",
       "88    False\n",
       "Name: 3, Length: 89, dtype: bool"
      ]
     },
     "execution_count": 723,
     "metadata": {},
     "output_type": "execute_result"
    }
   ],
   "source": [
    "df.groupby(0)[3].apply(lambda ser: ser.str.contains(\"cad3-\"))"
   ]
  },
  {
   "cell_type": "code",
   "execution_count": 726,
   "id": "a33a662c-affe-42bd-87a8-54fb8ddcffe9",
   "metadata": {},
   "outputs": [
    {
     "ename": "ValueError",
     "evalue": "Grouper for '0' not 1-dimensional",
     "output_type": "error",
     "traceback": [
      "\u001b[0;31m---------------------------------------------------------------------------\u001b[0m",
      "\u001b[0;31mValueError\u001b[0m                                Traceback (most recent call last)",
      "Input \u001b[0;32mIn [726]\u001b[0m, in \u001b[0;36m<cell line: 1>\u001b[0;34m()\u001b[0m\n\u001b[0;32m----> 1\u001b[0m \u001b[43mdf\u001b[49m\u001b[43m[\u001b[49m\u001b[38;5;241;43m3\u001b[39;49m\u001b[43m]\u001b[49m\u001b[38;5;241;43m.\u001b[39;49m\u001b[43mstr\u001b[49m\u001b[38;5;241;43m.\u001b[39;49m\u001b[43mcontains\u001b[49m\u001b[43m(\u001b[49m\u001b[38;5;124;43m\"\u001b[39;49m\u001b[38;5;124;43mcad3-\u001b[39;49m\u001b[38;5;124;43m\"\u001b[39;49m\u001b[43m)\u001b[49m\u001b[38;5;241;43m.\u001b[39;49m\u001b[43mgroupby\u001b[49m\u001b[43m(\u001b[49m\u001b[38;5;241;43m0\u001b[39;49m\u001b[43m)\u001b[49m\u001b[38;5;241m.\u001b[39msum()\n",
      "File \u001b[0;32m/opt/conda/lib/python3.9/site-packages/pandas/core/series.py:1922\u001b[0m, in \u001b[0;36mSeries.groupby\u001b[0;34m(self, by, axis, level, as_index, sort, group_keys, squeeze, observed, dropna)\u001b[0m\n\u001b[1;32m   1918\u001b[0m axis \u001b[38;5;241m=\u001b[39m \u001b[38;5;28mself\u001b[39m\u001b[38;5;241m.\u001b[39m_get_axis_number(axis)\n\u001b[1;32m   1920\u001b[0m \u001b[38;5;66;03m# error: Argument \"squeeze\" to \"SeriesGroupBy\" has incompatible type\u001b[39;00m\n\u001b[1;32m   1921\u001b[0m \u001b[38;5;66;03m# \"Union[bool, NoDefault]\"; expected \"bool\"\u001b[39;00m\n\u001b[0;32m-> 1922\u001b[0m \u001b[38;5;28;01mreturn\u001b[39;00m \u001b[43mSeriesGroupBy\u001b[49m\u001b[43m(\u001b[49m\n\u001b[1;32m   1923\u001b[0m \u001b[43m    \u001b[49m\u001b[43mobj\u001b[49m\u001b[38;5;241;43m=\u001b[39;49m\u001b[38;5;28;43mself\u001b[39;49m\u001b[43m,\u001b[49m\n\u001b[1;32m   1924\u001b[0m \u001b[43m    \u001b[49m\u001b[43mkeys\u001b[49m\u001b[38;5;241;43m=\u001b[39;49m\u001b[43mby\u001b[49m\u001b[43m,\u001b[49m\n\u001b[1;32m   1925\u001b[0m \u001b[43m    \u001b[49m\u001b[43maxis\u001b[49m\u001b[38;5;241;43m=\u001b[39;49m\u001b[43maxis\u001b[49m\u001b[43m,\u001b[49m\n\u001b[1;32m   1926\u001b[0m \u001b[43m    \u001b[49m\u001b[43mlevel\u001b[49m\u001b[38;5;241;43m=\u001b[39;49m\u001b[43mlevel\u001b[49m\u001b[43m,\u001b[49m\n\u001b[1;32m   1927\u001b[0m \u001b[43m    \u001b[49m\u001b[43mas_index\u001b[49m\u001b[38;5;241;43m=\u001b[39;49m\u001b[43mas_index\u001b[49m\u001b[43m,\u001b[49m\n\u001b[1;32m   1928\u001b[0m \u001b[43m    \u001b[49m\u001b[43msort\u001b[49m\u001b[38;5;241;43m=\u001b[39;49m\u001b[43msort\u001b[49m\u001b[43m,\u001b[49m\n\u001b[1;32m   1929\u001b[0m \u001b[43m    \u001b[49m\u001b[43mgroup_keys\u001b[49m\u001b[38;5;241;43m=\u001b[39;49m\u001b[43mgroup_keys\u001b[49m\u001b[43m,\u001b[49m\n\u001b[1;32m   1930\u001b[0m \u001b[43m    \u001b[49m\u001b[43msqueeze\u001b[49m\u001b[38;5;241;43m=\u001b[39;49m\u001b[43msqueeze\u001b[49m\u001b[43m,\u001b[49m\u001b[43m  \u001b[49m\u001b[38;5;66;43;03m# type: ignore[arg-type]\u001b[39;49;00m\n\u001b[1;32m   1931\u001b[0m \u001b[43m    \u001b[49m\u001b[43mobserved\u001b[49m\u001b[38;5;241;43m=\u001b[39;49m\u001b[43mobserved\u001b[49m\u001b[43m,\u001b[49m\n\u001b[1;32m   1932\u001b[0m \u001b[43m    \u001b[49m\u001b[43mdropna\u001b[49m\u001b[38;5;241;43m=\u001b[39;49m\u001b[43mdropna\u001b[49m\u001b[43m,\u001b[49m\n\u001b[1;32m   1933\u001b[0m \u001b[43m\u001b[49m\u001b[43m)\u001b[49m\n",
      "File \u001b[0;32m/opt/conda/lib/python3.9/site-packages/pandas/core/groupby/groupby.py:882\u001b[0m, in \u001b[0;36mGroupBy.__init__\u001b[0;34m(self, obj, keys, axis, level, grouper, exclusions, selection, as_index, sort, group_keys, squeeze, observed, mutated, dropna)\u001b[0m\n\u001b[1;32m    879\u001b[0m \u001b[38;5;28;01mif\u001b[39;00m grouper \u001b[38;5;129;01mis\u001b[39;00m \u001b[38;5;28;01mNone\u001b[39;00m:\n\u001b[1;32m    880\u001b[0m     \u001b[38;5;28;01mfrom\u001b[39;00m \u001b[38;5;21;01mpandas\u001b[39;00m\u001b[38;5;21;01m.\u001b[39;00m\u001b[38;5;21;01mcore\u001b[39;00m\u001b[38;5;21;01m.\u001b[39;00m\u001b[38;5;21;01mgroupby\u001b[39;00m\u001b[38;5;21;01m.\u001b[39;00m\u001b[38;5;21;01mgrouper\u001b[39;00m \u001b[38;5;28;01mimport\u001b[39;00m get_grouper\n\u001b[0;32m--> 882\u001b[0m     grouper, exclusions, obj \u001b[38;5;241m=\u001b[39m \u001b[43mget_grouper\u001b[49m\u001b[43m(\u001b[49m\n\u001b[1;32m    883\u001b[0m \u001b[43m        \u001b[49m\u001b[43mobj\u001b[49m\u001b[43m,\u001b[49m\n\u001b[1;32m    884\u001b[0m \u001b[43m        \u001b[49m\u001b[43mkeys\u001b[49m\u001b[43m,\u001b[49m\n\u001b[1;32m    885\u001b[0m \u001b[43m        \u001b[49m\u001b[43maxis\u001b[49m\u001b[38;5;241;43m=\u001b[39;49m\u001b[43maxis\u001b[49m\u001b[43m,\u001b[49m\n\u001b[1;32m    886\u001b[0m \u001b[43m        \u001b[49m\u001b[43mlevel\u001b[49m\u001b[38;5;241;43m=\u001b[39;49m\u001b[43mlevel\u001b[49m\u001b[43m,\u001b[49m\n\u001b[1;32m    887\u001b[0m \u001b[43m        \u001b[49m\u001b[43msort\u001b[49m\u001b[38;5;241;43m=\u001b[39;49m\u001b[43msort\u001b[49m\u001b[43m,\u001b[49m\n\u001b[1;32m    888\u001b[0m \u001b[43m        \u001b[49m\u001b[43mobserved\u001b[49m\u001b[38;5;241;43m=\u001b[39;49m\u001b[43mobserved\u001b[49m\u001b[43m,\u001b[49m\n\u001b[1;32m    889\u001b[0m \u001b[43m        \u001b[49m\u001b[43mmutated\u001b[49m\u001b[38;5;241;43m=\u001b[39;49m\u001b[38;5;28;43mself\u001b[39;49m\u001b[38;5;241;43m.\u001b[39;49m\u001b[43mmutated\u001b[49m\u001b[43m,\u001b[49m\n\u001b[1;32m    890\u001b[0m \u001b[43m        \u001b[49m\u001b[43mdropna\u001b[49m\u001b[38;5;241;43m=\u001b[39;49m\u001b[38;5;28;43mself\u001b[39;49m\u001b[38;5;241;43m.\u001b[39;49m\u001b[43mdropna\u001b[49m\u001b[43m,\u001b[49m\n\u001b[1;32m    891\u001b[0m \u001b[43m    \u001b[49m\u001b[43m)\u001b[49m\n\u001b[1;32m    893\u001b[0m \u001b[38;5;28mself\u001b[39m\u001b[38;5;241m.\u001b[39mobj \u001b[38;5;241m=\u001b[39m obj\n\u001b[1;32m    894\u001b[0m \u001b[38;5;28mself\u001b[39m\u001b[38;5;241m.\u001b[39maxis \u001b[38;5;241m=\u001b[39m obj\u001b[38;5;241m.\u001b[39m_get_axis_number(axis)\n",
      "File \u001b[0;32m/opt/conda/lib/python3.9/site-packages/pandas/core/groupby/grouper.py:877\u001b[0m, in \u001b[0;36mget_grouper\u001b[0;34m(obj, key, axis, level, sort, observed, mutated, validate, dropna)\u001b[0m\n\u001b[1;32m    873\u001b[0m     in_axis, name, gpr \u001b[38;5;241m=\u001b[39m \u001b[38;5;28;01mTrue\u001b[39;00m, gpr, obj[gpr]\n\u001b[1;32m    874\u001b[0m     \u001b[38;5;28;01mif\u001b[39;00m gpr\u001b[38;5;241m.\u001b[39mndim \u001b[38;5;241m!=\u001b[39m \u001b[38;5;241m1\u001b[39m:\n\u001b[1;32m    875\u001b[0m         \u001b[38;5;66;03m# non-unique columns; raise here to get the name in the\u001b[39;00m\n\u001b[1;32m    876\u001b[0m         \u001b[38;5;66;03m# exception message\u001b[39;00m\n\u001b[0;32m--> 877\u001b[0m         \u001b[38;5;28;01mraise\u001b[39;00m \u001b[38;5;167;01mValueError\u001b[39;00m(\u001b[38;5;124mf\u001b[39m\u001b[38;5;124m\"\u001b[39m\u001b[38;5;124mGrouper for \u001b[39m\u001b[38;5;124m'\u001b[39m\u001b[38;5;132;01m{\u001b[39;00mname\u001b[38;5;132;01m}\u001b[39;00m\u001b[38;5;124m'\u001b[39m\u001b[38;5;124m not 1-dimensional\u001b[39m\u001b[38;5;124m\"\u001b[39m)\n\u001b[1;32m    878\u001b[0m     exclusions\u001b[38;5;241m.\u001b[39madd(name)\n\u001b[1;32m    879\u001b[0m \u001b[38;5;28;01melif\u001b[39;00m obj\u001b[38;5;241m.\u001b[39m_is_level_reference(gpr, axis\u001b[38;5;241m=\u001b[39maxis):\n",
      "\u001b[0;31mValueError\u001b[0m: Grouper for '0' not 1-dimensional"
     ]
    }
   ],
   "source": [
    "df[3].str.contains(\"cad3-\").groupby(0).sum()"
   ]
  },
  {
   "cell_type": "code",
   "execution_count": null,
   "id": "885ed1f7-0bbb-40f6-ae96-d74f93b0bea0",
   "metadata": {},
   "outputs": [],
   "source": []
  },
  {
   "cell_type": "code",
   "execution_count": null,
   "id": "e91c30d7-27b1-48a1-a3bc-7c2b328fc643",
   "metadata": {},
   "outputs": [],
   "source": []
  },
  {
   "cell_type": "code",
   "execution_count": 678,
   "id": "0d86e225-d108-4339-9f92-5209b391580c",
   "metadata": {},
   "outputs": [],
   "source": [
    "valid = pd.DataFrame(columns=['midia', 'cost','imp'])"
   ]
  },
  {
   "cell_type": "code",
   "execution_count": 679,
   "id": "75502260-a8cb-4465-b538-24323470de04",
   "metadata": {},
   "outputs": [],
   "source": [
    "filters = ['cad3-','cad26-','cad42-']"
   ]
  },
  {
   "cell_type": "code",
   "execution_count": 680,
   "id": "6b879c68-b524-42ca-8cd2-fa3429105513",
   "metadata": {},
   "outputs": [],
   "source": [
    "for i in filters:\n",
    "    cad_filter = df[df[3].str.contains(i)]\n",
    "    valid.loc[i] =  [i+'cad1inv',cad_filter[4].astype(float).sum(),cad_filter[5].astype(float).sum()]"
   ]
  },
  {
   "cell_type": "code",
   "execution_count": 681,
   "id": "298e2717-332a-4e28-ac97-eeb7938777f7",
   "metadata": {},
   "outputs": [
    {
     "data": {
      "text/html": [
       "<div>\n",
       "<style scoped>\n",
       "    .dataframe tbody tr th:only-of-type {\n",
       "        vertical-align: middle;\n",
       "    }\n",
       "\n",
       "    .dataframe tbody tr th {\n",
       "        vertical-align: top;\n",
       "    }\n",
       "\n",
       "    .dataframe thead th {\n",
       "        text-align: right;\n",
       "    }\n",
       "</style>\n",
       "<table border=\"1\" class=\"dataframe\">\n",
       "  <thead>\n",
       "    <tr style=\"text-align: right;\">\n",
       "      <th></th>\n",
       "      <th>midia</th>\n",
       "      <th>cost</th>\n",
       "      <th>imp</th>\n",
       "    </tr>\n",
       "  </thead>\n",
       "  <tbody>\n",
       "    <tr>\n",
       "      <th>cad3-</th>\n",
       "      <td>cad3-google</td>\n",
       "      <td>47206.76</td>\n",
       "      <td>2561709.0</td>\n",
       "    </tr>\n",
       "    <tr>\n",
       "      <th>cad26-</th>\n",
       "      <td>cad26-google</td>\n",
       "      <td>2581.64</td>\n",
       "      <td>1683406.0</td>\n",
       "    </tr>\n",
       "    <tr>\n",
       "      <th>cad42-</th>\n",
       "      <td>cad42-google</td>\n",
       "      <td>516.60</td>\n",
       "      <td>29540.0</td>\n",
       "    </tr>\n",
       "  </tbody>\n",
       "</table>\n",
       "</div>"
      ],
      "text/plain": [
       "               midia      cost        imp\n",
       "cad3-    cad3-google  47206.76  2561709.0\n",
       "cad26-  cad26-google   2581.64  1683406.0\n",
       "cad42-  cad42-google    516.60    29540.0"
      ]
     },
     "execution_count": 681,
     "metadata": {},
     "output_type": "execute_result"
    }
   ],
   "source": [
    "valid"
   ]
  },
  {
   "cell_type": "code",
   "execution_count": null,
   "id": "8bac823e-217c-4a78-b42a-2e0c28ed499f",
   "metadata": {},
   "outputs": [],
   "source": []
  },
  {
   "cell_type": "code",
   "execution_count": 663,
   "id": "55e817dd-6633-40a4-b7eb-ac9933e6350f",
   "metadata": {},
   "outputs": [],
   "source": [
    "valid.loc[0] =  ['cad3-google',cad_filter[5].astype(float).sum(),cad_filter[4].astype(float).sum()]"
   ]
  },
  {
   "cell_type": "code",
   "execution_count": 664,
   "id": "db8b3fc2-ce4d-4802-a5b8-03df24ec0d62",
   "metadata": {},
   "outputs": [
    {
     "data": {
      "text/html": [
       "<div>\n",
       "<style scoped>\n",
       "    .dataframe tbody tr th:only-of-type {\n",
       "        vertical-align: middle;\n",
       "    }\n",
       "\n",
       "    .dataframe tbody tr th {\n",
       "        vertical-align: top;\n",
       "    }\n",
       "\n",
       "    .dataframe thead th {\n",
       "        text-align: right;\n",
       "    }\n",
       "</style>\n",
       "<table border=\"1\" class=\"dataframe\">\n",
       "  <thead>\n",
       "    <tr style=\"text-align: right;\">\n",
       "      <th></th>\n",
       "      <th>midia</th>\n",
       "      <th>cost</th>\n",
       "      <th>imp</th>\n",
       "    </tr>\n",
       "  </thead>\n",
       "  <tbody>\n",
       "    <tr>\n",
       "      <th>1</th>\n",
       "      <td>cad26-google</td>\n",
       "      <td>1683406.0</td>\n",
       "      <td>2581.64</td>\n",
       "    </tr>\n",
       "  </tbody>\n",
       "</table>\n",
       "</div>"
      ],
      "text/plain": [
       "          midia       cost      imp\n",
       "1  cad26-google  1683406.0  2581.64"
      ]
     },
     "execution_count": 664,
     "metadata": {},
     "output_type": "execute_result"
    }
   ],
   "source": [
    "valid"
   ]
  },
  {
   "cell_type": "code",
   "execution_count": 630,
   "id": "35d59476-8efa-4774-8e5b-0531787f527b",
   "metadata": {},
   "outputs": [],
   "source": []
  },
  {
   "cell_type": "code",
   "execution_count": 631,
   "id": "05f61843-afd5-4416-9e89-51829d27b96c",
   "metadata": {},
   "outputs": [],
   "source": []
  },
  {
   "cell_type": "code",
   "execution_count": 632,
   "id": "c005d490-605e-489b-8090-4f6fa465a561",
   "metadata": {},
   "outputs": [],
   "source": []
  },
  {
   "cell_type": "code",
   "execution_count": 647,
   "id": "eb1fe924-6df1-4f4c-b6fa-446571248342",
   "metadata": {},
   "outputs": [],
   "source": []
  },
  {
   "cell_type": "code",
   "execution_count": 648,
   "id": "ecbc541a-76cb-4dc5-b087-13a3696c7492",
   "metadata": {},
   "outputs": [
    {
     "data": {
      "text/html": [
       "<div>\n",
       "<style scoped>\n",
       "    .dataframe tbody tr th:only-of-type {\n",
       "        vertical-align: middle;\n",
       "    }\n",
       "\n",
       "    .dataframe tbody tr th {\n",
       "        vertical-align: top;\n",
       "    }\n",
       "\n",
       "    .dataframe thead th {\n",
       "        text-align: right;\n",
       "    }\n",
       "</style>\n",
       "<table border=\"1\" class=\"dataframe\">\n",
       "  <thead>\n",
       "    <tr style=\"text-align: right;\">\n",
       "      <th></th>\n",
       "      <th>midia</th>\n",
       "      <th>cost</th>\n",
       "      <th>imp</th>\n",
       "    </tr>\n",
       "  </thead>\n",
       "  <tbody>\n",
       "    <tr>\n",
       "      <th>0</th>\n",
       "      <td>cad26-google</td>\n",
       "      <td>1683406.0</td>\n",
       "      <td>2581.64</td>\n",
       "    </tr>\n",
       "  </tbody>\n",
       "</table>\n",
       "</div>"
      ],
      "text/plain": [
       "          midia       cost      imp\n",
       "0  cad26-google  1683406.0  2581.64"
      ]
     },
     "execution_count": 648,
     "metadata": {},
     "output_type": "execute_result"
    }
   ],
   "source": [
    "valid"
   ]
  },
  {
   "cell_type": "code",
   "execution_count": 526,
   "id": "c161cbf2-ce6c-48ac-966a-681762114744",
   "metadata": {},
   "outputs": [
    {
     "data": {
      "text/plain": [
       "209"
      ]
     },
     "execution_count": 526,
     "metadata": {},
     "output_type": "execute_result"
    }
   ],
   "source": [
    "df[5].astype(float).count()"
   ]
  },
  {
   "cell_type": "code",
   "execution_count": 150,
   "id": "ddf27a61-c270-4b54-b15f-3b70d507b9b3",
   "metadata": {},
   "outputs": [
    {
     "data": {
      "text/plain": [
       "['Account',\n",
       " 'SSG | SEDA | HHP | Brand Shop',\n",
       " 'SSG | SEDA | HHP | Brand Shop',\n",
       " 'SSG | SEDA | HHP | Brand Shop',\n",
       " 'SSG | SEDA | HHP | Brand Shop',\n",
       " 'SSG | SEDA | HHP | Brand Shop',\n",
       " 'SSG | SEDA | HHP | Brand Shop',\n",
       " 'SSG | SEDA | HHP | Brand Shop',\n",
       " 'SSG | SEDA | HHP | Brand Shop',\n",
       " 'SSG | SEDA | HHP | Brand Shop',\n",
       " 'SSG | SEDA | HHP | Brand Shop',\n",
       " 'SSG | SEDA | HHP | MARCOM',\n",
       " 'SSG | SEDA | HHP | MARCOM',\n",
       " 'SSG | SEDA | HHP | MARCOM',\n",
       " 'SSG | SEDA | HHP | MARCOM',\n",
       " 'SSG | SEDA | HHP | MARCOM',\n",
       " 'SSG | SEDA | HHP | MARCOM',\n",
       " 'SSG | SEDA | HHP | MARCOM',\n",
       " 'SSG | SEDA | HHP | MARCOM',\n",
       " 'SSG | SEDA | HHP | MARCOM',\n",
       " 'SSG | SEDA | HHP | MARCOM',\n",
       " 'SSG | SEDA | HHP | MARCOM',\n",
       " 'SSG | SEDA | HHP | MARCOM',\n",
       " 'SSG | SEDA | HHP | MARCOM',\n",
       " 'SSG | SEDA | HHP | MARCOM',\n",
       " 'SSG | SEDA | HHP | MARCOM',\n",
       " 'SSG | SEDA | HHP | MARCOM',\n",
       " 'SSG | SEDA | HHP | MARCOM',\n",
       " 'SSG | SEDA | HHP | MARCOM',\n",
       " 'SSG | SEDA | HHP | MARCOM',\n",
       " 'SSG | SEDA | HHP | MARCOM',\n",
       " 'SSG | SEDA | HHP | MARCOM',\n",
       " 'SSG | SEDA | HHP | MARCOM',\n",
       " 'SSG | SEDA | HHP | MARCOM',\n",
       " 'SSG | SEDA | HHP | MARCOM',\n",
       " 'SSG | SEDA | HHP | MARCOM',\n",
       " 'SSG | SEDA | HHP | MARCOM',\n",
       " 'SSG | SEDA | HHP | MARCOM',\n",
       " 'SSG | SEDA | HHP | MARCOM',\n",
       " 'SSG | SEDA | HHP | MARCOM',\n",
       " 'SSG | SEDA | HHP | MARCOM',\n",
       " 'SSG | SEDA | HHP | MARCOM',\n",
       " 'SSG | SEDA | HHP | MARCOM',\n",
       " 'SSG | SEDA | HHP | MARCOM',\n",
       " 'SSG | SEDA | HHP | MARCOM',\n",
       " 'SSG | SEDA | HHP | MARCOM',\n",
       " 'SSG | SEDA | HHP | MARCOM',\n",
       " 'SSG | SEDA | HHP | MARCOM',\n",
       " 'SSG | HQ | HHP | ESES | Loja Online',\n",
       " 'SSG | HQ | HHP | ESES | Loja Online',\n",
       " 'SSG | HQ | HHP | ESES | Loja Online',\n",
       " 'SSG | HQ | HHP | ESES | Loja Online',\n",
       " 'SSG | HQ | HHP | ESES | Loja Online',\n",
       " 'SSG | HQ | HHP | ESES | Loja Online',\n",
       " 'SSG | HQ | HHP | ESES | Loja Online',\n",
       " 'SSG | HQ | HHP | ESES | Loja Online',\n",
       " 'SSG | HQ | HHP | ESES | Loja Online',\n",
       " 'SSG | HQ | HHP | ESES | Loja Online',\n",
       " 'SSG | HQ | HHP | ESES | Loja Online',\n",
       " 'SSG | HQ | HHP | ESES | Loja Online',\n",
       " 'SSG | HQ | HHP | ESES | Loja Online',\n",
       " 'SSG | HQ | HHP | ESES | Loja Online',\n",
       " 'SSG | HQ | HHP | ESES | Loja Online',\n",
       " 'SSG | HQ | HHP | ESES | Loja Online',\n",
       " 'SSG | HQ | HHP | ESES | Loja Online',\n",
       " 'SSG | HQ | HHP | ESES | Loja Online',\n",
       " 'SSG | HQ | HHP | ESES | Loja Online',\n",
       " 'SSG | HQ | HHP | ESES | Loja Online',\n",
       " 'SSG | HQ | HHP | ESES | Loja Online',\n",
       " 'SSG | HQ | HHP | ESES | Loja Online',\n",
       " 'SSG | HQ | HHP | ESES | Loja Online',\n",
       " 'SSG | HQ | HHP | ESES | Loja Online',\n",
       " 'SSG | HQ | HHP | ESES | Loja Online',\n",
       " 'SSG | HQ | HHP | ESES | Loja Online',\n",
       " 'SSG | HQ | HHP | ESES | Loja Online',\n",
       " 'SSG | HQ | HHP | ESES | Loja Online',\n",
       " 'SSG | SEDA | HHP | B2B',\n",
       " 'SSG | SEDA | HHP | B2B',\n",
       " 'SSG | SEDA | HHP | B2B',\n",
       " 'SSG | SEDA | HHP | B2B',\n",
       " 'SSG | SEDA | HHP | B2B',\n",
       " 'SSG | SEDA | HHP | B2B',\n",
       " 'SSG | SEDA | HHP | B2B',\n",
       " 'SSG | SEDA | HHP | B2B',\n",
       " 'SSG | SEDA | HHP | B2B',\n",
       " 'SSG | SEDA | HHP | B2B',\n",
       " 'SSG | HQ | NPC | ESES | Loja Online',\n",
       " 'SSG | SEDA | NPC | MARCOM',\n",
       " 'SSG | SEDA | NPC | MARCOM',\n",
       " 'SSG | SEDA | NPC | MARCOM',\n",
       " 'SSG | SEDA | NPC | ESES | Loja Online',\n",
       " 'SSG | SEDA | NPC | ESES | Loja Online',\n",
       " 'SSG | SEDA | Content & Services | Orion',\n",
       " 'SSG | SEDA | Content & Services | Orion',\n",
       " 'SSG | SEDA | CORPORATE | Care',\n",
       " 'SSG | SEDA | CORPORATE | Care',\n",
       " 'SSG | SEDA | CORPORATE | Care',\n",
       " 'SSG | SEDA | CORPORATE | Care',\n",
       " 'SSG | SEDA | CORPORATE | Care',\n",
       " 'SSG | SEDA | CORPORATE | Care',\n",
       " 'SSG | SEDA | HHP | Brand Shop',\n",
       " 'SSG | SEDA | HHP | Brand Shop',\n",
       " 'SSG | SEDA | HHP | Brand Shop',\n",
       " 'SSG | SEDA | HHP | Brand Shop',\n",
       " 'SSG | SEDA | HHP | Brand Shop',\n",
       " 'SSG | SEDA | HHP | Brand Shop',\n",
       " 'SSG | SEDA | HHP | Brand Shop',\n",
       " 'SSG | SEDA | HHP | Brand Shop',\n",
       " 'SSG | SEDA | HHP | Brand Shop',\n",
       " 'SSG | SEDA | HHP | Brand Shop',\n",
       " 'SSG | SEDA | HHP | MARCOM',\n",
       " 'SSG | SEDA | HHP | MARCOM',\n",
       " 'SSG | SEDA | HHP | MARCOM',\n",
       " 'SSG | SEDA | HHP | MARCOM',\n",
       " 'SSG | SEDA | HHP | MARCOM',\n",
       " 'SSG | SEDA | HHP | MARCOM',\n",
       " 'SSG | SEDA | HHP | MARCOM',\n",
       " 'SSG | SEDA | HHP | MARCOM',\n",
       " 'SSG | SEDA | HHP | MARCOM',\n",
       " 'SSG | SEDA | HHP | MARCOM',\n",
       " 'SSG | SEDA | HHP | MARCOM',\n",
       " 'SSG | SEDA | HHP | MARCOM',\n",
       " 'SSG | SEDA | HHP | MARCOM',\n",
       " 'SSG | SEDA | HHP | MARCOM',\n",
       " 'SSG | SEDA | HHP | MARCOM',\n",
       " 'SSG | SEDA | HHP | MARCOM',\n",
       " 'SSG | SEDA | HHP | MARCOM',\n",
       " 'SSG | SEDA | HHP | MARCOM',\n",
       " 'SSG | SEDA | HHP | MARCOM',\n",
       " 'SSG | SEDA | HHP | MARCOM',\n",
       " 'SSG | SEDA | HHP | MARCOM',\n",
       " 'SSG | SEDA | HHP | MARCOM',\n",
       " 'SSG | SEDA | HHP | MARCOM',\n",
       " 'SSG | SEDA | HHP | MARCOM',\n",
       " 'SSG | SEDA | HHP | MARCOM',\n",
       " 'SSG | SEDA | HHP | MARCOM',\n",
       " 'SSG | SEDA | HHP | MARCOM',\n",
       " 'SSG | SEDA | HHP | MARCOM',\n",
       " 'SSG | SEDA | HHP | MARCOM',\n",
       " 'SSG | SEDA | HHP | MARCOM',\n",
       " 'SSG | SEDA | HHP | MARCOM',\n",
       " 'SSG | SEDA | HHP | MARCOM',\n",
       " 'SSG | SEDA | HHP | MARCOM',\n",
       " 'SSG | SEDA | HHP | MARCOM',\n",
       " 'SSG | SEDA | HHP | MARCOM',\n",
       " 'SSG | SEDA | HHP | MARCOM',\n",
       " 'SSG | SEDA | HHP | MARCOM',\n",
       " 'SSG | SEDA | HHP | MARCOM',\n",
       " 'SSG | HQ | HHP | ESES | Loja Online',\n",
       " 'SSG | HQ | HHP | ESES | Loja Online',\n",
       " 'SSG | HQ | HHP | ESES | Loja Online',\n",
       " 'SSG | HQ | HHP | ESES | Loja Online',\n",
       " 'SSG | HQ | HHP | ESES | Loja Online',\n",
       " 'SSG | HQ | HHP | ESES | Loja Online',\n",
       " 'SSG | HQ | HHP | ESES | Loja Online',\n",
       " 'SSG | HQ | HHP | ESES | Loja Online',\n",
       " 'SSG | HQ | HHP | ESES | Loja Online',\n",
       " 'SSG | HQ | HHP | ESES | Loja Online',\n",
       " 'SSG | HQ | HHP | ESES | Loja Online',\n",
       " 'SSG | HQ | HHP | ESES | Loja Online',\n",
       " 'SSG | HQ | HHP | ESES | Loja Online',\n",
       " 'SSG | HQ | HHP | ESES | Loja Online',\n",
       " 'SSG | HQ | HHP | ESES | Loja Online',\n",
       " 'SSG | HQ | HHP | ESES | Loja Online',\n",
       " 'SSG | HQ | HHP | ESES | Loja Online',\n",
       " 'SSG | HQ | HHP | ESES | Loja Online',\n",
       " 'SSG | HQ | HHP | ESES | Loja Online',\n",
       " 'SSG | HQ | HHP | ESES | Loja Online',\n",
       " 'SSG | HQ | HHP | ESES | Loja Online',\n",
       " 'SSG | HQ | HHP | ESES | Loja Online',\n",
       " 'SSG | HQ | HHP | ESES | Loja Online',\n",
       " 'SSG | HQ | HHP | ESES | Loja Online',\n",
       " 'SSG | HQ | HHP | ESES | Loja Online',\n",
       " 'SSG | HQ | HHP | ESES | Loja Online',\n",
       " 'SSG | HQ | HHP | ESES | Loja Online',\n",
       " 'SSG | HQ | HHP | ESES | Loja Online',\n",
       " 'SSG | SEDA | HHP | B2B',\n",
       " 'SSG | SEDA | HHP | B2B',\n",
       " 'SSG | SEDA | HHP | B2B',\n",
       " 'SSG | SEDA | HHP | B2B',\n",
       " 'SSG | SEDA | HHP | B2B',\n",
       " 'SSG | SEDA | HHP | B2B',\n",
       " 'SSG | SEDA | HHP | B2B',\n",
       " 'SSG | SEDA | HHP | B2B',\n",
       " 'SSG | SEDA | HHP | B2B',\n",
       " 'SSG | SEDA | HHP | B2B',\n",
       " 'SSG | HQ | NPC | ESES | Loja Online',\n",
       " 'SSG | SEDA | NPC | MARCOM',\n",
       " 'SSG | SEDA | NPC | MARCOM',\n",
       " 'SSG | SEDA | NPC | MARCOM',\n",
       " 'SSG | SEDA | NPC | ESES | Loja Online',\n",
       " 'SSG | SEDA | NPC | ESES | Loja Online',\n",
       " 'SSG | SEDA | Content & Services | Orion',\n",
       " 'SSG | SEDA | Content & Services | Orion',\n",
       " 'SSG | SEDA | CORPORATE | Care',\n",
       " 'SSG | SEDA | CORPORATE | Care',\n",
       " 'SSG | SEDA | CORPORATE | Care',\n",
       " 'SSG | SEDA | CORPORATE | Care',\n",
       " 'SSG | SEDA | CORPORATE | Care',\n",
       " 'SSG | SEDA | CORPORATE | Care',\n",
       " 'SSG | SEDA | HHP | Brand Shop',\n",
       " 'SSG | SEDA | HHP | Brand Shop',\n",
       " 'SSG | SEDA | HHP | Brand Shop',\n",
       " 'SSG | SEDA | HHP | Brand Shop',\n",
       " 'SSG | SEDA | HHP | Brand Shop',\n",
       " 'SSG | SEDA | HHP | Brand Shop',\n",
       " 'SSG | SEDA | HHP | Brand Shop',\n",
       " 'SSG | SEDA | HHP | Brand Shop',\n",
       " 'SSG | SEDA | HHP | Brand Shop',\n",
       " 'SSG | SEDA | HHP | Brand Shop',\n",
       " 'SSG | SEDA | HHP | MARCOM',\n",
       " 'SSG | SEDA | HHP | MARCOM',\n",
       " 'SSG | SEDA | HHP | MARCOM',\n",
       " 'SSG | SEDA | HHP | MARCOM',\n",
       " 'SSG | SEDA | HHP | MARCOM',\n",
       " 'SSG | SEDA | HHP | MARCOM',\n",
       " 'SSG | SEDA | HHP | MARCOM',\n",
       " 'SSG | SEDA | HHP | MARCOM',\n",
       " 'SSG | SEDA | HHP | MARCOM',\n",
       " 'SSG | SEDA | HHP | MARCOM',\n",
       " 'SSG | SEDA | HHP | MARCOM',\n",
       " 'SSG | SEDA | HHP | MARCOM',\n",
       " 'SSG | SEDA | HHP | MARCOM',\n",
       " 'SSG | SEDA | HHP | MARCOM',\n",
       " 'SSG | SEDA | HHP | MARCOM',\n",
       " 'SSG | SEDA | HHP | MARCOM',\n",
       " 'SSG | SEDA | HHP | MARCOM',\n",
       " 'SSG | SEDA | HHP | MARCOM',\n",
       " 'SSG | SEDA | HHP | MARCOM',\n",
       " 'SSG | SEDA | HHP | MARCOM',\n",
       " 'SSG | SEDA | HHP | MARCOM',\n",
       " 'SSG | SEDA | HHP | MARCOM',\n",
       " 'SSG | SEDA | HHP | MARCOM',\n",
       " 'SSG | SEDA | HHP | MARCOM',\n",
       " 'SSG | SEDA | HHP | MARCOM',\n",
       " 'SSG | SEDA | HHP | MARCOM',\n",
       " 'SSG | SEDA | HHP | MARCOM',\n",
       " 'SSG | SEDA | HHP | MARCOM',\n",
       " 'SSG | SEDA | HHP | MARCOM',\n",
       " 'SSG | SEDA | HHP | MARCOM',\n",
       " 'SSG | SEDA | HHP | MARCOM',\n",
       " 'SSG | SEDA | HHP | MARCOM',\n",
       " 'SSG | SEDA | HHP | MARCOM',\n",
       " 'SSG | SEDA | HHP | MARCOM',\n",
       " 'SSG | SEDA | HHP | MARCOM',\n",
       " 'SSG | SEDA | HHP | MARCOM',\n",
       " 'SSG | SEDA | HHP | MARCOM',\n",
       " 'SSG | SEDA | HHP | MARCOM',\n",
       " 'SSG | SEDA | HHP | MARCOM',\n",
       " 'SSG | SEDA | HHP | MARCOM',\n",
       " 'SSG | HQ | HHP | ESES | Loja Online',\n",
       " 'SSG | HQ | HHP | ESES | Loja Online',\n",
       " 'SSG | HQ | HHP | ESES | Loja Online',\n",
       " 'SSG | HQ | HHP | ESES | Loja Online',\n",
       " 'SSG | HQ | HHP | ESES | Loja Online',\n",
       " 'SSG | HQ | HHP | ESES | Loja Online',\n",
       " 'SSG | HQ | HHP | ESES | Loja Online',\n",
       " 'SSG | HQ | HHP | ESES | Loja Online',\n",
       " 'SSG | HQ | HHP | ESES | Loja Online',\n",
       " 'SSG | HQ | HHP | ESES | Loja Online',\n",
       " 'SSG | HQ | HHP | ESES | Loja Online',\n",
       " 'SSG | HQ | HHP | ESES | Loja Online',\n",
       " 'SSG | HQ | HHP | ESES | Loja Online',\n",
       " 'SSG | HQ | HHP | ESES | Loja Online',\n",
       " 'SSG | HQ | HHP | ESES | Loja Online',\n",
       " 'SSG | HQ | HHP | ESES | Loja Online',\n",
       " 'SSG | SEDA | HHP | B2B',\n",
       " 'SSG | SEDA | HHP | B2B',\n",
       " 'SSG | SEDA | HHP | B2B',\n",
       " 'SSG | SEDA | HHP | B2B',\n",
       " 'SSG | SEDA | HHP | B2B',\n",
       " 'SSG | SEDA | HHP | B2B',\n",
       " 'SSG | SEDA | HHP | B2B',\n",
       " 'SSG | SEDA | HHP | B2B',\n",
       " 'SSG | SEDA | HHP | B2B',\n",
       " 'SSG | SEDA | HHP | B2B',\n",
       " 'SSG | HQ | NPC | ESES | Loja Online',\n",
       " 'SSG | SEDA | NPC | MARCOM',\n",
       " 'SSG | SEDA | NPC | MARCOM',\n",
       " 'SSG | SEDA | NPC | MARCOM',\n",
       " 'SSG | SEDA | NPC | MARCOM',\n",
       " 'SSG | SEDA | Content & Services | Orion',\n",
       " 'SSG | SEDA | Content & Services | Orion',\n",
       " 'SSG | SEDA | CORPORATE | Care',\n",
       " 'SSG | SEDA | CORPORATE | Care',\n",
       " 'SSG | SEDA | CORPORATE | Care',\n",
       " 'SSG | SEDA | CORPORATE | Care',\n",
       " 'SSG | SEDA | CORPORATE | Care',\n",
       " 'SSG | SEDA | CORPORATE | Care']"
      ]
     },
     "execution_count": 150,
     "metadata": {},
     "output_type": "execute_result"
    }
   ],
   "source": [
    "records_data = sheet_instance.col_values(3)\n",
    "\n",
    "# view the data\n",
    "records_data"
   ]
  },
  {
   "cell_type": "code",
   "execution_count": 39,
   "id": "91499205-d614-4ce8-b98e-6cf544670d23",
   "metadata": {},
   "outputs": [
    {
     "data": {
      "text/html": [
       "<div>\n",
       "<style scoped>\n",
       "    .dataframe tbody tr th:only-of-type {\n",
       "        vertical-align: middle;\n",
       "    }\n",
       "\n",
       "    .dataframe tbody tr th {\n",
       "        vertical-align: top;\n",
       "    }\n",
       "\n",
       "    .dataframe thead th {\n",
       "        text-align: right;\n",
       "    }\n",
       "</style>\n",
       "<table border=\"1\" class=\"dataframe\">\n",
       "  <thead>\n",
       "    <tr style=\"text-align: right;\">\n",
       "      <th></th>\n",
       "      <th>carros</th>\n",
       "      <th>pais</th>\n",
       "      <th>quantidade</th>\n",
       "    </tr>\n",
       "  </thead>\n",
       "  <tbody>\n",
       "    <tr>\n",
       "      <th>0</th>\n",
       "      <td>toyota</td>\n",
       "      <td>japao</td>\n",
       "      <td>2</td>\n",
       "    </tr>\n",
       "    <tr>\n",
       "      <th>1</th>\n",
       "      <td>volkswage</td>\n",
       "      <td>alemanha</td>\n",
       "      <td>3</td>\n",
       "    </tr>\n",
       "    <tr>\n",
       "      <th>2</th>\n",
       "      <td>volkswage</td>\n",
       "      <td>alemanha</td>\n",
       "      <td>4</td>\n",
       "    </tr>\n",
       "    <tr>\n",
       "      <th>3</th>\n",
       "      <td>volkswage</td>\n",
       "      <td>alemanha</td>\n",
       "      <td>4</td>\n",
       "    </tr>\n",
       "    <tr>\n",
       "      <th>4</th>\n",
       "      <td>volkswage</td>\n",
       "      <td>alemanha</td>\n",
       "      <td>2</td>\n",
       "    </tr>\n",
       "  </tbody>\n",
       "</table>\n",
       "</div>"
      ],
      "text/plain": [
       "      carros      pais  quantidade\n",
       "0     toyota     japao           2\n",
       "1  volkswage  alemanha           3\n",
       "2  volkswage  alemanha           4\n",
       "3  volkswage  alemanha           4\n",
       "4  volkswage  alemanha           2"
      ]
     },
     "execution_count": 39,
     "metadata": {},
     "output_type": "execute_result"
    }
   ],
   "source": [
    "# convert the json to dataframe\n",
    "records_df = pd.DataFrame.from_dict(records_data)\n",
    "\n",
    "# view the top records\n",
    "records_df.head()"
   ]
  },
  {
   "cell_type": "code",
   "execution_count": 43,
   "id": "2c731b2f-7661-4774-90c4-b4e8e7bdc045",
   "metadata": {},
   "outputs": [],
   "source": [
    "# add a sheet with 20 rows and 2 columns\n",
    "# sheet.add_worksheet(rows=20,cols=2,title='runs')\n",
    "\n",
    "# get the instance of the second sheet\n",
    "sheet_runs = sheet.get_worksheet(1)"
   ]
  },
  {
   "cell_type": "code",
   "execution_count": 42,
   "id": "cc8e08ee-a333-405e-baaa-2fc76e83eb98",
   "metadata": {},
   "outputs": [
    {
     "data": {
      "text/plain": [
       "{'spreadsheetId': '1I-T8eg390sxC7JVMR61YmqBXgCqwXKH0FtwHX5KUdfM',\n",
       " 'updates': {'spreadsheetId': '1I-T8eg390sxC7JVMR61YmqBXgCqwXKH0FtwHX5KUdfM',\n",
       "  'updatedRange': 'runs!A1:B3',\n",
       "  'updatedRows': 3,\n",
       "  'updatedColumns': 2,\n",
       "  'updatedCells': 6}}"
      ]
     },
     "execution_count": 42,
     "metadata": {},
     "output_type": "execute_result"
    }
   ],
   "source": [
    "sheet_runs.insert_rows(runs.values.tolist())"
   ]
  },
  {
   "cell_type": "code",
   "execution_count": 41,
   "id": "67f26a2a-fd60-41ba-b085-cb6a2a88374c",
   "metadata": {},
   "outputs": [
    {
     "data": {
      "text/html": [
       "<div>\n",
       "<style scoped>\n",
       "    .dataframe tbody tr th:only-of-type {\n",
       "        vertical-align: middle;\n",
       "    }\n",
       "\n",
       "    .dataframe tbody tr th {\n",
       "        vertical-align: top;\n",
       "    }\n",
       "\n",
       "    .dataframe thead th {\n",
       "        text-align: right;\n",
       "    }\n",
       "</style>\n",
       "<table border=\"1\" class=\"dataframe\">\n",
       "  <thead>\n",
       "    <tr style=\"text-align: right;\">\n",
       "      <th></th>\n",
       "      <th>pais</th>\n",
       "      <th>quantidade</th>\n",
       "    </tr>\n",
       "  </thead>\n",
       "  <tbody>\n",
       "    <tr>\n",
       "      <th>0</th>\n",
       "      <td>alemanha</td>\n",
       "      <td>10</td>\n",
       "    </tr>\n",
       "    <tr>\n",
       "      <th>1</th>\n",
       "      <td>brasil</td>\n",
       "      <td>4</td>\n",
       "    </tr>\n",
       "    <tr>\n",
       "      <th>2</th>\n",
       "      <td>japao</td>\n",
       "      <td>6</td>\n",
       "    </tr>\n",
       "  </tbody>\n",
       "</table>\n",
       "</div>"
      ],
      "text/plain": [
       "       pais  quantidade\n",
       "0  alemanha          10\n",
       "1    brasil           4\n",
       "2     japao           6"
      ]
     },
     "execution_count": 41,
     "metadata": {},
     "output_type": "execute_result"
    }
   ],
   "source": [
    "\n",
    "# number of runs by each batsman\n",
    "runs = records_df.groupby(['pais'])['quantidade'].count().reset_index()\n",
    "runs"
   ]
  },
  {
   "cell_type": "code",
   "execution_count": 51,
   "id": "7ede74b2-d350-4212-b17b-60efea31ec97",
   "metadata": {},
   "outputs": [],
   "source": [
    "# def main():\n",
    "#     \"\"\"Shows basic usage of the Sheets API.\n",
    "#     Prints values from a sample spreadsheet.\n",
    "#     \"\"\"\n",
    "#     creds = None\n",
    "#     # The file token.json stores the user's access and refresh tokens, and is\n",
    "#     # created automatically when the authorization flow completes for the first\n",
    "#     # time.\n",
    "#     if os.path.exists('token.json'):\n",
    "#         creds = Credentials.from_authorized_user_file('token.json', SCOPES)\n",
    "#     # If there are no (valid) credentials available, let the user log in.\n",
    "#     if not creds or not creds.valid:\n",
    "#         if creds and creds.expired and creds.refresh_token:\n",
    "#             creds.refresh(Request())\n",
    "#         else:\n",
    "#             flow = InstalledAppFlow.from_client_secrets_file(\n",
    "#                 'fiap3sis-3b74d339060b.json', SCOPES)\n",
    "#             creds = flow.run_local_server(port=0)\n",
    "#         # Save the credentials for the next run\n",
    "#         with open('token.json', 'w') as token:\n",
    "#             token.write(creds.to_json())\n",
    "\n",
    "#     try:\n",
    "#         service = build('sheets', 'v4', credentials=creds)\n",
    "\n",
    "#         # Call the Sheets API\n",
    "#         sheet = service.spreadsheets()\n",
    "#         result = sheet.values().get(spreadsheetId=SAMPLE_SPREADSHEET_ID,\n",
    "#                                     range=SAMPLE_RANGE_NAME).execute()\n",
    "#         values = result.get('values', [])\n",
    "\n",
    "#         if not values:\n",
    "#             print('No data found.')\n",
    "#             return\n",
    "\n",
    "#         print('Name, Major:')\n",
    "#         for row in values:\n",
    "#             # Print columns A and E, which correspond to indices 0 and 4.\n",
    "#             print('%s, %s' % (row[0], row[4]))\n",
    "#     except HttpError as err:\n",
    "#         print(err)"
   ]
  },
  {
   "cell_type": "code",
   "execution_count": 55,
   "id": "7c94d8c2-255f-427b-9eca-b8b601443f6a",
   "metadata": {},
   "outputs": [
    {
     "ename": "ValueError",
     "evalue": "Client secrets must be for a web or installed app.",
     "output_type": "error",
     "traceback": [
      "\u001b[0;31m---------------------------------------------------------------------------\u001b[0m",
      "\u001b[0;31mValueError\u001b[0m                                Traceback (most recent call last)",
      "Input \u001b[0;32mIn [55]\u001b[0m, in \u001b[0;36m<cell line: 41>\u001b[0;34m()\u001b[0m\n\u001b[1;32m     38\u001b[0m     \u001b[38;5;28;01mif\u001b[39;00m \u001b[38;5;129;01mnot\u001b[39;00m values_input \u001b[38;5;129;01mand\u001b[39;00m \u001b[38;5;129;01mnot\u001b[39;00m values_expansion:\n\u001b[1;32m     39\u001b[0m         \u001b[38;5;28mprint\u001b[39m(\u001b[38;5;124m'\u001b[39m\u001b[38;5;124mNo data found.\u001b[39m\u001b[38;5;124m'\u001b[39m)\n\u001b[0;32m---> 41\u001b[0m \u001b[43mmain\u001b[49m\u001b[43m(\u001b[49m\u001b[43m)\u001b[49m\n\u001b[1;32m     43\u001b[0m df\u001b[38;5;241m=\u001b[39mpd\u001b[38;5;241m.\u001b[39mDataFrame(values_input[\u001b[38;5;241m1\u001b[39m:], columns\u001b[38;5;241m=\u001b[39mvalues_input[\u001b[38;5;241m0\u001b[39m])\n",
      "Input \u001b[0;32mIn [55]\u001b[0m, in \u001b[0;36mmain\u001b[0;34m()\u001b[0m\n\u001b[1;32m     22\u001b[0m     creds\u001b[38;5;241m.\u001b[39mrefresh(Request())\n\u001b[1;32m     23\u001b[0m \u001b[38;5;28;01melse\u001b[39;00m:\n\u001b[0;32m---> 24\u001b[0m     flow \u001b[38;5;241m=\u001b[39m \u001b[43mInstalledAppFlow\u001b[49m\u001b[38;5;241;43m.\u001b[39;49m\u001b[43mfrom_client_secrets_file\u001b[49m\u001b[43m(\u001b[49m\n\u001b[1;32m     25\u001b[0m \u001b[43m        \u001b[49m\u001b[38;5;124;43m'\u001b[39;49m\u001b[38;5;124;43mfiap3sis-3b74d339060b.json\u001b[39;49m\u001b[38;5;124;43m'\u001b[39;49m\u001b[43m,\u001b[49m\u001b[43m \u001b[49m\u001b[43mSCOPES\u001b[49m\u001b[43m)\u001b[49m \u001b[38;5;66;03m# here enter the name of your downloaded JSON file\u001b[39;00m\n\u001b[1;32m     26\u001b[0m     creds \u001b[38;5;241m=\u001b[39m flow\u001b[38;5;241m.\u001b[39mrun_local_server(port\u001b[38;5;241m=\u001b[39m\u001b[38;5;241m0\u001b[39m)\n\u001b[1;32m     27\u001b[0m \u001b[38;5;28;01mwith\u001b[39;00m \u001b[38;5;28mopen\u001b[39m(\u001b[38;5;124m'\u001b[39m\u001b[38;5;124mtoken.pickle\u001b[39m\u001b[38;5;124m'\u001b[39m, \u001b[38;5;124m'\u001b[39m\u001b[38;5;124mwb\u001b[39m\u001b[38;5;124m'\u001b[39m) \u001b[38;5;28;01mas\u001b[39;00m token:\n",
      "File \u001b[0;32m/opt/conda/lib/python3.9/site-packages/google_auth_oauthlib/flow.py:207\u001b[0m, in \u001b[0;36mFlow.from_client_secrets_file\u001b[0;34m(cls, client_secrets_file, scopes, **kwargs)\u001b[0m\n\u001b[1;32m    204\u001b[0m \u001b[38;5;28;01mwith\u001b[39;00m \u001b[38;5;28mopen\u001b[39m(client_secrets_file, \u001b[38;5;124m\"\u001b[39m\u001b[38;5;124mr\u001b[39m\u001b[38;5;124m\"\u001b[39m) \u001b[38;5;28;01mas\u001b[39;00m json_file:\n\u001b[1;32m    205\u001b[0m     client_config \u001b[38;5;241m=\u001b[39m json\u001b[38;5;241m.\u001b[39mload(json_file)\n\u001b[0;32m--> 207\u001b[0m \u001b[38;5;28;01mreturn\u001b[39;00m \u001b[38;5;28;43mcls\u001b[39;49m\u001b[38;5;241;43m.\u001b[39;49m\u001b[43mfrom_client_config\u001b[49m\u001b[43m(\u001b[49m\u001b[43mclient_config\u001b[49m\u001b[43m,\u001b[49m\u001b[43m \u001b[49m\u001b[43mscopes\u001b[49m\u001b[38;5;241;43m=\u001b[39;49m\u001b[43mscopes\u001b[49m\u001b[43m,\u001b[49m\u001b[43m \u001b[49m\u001b[38;5;241;43m*\u001b[39;49m\u001b[38;5;241;43m*\u001b[39;49m\u001b[43mkwargs\u001b[49m\u001b[43m)\u001b[49m\n",
      "File \u001b[0;32m/opt/conda/lib/python3.9/site-packages/google_auth_oauthlib/flow.py:165\u001b[0m, in \u001b[0;36mFlow.from_client_config\u001b[0;34m(cls, client_config, scopes, **kwargs)\u001b[0m\n\u001b[1;32m    163\u001b[0m     client_type \u001b[38;5;241m=\u001b[39m \u001b[38;5;124m\"\u001b[39m\u001b[38;5;124minstalled\u001b[39m\u001b[38;5;124m\"\u001b[39m\n\u001b[1;32m    164\u001b[0m \u001b[38;5;28;01melse\u001b[39;00m:\n\u001b[0;32m--> 165\u001b[0m     \u001b[38;5;28;01mraise\u001b[39;00m \u001b[38;5;167;01mValueError\u001b[39;00m(\u001b[38;5;124m\"\u001b[39m\u001b[38;5;124mClient secrets must be for a web or installed app.\u001b[39m\u001b[38;5;124m\"\u001b[39m)\n\u001b[1;32m    167\u001b[0m \u001b[38;5;66;03m# these args cannot be passed to requests_oauthlib.OAuth2Session\u001b[39;00m\n\u001b[1;32m    168\u001b[0m code_verifier \u001b[38;5;241m=\u001b[39m kwargs\u001b[38;5;241m.\u001b[39mpop(\u001b[38;5;124m\"\u001b[39m\u001b[38;5;124mcode_verifier\u001b[39m\u001b[38;5;124m\"\u001b[39m, \u001b[38;5;28;01mNone\u001b[39;00m)\n",
      "\u001b[0;31mValueError\u001b[0m: Client secrets must be for a web or installed app."
     ]
    }
   ],
   "source": [
    "import pandas as pd\n",
    "from googleapiclient.discovery import build\n",
    "from google_auth_oauthlib.flow import InstalledAppFlow,Flow\n",
    "from google.auth.transport.requests import Request\n",
    "import os\n",
    "import pickle\n",
    "\n",
    "SCOPES = ['https://www.googleapis.com/auth/drive']\n",
    "\n",
    "# here enter the id of your google sheet\n",
    "SAMPLE_SPREADSHEET_ID_input = '1I-T8eg390sxC7JVMR61YmqBXgCqwXKH0FtwHX5KUdfM'\n",
    "SAMPLE_RANGE_NAME = 'A1:AA1000'\n",
    "\n",
    "def main():\n",
    "    global values_input, service\n",
    "    creds = None\n",
    "    if os.path.exists('token.pickle'):\n",
    "        with open('token.pickle', 'rb') as token:\n",
    "            creds = pickle.load(token)\n",
    "    if not creds or not creds.valid:\n",
    "        if creds and creds.expired and creds.refresh_token:\n",
    "            creds.refresh(Request())\n",
    "        else:\n",
    "            flow = InstalledAppFlow.from_client_secrets_file(\n",
    "                'fiap3sis-3b74d339060b.json', SCOPES) # here enter the name of your downloaded JSON file\n",
    "            creds = flow.run_local_server(port=0)\n",
    "        with open('token.pickle', 'wb') as token:\n",
    "            pickle.dump(creds, token)\n",
    "\n",
    "    service = build('sheets', 'v4', credentials=creds)\n",
    "\n",
    "    # Call the Sheets API\n",
    "    sheet = service.spreadsheets()\n",
    "    result_input = sheet.values().get(spreadsheetId=SAMPLE_SPREADSHEET_ID_input,\n",
    "                                range=SAMPLE_RANGE_NAME).execute()\n",
    "    values_input = result_input.get('values', [])\n",
    "\n",
    "    if not values_input and not values_expansion:\n",
    "        print('No data found.')\n",
    "\n",
    "main()\n",
    "\n",
    "df=pd.DataFrame(values_input[1:], columns=values_input[0])"
   ]
  },
  {
   "cell_type": "code",
   "execution_count": 1,
   "id": "c9b85e71-12f5-4514-80cc-2db49fef7f5f",
   "metadata": {},
   "outputs": [
    {
     "ename": "SyntaxError",
     "evalue": "invalid syntax (1210039442.py, line 1)",
     "output_type": "error",
     "traceback": [
      "\u001b[0;36m  Input \u001b[0;32mIn [1]\u001b[0;36m\u001b[0m\n\u001b[0;31m    H(x) -> h\u001b[0m\n\u001b[0m         ^\u001b[0m\n\u001b[0;31mSyntaxError\u001b[0m\u001b[0;31m:\u001b[0m invalid syntax\n"
     ]
    }
   ],
   "source": [
    "H(x) -> h"
   ]
  },
  {
   "cell_type": "code",
   "execution_count": 2,
   "id": "e1d75a40-10aa-422d-b9de-d2c2952a953d",
   "metadata": {},
   "outputs": [],
   "source": [
    "import hashlib"
   ]
  },
  {
   "cell_type": "code",
   "execution_count": 6,
   "id": "23f64508-6383-4868-a948-3c66d4fc1512",
   "metadata": {},
   "outputs": [
    {
     "name": "stdout",
     "output_type": "stream",
     "text": [
      "{'sha512_224', 'blake2s', 'shake_128', 'sha3_224', 'sha384', 'sha3_256', 'ripemd160', 'sha512_256', 'whirlpool', 'sm3', 'mdc2', 'sha256', 'sha224', 'blake2b', 'sha3_512', 'md4', 'sha3_384', 'md5', 'md5-sha1', 'sha1', 'sha512', 'shake_256'}\n"
     ]
    }
   ],
   "source": [
    "print(hashlib.algorithms_available)"
   ]
  },
  {
   "cell_type": "code",
   "execution_count": 5,
   "id": "8c867e2f-7b05-4c69-af94-0d719905e1be",
   "metadata": {},
   "outputs": [
    {
     "ename": "TypeError",
     "evalue": "Strings must be encoded before hashing",
     "output_type": "error",
     "traceback": [
      "\u001b[0;31m---------------------------------------------------------------------------\u001b[0m",
      "\u001b[0;31mTypeError\u001b[0m                                 Traceback (most recent call last)",
      "Input \u001b[0;32mIn [5]\u001b[0m, in \u001b[0;36m<cell line: 1>\u001b[0;34m()\u001b[0m\n\u001b[0;32m----> 1\u001b[0m \u001b[43mhashlib\u001b[49m\u001b[38;5;241;43m.\u001b[39;49m\u001b[43mmd5\u001b[49m\u001b[43m(\u001b[49m\u001b[38;5;124;43m'\u001b[39;49m\u001b[38;5;124;43m123\u001b[39;49m\u001b[38;5;124;43m'\u001b[39;49m\u001b[43m)\u001b[49m\u001b[38;5;241m.\u001b[39mhexdigest()\n",
      "\u001b[0;31mTypeError\u001b[0m: Strings must be encoded before hashing"
     ]
    }
   ],
   "source": [
    "hashlib.md5('123').hexdigest()"
   ]
  },
  {
   "cell_type": "code",
   "execution_count": 7,
   "id": "38ab4fc0-8179-41ef-b79a-4c42035915a1",
   "metadata": {},
   "outputs": [
    {
     "name": "stdout",
     "output_type": "stream",
     "text": [
      "b'\\xb1\\n\\x8d\\xb1d\\xe0uA\\x05\\xb7\\xa9\\x9b\\xe7.?\\xe5'\n"
     ]
    }
   ],
   "source": [
    "print(hashlib.md5(b'Hello World').digest())"
   ]
  },
  {
   "cell_type": "code",
   "execution_count": null,
   "id": "6808b55b-2dca-42fe-8407-e119fb53361d",
   "metadata": {},
   "outputs": [],
   "source": []
  }
 ],
 "metadata": {
  "kernelspec": {
   "display_name": "Python 3 (ipykernel)",
   "language": "python",
   "name": "python3"
  },
  "language_info": {
   "codemirror_mode": {
    "name": "ipython",
    "version": 3
   },
   "file_extension": ".py",
   "mimetype": "text/x-python",
   "name": "python",
   "nbconvert_exporter": "python",
   "pygments_lexer": "ipython3",
   "version": "3.9.10"
  }
 },
 "nbformat": 4,
 "nbformat_minor": 5
}
