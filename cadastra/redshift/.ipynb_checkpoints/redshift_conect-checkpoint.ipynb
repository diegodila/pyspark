{
 "cells": [
  {
   "cell_type": "code",
   "execution_count": 6,
   "id": "50a559a0-69ec-428b-adcc-007121e0f300",
   "metadata": {},
   "outputs": [],
   "source": [
    "# pip install psycopg2-binary"
   ]
  },
  {
   "cell_type": "code",
   "execution_count": 7,
   "id": "6aba5372-0c81-4a87-bf78-160b1d2141e4",
   "metadata": {},
   "outputs": [],
   "source": [
    "from pyspark.sql import SparkSession"
   ]
  },
  {
   "cell_type": "code",
   "execution_count": 8,
   "id": "78041be5-19fb-438f-8f30-9b9e24393614",
   "metadata": {},
   "outputs": [],
   "source": [
    "spark = SparkSession.builder.getOrCreate()"
   ]
  },
  {
   "cell_type": "code",
   "execution_count": 9,
   "id": "9580636e-7a2a-4025-8ab0-0c44e62f8e3d",
   "metadata": {},
   "outputs": [],
   "source": [
    "from datetime import datetime, date\n",
    "import pandas as pd\n",
    "from pyspark.sql import Row\n",
    "import numpy as np"
   ]
  },
  {
   "cell_type": "code",
   "execution_count": 17,
   "id": "f6043ddf-4048-419a-b4ec-9d8710d70a74",
   "metadata": {
    "tags": []
   },
   "outputs": [
    {
     "ename": "IndentationError",
     "evalue": "unexpected indent (3350869195.py, line 10)",
     "output_type": "error",
     "traceback": [
      "\u001b[0;36m  Input \u001b[0;32mIn [17]\u001b[0;36m\u001b[0m\n\u001b[0;31m    = [desc[0] for desc in cur.description]\u001b[0m\n\u001b[0m    ^\u001b[0m\n\u001b[0;31mIndentationError\u001b[0m\u001b[0;31m:\u001b[0m unexpected indent\n"
     ]
    }
   ],
   "source": [
    "import psycopg2\n",
    "con=psycopg2.connect(dbname= 'ssg', host='samsung-dl.chi3jsb4kpjs.us-east-1.redshift.amazonaws.com',\n",
    "port= '5439', user= 'dferreira', password= 'Y7*K.8jyNgdb')\n",
    "\n",
    "cur = con.cursor()\n",
    "cur.execute(\"select midia,round(sum(cost),0) as investiment,round(sum(impressions),0) as impressions,date from datamarts.tb_consolidada_geral_dia tcgd \\\n",
    "where (date >= current_date-1) \\\n",
    "and (campaignname like '%cad42-%') \\\n",
    "and (midia in ('google','criteo','bing', 'facebook')) group by 1,date;\")\n",
    "colnames = [desc[0] for desc in cur.description]\n",
    "df = spark.createDataFrame(cur.fetchall(),colnames)"
   ]
  },
  {
   "cell_type": "code",
   "execution_count": 9,
   "id": "ffd96dd2-3d8a-4a0a-abe4-ba4c0d5f38ba",
   "metadata": {},
   "outputs": [],
   "source": [
    "cur.close()"
   ]
  },
  {
   "cell_type": "code",
   "execution_count": 23,
   "id": "0c1cb3a7-f4f2-4ec4-9eaa-2e16aab094f9",
   "metadata": {},
   "outputs": [
    {
     "data": {
      "text/plain": [
       "[]"
      ]
     },
     "execution_count": 29,
     "metadata": {},
     "output_type": "execute_result"
    }
   ],
   "source": []
  },
  {
   "cell_type": "code",
   "execution_count": 28,
   "id": "6feeea72-468d-40d7-af00-8d744e39fd41",
   "metadata": {},
   "outputs": [
    {
     "name": "stdout",
     "output_type": "stream",
     "text": [
      "+------+--------------------+--------------------+----------+\n",
      "|    _1|                  _2|                  _3|        _4|\n",
      "+------+--------------------+--------------------+----------+\n",
      "|google|4822.000000000000...|115909.0000000000...|2022-04-12|\n",
      "+------+--------------------+--------------------+----------+\n",
      "\n"
     ]
    }
   ],
   "source": [
    "\n",
    "df.show()"
   ]
  },
  {
   "cell_type": "code",
   "execution_count": 36,
   "id": "ef693006-ce96-45dd-a1ab-363b26f0ffcf",
   "metadata": {},
   "outputs": [
    {
     "data": {
      "text/plain": [
       "array([['google', Decimal('4822'), Decimal('115909'),\n",
       "        datetime.date(2022, 4, 12)]], dtype=object)"
      ]
     },
     "execution_count": 36,
     "metadata": {},
     "output_type": "execute_result"
    }
   ],
   "source": [
    "data"
   ]
  },
  {
   "cell_type": "code",
   "execution_count": 37,
   "id": "82f37299-d2bc-4cd9-a52e-aeefc3fb166e",
   "metadata": {},
   "outputs": [
    {
     "ename": "TypeError",
     "evalue": "Expected bytes or unicode string, got ellipsis instead",
     "output_type": "error",
     "traceback": [
      "\u001b[0;31m---------------------------------------------------------------------------\u001b[0m",
      "\u001b[0;31mTypeError\u001b[0m                                 Traceback (most recent call last)",
      "Input \u001b[0;32mIn [37]\u001b[0m, in \u001b[0;36m<cell line: 4>\u001b[0;34m()\u001b[0m\n\u001b[1;32m      1\u001b[0m \u001b[38;5;28;01mimport\u001b[39;00m \u001b[38;5;21;01mpsycopg2\u001b[39;00m\n\u001b[1;32m      2\u001b[0m \u001b[38;5;28;01mfrom\u001b[39;00m \u001b[38;5;21;01mpsycopg2\u001b[39;00m\u001b[38;5;21;01m.\u001b[39;00m\u001b[38;5;21;01mextras\u001b[39;00m \u001b[38;5;28;01mimport\u001b[39;00m RealDictCursor\n\u001b[0;32m----> 4\u001b[0m ps_conn \u001b[38;5;241m=\u001b[39m \u001b[43mpsycopg2\u001b[49m\u001b[38;5;241;43m.\u001b[39;49m\u001b[43mconnect\u001b[49m\u001b[43m(\u001b[49m\u001b[38;5;241;43m.\u001b[39;49m\u001b[38;5;241;43m.\u001b[39;49m\u001b[38;5;241;43m.\u001b[39;49m\u001b[43m)\u001b[49m\n\u001b[1;32m      5\u001b[0m ps_cursor \u001b[38;5;241m=\u001b[39m psql_conn\u001b[38;5;241m.\u001b[39mcursor(cursor_factory\u001b[38;5;241m=\u001b[39mRealDictCursor)\n\u001b[1;32m      7\u001b[0m ps_cursor\u001b[38;5;241m.\u001b[39mexecute(\u001b[38;5;124m'\u001b[39m\u001b[38;5;124mselect 1 as col_a, 2 as col_b\u001b[39m\u001b[38;5;124m'\u001b[39m)\n",
      "File \u001b[0;32m/opt/conda/lib/python3.9/site-packages/psycopg2/__init__.py:121\u001b[0m, in \u001b[0;36mconnect\u001b[0;34m(dsn, connection_factory, cursor_factory, **kwargs)\u001b[0m\n\u001b[1;32m    118\u001b[0m \u001b[38;5;28;01mif\u001b[39;00m \u001b[38;5;124m'\u001b[39m\u001b[38;5;124masync_\u001b[39m\u001b[38;5;124m'\u001b[39m \u001b[38;5;129;01min\u001b[39;00m kwargs:\n\u001b[1;32m    119\u001b[0m     kwasync[\u001b[38;5;124m'\u001b[39m\u001b[38;5;124masync_\u001b[39m\u001b[38;5;124m'\u001b[39m] \u001b[38;5;241m=\u001b[39m kwargs\u001b[38;5;241m.\u001b[39mpop(\u001b[38;5;124m'\u001b[39m\u001b[38;5;124masync_\u001b[39m\u001b[38;5;124m'\u001b[39m)\n\u001b[0;32m--> 121\u001b[0m dsn \u001b[38;5;241m=\u001b[39m \u001b[43m_ext\u001b[49m\u001b[38;5;241;43m.\u001b[39;49m\u001b[43mmake_dsn\u001b[49m\u001b[43m(\u001b[49m\u001b[43mdsn\u001b[49m\u001b[43m,\u001b[49m\u001b[43m \u001b[49m\u001b[38;5;241;43m*\u001b[39;49m\u001b[38;5;241;43m*\u001b[39;49m\u001b[43mkwargs\u001b[49m\u001b[43m)\u001b[49m\n\u001b[1;32m    122\u001b[0m conn \u001b[38;5;241m=\u001b[39m _connect(dsn, connection_factory\u001b[38;5;241m=\u001b[39mconnection_factory, \u001b[38;5;241m*\u001b[39m\u001b[38;5;241m*\u001b[39mkwasync)\n\u001b[1;32m    123\u001b[0m \u001b[38;5;28;01mif\u001b[39;00m cursor_factory \u001b[38;5;129;01mis\u001b[39;00m \u001b[38;5;129;01mnot\u001b[39;00m \u001b[38;5;28;01mNone\u001b[39;00m:\n",
      "File \u001b[0;32m/opt/conda/lib/python3.9/site-packages/psycopg2/extensions.py:145\u001b[0m, in \u001b[0;36mmake_dsn\u001b[0;34m(dsn, **kwargs)\u001b[0m\n\u001b[1;32m    143\u001b[0m \u001b[38;5;66;03m# If no kwarg is specified don't mung the dsn, but verify it\u001b[39;00m\n\u001b[1;32m    144\u001b[0m \u001b[38;5;28;01mif\u001b[39;00m \u001b[38;5;129;01mnot\u001b[39;00m kwargs:\n\u001b[0;32m--> 145\u001b[0m     \u001b[43mparse_dsn\u001b[49m\u001b[43m(\u001b[49m\u001b[43mdsn\u001b[49m\u001b[43m)\u001b[49m\n\u001b[1;32m    146\u001b[0m     \u001b[38;5;28;01mreturn\u001b[39;00m dsn\n\u001b[1;32m    148\u001b[0m \u001b[38;5;66;03m# Override the dsn with the parameters\u001b[39;00m\n",
      "\u001b[0;31mTypeError\u001b[0m: Expected bytes or unicode string, got ellipsis instead"
     ]
    }
   ],
   "source": []
  },
  {
   "cell_type": "code",
   "execution_count": null,
   "id": "98bd3b8c-22f8-43f4-bf9c-e1eb27c1d393",
   "metadata": {},
   "outputs": [],
   "source": []
  }
 ],
 "metadata": {
  "kernelspec": {
   "display_name": "Python 3 (ipykernel)",
   "language": "python",
   "name": "python3"
  },
  "language_info": {
   "codemirror_mode": {
    "name": "ipython",
    "version": 3
   },
   "file_extension": ".py",
   "mimetype": "text/x-python",
   "name": "python",
   "nbconvert_exporter": "python",
   "pygments_lexer": "ipython3",
   "version": "3.9.10"
  }
 },
 "nbformat": 4,
 "nbformat_minor": 5
}
