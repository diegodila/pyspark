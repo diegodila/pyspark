{
 "cells": [
  {
   "cell_type": "markdown",
   "metadata": {},
   "source": [
    "    Create an empty RDD by using emptyRDD() of SparkContext for example spark.sparkContext.emptyRDD()."
   ]
  },
  {
   "cell_type": "code",
   "execution_count": 2,
   "metadata": {
    "vscode": {
     "languageId": "python"
    }
   },
   "outputs": [
    {
     "name": "stdout",
     "output_type": "stream",
     "text": [
      "EmptyRDD[1] at emptyRDD at NativeMethodAccessorImpl.java:0\n"
     ]
    }
   ],
   "source": [
    "from pyspark.sql import SparkSession\n",
    "spark = SparkSession.builder.appName('SparkByExamples.com').getOrCreate()\n",
    "\n",
    "#Creates Empty RDD\n",
    "emptyRDD = spark.sparkContext.emptyRDD()\n",
    "print(emptyRDD)\n",
    "\n",
    "#Diplays\n",
    "#EmptyRDD[188] at emptyRDD\n"
   ]
  },
  {
   "cell_type": "markdown",
   "metadata": {},
   "source": [
    "    Alternatively you can also get empty RDD by using spark.sparkContext.parallelize([]).\n"
   ]
  },
  {
   "cell_type": "code",
   "execution_count": 3,
   "metadata": {
    "vscode": {
     "languageId": "python"
    }
   },
   "outputs": [
    {
     "name": "stdout",
     "output_type": "stream",
     "text": [
      "ParallelCollectionRDD[2] at readRDDFromFile at PythonRDD.scala:274\n"
     ]
    }
   ],
   "source": [
    "\n",
    "#Creates Empty RDD using parallelize\n",
    "rdd2= spark.sparkContext.parallelize([])\n",
    "print(rdd2)\n",
    "\n",
    "#EmptyRDD[205] at emptyRDD at NativeMethodAccessorImpl.java:0\n",
    "#ParallelCollectionRDD[206] at readRDDFromFile at PythonRDD.scala:262\n"
   ]
  },
  {
   "cell_type": "code",
   "execution_count": null,
   "metadata": {
    "vscode": {
     "languageId": "python"
    }
   },
   "outputs": [],
   "source": []
  }
 ],
 "metadata": {
  "kernelspec": {
   "display_name": "Python 3 (ipykernel)",
   "language": "python",
   "name": "python3"
  },
  "orig_nbformat": 4
 },
 "nbformat": 4,
 "nbformat_minor": 2
}
