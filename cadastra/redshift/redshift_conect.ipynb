{
 "cells": [
  {
   "cell_type": "code",
   "execution_count": 1,
   "id": "50a559a0-69ec-428b-adcc-007121e0f300",
   "metadata": {},
   "outputs": [
    {
     "name": "stdout",
     "output_type": "stream",
     "text": [
      "Collecting psycopg2-binary\n",
      "  Downloading psycopg2_binary-2.9.3-cp39-cp39-manylinux_2_17_x86_64.manylinux2014_x86_64.whl (3.0 MB)\n",
      "\u001b[2K     \u001b[90m━━━━━━━━━━━━━━━━━━━━━━━━━━━━━━━━━━━━━━━━\u001b[0m \u001b[32m3.0/3.0 MB\u001b[0m \u001b[31m41.1 MB/s\u001b[0m eta \u001b[36m0:00:00\u001b[0m00:01\u001b[0m00:01\u001b[0m\n",
      "\u001b[?25hInstalling collected packages: psycopg2-binary\n",
      "Successfully installed psycopg2-binary-2.9.3\n",
      "Note: you may need to restart the kernel to use updated packages.\n"
     ]
    }
   ],
   "source": [
    "# pip install psycopg2-binary"
   ]
  },
  {
   "cell_type": "code",
   "execution_count": 1,
   "id": "6aba5372-0c81-4a87-bf78-160b1d2141e4",
   "metadata": {},
   "outputs": [],
   "source": [
    "from pyspark.sql import SparkSession"
   ]
  },
  {
   "cell_type": "code",
   "execution_count": 2,
   "id": "78041be5-19fb-438f-8f30-9b9e24393614",
   "metadata": {},
   "outputs": [],
   "source": [
    "spark = SparkSession.builder.getOrCreate()\n",
    "spark.conf.set('spark.sql.repl.eagerEval.enabled', True)\n",
    "spark.conf.set('spark.sql.repl.eagerEval.maxNumRows',2)\n",
    "spark.conf.set('spark.sql.execution.arrow.pyspark.enabled',True)"
   ]
  },
  {
   "cell_type": "code",
   "execution_count": 3,
   "id": "9580636e-7a2a-4025-8ab0-0c44e62f8e3d",
   "metadata": {},
   "outputs": [],
   "source": [
    "from datetime import datetime, date\n",
    "import pandas as pd\n",
    "from pyspark.sql import Row\n",
    "import numpy as np\n",
    "import pyspark.sql.functions as func\n",
    "from pyspark.sql.functions import col\n",
    "from pyspark.sql.types import FloatType"
   ]
  },
  {
   "cell_type": "code",
   "execution_count": 5,
   "id": "f6043ddf-4048-419a-b4ec-9d8710d70a74",
   "metadata": {
    "tags": []
   },
   "outputs": [
    {
     "name": "stdout",
     "output_type": "stream",
     "text": [
      "[]\n",
      "[]\n",
      "[]\n",
      "[]\n",
      "[]\n",
      "[]\n",
      "[]\n",
      "[]\n",
      "[]\n",
      "[]\n"
     ]
    }
   ],
   "source": [
    "import psycopg2\n",
    "\n",
    "\n",
    "cur = con.cursor()\n",
    "cur.execute(\"select midia,round(sum(cost),0) as investiment,round(sum(impressions),0) as impressions,date from datamarts.tb_consolidada_geral_dia tcgd \\\n",
    "where (date >= current_date-1) \\\n",
    "and (campaignname like '%cad42-%') \\\n",
    "and (midia in ('google','criteo','bing', 'facebook')) group by 1,date;\")\n",
    "con.commit()\n",
    "for i in range(0,10):\n",
    "    cur.execute(\"\"\"\n",
    "        select midia,date from datamarts.tb_consolidada_geral_dia\n",
    "    where date >= current_date-1\"\"\")\n",
    "    print(cur.fetchall())"
   ]
  },
  {
   "cell_type": "code",
   "execution_count": null,
   "id": "b6570382-6a2f-44ff-b05b-ad0facadb069",
   "metadata": {},
   "outputs": [],
   "source": [
    "str(cad42)\n",
    "con.commit()\n",
    "con.close()"
   ]
  },
  {
   "cell_type": "code",
   "execution_count": null,
   "id": "9ccdf26a-c955-441d-8ba3-236cd9d893df",
   "metadata": {},
   "outputs": [],
   "source": [
    "colnames = [desc[0] for desc in cur.description]\n",
    "df = spark.createDataFrame(cad42,colnames,FloatType())"
   ]
  },
  {
   "cell_type": "code",
   "execution_count": null,
   "id": "05c2c3b4-a1bc-4fb1-b769-f34681d0cc11",
   "metadata": {},
   "outputs": [],
   "source": [
    "df"
   ]
  },
  {
   "cell_type": "code",
   "execution_count": null,
   "id": "49db4567-67bc-4827-8307-225bc5ca1666",
   "metadata": {},
   "outputs": [],
   "source": [
    "df['s'] = df['impressions'].round(2)"
   ]
  },
  {
   "cell_type": "code",
   "execution_count": null,
   "id": "493e79b7-0b4e-4ab5-8fb6-560b5a0b5b60",
   "metadata": {},
   "outputs": [],
   "source": []
  },
  {
   "cell_type": "code",
   "execution_count": null,
   "id": "7bfa2255-64e6-4fe8-bcf1-eebf96f707f4",
   "metadata": {},
   "outputs": [],
   "source": []
  },
  {
   "cell_type": "code",
   "execution_count": null,
   "id": "bb319529-0018-4f5d-a2eb-d977caed1547",
   "metadata": {},
   "outputs": [],
   "source": []
  },
  {
   "cell_type": "code",
   "execution_count": null,
   "id": "49e060ba-b121-445c-b1ba-89314ce0ba0b",
   "metadata": {},
   "outputs": [],
   "source": []
  },
  {
   "cell_type": "code",
   "execution_count": null,
   "id": "c90ed492-9392-462f-8779-817f8f097602",
   "metadata": {},
   "outputs": [],
   "source": []
  },
  {
   "cell_type": "code",
   "execution_count": null,
   "id": "3a30bae0-c601-4ed0-9f1e-f1bd984a01ec",
   "metadata": {},
   "outputs": [],
   "source": []
  },
  {
   "cell_type": "code",
   "execution_count": null,
   "id": "cec99a68-0302-4945-96fa-310b829eb90d",
   "metadata": {},
   "outputs": [],
   "source": []
  },
  {
   "cell_type": "code",
   "execution_count": null,
   "id": "98852c01-b3eb-4a26-9f86-5d9dde607910",
   "metadata": {},
   "outputs": [],
   "source": []
  },
  {
   "cell_type": "code",
   "execution_count": null,
   "id": "6e02bd88-b745-4fc5-b16d-37b6e8ac4145",
   "metadata": {},
   "outputs": [],
   "source": [
    "df.printSchema()"
   ]
  },
  {
   "cell_type": "code",
   "execution_count": null,
   "id": "0c1cb3a7-f4f2-4ec4-9eaa-2e16aab094f9",
   "metadata": {},
   "outputs": [],
   "source": [
    "func.round(df,0)"
   ]
  },
  {
   "cell_type": "code",
   "execution_count": null,
   "id": "6feeea72-468d-40d7-af00-8d744e39fd41",
   "metadata": {},
   "outputs": [],
   "source": [
    "\n",
    "df.show()"
   ]
  },
  {
   "cell_type": "code",
   "execution_count": null,
   "id": "ef693006-ce96-45dd-a1ab-363b26f0ffcf",
   "metadata": {},
   "outputs": [],
   "source": [
    "data"
   ]
  },
  {
   "cell_type": "code",
   "execution_count": null,
   "id": "82f37299-d2bc-4cd9-a52e-aeefc3fb166e",
   "metadata": {},
   "outputs": [],
   "source": []
  },
  {
   "cell_type": "code",
   "execution_count": null,
   "id": "98bd3b8c-22f8-43f4-bf9c-e1eb27c1d393",
   "metadata": {},
   "outputs": [],
   "source": [
    "cur.close()"
   ]
  },
  {
   "cell_type": "code",
   "execution_count": null,
   "id": "d64720ec-e68a-4f07-8cad-729505acb7ea",
   "metadata": {},
   "outputs": [],
   "source": []
  }
 ],
 "metadata": {
  "kernelspec": {
   "display_name": "Python 3 (ipykernel)",
   "language": "python",
   "name": "python3"
  },
  "language_info": {
   "codemirror_mode": {
    "name": "ipython",
    "version": 3
   },
   "file_extension": ".py",
   "mimetype": "text/x-python",
   "name": "python",
   "nbconvert_exporter": "python",
   "pygments_lexer": "ipython3",
   "version": "3.9.10"
  }
 },
 "nbformat": 4,
 "nbformat_minor": 5
}
