{
 "cells": [
  {
   "cell_type": "code",
   "execution_count": 5,
   "id": "62b1e9b3-8a75-4e79-b6f3-3063e9902883",
   "metadata": {},
   "outputs": [],
   "source": [
    "# # importing the required libraries\n",
    "# import gspread\n",
    "# import pandas as pd\n",
    "# from oauth2client.service_account import ServiceAccountCredentials"
   ]
  },
  {
   "cell_type": "code",
   "execution_count": 2,
   "id": "03a31192-b15e-4023-9ef3-fb6c0fe523ba",
   "metadata": {},
   "outputs": [],
   "source": [
    "# # define the scope\n",
    "# scope = ['https://spreadsheets.google.com/feeds']\n",
    "\n",
    "# # add credentials to the account\n",
    "# creds = ServiceAccountCredentials.from_json_keyfile_name('add_json_file_here.json', scope)\n",
    "\n",
    "# # authorize the clientsheet \n",
    "# client = gspread.authorize(creds)"
   ]
  },
  {
   "cell_type": "code",
   "execution_count": 3,
   "id": "f31adb0a-8dba-4dfe-8c12-c2baaf206a2a",
   "metadata": {},
   "outputs": [],
   "source": [
    "# from Google import Create_Servicefrom __future__ import print_function\n",
    "\n",
    "# import os.path\n",
    "\n",
    "# from google.auth.transport.requests import Request\n",
    "# from google.oauth2.credentials import Credentials\n",
    "# from google_auth_oauthlib.flow import InstalledAppFlow\n",
    "# from googleapiclient.discovery import build\n",
    "# from googleapiclient.errors import HttpError\n",
    "\n",
    "# # If modifying these scopes, delete the file token.json.\n",
    "# SCOPES = ['https://www.googleapis.com/auth/documents.readonly']\n",
    "\n",
    "# # The ID of a sample document.\n",
    "# DOCUMENT_ID = '195j9eDD3ccgjQRttHhJPymLJUCOUjs-jmwTrekvdjFE'"
   ]
  },
  {
   "cell_type": "code",
   "execution_count": 4,
   "id": "f53e9fd5-e653-49ba-91fd-09706958d600",
   "metadata": {},
   "outputs": [],
   "source": [
    "# def main():\n",
    "#     \"\"\"Shows basic usage of the Docs API.\n",
    "#     Prints the title of a sample document.\n",
    "#     \"\"\"\n",
    "#     creds = None\n",
    "#     # The file token.json stores the user's access and refresh tokens, and is\n",
    "#     # created automatically when the authorization flow completes for the first\n",
    "#     # time.\n",
    "#     if os.path.exists('token.json'):\n",
    "#         creds = Credentials.from_authorized_user_file('token.json', SCOPES)\n",
    "#     # If there are no (valid) credentials available, let the user log in.\n",
    "#     if not creds or not creds.valid:\n",
    "#         if creds and creds.expired and creds.refresh_token:\n",
    "#             creds.refresh(Request())\n",
    "#         else:\n",
    "#             flow = InstalledAppFlow.from_client_secrets_file(\n",
    "#                 'credentials.json', SCOPES)\n",
    "#             creds = flow.run_local_server(port=0)\n",
    "#         # Save the credentials for the next run\n",
    "#         with open('token.json', 'w') as token:\n",
    "#             token.write(creds.to_json())\n",
    "\n",
    "#     try:\n",
    "#         service = build('docs', 'v1', credentials=creds)\n",
    "\n",
    "#         # Retrieve the documents contents from the Docs service.\n",
    "#         document = service.documents().get(documentId=DOCUMENT_ID).execute()\n",
    "\n",
    "#         print('The title of the document is: {}'.format(document.get('title')))\n",
    "#     except HttpError as err:\n",
    "#         print(err)\n"
   ]
  },
  {
   "cell_type": "code",
   "execution_count": null,
   "id": "c40d1372-556c-4627-a0ae-fe60eac0cc05",
   "metadata": {},
   "outputs": [],
   "source": []
  },
  {
   "cell_type": "code",
   "execution_count": null,
   "id": "d31dc9d7-a535-4414-9909-3c1d5315e305",
   "metadata": {},
   "outputs": [],
   "source": []
  },
  {
   "cell_type": "code",
   "execution_count": null,
   "id": "40b6a385-6b83-4eef-8888-75421213cf99",
   "metadata": {},
   "outputs": [],
   "source": []
  },
  {
   "cell_type": "code",
   "execution_count": null,
   "id": "269c39d2-9b4e-42b4-a93f-49ebad1b6c57",
   "metadata": {},
   "outputs": [],
   "source": []
  },
  {
   "cell_type": "code",
   "execution_count": null,
   "id": "3bf76f73-e39c-4991-a686-ee99f8cac08d",
   "metadata": {},
   "outputs": [],
   "source": []
  },
  {
   "cell_type": "code",
   "execution_count": null,
   "id": "b02c84cf-4cd8-4713-8de6-32567f3e471d",
   "metadata": {},
   "outputs": [],
   "source": []
  },
  {
   "cell_type": "code",
   "execution_count": null,
   "id": "3c5b1a54-3f7a-41b7-9670-4351a659a2ec",
   "metadata": {},
   "outputs": [],
   "source": []
  },
  {
   "cell_type": "code",
   "execution_count": null,
   "id": "46a3318b-27df-45d0-a86f-9315c7ac8556",
   "metadata": {},
   "outputs": [],
   "source": []
  },
  {
   "cell_type": "code",
   "execution_count": null,
   "id": "e4e7b19a-d8c3-43b4-891a-081c3ea25812",
   "metadata": {},
   "outputs": [],
   "source": []
  },
  {
   "cell_type": "code",
   "execution_count": null,
   "id": "0f0e1dc7-28d3-4c34-925c-c631157e0713",
   "metadata": {},
   "outputs": [],
   "source": []
  },
  {
   "cell_type": "code",
   "execution_count": null,
   "id": "b61e90aa-25e0-43dc-bc0d-4b881ad222fa",
   "metadata": {},
   "outputs": [],
   "source": []
  },
  {
   "cell_type": "code",
   "execution_count": null,
   "id": "96fab353-f9ab-48e5-9f76-54fa667cd024",
   "metadata": {},
   "outputs": [],
   "source": []
  },
  {
   "cell_type": "code",
   "execution_count": null,
   "id": "2dfe9ef8-5e3e-416a-85b1-8a189d628142",
   "metadata": {},
   "outputs": [],
   "source": []
  },
  {
   "cell_type": "code",
   "execution_count": null,
   "id": "15c39e91-402e-409c-be7a-74d975a51d58",
   "metadata": {},
   "outputs": [],
   "source": []
  }
 ],
 "metadata": {
  "kernelspec": {
   "display_name": "Python 3 (ipykernel)",
   "language": "python",
   "name": "python3"
  },
  "language_info": {
   "codemirror_mode": {
    "name": "ipython",
    "version": 3
   },
   "file_extension": ".py",
   "mimetype": "text/x-python",
   "name": "python",
   "nbconvert_exporter": "python",
   "pygments_lexer": "ipython3",
   "version": "3.9.10"
  }
 },
 "nbformat": 4,
 "nbformat_minor": 5
}
