{
 "cells": [
  {
   "cell_type": "code",
   "execution_count": 1,
   "metadata": {
    "ExecuteTime": {
     "end_time": "2023-06-20T21:08:11.718952331Z",
     "start_time": "2023-06-20T21:08:08.056548674Z"
    }
   },
   "outputs": [],
   "source": [
    "from pyspark.sql import SparkSession\n",
    "spark = SparkSession.builder.appName('Notebook de testes').getOrCreate()\n",
    "spark.conf.set('spark.sql.repl.eagerEval.enabled',True)\n",
    "spark.conf.set('spark.sql.repl.eagerEval.maxNumRows',25)\n",
    "spark.conf.set('spark.sql.repl.eagerEval.truncate',30)\n",
    "from IPython.core.interactiveshell import InteractiveShell\n",
    "InteractiveShell.ast_node_interactivity = 'all'"
   ]
  },
  {
   "cell_type": "code",
   "execution_count": 11,
   "metadata": {},
   "outputs": [
    {
     "data": {
      "text/html": [
       "<table border='1'>\n",
       "<tr><th>ProductID</th><th>Name</th><th>ProductNumber</th><th>MakeFlag</th><th>FinishedGoodsFlag</th><th>Color</th><th>SafetyStockLevel</th><th>ReorderPoint</th><th>StandardCost</th><th>ListPrice</th><th>Size</th><th>SizeUnitMeasureCode</th><th>WeightUnitMeasureCode</th><th>Weight</th><th>DaysToManufacture</th><th>ProductLine</th><th>Class</th><th>Style</th><th>ProductSubcategoryID</th><th>ProductModelID</th><th>SellStartDate</th><th>SellEndDate</th><th>DiscontinuedDate</th><th>rowguid</th><th>ModifiedDate</th></tr>\n",
       "<tr><td>1</td><td>Adjustable Race</td><td>AR-5381</td><td>false</td><td>false</td><td>null</td><td>1000</td><td>750</td><td>0.0000</td><td>0.0000</td><td>null</td><td>null</td><td>null</td><td>null</td><td>0</td><td>null</td><td>null</td><td>null</td><td>null</td><td>null</td><td>2008-04-30 00:00:00.000</td><td>null</td><td>null</td><td>694215B7-08F7-4C0D-ACB1-D73...</td><td>2014-02-08 10:01:36.827</td></tr>\n",
       "<tr><td>2</td><td>Bearing Ball</td><td>BA-8327</td><td>false</td><td>false</td><td>null</td><td>1000</td><td>750</td><td>0.0000</td><td>0.0000</td><td>null</td><td>null</td><td>null</td><td>null</td><td>0</td><td>null</td><td>null</td><td>null</td><td>null</td><td>null</td><td>2008-04-30 00:00:00.000</td><td>null</td><td>null</td><td>58AE3C20-4F3A-4749-A7D4-D56...</td><td>2014-02-08 10:01:36.827</td></tr>\n",
       "<tr><td>3</td><td>BB Ball Bearing</td><td>BE-2349</td><td>true</td><td>false</td><td>null</td><td>800</td><td>600</td><td>0.0000</td><td>0.0000</td><td>null</td><td>null</td><td>null</td><td>null</td><td>1</td><td>null</td><td>null</td><td>null</td><td>null</td><td>null</td><td>2008-04-30 00:00:00.000</td><td>null</td><td>null</td><td>9C21AED2-5BFA-4F18-BCB8-F11...</td><td>2014-02-08 10:01:36.827</td></tr>\n",
       "<tr><td>4</td><td>Headset Ball Bearings</td><td>BE-2908</td><td>false</td><td>false</td><td>null</td><td>800</td><td>600</td><td>0.0000</td><td>0.0000</td><td>null</td><td>null</td><td>null</td><td>null</td><td>0</td><td>null</td><td>null</td><td>null</td><td>null</td><td>null</td><td>2008-04-30 00:00:00.000</td><td>null</td><td>null</td><td>ECFED6CB-51FF-49B5-B06C-7D8...</td><td>2014-02-08 10:01:36.827</td></tr>\n",
       "<tr><td>316</td><td>Blade</td><td>BL-2036</td><td>true</td><td>false</td><td>null</td><td>800</td><td>600</td><td>0.0000</td><td>0.0000</td><td>null</td><td>null</td><td>null</td><td>null</td><td>1</td><td>null</td><td>null</td><td>null</td><td>null</td><td>null</td><td>2008-04-30 00:00:00.000</td><td>null</td><td>null</td><td>E73E9750-603B-4131-89F5-3DD...</td><td>2014-02-08 10:01:36.827</td></tr>\n",
       "<tr><td>317</td><td>LL Crankarm</td><td>CA-5965</td><td>false</td><td>false</td><td>Black</td><td>500</td><td>375</td><td>0.0000</td><td>0.0000</td><td>null</td><td>null</td><td>null</td><td>null</td><td>0</td><td>null</td><td>L </td><td>null</td><td>null</td><td>null</td><td>2008-04-30 00:00:00.000</td><td>null</td><td>null</td><td>3C9D10B7-A6B2-4774-9963-C19...</td><td>2014-02-08 10:01:36.827</td></tr>\n",
       "<tr><td>318</td><td>ML Crankarm</td><td>CA-6738</td><td>false</td><td>false</td><td>Black</td><td>500</td><td>375</td><td>0.0000</td><td>0.0000</td><td>null</td><td>null</td><td>null</td><td>null</td><td>0</td><td>null</td><td>M </td><td>null</td><td>null</td><td>null</td><td>2008-04-30 00:00:00.000</td><td>null</td><td>null</td><td>EABB9A92-FA07-4EAB-8955-F05...</td><td>2014-02-08 10:01:36.827</td></tr>\n",
       "<tr><td>319</td><td>HL Crankarm</td><td>CA-7457</td><td>false</td><td>false</td><td>Black</td><td>500</td><td>375</td><td>0.0000</td><td>0.0000</td><td>null</td><td>null</td><td>null</td><td>null</td><td>0</td><td>null</td><td>null</td><td>null</td><td>null</td><td>null</td><td>2008-04-30 00:00:00.000</td><td>null</td><td>null</td><td>7D3FD384-4F29-484B-86FA-420...</td><td>2014-02-08 10:01:36.827</td></tr>\n",
       "<tr><td>320</td><td>Chainring Bolts</td><td>CB-2903</td><td>false</td><td>false</td><td>Silver</td><td>1000</td><td>750</td><td>0.0000</td><td>0.0000</td><td>null</td><td>null</td><td>null</td><td>null</td><td>0</td><td>null</td><td>null</td><td>null</td><td>null</td><td>null</td><td>2008-04-30 00:00:00.000</td><td>null</td><td>null</td><td>7BE38E48-B7D6-4486-888E-F53...</td><td>2014-02-08 10:01:36.827</td></tr>\n",
       "<tr><td>321</td><td>Chainring Nut</td><td>CN-6137</td><td>false</td><td>false</td><td>Silver</td><td>1000</td><td>750</td><td>0.0000</td><td>0.0000</td><td>null</td><td>null</td><td>null</td><td>null</td><td>0</td><td>null</td><td>null</td><td>null</td><td>null</td><td>null</td><td>2008-04-30 00:00:00.000</td><td>null</td><td>null</td><td>3314B1D7-EF69-4431-B6DD-DC7...</td><td>2014-02-08 10:01:36.827</td></tr>\n",
       "<tr><td>322</td><td>Chainring</td><td>CR-7833</td><td>false</td><td>false</td><td>Black</td><td>1000</td><td>750</td><td>0.0000</td><td>0.0000</td><td>null</td><td>null</td><td>null</td><td>null</td><td>0</td><td>null</td><td>null</td><td>null</td><td>null</td><td>null</td><td>2008-04-30 00:00:00.000</td><td>null</td><td>null</td><td>F0AC2C4D-1A1F-4E3C-B4D9-68A...</td><td>2014-02-08 10:01:36.827</td></tr>\n",
       "<tr><td>323</td><td>Crown Race</td><td>CR-9981</td><td>false</td><td>false</td><td>null</td><td>1000</td><td>750</td><td>0.0000</td><td>0.0000</td><td>null</td><td>null</td><td>null</td><td>null</td><td>0</td><td>null</td><td>null</td><td>null</td><td>null</td><td>null</td><td>2008-04-30 00:00:00.000</td><td>null</td><td>null</td><td>51A32CA6-65A1-4C31-AF2B-D9E...</td><td>2014-02-08 10:01:36.827</td></tr>\n",
       "<tr><td>324</td><td>Chain Stays</td><td>CS-2812</td><td>true</td><td>false</td><td>null</td><td>1000</td><td>750</td><td>0.0000</td><td>0.0000</td><td>null</td><td>null</td><td>null</td><td>null</td><td>1</td><td>null</td><td>null</td><td>null</td><td>null</td><td>null</td><td>2008-04-30 00:00:00.000</td><td>null</td><td>null</td><td>FE0678ED-AEF2-4C58-A450-815...</td><td>2014-02-08 10:01:36.827</td></tr>\n",
       "<tr><td>325</td><td>Decal 1</td><td>DC-8732</td><td>false</td><td>false</td><td>null</td><td>1000</td><td>750</td><td>0.0000</td><td>0.0000</td><td>null</td><td>null</td><td>null</td><td>null</td><td>0</td><td>null</td><td>null</td><td>null</td><td>null</td><td>null</td><td>2008-04-30 00:00:00.000</td><td>null</td><td>null</td><td>05CE123C-A402-478E-AE9B-75D...</td><td>2014-02-08 10:01:36.827</td></tr>\n",
       "<tr><td>326</td><td>Decal 2</td><td>DC-9824</td><td>false</td><td>false</td><td>null</td><td>1000</td><td>750</td><td>0.0000</td><td>0.0000</td><td>null</td><td>null</td><td>null</td><td>null</td><td>0</td><td>null</td><td>null</td><td>null</td><td>null</td><td>null</td><td>2008-04-30 00:00:00.000</td><td>null</td><td>null</td><td>A56851F9-1CD7-4E2F-8779-2E7...</td><td>2014-02-08 10:01:36.827</td></tr>\n",
       "<tr><td>327</td><td>Down Tube</td><td>DT-2377</td><td>true</td><td>false</td><td>null</td><td>800</td><td>600</td><td>0.0000</td><td>0.0000</td><td>null</td><td>null</td><td>null</td><td>null</td><td>1</td><td>null</td><td>null</td><td>null</td><td>null</td><td>null</td><td>2008-04-30 00:00:00.000</td><td>null</td><td>null</td><td>1DAD47DD-E259-42B8-B8B4-15A...</td><td>2014-02-08 10:01:36.827</td></tr>\n",
       "<tr><td>328</td><td>Mountain End Caps</td><td>EC-M092</td><td>true</td><td>false</td><td>null</td><td>1000</td><td>750</td><td>0.0000</td><td>0.0000</td><td>null</td><td>null</td><td>null</td><td>null</td><td>1</td><td>null</td><td>null</td><td>null</td><td>null</td><td>null</td><td>2008-04-30 00:00:00.000</td><td>null</td><td>null</td><td>6070B1EA-59B7-4F8B-950F-2BE...</td><td>2014-02-08 10:01:36.827</td></tr>\n",
       "<tr><td>329</td><td>Road End Caps</td><td>EC-R098</td><td>true</td><td>false</td><td>null</td><td>1000</td><td>750</td><td>0.0000</td><td>0.0000</td><td>null</td><td>null</td><td>null</td><td>null</td><td>1</td><td>null</td><td>null</td><td>null</td><td>null</td><td>null</td><td>2008-04-30 00:00:00.000</td><td>null</td><td>null</td><td>88399D13-719E-4545-81D6-F06...</td><td>2014-02-08 10:01:36.827</td></tr>\n",
       "<tr><td>330</td><td>Touring End Caps</td><td>EC-T209</td><td>true</td><td>false</td><td>null</td><td>1000</td><td>750</td><td>0.0000</td><td>0.0000</td><td>null</td><td>null</td><td>null</td><td>null</td><td>1</td><td>null</td><td>null</td><td>null</td><td>null</td><td>null</td><td>2008-04-30 00:00:00.000</td><td>null</td><td>null</td><td>6903CE24-D0CE-4191-9198-423...</td><td>2014-02-08 10:01:36.827</td></tr>\n",
       "<tr><td>331</td><td>Fork End</td><td>FE-3760</td><td>true</td><td>false</td><td>null</td><td>800</td><td>600</td><td>0.0000</td><td>0.0000</td><td>null</td><td>null</td><td>null</td><td>null</td><td>1</td><td>null</td><td>null</td><td>null</td><td>null</td><td>null</td><td>2008-04-30 00:00:00.000</td><td>null</td><td>null</td><td>C91D602E-DA52-43D2-BD7E-EB1...</td><td>2014-02-08 10:01:36.827</td></tr>\n",
       "<tr><td>332</td><td>Freewheel</td><td>FH-2981</td><td>false</td><td>false</td><td>Silver</td><td>500</td><td>375</td><td>0.0000</td><td>0.0000</td><td>null</td><td>null</td><td>null</td><td>null</td><td>0</td><td>null</td><td>null</td><td>null</td><td>null</td><td>null</td><td>2008-04-30 00:00:00.000</td><td>null</td><td>null</td><td>D864879A-E8B1-4F7B-BAFA-1F1...</td><td>2014-02-08 10:01:36.827</td></tr>\n",
       "<tr><td>341</td><td>Flat Washer 1</td><td>FW-1000</td><td>false</td><td>false</td><td>null</td><td>1000</td><td>750</td><td>0.0000</td><td>0.0000</td><td>null</td><td>null</td><td>null</td><td>null</td><td>0</td><td>null</td><td>null</td><td>null</td><td>null</td><td>null</td><td>2008-04-30 00:00:00.000</td><td>null</td><td>null</td><td>A3F2FA3A-22E1-43D8-A131-A9B...</td><td>2014-02-08 10:01:36.827</td></tr>\n",
       "<tr><td>342</td><td>Flat Washer 6</td><td>FW-1200</td><td>false</td><td>false</td><td>null</td><td>1000</td><td>750</td><td>0.0000</td><td>0.0000</td><td>null</td><td>null</td><td>null</td><td>null</td><td>0</td><td>null</td><td>null</td><td>null</td><td>null</td><td>null</td><td>2008-04-30 00:00:00.000</td><td>null</td><td>null</td><td>331ADDEC-E9B9-4A7E-9324-420...</td><td>2014-02-08 10:01:36.827</td></tr>\n",
       "<tr><td>343</td><td>Flat Washer 2</td><td>FW-1400</td><td>false</td><td>false</td><td>null</td><td>1000</td><td>750</td><td>0.0000</td><td>0.0000</td><td>null</td><td>null</td><td>null</td><td>null</td><td>0</td><td>null</td><td>null</td><td>null</td><td>null</td><td>null</td><td>2008-04-30 00:00:00.000</td><td>null</td><td>null</td><td>84A3473E-AE26-4A21-81B9-60B...</td><td>2014-02-08 10:01:36.827</td></tr>\n",
       "<tr><td>344</td><td>Flat Washer 9</td><td>FW-3400</td><td>false</td><td>false</td><td>null</td><td>1000</td><td>750</td><td>0.0000</td><td>0.0000</td><td>null</td><td>null</td><td>null</td><td>null</td><td>0</td><td>null</td><td>null</td><td>null</td><td>null</td><td>null</td><td>2008-04-30 00:00:00.000</td><td>null</td><td>null</td><td>0AE4CE60-5242-48F5-ADA1-301...</td><td>2014-02-08 10:01:36.827</td></tr>\n",
       "</table>\n",
       "only showing top 25 rows\n"
      ],
      "text/plain": [
       "+---------+---------------------+-------------+--------+-----------------+------+----------------+------------+------------+---------+----+-------------------+---------------------+------+-----------------+-----------+-----+-----+--------------------+--------------+-----------------------+-----------+----------------+------------------------------+-----------------------+\n",
       "|ProductID|                 Name|ProductNumber|MakeFlag|FinishedGoodsFlag| Color|SafetyStockLevel|ReorderPoint|StandardCost|ListPrice|Size|SizeUnitMeasureCode|WeightUnitMeasureCode|Weight|DaysToManufacture|ProductLine|Class|Style|ProductSubcategoryID|ProductModelID|          SellStartDate|SellEndDate|DiscontinuedDate|                       rowguid|           ModifiedDate|\n",
       "+---------+---------------------+-------------+--------+-----------------+------+----------------+------------+------------+---------+----+-------------------+---------------------+------+-----------------+-----------+-----+-----+--------------------+--------------+-----------------------+-----------+----------------+------------------------------+-----------------------+\n",
       "|        1|      Adjustable Race|      AR-5381|   false|            false|  null|            1000|         750|      0.0000|   0.0000|null|               null|                 null|  null|                0|       null| null| null|                null|          null|2008-04-30 00:00:00.000|       null|            null|694215B7-08F7-4C0D-ACB1-D73...|2014-02-08 10:01:36.827|\n",
       "|        2|         Bearing Ball|      BA-8327|   false|            false|  null|            1000|         750|      0.0000|   0.0000|null|               null|                 null|  null|                0|       null| null| null|                null|          null|2008-04-30 00:00:00.000|       null|            null|58AE3C20-4F3A-4749-A7D4-D56...|2014-02-08 10:01:36.827|\n",
       "|        3|      BB Ball Bearing|      BE-2349|    true|            false|  null|             800|         600|      0.0000|   0.0000|null|               null|                 null|  null|                1|       null| null| null|                null|          null|2008-04-30 00:00:00.000|       null|            null|9C21AED2-5BFA-4F18-BCB8-F11...|2014-02-08 10:01:36.827|\n",
       "|        4|Headset Ball Bearings|      BE-2908|   false|            false|  null|             800|         600|      0.0000|   0.0000|null|               null|                 null|  null|                0|       null| null| null|                null|          null|2008-04-30 00:00:00.000|       null|            null|ECFED6CB-51FF-49B5-B06C-7D8...|2014-02-08 10:01:36.827|\n",
       "|      316|                Blade|      BL-2036|    true|            false|  null|             800|         600|      0.0000|   0.0000|null|               null|                 null|  null|                1|       null| null| null|                null|          null|2008-04-30 00:00:00.000|       null|            null|E73E9750-603B-4131-89F5-3DD...|2014-02-08 10:01:36.827|\n",
       "|      317|          LL Crankarm|      CA-5965|   false|            false| Black|             500|         375|      0.0000|   0.0000|null|               null|                 null|  null|                0|       null|   L | null|                null|          null|2008-04-30 00:00:00.000|       null|            null|3C9D10B7-A6B2-4774-9963-C19...|2014-02-08 10:01:36.827|\n",
       "|      318|          ML Crankarm|      CA-6738|   false|            false| Black|             500|         375|      0.0000|   0.0000|null|               null|                 null|  null|                0|       null|   M | null|                null|          null|2008-04-30 00:00:00.000|       null|            null|EABB9A92-FA07-4EAB-8955-F05...|2014-02-08 10:01:36.827|\n",
       "|      319|          HL Crankarm|      CA-7457|   false|            false| Black|             500|         375|      0.0000|   0.0000|null|               null|                 null|  null|                0|       null| null| null|                null|          null|2008-04-30 00:00:00.000|       null|            null|7D3FD384-4F29-484B-86FA-420...|2014-02-08 10:01:36.827|\n",
       "|      320|      Chainring Bolts|      CB-2903|   false|            false|Silver|            1000|         750|      0.0000|   0.0000|null|               null|                 null|  null|                0|       null| null| null|                null|          null|2008-04-30 00:00:00.000|       null|            null|7BE38E48-B7D6-4486-888E-F53...|2014-02-08 10:01:36.827|\n",
       "|      321|        Chainring Nut|      CN-6137|   false|            false|Silver|            1000|         750|      0.0000|   0.0000|null|               null|                 null|  null|                0|       null| null| null|                null|          null|2008-04-30 00:00:00.000|       null|            null|3314B1D7-EF69-4431-B6DD-DC7...|2014-02-08 10:01:36.827|\n",
       "|      322|            Chainring|      CR-7833|   false|            false| Black|            1000|         750|      0.0000|   0.0000|null|               null|                 null|  null|                0|       null| null| null|                null|          null|2008-04-30 00:00:00.000|       null|            null|F0AC2C4D-1A1F-4E3C-B4D9-68A...|2014-02-08 10:01:36.827|\n",
       "|      323|           Crown Race|      CR-9981|   false|            false|  null|            1000|         750|      0.0000|   0.0000|null|               null|                 null|  null|                0|       null| null| null|                null|          null|2008-04-30 00:00:00.000|       null|            null|51A32CA6-65A1-4C31-AF2B-D9E...|2014-02-08 10:01:36.827|\n",
       "|      324|          Chain Stays|      CS-2812|    true|            false|  null|            1000|         750|      0.0000|   0.0000|null|               null|                 null|  null|                1|       null| null| null|                null|          null|2008-04-30 00:00:00.000|       null|            null|FE0678ED-AEF2-4C58-A450-815...|2014-02-08 10:01:36.827|\n",
       "|      325|              Decal 1|      DC-8732|   false|            false|  null|            1000|         750|      0.0000|   0.0000|null|               null|                 null|  null|                0|       null| null| null|                null|          null|2008-04-30 00:00:00.000|       null|            null|05CE123C-A402-478E-AE9B-75D...|2014-02-08 10:01:36.827|\n",
       "|      326|              Decal 2|      DC-9824|   false|            false|  null|            1000|         750|      0.0000|   0.0000|null|               null|                 null|  null|                0|       null| null| null|                null|          null|2008-04-30 00:00:00.000|       null|            null|A56851F9-1CD7-4E2F-8779-2E7...|2014-02-08 10:01:36.827|\n",
       "|      327|            Down Tube|      DT-2377|    true|            false|  null|             800|         600|      0.0000|   0.0000|null|               null|                 null|  null|                1|       null| null| null|                null|          null|2008-04-30 00:00:00.000|       null|            null|1DAD47DD-E259-42B8-B8B4-15A...|2014-02-08 10:01:36.827|\n",
       "|      328|    Mountain End Caps|      EC-M092|    true|            false|  null|            1000|         750|      0.0000|   0.0000|null|               null|                 null|  null|                1|       null| null| null|                null|          null|2008-04-30 00:00:00.000|       null|            null|6070B1EA-59B7-4F8B-950F-2BE...|2014-02-08 10:01:36.827|\n",
       "|      329|        Road End Caps|      EC-R098|    true|            false|  null|            1000|         750|      0.0000|   0.0000|null|               null|                 null|  null|                1|       null| null| null|                null|          null|2008-04-30 00:00:00.000|       null|            null|88399D13-719E-4545-81D6-F06...|2014-02-08 10:01:36.827|\n",
       "|      330|     Touring End Caps|      EC-T209|    true|            false|  null|            1000|         750|      0.0000|   0.0000|null|               null|                 null|  null|                1|       null| null| null|                null|          null|2008-04-30 00:00:00.000|       null|            null|6903CE24-D0CE-4191-9198-423...|2014-02-08 10:01:36.827|\n",
       "|      331|             Fork End|      FE-3760|    true|            false|  null|             800|         600|      0.0000|   0.0000|null|               null|                 null|  null|                1|       null| null| null|                null|          null|2008-04-30 00:00:00.000|       null|            null|C91D602E-DA52-43D2-BD7E-EB1...|2014-02-08 10:01:36.827|\n",
       "|      332|            Freewheel|      FH-2981|   false|            false|Silver|             500|         375|      0.0000|   0.0000|null|               null|                 null|  null|                0|       null| null| null|                null|          null|2008-04-30 00:00:00.000|       null|            null|D864879A-E8B1-4F7B-BAFA-1F1...|2014-02-08 10:01:36.827|\n",
       "|      341|        Flat Washer 1|      FW-1000|   false|            false|  null|            1000|         750|      0.0000|   0.0000|null|               null|                 null|  null|                0|       null| null| null|                null|          null|2008-04-30 00:00:00.000|       null|            null|A3F2FA3A-22E1-43D8-A131-A9B...|2014-02-08 10:01:36.827|\n",
       "|      342|        Flat Washer 6|      FW-1200|   false|            false|  null|            1000|         750|      0.0000|   0.0000|null|               null|                 null|  null|                0|       null| null| null|                null|          null|2008-04-30 00:00:00.000|       null|            null|331ADDEC-E9B9-4A7E-9324-420...|2014-02-08 10:01:36.827|\n",
       "|      343|        Flat Washer 2|      FW-1400|   false|            false|  null|            1000|         750|      0.0000|   0.0000|null|               null|                 null|  null|                0|       null| null| null|                null|          null|2008-04-30 00:00:00.000|       null|            null|84A3473E-AE26-4A21-81B9-60B...|2014-02-08 10:01:36.827|\n",
       "|      344|        Flat Washer 9|      FW-3400|   false|            false|  null|            1000|         750|      0.0000|   0.0000|null|               null|                 null|  null|                0|       null| null| null|                null|          null|2008-04-30 00:00:00.000|       null|            null|0AE4CE60-5242-48F5-ADA1-301...|2014-02-08 10:01:36.827|\n",
       "+---------+---------------------+-------------+--------+-----------------+------+----------------+------------+------------+---------+----+-------------------+---------------------+------+-----------------+-----------+-----+-----+--------------------+--------------+-----------------------+-----------+----------------+------------------------------+-----------------------+\n",
       "only showing top 25 rows"
      ]
     },
     "execution_count": 11,
     "metadata": {},
     "output_type": "execute_result"
    }
   ],
   "source": [
    "##  14. Na tabela products pegar a primeira ocorrencia da linha qual que não é nulo e replicar para o dados na seguinte ordem de campos Color, ProductNumber\n",
    "spark.read.format('csv').option('header',True).load('work/pyspark/documentation/data/AdventureWorks/Production/Product.csv') \\\n",
    "    .select(col(\"Color\"))"
   ]
  },
  {
   "cell_type": "code",
   "execution_count": null,
   "metadata": {},
   "outputs": [],
   "source": [
    "\n",
    "\n",
    "##  14. Na tabela products pegar a primeira ocorrencia da linha qual que não é nulo e replicar para o dados na seguinte ordem de campos Color, ProductNumber\n",
    "\n",
    "##  15. Selecione todas as colunas da tabela person que tem o suffix nulo\n",
    "\n",
    "##  16. Transforme os dados da tabela person e coluna suffix que são nulos em goiaba *, a coluna transformada deverá chamar énulo\n",
    "\n",
    "##  17. Converta os endereços secundários que são nulos em endereços primarios da tabela person.address (FAÇA COM COALESCE TAMBEM)\n",
    "\n",
    "##  18. Quais nomes tem uma ocorrencia maior que 10 vezes, na tabela Person\n",
    "\n",
    "##  19. Quais sobrenomes tem uma ocorrencia maior que 2 vezes, na tabela Person\n",
    "\n",
    "##  20. Saber se os nomes Greg , Jeff e Sheena tem uma ocorrencia maior que 10 vezes na tabela Person\n",
    "\n",
    "##  21. Quais produtos que no total de vendas estão entre 162k a 500k (salesorderdetail)\n",
    "\n",
    "##  22. Quais nomes tem uma ocorrencia maior que 10 vezes, porem somente onde o titulo é 'Mr.'\n",
    "\n",
    "##  23. Identificar as provincias(stateProvinceID) com o maior numero de cadastros no nosso sistema, é preciso encontrar provincias que estão registradas no banco de dados mais que 1000 vezes (trazer os nomes das provincias tambem)\n",
    "\n",
    "##  24. Selecione o TerritoryName, BusinessEntityID, SalesYTD, desloque o salesYTD 1 linha, na janela do territoryName (vSalesPerson)\n",
    "\n",
    "##  25. Contar os nomes de registros duplicados da tabela Person"
   ]
  }
 ],
 "metadata": {
  "kernelspec": {
   "display_name": "Python 3 (ipykernel)",
   "language": "python",
   "name": "python3"
  },
  "language_info": {
   "codemirror_mode": {
    "name": "ipython",
    "version": 3
   },
   "file_extension": ".py",
   "mimetype": "text/x-python",
   "name": "python",
   "nbconvert_exporter": "python",
   "pygments_lexer": "ipython3",
   "version": "3.10.8"
  }
 },
 "nbformat": 4,
 "nbformat_minor": 4
}
