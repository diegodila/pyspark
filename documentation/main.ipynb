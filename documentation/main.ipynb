{
 "cells": [
  {
   "cell_type": "code",
   "execution_count": 1,
   "metadata": {
    "ExecuteTime": {
     "end_time": "2023-06-20T21:08:11.718952331Z",
     "start_time": "2023-06-20T21:08:08.056548674Z"
    }
   },
   "outputs": [],
   "source": [
    "from pyspark.sql import SparkSession\n",
    "spark = SparkSession.builder.appName('Notebook de testes').getOrCreate()\n",
    "spark.conf.set('spark.sql.repl.eagerEval.enabled',True)\n",
    "spark.conf.set('spark.sql.repl.eagerEval.maxNumRows',25)\n",
    "spark.conf.set('spark.sql.repl.eagerEval.truncate',30)\n",
    "from IPython.core.interactiveshell import InteractiveShell\n",
    "InteractiveShell.ast_node_interactivity = 'all'"
   ]
  },
  {
   "cell_type": "code",
   "execution_count": 6,
   "metadata": {},
   "outputs": [],
   "source": [
    "data = [(1,3,4)]\n",
    "df = spark.createDataFrame(data,schema='a int, b int, c int')\n",
    "df1 = spark.createDataFrame([{'a':1, 'b':'string'}])"
   ]
  },
  {
   "cell_type": "code",
   "execution_count": 7,
   "metadata": {},
   "outputs": [
    {
     "data": {
      "text/html": [
       "<table border='1'>\n",
       "<tr><th>a</th><th>b</th><th>c</th></tr>\n",
       "<tr><td>1</td><td>3</td><td>4</td></tr>\n",
       "</table>\n"
      ],
      "text/plain": [
       "+---+---+---+\n",
       "|  a|  b|  c|\n",
       "+---+---+---+\n",
       "|  1|  3|  4|\n",
       "+---+---+---+"
      ]
     },
     "execution_count": 7,
     "metadata": {},
     "output_type": "execute_result"
    }
   ],
   "source": [
    "df"
   ]
  },
  {
   "cell_type": "code",
   "execution_count": null,
   "metadata": {},
   "outputs": [],
   "source": []
  }
 ],
 "metadata": {
  "kernelspec": {
   "display_name": "Python 3 (ipykernel)",
   "language": "python",
   "name": "python3"
  },
  "language_info": {
   "codemirror_mode": {
    "name": "ipython",
    "version": 3
   },
   "file_extension": ".py",
   "mimetype": "text/x-python",
   "name": "python",
   "nbconvert_exporter": "python",
   "pygments_lexer": "ipython3",
   "version": "3.10.8"
  }
 },
 "nbformat": 4,
 "nbformat_minor": 4
}
