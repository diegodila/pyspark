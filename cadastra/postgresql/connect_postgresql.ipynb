{
 "cells": [
  {
   "cell_type": "code",
   "execution_count": null,
   "id": "57d09287-804b-42f0-a3d4-97e3c8941393",
   "metadata": {},
   "outputs": [],
   "source": [
    "from pyspark import SparkContext, SparkConf\n",
    "import os\n",
    "from pyspark.sql.session import SparkSession\n",
    "\n",
    "spark = SparkSession \\\n",
    "    .builder \\\n",
    "    .appName('Python Spark Postgresql') \\\n",
    "    .config(\"spark.jars\", \"./postgresql-42.3.3.jar\") \\\n",
    "    .config('spark.driver.extraClassPath', './postgresql-42.3.3.jar') \\\n",
    "    .getOrCreate()"
   ]
  },
  {
   "cell_type": "code",
   "execution_count": null,
   "id": "55b86cdd-fbc7-4410-809e-4fe9af8cc90a",
   "metadata": {},
   "outputs": [],
   "source": [
    "df.printSchema()"
   ]
  },
  {
   "cell_type": "code",
   "execution_count": null,
   "id": "b746fa28-d86f-4c0d-a6e9-255663a879a9",
   "metadata": {},
   "outputs": [],
   "source": [
    "c = con.cursor()"
   ]
  },
  {
   "cell_type": "code",
   "execution_count": null,
   "id": "08961a18-dc35-4d67-9880-16e8e1892d72",
   "metadata": {},
   "outputs": [],
   "source": [
    "c.execute('SELECT \"Name\", regua, nome_dash, \"_airbyte_ab_id\", \"_airbyte_emitted_at\", \"_airbyte_normalized_at\", \"_airbyte_depara_bin_hashid\" FROM raw.depara_bin;')"
   ]
  },
  {
   "cell_type": "code",
   "execution_count": null,
   "id": "a21c1091-d0c7-4373-a7d2-6ba29eee113a",
   "metadata": {},
   "outputs": [],
   "source": [
    "c.fetchall()"
   ]
  },
  {
   "cell_type": "code",
   "execution_count": null,
   "id": "739e2975-605f-488e-a936-4c5f61cec9a8",
   "metadata": {},
   "outputs": [],
   "source": [
    "con.close()"
   ]
  }
 ],
 "metadata": {
  "kernelspec": {
   "display_name": "Python 3 (ipykernel)",
   "language": "python",
   "name": "python3"
  },
  "language_info": {
   "codemirror_mode": {
    "name": "ipython",
    "version": 3
   },
   "file_extension": ".py",
   "mimetype": "text/x-python",
   "name": "python",
   "nbconvert_exporter": "python",
   "pygments_lexer": "ipython3",
   "version": "3.9.10"
  }
 },
 "nbformat": 4,
 "nbformat_minor": 5
}
