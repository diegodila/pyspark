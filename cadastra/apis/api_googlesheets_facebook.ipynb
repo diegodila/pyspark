{
 "cells": [
  {
   "cell_type": "code",
   "execution_count": null,
   "id": "42155b0b-df6e-4b18-8319-5baa905acc6e",
   "metadata": {},
   "outputs": [],
   "source": []
  },
  {
   "cell_type": "code",
   "execution_count": 1,
   "id": "18b3da3c-89d3-4aa8-a440-f91c0b0c034b",
   "metadata": {},
   "outputs": [],
   "source": [
    "# importing the required libraries\n",
    "import gspread\n",
    "import pandas as pd\n",
    "from oauth2client.service_account import ServiceAccountCredentials\n",
    "from datetime import date, datetime, timedelta\n",
    "import re"
   ]
  },
  {
   "cell_type": "code",
   "execution_count": 2,
   "id": "7f3045d5-cacb-422c-a3b7-0af0346adb3a",
   "metadata": {},
   "outputs": [],
   "source": [
    "# define the scope\n",
    "scope = ['https://spreadsheets.google.com/feeds','https://www.googleapis.com/auth/drive']\n",
    "\n",
    "# add credentials to the account\n",
    "creds = ServiceAccountCredentials.from_json_keyfile_name('./json/pass.json', scope)\n",
    "\n",
    "# authorize the clientsheet\n",
    "client = gspread.authorize(creds)"
   ]
  },
  {
   "cell_type": "code",
   "execution_count": 5,
   "id": "e3eeb725-2395-45df-a313-0786b2d5a42b",
   "metadata": {},
   "outputs": [],
   "source": [
    "# get the instance of the Spreadsheet\n",
    "sheet = client.open('Samsung - Geral Dia')\n",
    "\n",
    "# get the first sheet of the Spreadsheet\n",
    "sheet_instance = sheet.get_worksheet(1)"
   ]
  },
  {
   "cell_type": "code",
   "execution_count": 6,
   "id": "eb78e601-0739-49be-966f-3bb4d3c6977f",
   "metadata": {},
   "outputs": [],
   "source": [
    "today_minus = f'{date.today()-timedelta(days=1)}|{date.today()-timedelta(days=2)}|{date.today()-timedelta(days=3)}' \n",
    "current_date_1 =  f'{date.today()-timedelta(days=1)}'"
   ]
  },
  {
   "cell_type": "code",
   "execution_count": null,
   "id": "71b56701-41cb-4c2d-9676-a3efc370489a",
   "metadata": {},
   "outputs": [],
   "source": []
  },
  {
   "cell_type": "code",
   "execution_count": 7,
   "id": "c6ac2386-08aa-4588-ba11-112ef8a8c328",
   "metadata": {},
   "outputs": [],
   "source": [
    "pattern = re.compile(r'(%s)'%today_minus)\n",
    "cell_list = sheet_instance.findall(pattern)"
   ]
  },
  {
   "cell_type": "code",
   "execution_count": 8,
   "id": "256903ac-1d96-47cd-ac52-b7f00ea8289b",
   "metadata": {},
   "outputs": [],
   "source": [
    "mask = f'R{cell_list[0].row}C{cell_list[0].col}:R{cell_list[-1].row}C9'"
   ]
  },
  {
   "cell_type": "code",
   "execution_count": 18,
   "id": "68489655-25bf-453d-88c0-6b909d2044ed",
   "metadata": {},
   "outputs": [],
   "source": [
    "google_ads = sheet_instance.get(mask)"
   ]
  },
  {
   "cell_type": "code",
   "execution_count": 19,
   "id": "e005a483-5820-4e6b-b1c2-67f95f6336d9",
   "metadata": {},
   "outputs": [],
   "source": [
    "df = pd.DataFrame(google_ads)"
   ]
  },
  {
   "cell_type": "code",
   "execution_count": null,
   "id": "31168111-3964-4cb2-b30c-b40ae31ca9fa",
   "metadata": {},
   "outputs": [],
   "source": []
  },
  {
   "cell_type": "code",
   "execution_count": 23,
   "id": "a24b99da-aa0f-464b-a5de-187d779329c4",
   "metadata": {},
   "outputs": [],
   "source": [
    "dictr = {0: 'date',\n",
    "         3: 'campaign',\n",
    "         7: 'cost',\n",
    "         6: 'impressions'}\n",
    " \n",
    "# call rename () method\n",
    "df.rename(columns=dictr,\n",
    "          inplace=True)"
   ]
  },
  {
   "cell_type": "code",
   "execution_count": 24,
   "id": "15e5290d-8c25-4ba4-9099-f633d19a39c0",
   "metadata": {},
   "outputs": [
    {
     "name": "stderr",
     "output_type": "stream",
     "text": [
      "/tmp/ipykernel_1423/1201763459.py:7: FutureWarning: The frame.append method is deprecated and will be removed from pandas in a future version. Use pandas.concat instead.\n",
      "  final = final.append(group.groupby(['date','midia'])[[f'cost_{i}',f'impressions_{i}']].apply(lambda x : x.astype(float).sum()).reset_index())\n",
      "/tmp/ipykernel_1423/1201763459.py:7: FutureWarning: The frame.append method is deprecated and will be removed from pandas in a future version. Use pandas.concat instead.\n",
      "  final = final.append(group.groupby(['date','midia'])[[f'cost_{i}',f'impressions_{i}']].apply(lambda x : x.astype(float).sum()).reset_index())\n",
      "/tmp/ipykernel_1423/1201763459.py:7: FutureWarning: The frame.append method is deprecated and will be removed from pandas in a future version. Use pandas.concat instead.\n",
      "  final = final.append(group.groupby(['date','midia'])[[f'cost_{i}',f'impressions_{i}']].apply(lambda x : x.astype(float).sum()).reset_index())\n",
      "/tmp/ipykernel_1423/1201763459.py:7: FutureWarning: The frame.append method is deprecated and will be removed from pandas in a future version. Use pandas.concat instead.\n",
      "  final = final.append(group.groupby(['date','midia'])[[f'cost_{i}',f'impressions_{i}']].apply(lambda x : x.astype(float).sum()).reset_index())\n",
      "/tmp/ipykernel_1423/1201763459.py:7: FutureWarning: The frame.append method is deprecated and will be removed from pandas in a future version. Use pandas.concat instead.\n",
      "  final = final.append(group.groupby(['date','midia'])[[f'cost_{i}',f'impressions_{i}']].apply(lambda x : x.astype(float).sum()).reset_index())\n"
     ]
    }
   ],
   "source": [
    "filters = ['cad1-','cad3-','cad12-','cad26-','cad42-']\n",
    "final = pd.DataFrame()\n",
    "for i in filters:\n",
    "    df3 = df.where(df['campaign'].str.contains(i)).dropna()\n",
    "    df3['midia'] = 'facebook'\n",
    "    group = df3.rename(columns = {'cost':f'cost_{i}', 'impressions':f'impressions_{i}'})\n",
    "    final = final.append(group.groupby(['date','midia'])[[f'cost_{i}',f'impressions_{i}']].apply(lambda x : x.astype(float).sum()).reset_index())"
   ]
  },
  {
   "cell_type": "code",
   "execution_count": 25,
   "id": "b6bd8e6a-1f2b-4273-a393-ca2b403a0674",
   "metadata": {},
   "outputs": [
    {
     "data": {
      "text/html": [
       "<div>\n",
       "<style scoped>\n",
       "    .dataframe tbody tr th:only-of-type {\n",
       "        vertical-align: middle;\n",
       "    }\n",
       "\n",
       "    .dataframe tbody tr th {\n",
       "        vertical-align: top;\n",
       "    }\n",
       "\n",
       "    .dataframe thead th {\n",
       "        text-align: right;\n",
       "    }\n",
       "</style>\n",
       "<table border=\"1\" class=\"dataframe\">\n",
       "  <thead>\n",
       "    <tr style=\"text-align: right;\">\n",
       "      <th></th>\n",
       "      <th>date</th>\n",
       "      <th>midia</th>\n",
       "      <th>cost_cad1-</th>\n",
       "      <th>impressions_cad1-</th>\n",
       "      <th>cost_cad3-</th>\n",
       "      <th>impressions_cad3-</th>\n",
       "      <th>cost_cad12-</th>\n",
       "      <th>impressions_cad12-</th>\n",
       "      <th>cost_cad26-</th>\n",
       "      <th>impressions_cad26-</th>\n",
       "      <th>cost_cad42-</th>\n",
       "      <th>impressions_cad42-</th>\n",
       "    </tr>\n",
       "  </thead>\n",
       "  <tbody>\n",
       "    <tr>\n",
       "      <th>0</th>\n",
       "      <td>2022-04-24</td>\n",
       "      <td>facebook</td>\n",
       "      <td>2637.6</td>\n",
       "      <td>168420.0</td>\n",
       "      <td>NaN</td>\n",
       "      <td>NaN</td>\n",
       "      <td>NaN</td>\n",
       "      <td>NaN</td>\n",
       "      <td>NaN</td>\n",
       "      <td>NaN</td>\n",
       "      <td>NaN</td>\n",
       "      <td>NaN</td>\n",
       "    </tr>\n",
       "    <tr>\n",
       "      <th>0</th>\n",
       "      <td>2022-04-24</td>\n",
       "      <td>facebook</td>\n",
       "      <td>NaN</td>\n",
       "      <td>NaN</td>\n",
       "      <td>NaN</td>\n",
       "      <td>NaN</td>\n",
       "      <td>0.0</td>\n",
       "      <td>0.0</td>\n",
       "      <td>NaN</td>\n",
       "      <td>NaN</td>\n",
       "      <td>NaN</td>\n",
       "      <td>NaN</td>\n",
       "    </tr>\n",
       "    <tr>\n",
       "      <th>0</th>\n",
       "      <td>2022-04-24</td>\n",
       "      <td>facebook</td>\n",
       "      <td>NaN</td>\n",
       "      <td>NaN</td>\n",
       "      <td>NaN</td>\n",
       "      <td>NaN</td>\n",
       "      <td>NaN</td>\n",
       "      <td>NaN</td>\n",
       "      <td>3497.66</td>\n",
       "      <td>358987.0</td>\n",
       "      <td>NaN</td>\n",
       "      <td>NaN</td>\n",
       "    </tr>\n",
       "  </tbody>\n",
       "</table>\n",
       "</div>"
      ],
      "text/plain": [
       "         date     midia  cost_cad1-  impressions_cad1- cost_cad3-  \\\n",
       "0  2022-04-24  facebook      2637.6           168420.0        NaN   \n",
       "0  2022-04-24  facebook         NaN                NaN        NaN   \n",
       "0  2022-04-24  facebook         NaN                NaN        NaN   \n",
       "\n",
       "  impressions_cad3-  cost_cad12-  impressions_cad12-  cost_cad26-  \\\n",
       "0               NaN          NaN                 NaN          NaN   \n",
       "0               NaN          0.0                 0.0          NaN   \n",
       "0               NaN          NaN                 NaN      3497.66   \n",
       "\n",
       "   impressions_cad26- cost_cad42- impressions_cad42-  \n",
       "0                 NaN         NaN                NaN  \n",
       "0                 NaN         NaN                NaN  \n",
       "0            358987.0         NaN                NaN  "
      ]
     },
     "execution_count": 25,
     "metadata": {},
     "output_type": "execute_result"
    }
   ],
   "source": [
    "final"
   ]
  },
  {
   "cell_type": "code",
   "execution_count": null,
   "id": "0bec1369-1aa9-4a82-8436-25cb6a268d00",
   "metadata": {},
   "outputs": [],
   "source": []
  },
  {
   "cell_type": "code",
   "execution_count": null,
   "id": "b8a145bc-bc60-4208-9eff-e05c3f217122",
   "metadata": {},
   "outputs": [],
   "source": []
  },
  {
   "cell_type": "code",
   "execution_count": null,
   "id": "8f9dab6a-952a-475e-8707-b5d7f0c464af",
   "metadata": {},
   "outputs": [],
   "source": []
  },
  {
   "cell_type": "code",
   "execution_count": null,
   "id": "d985e2e4-deca-4926-b792-b403402a737f",
   "metadata": {},
   "outputs": [],
   "source": []
  },
  {
   "cell_type": "code",
   "execution_count": null,
   "id": "f74f1880-36eb-4521-b9b3-9193b96af132",
   "metadata": {},
   "outputs": [],
   "source": []
  },
  {
   "cell_type": "code",
   "execution_count": null,
   "id": "5774df5c-87c8-4d1f-99cd-4bda2d48b6a2",
   "metadata": {},
   "outputs": [],
   "source": []
  },
  {
   "cell_type": "code",
   "execution_count": null,
   "id": "92ee0761-f4f3-4279-abba-4ac9a905aa99",
   "metadata": {},
   "outputs": [],
   "source": []
  },
  {
   "cell_type": "code",
   "execution_count": null,
   "id": "0c78aa37-8c5a-4600-9470-9cf9da7aaad8",
   "metadata": {},
   "outputs": [],
   "source": []
  },
  {
   "cell_type": "code",
   "execution_count": null,
   "id": "935d1e36-1513-4bf7-8ea6-d7afabc77e04",
   "metadata": {},
   "outputs": [],
   "source": []
  },
  {
   "cell_type": "code",
   "execution_count": null,
   "id": "ac491acf-b05a-41c3-966f-a989c8c4ac7e",
   "metadata": {},
   "outputs": [],
   "source": []
  },
  {
   "cell_type": "code",
   "execution_count": null,
   "id": "d3e93f4d-69af-409f-9c32-079ef1a346c5",
   "metadata": {},
   "outputs": [],
   "source": []
  }
 ],
 "metadata": {
  "kernelspec": {
   "display_name": "Python 3 (ipykernel)",
   "language": "python",
   "name": "python3"
  },
  "language_info": {
   "codemirror_mode": {
    "name": "ipython",
    "version": 3
   },
   "file_extension": ".py",
   "mimetype": "text/x-python",
   "name": "python",
   "nbconvert_exporter": "python",
   "pygments_lexer": "ipython3",
   "version": "3.9.10"
  }
 },
 "nbformat": 4,
 "nbformat_minor": 5
}
