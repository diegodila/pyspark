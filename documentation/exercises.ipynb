{
 "cells": [
  {
   "cell_type": "markdown",
   "metadata": {},
   "source": [
    "    1.crie uma sessão spark"
   ]
  },
  {
   "cell_type": "code",
   "execution_count": null,
   "metadata": {},
   "outputs": [],
   "source": []
  },
  {
   "cell_type": "markdown",
   "metadata": {},
   "source": [
    "    2.set as variavel para não precisar do show()"
   ]
  },
  {
   "cell_type": "code",
   "execution_count": null,
   "metadata": {},
   "outputs": [],
   "source": []
  },
  {
   "cell_type": "markdown",
   "metadata": {},
   "source": [
    "    3.create dataframe"
   ]
  },
  {
   "cell_type": "code",
   "execution_count": null,
   "metadata": {},
   "outputs": [],
   "source": []
  },
  {
   "cell_type": "markdown",
   "metadata": {},
   "source": [
    "    4.create dataframe explicit"
   ]
  },
  {
   "cell_type": "code",
   "execution_count": null,
   "metadata": {},
   "outputs": [],
   "source": []
  },
  {
   "cell_type": "markdown",
   "metadata": {
    "vscode": {
     "languageId": "python"
    }
   },
   "source": [
    "    5.Print o Schema"
   ]
  },
  {
   "cell_type": "code",
   "execution_count": null,
   "metadata": {},
   "outputs": [],
   "source": []
  },
  {
   "cell_type": "markdown",
   "metadata": {},
   "source": [
    "    6.Print o Show de um df não truncado "
   ]
  },
  {
   "cell_type": "code",
   "execution_count": null,
   "metadata": {},
   "outputs": [],
   "source": []
  },
  {
   "cell_type": "markdown",
   "metadata": {},
   "source": [
    "    7.Display DataFrame rows & columns vertically"
   ]
  },
  {
   "cell_type": "code",
   "execution_count": 28,
   "metadata": {},
   "outputs": [
    {
     "name": "stdout",
     "output_type": "stream",
     "text": [
      "-RECORD 0-------------------\n",
      " a   | dfiidofjodjfodjfo... \n",
      " b   | dofjosdjfoijdsfoi... \n",
      "\n"
     ]
    }
   ],
   "source": []
  },
  {
   "cell_type": "markdown",
   "metadata": {},
   "source": [
    "    8.Create a StructType & StructField on DataFrame"
   ]
  },
  {
   "cell_type": "code",
   "execution_count": 30,
   "metadata": {},
   "outputs": [
    {
     "ename": "TypeError",
     "evalue": "__init__() takes from 1 to 2 positional arguments but 3 were given",
     "output_type": "error",
     "traceback": [
      "\u001b[0;31m---------------------------------------------------------------------------\u001b[0m",
      "\u001b[0;31mTypeError\u001b[0m                                 Traceback (most recent call last)",
      "\u001b[1;32m/home/diegodila/Projects/pyspark/documentation/exercises.ipynb Cell 16\u001b[0m in \u001b[0;36m<cell line: 9>\u001b[0;34m()\u001b[0m\n\u001b[1;32m      <a href='vscode-notebook-cell:/home/diegodila/Projects/pyspark/documentation/exercises.ipynb#X25sZmlsZQ%3D%3D?line=5'>6</a>\u001b[0m data \u001b[39m=\u001b[39m [(\u001b[39m1\u001b[39m,\u001b[39m'\u001b[39m\u001b[39msdd\u001b[39m\u001b[39m'\u001b[39m), (\u001b[39m2\u001b[39m,\u001b[39m'\u001b[39m\u001b[39mdodo\u001b[39m\u001b[39m'\u001b[39m)]\n\u001b[1;32m      <a href='vscode-notebook-cell:/home/diegodila/Projects/pyspark/documentation/exercises.ipynb#X25sZmlsZQ%3D%3D?line=6'>7</a>\u001b[0m columns \u001b[39m=\u001b[39m [\u001b[39m'\u001b[39m\u001b[39mb\u001b[39m\u001b[39m'\u001b[39m,\u001b[39m'\u001b[39m\u001b[39mc\u001b[39m\u001b[39m'\u001b[39m]\n\u001b[0;32m----> <a href='vscode-notebook-cell:/home/diegodila/Projects/pyspark/documentation/exercises.ipynb#X25sZmlsZQ%3D%3D?line=8'>9</a>\u001b[0m schema \u001b[39m=\u001b[39m StructType(\n\u001b[1;32m     <a href='vscode-notebook-cell:/home/diegodila/Projects/pyspark/documentation/exercises.ipynb#X25sZmlsZQ%3D%3D?line=9'>10</a>\u001b[0m     StructField(\u001b[39m'\u001b[39;49m\u001b[39mdiego\u001b[39;49m\u001b[39m'\u001b[39;49m,IntegerType(),\u001b[39mTrue\u001b[39;49;00m),\n\u001b[1;32m     <a href='vscode-notebook-cell:/home/diegodila/Projects/pyspark/documentation/exercises.ipynb#X25sZmlsZQ%3D%3D?line=10'>11</a>\u001b[0m     StructField(\u001b[39m'\u001b[39;49m\u001b[39mdieo\u001b[39;49m\u001b[39m'\u001b[39;49m,StringType(),\u001b[39mTrue\u001b[39;49;00m)\n\u001b[1;32m     <a href='vscode-notebook-cell:/home/diegodila/Projects/pyspark/documentation/exercises.ipynb#X25sZmlsZQ%3D%3D?line=11'>12</a>\u001b[0m )\n\u001b[1;32m     <a href='vscode-notebook-cell:/home/diegodila/Projects/pyspark/documentation/exercises.ipynb#X25sZmlsZQ%3D%3D?line=13'>14</a>\u001b[0m df3 \u001b[39m=\u001b[39m spark\u001b[39m.\u001b[39mcreateDataFrame(data, schema)\n",
      "\u001b[0;31mTypeError\u001b[0m: __init__() takes from 1 to 2 positional arguments but 3 were given"
     ]
    }
   ],
   "source": [
    "from pyspark.sql import SparkSession\n",
    "from pyspark.sql.types import StructType, StructField, StringType, IntegerType\n",
    "\n",
    "spark = SparkSession.builder.getOrCreate()\n",
    "\n",
    "data = [(1,'sdd'), (2,'dodo')]\n",
    "\n",
    "schema = StructType(\n",
    "    StructField('diego',IntegerType(),True),\n",
    "    StructField('dieo',StringType(),True)\n",
    ")\n",
    "\n",
    "df3 = spark.createDataFrame(data, schema)"
   ]
  },
  {
   "cell_type": "code",
   "execution_count": null,
   "metadata": {},
   "outputs": [],
   "source": []
  },
  {
   "cell_type": "code",
   "execution_count": null,
   "metadata": {},
   "outputs": [],
   "source": []
  },
  {
   "cell_type": "code",
   "execution_count": null,
   "metadata": {},
   "outputs": [],
   "source": []
  }
 ],
 "metadata": {
  "kernelspec": {
   "display_name": "Python 3 (ipykernel)",
   "language": "python",
   "name": "python3"
  },
  "language_info": {
   "codemirror_mode": {
    "name": "ipython",
    "version": 3
   },
   "file_extension": ".py",
   "mimetype": "text/x-python",
   "name": "python",
   "nbconvert_exporter": "python",
   "pygments_lexer": "ipython3",
   "version": "3.9.10"
  },
  "orig_nbformat": 4
 },
 "nbformat": 4,
 "nbformat_minor": 2
}
