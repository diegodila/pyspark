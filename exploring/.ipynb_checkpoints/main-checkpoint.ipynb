{
 "cells": [
  {
   "cell_type": "code",
   "execution_count": 5,
   "metadata": {
    "ExecuteTime": {
     "end_time": "2023-06-20T21:08:11.718952331Z",
     "start_time": "2023-06-20T21:08:08.056548674Z"
    }
   },
   "outputs": [],
   "source": [
    "from pyspark.sql import SparkSession\n",
    "spark = SparkSession.builder.appName('Notebook de testes').getOrCreate()\n",
    "spark.conf.set('spark.sql.repl.eagerEval.enabled',True)\n",
    "spark.conf.set('spark.sql.repl.eagerEval.maxNumRows',30)\n",
    "spark.conf.set('spark.sql.repl.eagerEval.truncate',30)"
   ]
  },
  {
   "cell_type": "code",
   "execution_count": 3,
   "metadata": {
    "collapsed": false
   },
   "outputs": [
    {
     "data": {
      "text/html": [
       "<table border='1'>\n",
       "<tr><th>AddressID</th><th>AddressLine1</th><th>AddressLine2</th><th>City</th><th>StateProvinceID</th><th>PostalCode</th><th>SpatialLocation</th><th>rowguid</th><th>ModifiedDate</th></tr>\n",
       "<tr><td>1</td><td>1970 Napa Ct.</td><td>null</td><td>Bothell</td><td>79</td><td>98011</td><td>0xE6100000010CAE8BFC28BCE44...</td><td>9AADCB0D-36CF-483F-84D8-585...</td><td>2007-12-04 00:00:00.000</td></tr>\n",
       "<tr><td>2</td><td>9833 Mt. Dias Blv.</td><td>null</td><td>Bothell</td><td>79</td><td>98011</td><td>0xE6100000010CD6FA851AE6D74...</td><td>32A54B9E-E034-4BFB-B573-A71...</td><td>2008-11-30 00:00:00.000</td></tr>\n",
       "<tr><td>3</td><td>7484 Roundtree Drive</td><td>null</td><td>Bothell</td><td>79</td><td>98011</td><td>0xE6100000010C18E304C4ADE14...</td><td>4C506923-6D1B-452C-A07C-BAA...</td><td>2013-03-07 00:00:00.000</td></tr>\n",
       "<tr><td>4</td><td>9539 Glenside Dr</td><td>null</td><td>Bothell</td><td>79</td><td>98011</td><td>0xE6100000010C813A0D5F9FDE4...</td><td>E5946C78-4BCC-477F-9FA1-CC0...</td><td>2009-02-03 00:00:00.000</td></tr>\n",
       "<tr><td>5</td><td>1226 Shoe St.</td><td>null</td><td>Bothell</td><td>79</td><td>98011</td><td>0xE6100000010C61C64D8ABBD94...</td><td>FBAFF937-4A97-4AF0-81FD-B84...</td><td>2008-12-19 00:00:00.000</td></tr>\n",
       "<tr><td>6</td><td>1399 Firestone Drive</td><td>null</td><td>Bothell</td><td>79</td><td>98011</td><td>0xE6100000010CE0B4E50458DA4...</td><td>FEBF8191-9804-44C8-877A-33F...</td><td>2009-02-13 00:00:00.000</td></tr>\n",
       "<tr><td>7</td><td>5672 Hale Dr.</td><td>null</td><td>Bothell</td><td>79</td><td>98011</td><td>0xE6100000010C18E304C4ADE14...</td><td>0175A174-6C34-4D41-B3C1-441...</td><td>2009-12-11 00:00:00.000</td></tr>\n",
       "<tr><td>8</td><td>6387 Scenic Avenue</td><td>null</td><td>Bothell</td><td>79</td><td>98011</td><td>0xE6100000010C0029A5D93BDF4...</td><td>3715E813-4DCA-49E0-8F1C-318...</td><td>2008-12-17 00:00:00.000</td></tr>\n",
       "<tr><td>9</td><td>8713 Yosemite Ct.</td><td>null</td><td>Bothell</td><td>79</td><td>98011</td><td>0xE6100000010C6A80AD742DDC4...</td><td>268AF621-76D7-4C78-9441-144...</td><td>2012-05-30 00:00:00.000</td></tr>\n",
       "<tr><td>10</td><td>250 Race Court</td><td>null</td><td>Bothell</td><td>79</td><td>98011</td><td>0xE6100000010C219D64AE1FE44...</td><td>0B6B739D-8EB6-4378-8D55-FE1...</td><td>2008-12-02 00:00:00.000</td></tr>\n",
       "<tr><td>11</td><td>1318 Lasalle Street</td><td>null</td><td>Bothell</td><td>79</td><td>98011</td><td>0xE6100000010CCEFFBBFD9FE94...</td><td>981B3303-ACA2-49C7-9A96-FB6...</td><td>2013-02-28 00:00:00.000</td></tr>\n",
       "<tr><td>12</td><td>5415 San Gabriel Dr.</td><td>null</td><td>Bothell</td><td>79</td><td>98011</td><td>0xE6100000010C6A80AD742DDC4...</td><td>1C2C9CFE-AB9F-4F96-8E1F-D96...</td><td>2013-01-05 00:00:00.000</td></tr>\n",
       "<tr><td>13</td><td>9265 La Paz</td><td>null</td><td>Bothell</td><td>79</td><td>98011</td><td>0xE6100000010CC3228C0867E84...</td><td>E0BA2F52-C907-4553-A0DB-67F...</td><td>2013-12-14 00:00:00.000</td></tr>\n",
       "<tr><td>14</td><td>8157 W. Book</td><td>null</td><td>Bothell</td><td>79</td><td>98011</td><td>0xE6100000010C219D64AE1FE44...</td><td>A1C658AE-C553-4A9D-A081-A55...</td><td>2009-12-04 00:00:00.000</td></tr>\n",
       "<tr><td>15</td><td>4912 La Vuelta</td><td>null</td><td>Bothell</td><td>79</td><td>98011</td><td>0xE6100000010C219D64AE1FE44...</td><td>F397E64A-A9D8-4E57-9E7C-B10...</td><td>2013-11-18 00:00:00.000</td></tr>\n",
       "<tr><td>16</td><td>40 Ellis St.</td><td>null</td><td>Bothell</td><td>79</td><td>98011</td><td>0xE6100000010CF76E45EFC9DC4...</td><td>0312B65F-CB60-4396-9EC7-A78...</td><td>2012-11-09 00:00:00.000</td></tr>\n",
       "<tr><td>17</td><td>6696 Anchor Drive</td><td>null</td><td>Bothell</td><td>79</td><td>98011</td><td>0xE6100000010C034C75E402DE4...</td><td>CE9B3B47-9267-4727-BCD2-687...</td><td>2013-11-08 00:00:00.000</td></tr>\n",
       "<tr><td>18</td><td>1873 Lion Circle</td><td>null</td><td>Bothell</td><td>79</td><td>98011</td><td>0xE6100000010C219D64AE1FE44...</td><td>963854F7-E3CB-46A1-A3DB-1B0...</td><td>2013-11-30 00:00:00.000</td></tr>\n",
       "<tr><td>19</td><td>3148 Rose Street</td><td>null</td><td>Bothell</td><td>79</td><td>98011</td><td>0xE6100000010C813A0D5F9FDE4...</td><td>6B7ACB0F-CDBF-44FD-BA14-EB0...</td><td>2014-04-03 00:00:00.000</td></tr>\n",
       "<tr><td>20</td><td>6872 Thornwood Dr.</td><td>null</td><td>Bothell</td><td>79</td><td>98011</td><td>0xE6100000010C034C75E402DE4...</td><td>4B1F1ED4-97A4-43FD-BB1E-9E0...</td><td>2009-02-05 00:00:00.000</td></tr>\n",
       "<tr><td>21</td><td>5747 Shirley Drive</td><td>null</td><td>Bothell</td><td>79</td><td>98011</td><td>0xE6100000010CEB9115FA90DB4...</td><td>D83299D7-A0F4-4055-9BD5-590...</td><td>2009-02-11 00:00:00.000</td></tr>\n",
       "<tr><td>22</td><td>636 Vine Hill Way</td><td>null</td><td>Portland</td><td>58</td><td>97205</td><td>0xE6100000010CB55B852318C34...</td><td>7F641525-2704-4F73-9D8A-EB0...</td><td>2011-05-24 00:00:00.000</td></tr>\n",
       "<tr><td>23</td><td>6657 Sand Pointe Lane</td><td>null</td><td>Seattle</td><td>79</td><td>98104</td><td>0xE6100000010C9F07FD5862DD4...</td><td>B991568F-5096-4A92-B25C-1A3...</td><td>2009-01-15 00:00:00.000</td></tr>\n",
       "<tr><td>24</td><td>80 Sunview Terrace</td><td>null</td><td>Duluth</td><td>36</td><td>55802</td><td>0xE6100000010C04554A7DD5664...</td><td>BE07D3C8-6E58-4670-9DA9-151...</td><td>2011-05-24 00:00:00.000</td></tr>\n",
       "<tr><td>25</td><td>9178 Jumping St.</td><td>null</td><td>Dallas</td><td>73</td><td>75201</td><td>0xE6100000010C10A810D188624...</td><td>C8DF3BD9-48F0-4654-A8DD-14A...</td><td>2012-07-31 00:00:00.000</td></tr>\n",
       "<tr><td>26</td><td>5725 Glaze Drive</td><td>null</td><td>San Francisco</td><td>9</td><td>94109</td><td>0xE6100000010CFE3883FD5AE14...</td><td>77415959-A4EE-4DA6-86F9-70C...</td><td>2011-05-24 00:00:00.000</td></tr>\n",
       "<tr><td>27</td><td>2487 Riverside Drive</td><td>null</td><td>Nevada</td><td>74</td><td>84407</td><td>0xE6100000010C50ECC7344CA04...</td><td>C1D0F3B0-6B2A-4388-8861-48F...</td><td>2011-05-24 00:00:00.000</td></tr>\n",
       "<tr><td>28</td><td>9228 Via Del Sol</td><td>null</td><td>Phoenix</td><td>6</td><td>85004</td><td>0xE6100000010CCEEAD68894D44...</td><td>12AE5EE1-FC3E-468B-9B92-3B9...</td><td>2011-08-01 00:00:00.000</td></tr>\n",
       "<tr><td>29</td><td>8291 Crossbow Way</td><td>null</td><td>Memphis</td><td>72</td><td>38103</td><td>0xE6100000010C7AED632C1D964...</td><td>7CC794AD-1822-412B-AB94-337...</td><td>2011-05-24 00:00:00.000</td></tr>\n",
       "<tr><td>30</td><td>9707 Coldwater Drive</td><td>null</td><td>Orlando</td><td>15</td><td>32804</td><td>0xE6100000010C90C10F63019F3...</td><td>7431591F-36C1-4A65-B722-0E0...</td><td>2011-07-01 00:00:00.000</td></tr>\n",
       "</table>\n",
       "only showing top 30 rows\n"
      ],
      "text/plain": [
       "+---------+---------------------+------------+-------------+---------------+----------+------------------------------+------------------------------+-----------------------+\n",
       "|AddressID|         AddressLine1|AddressLine2|         City|StateProvinceID|PostalCode|               SpatialLocation|                       rowguid|           ModifiedDate|\n",
       "+---------+---------------------+------------+-------------+---------------+----------+------------------------------+------------------------------+-----------------------+\n",
       "|        1|        1970 Napa Ct.|        null|      Bothell|             79|     98011|0xE6100000010CAE8BFC28BCE44...|9AADCB0D-36CF-483F-84D8-585...|2007-12-04 00:00:00.000|\n",
       "|        2|   9833 Mt. Dias Blv.|        null|      Bothell|             79|     98011|0xE6100000010CD6FA851AE6D74...|32A54B9E-E034-4BFB-B573-A71...|2008-11-30 00:00:00.000|\n",
       "|        3| 7484 Roundtree Drive|        null|      Bothell|             79|     98011|0xE6100000010C18E304C4ADE14...|4C506923-6D1B-452C-A07C-BAA...|2013-03-07 00:00:00.000|\n",
       "|        4|     9539 Glenside Dr|        null|      Bothell|             79|     98011|0xE6100000010C813A0D5F9FDE4...|E5946C78-4BCC-477F-9FA1-CC0...|2009-02-03 00:00:00.000|\n",
       "|        5|        1226 Shoe St.|        null|      Bothell|             79|     98011|0xE6100000010C61C64D8ABBD94...|FBAFF937-4A97-4AF0-81FD-B84...|2008-12-19 00:00:00.000|\n",
       "|        6| 1399 Firestone Drive|        null|      Bothell|             79|     98011|0xE6100000010CE0B4E50458DA4...|FEBF8191-9804-44C8-877A-33F...|2009-02-13 00:00:00.000|\n",
       "|        7|        5672 Hale Dr.|        null|      Bothell|             79|     98011|0xE6100000010C18E304C4ADE14...|0175A174-6C34-4D41-B3C1-441...|2009-12-11 00:00:00.000|\n",
       "|        8|   6387 Scenic Avenue|        null|      Bothell|             79|     98011|0xE6100000010C0029A5D93BDF4...|3715E813-4DCA-49E0-8F1C-318...|2008-12-17 00:00:00.000|\n",
       "|        9|    8713 Yosemite Ct.|        null|      Bothell|             79|     98011|0xE6100000010C6A80AD742DDC4...|268AF621-76D7-4C78-9441-144...|2012-05-30 00:00:00.000|\n",
       "|       10|       250 Race Court|        null|      Bothell|             79|     98011|0xE6100000010C219D64AE1FE44...|0B6B739D-8EB6-4378-8D55-FE1...|2008-12-02 00:00:00.000|\n",
       "|       11|  1318 Lasalle Street|        null|      Bothell|             79|     98011|0xE6100000010CCEFFBBFD9FE94...|981B3303-ACA2-49C7-9A96-FB6...|2013-02-28 00:00:00.000|\n",
       "|       12| 5415 San Gabriel Dr.|        null|      Bothell|             79|     98011|0xE6100000010C6A80AD742DDC4...|1C2C9CFE-AB9F-4F96-8E1F-D96...|2013-01-05 00:00:00.000|\n",
       "|       13|          9265 La Paz|        null|      Bothell|             79|     98011|0xE6100000010CC3228C0867E84...|E0BA2F52-C907-4553-A0DB-67F...|2013-12-14 00:00:00.000|\n",
       "|       14|         8157 W. Book|        null|      Bothell|             79|     98011|0xE6100000010C219D64AE1FE44...|A1C658AE-C553-4A9D-A081-A55...|2009-12-04 00:00:00.000|\n",
       "|       15|       4912 La Vuelta|        null|      Bothell|             79|     98011|0xE6100000010C219D64AE1FE44...|F397E64A-A9D8-4E57-9E7C-B10...|2013-11-18 00:00:00.000|\n",
       "|       16|         40 Ellis St.|        null|      Bothell|             79|     98011|0xE6100000010CF76E45EFC9DC4...|0312B65F-CB60-4396-9EC7-A78...|2012-11-09 00:00:00.000|\n",
       "|       17|    6696 Anchor Drive|        null|      Bothell|             79|     98011|0xE6100000010C034C75E402DE4...|CE9B3B47-9267-4727-BCD2-687...|2013-11-08 00:00:00.000|\n",
       "|       18|     1873 Lion Circle|        null|      Bothell|             79|     98011|0xE6100000010C219D64AE1FE44...|963854F7-E3CB-46A1-A3DB-1B0...|2013-11-30 00:00:00.000|\n",
       "|       19|     3148 Rose Street|        null|      Bothell|             79|     98011|0xE6100000010C813A0D5F9FDE4...|6B7ACB0F-CDBF-44FD-BA14-EB0...|2014-04-03 00:00:00.000|\n",
       "|       20|   6872 Thornwood Dr.|        null|      Bothell|             79|     98011|0xE6100000010C034C75E402DE4...|4B1F1ED4-97A4-43FD-BB1E-9E0...|2009-02-05 00:00:00.000|\n",
       "|       21|   5747 Shirley Drive|        null|      Bothell|             79|     98011|0xE6100000010CEB9115FA90DB4...|D83299D7-A0F4-4055-9BD5-590...|2009-02-11 00:00:00.000|\n",
       "|       22|    636 Vine Hill Way|        null|     Portland|             58|     97205|0xE6100000010CB55B852318C34...|7F641525-2704-4F73-9D8A-EB0...|2011-05-24 00:00:00.000|\n",
       "|       23|6657 Sand Pointe Lane|        null|      Seattle|             79|     98104|0xE6100000010C9F07FD5862DD4...|B991568F-5096-4A92-B25C-1A3...|2009-01-15 00:00:00.000|\n",
       "|       24|   80 Sunview Terrace|        null|       Duluth|             36|     55802|0xE6100000010C04554A7DD5664...|BE07D3C8-6E58-4670-9DA9-151...|2011-05-24 00:00:00.000|\n",
       "|       25|     9178 Jumping St.|        null|       Dallas|             73|     75201|0xE6100000010C10A810D188624...|C8DF3BD9-48F0-4654-A8DD-14A...|2012-07-31 00:00:00.000|\n",
       "|       26|     5725 Glaze Drive|        null|San Francisco|              9|     94109|0xE6100000010CFE3883FD5AE14...|77415959-A4EE-4DA6-86F9-70C...|2011-05-24 00:00:00.000|\n",
       "|       27| 2487 Riverside Drive|        null|       Nevada|             74|     84407|0xE6100000010C50ECC7344CA04...|C1D0F3B0-6B2A-4388-8861-48F...|2011-05-24 00:00:00.000|\n",
       "|       28|     9228 Via Del Sol|        null|      Phoenix|              6|     85004|0xE6100000010CCEEAD68894D44...|12AE5EE1-FC3E-468B-9B92-3B9...|2011-08-01 00:00:00.000|\n",
       "|       29|    8291 Crossbow Way|        null|      Memphis|             72|     38103|0xE6100000010C7AED632C1D964...|7CC794AD-1822-412B-AB94-337...|2011-05-24 00:00:00.000|\n",
       "|       30| 9707 Coldwater Drive|        null|      Orlando|             15|     32804|0xE6100000010C90C10F63019F3...|7431591F-36C1-4A65-B722-0E0...|2011-07-01 00:00:00.000|\n",
       "+---------+---------------------+------------+-------------+---------------+----------+------------------------------+------------------------------+-----------------------+\n",
       "only showing top 30 rows"
      ]
     },
     "execution_count": 3,
     "metadata": {},
     "output_type": "execute_result"
    }
   ],
   "source": [
    "from pyspark.sql.functions import col, lit\n",
    "spark.read.option('header',True).csv('work/pyspark/documentation/data/AdventureWorks/Person/Address.csv') \\\n",
    "    "
   ]
  },
  {
   "cell_type": "code",
   "execution_count": 9,
   "metadata": {
    "ExecuteTime": {
     "end_time": "2023-06-20T03:22:30.366457474Z",
     "start_time": "2023-06-20T03:22:30.116429835Z"
    },
    "collapsed": false
   },
   "outputs": [
    {
     "data": {
      "text/html": [
       "<table border='1'>\n",
       "<tr><th>timestamp</th></tr>\n",
       "<tr><td>2023-06-20 03:22:30.296842</td></tr>\n",
       "</table>\n"
      ],
      "text/plain": [
       "+--------------------------+\n",
       "|                 timestamp|\n",
       "+--------------------------+\n",
       "|2023-06-20 03:22:30.208802|\n",
       "+--------------------------+"
      ]
     },
     "execution_count": 9,
     "metadata": {},
     "output_type": "execute_result"
    }
   ],
   "source": [
    "##  1. Como pegar a data atual e concatenar com a palavra 'limao'\n",
    "\n",
    "##  2. Pegar o timestamp em select\n",
    "\n",
    "##  3. Pegar na tabela person as modificacoes entre 2014 e hoje\n",
    "\n",
    "##  4. Pegar somente o ano atual\n",
    "\n",
    "##  5. Pegar somente o mes atual\n",
    "\n",
    "##  6. Somar os preços (unit price) de todas as specialofferid distintas da tabela saleorderdetail\n",
    "\n",
    "##  7. Contar todos os preços da specialofferid distintas da tabela saleorderdetail\n",
    "\n",
    "##  8. Saber a quantidade de produtos distintos (salesorderdetail)\n",
    "\n",
    "##  9. Saber o quantidade de nomes distintos da (person)\n",
    "\n",
    "##  10. Saber a media de preco para os produtos que sao pratas(silver)\n",
    "\n",
    "##  11. Selecione o productNumber e o name transforme o productLine em category 'R' = 'Road', 'M' = 'Mountain','T' = 'Touring', 'S' = 'Other sale items' se não 'Not for sale'  (Production.Product)\n",
    "\n",
    "##  12. Selecione o productNumber e o name e depois pesquise o listPrice e transforme em pricerange quando: listprice = 0 sera 'Mfg item - not for resale' , < 50 'Under 50', >= 50 and < 250 = 'under 250', >= 250 and < 1000 = 'under 1000', senao 'over 1000'\n",
    "\n",
    "##  13. Pegar primeiro nao nulo das colunas (Class, Color, ProductNumber) da tabela product e salvar como firstNotNull\n",
    "\n",
    "##  14. Na tabela products pegar a primeira ocorrencia da linha qual que não é nulo e replicar para o dados na seguinte ordem de campos Color, ProductNumber\n",
    "\n",
    "##  15. Selecione todas as colunas da tabela person que tem o suffix nulo\n",
    "\n",
    "##  16. Transforme os dados da tabela person e coluna suffix que são nulos em goiaba *, a coluna transformada deverá chamar énulo\n",
    "\n",
    "##  17. Converta os endereços secundários que são nulos em endereços primarios da tabela person.address (FAÇA COM COALESCE TAMBEM)\n",
    "\n",
    "##  18. Quais nomes tem uma ocorrencia maior que 10 vezes, na tabela Person\n",
    "\n",
    "##  19. Quais sobrenomes tem uma ocorrencia maior que 2 vezes, na tabela Person"
   ]
  }
 ],
 "metadata": {
  "kernelspec": {
   "display_name": "Python 3 (ipykernel)",
   "language": "python",
   "name": "python3"
  },
  "language_info": {
   "codemirror_mode": {
    "name": "ipython",
    "version": 3
   },
   "file_extension": ".py",
   "mimetype": "text/x-python",
   "name": "python",
   "nbconvert_exporter": "python",
   "pygments_lexer": "ipython3",
   "version": "3.10.8"
  }
 },
 "nbformat": 4,
 "nbformat_minor": 4
}
